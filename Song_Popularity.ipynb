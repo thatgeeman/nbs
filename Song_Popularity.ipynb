{
  "nbformat": 4,
  "nbformat_minor": 0,
  "metadata": {
    "colab": {
      "name": "song-popularity-kaggle",
      "provenance": [],
      "collapsed_sections": []
    },
    "kernelspec": {
      "name": "python3",
      "display_name": "Python 3"
    },
    "language_info": {
      "name": "python"
    }
  },
  "cells": [
    {
      "cell_type": "markdown",
      "metadata": {
        "id": "zGtCt8OsMtLf"
      },
      "source": [
        "Get the prerequisites done"
      ]
    },
    {
      "cell_type": "code",
      "metadata": {
        "id": "cwL1KkN4MV1f",
        "colab": {
          "base_uri": "https://localhost:8080/",
          "height": 1000
        },
        "outputId": "0b52b25a-94b3-4c2a-ccaf-66305ddacede"
      },
      "source": [
        "! pip install kaggle --upgrade --force"
      ],
      "execution_count": 1,
      "outputs": [
        {
          "output_type": "stream",
          "name": "stdout",
          "text": [
            "Collecting kaggle\n",
            "  Downloading kaggle-1.5.12.tar.gz (58 kB)\n",
            "\u001b[?25l\r\u001b[K     |█████▋                          | 10 kB 22.0 MB/s eta 0:00:01\r\u001b[K     |███████████▏                    | 20 kB 19.5 MB/s eta 0:00:01\r\u001b[K     |████████████████▊               | 30 kB 11.8 MB/s eta 0:00:01\r\u001b[K     |██████████████████████▎         | 40 kB 9.6 MB/s eta 0:00:01\r\u001b[K     |███████████████████████████▉    | 51 kB 5.4 MB/s eta 0:00:01\r\u001b[K     |████████████████████████████████| 58 kB 3.0 MB/s \n",
            "\u001b[?25hCollecting six>=1.10\n",
            "  Downloading six-1.16.0-py2.py3-none-any.whl (11 kB)\n",
            "Collecting certifi\n",
            "  Downloading certifi-2021.10.8-py2.py3-none-any.whl (149 kB)\n",
            "\u001b[K     |████████████████████████████████| 149 kB 11.1 MB/s \n",
            "\u001b[?25hCollecting python-dateutil\n",
            "  Downloading python_dateutil-2.8.2-py2.py3-none-any.whl (247 kB)\n",
            "\u001b[K     |████████████████████████████████| 247 kB 57.7 MB/s \n",
            "\u001b[?25hCollecting requests\n",
            "  Downloading requests-2.27.1-py2.py3-none-any.whl (63 kB)\n",
            "\u001b[K     |████████████████████████████████| 63 kB 1.6 MB/s \n",
            "\u001b[?25hCollecting tqdm\n",
            "  Downloading tqdm-4.62.3-py2.py3-none-any.whl (76 kB)\n",
            "\u001b[K     |████████████████████████████████| 76 kB 4.3 MB/s \n",
            "\u001b[?25hCollecting python-slugify\n",
            "  Downloading python_slugify-5.0.2-py2.py3-none-any.whl (6.7 kB)\n",
            "Collecting urllib3\n",
            "  Downloading urllib3-1.26.8-py2.py3-none-any.whl (138 kB)\n",
            "\u001b[K     |████████████████████████████████| 138 kB 68.7 MB/s \n",
            "\u001b[?25hCollecting text-unidecode>=1.3\n",
            "  Downloading text_unidecode-1.3-py2.py3-none-any.whl (78 kB)\n",
            "\u001b[K     |████████████████████████████████| 78 kB 6.7 MB/s \n",
            "\u001b[?25hCollecting charset-normalizer~=2.0.0\n",
            "  Downloading charset_normalizer-2.0.10-py3-none-any.whl (39 kB)\n",
            "Collecting idna<4,>=2.5\n",
            "  Downloading idna-3.3-py3-none-any.whl (61 kB)\n",
            "\u001b[K     |████████████████████████████████| 61 kB 7.1 MB/s \n",
            "\u001b[?25hBuilding wheels for collected packages: kaggle\n",
            "  Building wheel for kaggle (setup.py) ... \u001b[?25l\u001b[?25hdone\n",
            "  Created wheel for kaggle: filename=kaggle-1.5.12-py3-none-any.whl size=73051 sha256=832e9644cc9e66e11db04fda03caba4e67a723d0e28e506d0617ee3fe912a798\n",
            "  Stored in directory: /root/.cache/pip/wheels/62/d6/58/5853130f941e75b2177d281eb7e44b4a98ed46dd155f556dc5\n",
            "Successfully built kaggle\n",
            "Installing collected packages: urllib3, text-unidecode, six, idna, charset-normalizer, certifi, tqdm, requests, python-slugify, python-dateutil, kaggle\n",
            "  Attempting uninstall: urllib3\n",
            "    Found existing installation: urllib3 1.24.3\n",
            "    Uninstalling urllib3-1.24.3:\n",
            "      Successfully uninstalled urllib3-1.24.3\n",
            "  Attempting uninstall: text-unidecode\n",
            "    Found existing installation: text-unidecode 1.3\n",
            "    Uninstalling text-unidecode-1.3:\n",
            "      Successfully uninstalled text-unidecode-1.3\n",
            "  Attempting uninstall: six\n",
            "    Found existing installation: six 1.15.0\n",
            "    Uninstalling six-1.15.0:\n",
            "      Successfully uninstalled six-1.15.0\n",
            "  Attempting uninstall: idna\n",
            "    Found existing installation: idna 2.10\n",
            "    Uninstalling idna-2.10:\n",
            "      Successfully uninstalled idna-2.10\n",
            "  Attempting uninstall: charset-normalizer\n",
            "    Found existing installation: charset-normalizer 2.0.10\n",
            "    Uninstalling charset-normalizer-2.0.10:\n",
            "      Successfully uninstalled charset-normalizer-2.0.10\n",
            "  Attempting uninstall: certifi\n",
            "    Found existing installation: certifi 2021.10.8\n",
            "    Uninstalling certifi-2021.10.8:\n",
            "      Successfully uninstalled certifi-2021.10.8\n",
            "  Attempting uninstall: tqdm\n",
            "    Found existing installation: tqdm 4.62.3\n",
            "    Uninstalling tqdm-4.62.3:\n",
            "      Successfully uninstalled tqdm-4.62.3\n",
            "  Attempting uninstall: requests\n",
            "    Found existing installation: requests 2.23.0\n",
            "    Uninstalling requests-2.23.0:\n",
            "      Successfully uninstalled requests-2.23.0\n",
            "  Attempting uninstall: python-slugify\n",
            "    Found existing installation: python-slugify 5.0.2\n",
            "    Uninstalling python-slugify-5.0.2:\n",
            "      Successfully uninstalled python-slugify-5.0.2\n",
            "  Attempting uninstall: python-dateutil\n",
            "    Found existing installation: python-dateutil 2.8.2\n",
            "    Uninstalling python-dateutil-2.8.2:\n",
            "      Successfully uninstalled python-dateutil-2.8.2\n",
            "  Attempting uninstall: kaggle\n",
            "    Found existing installation: kaggle 1.5.12\n",
            "    Uninstalling kaggle-1.5.12:\n",
            "      Successfully uninstalled kaggle-1.5.12\n",
            "\u001b[31mERROR: pip's dependency resolver does not currently take into account all the packages that are installed. This behaviour is the source of the following dependency conflicts.\n",
            "google-colab 1.0.0 requires requests~=2.23.0, but you have requests 2.27.1 which is incompatible.\n",
            "google-colab 1.0.0 requires six~=1.15.0, but you have six 1.16.0 which is incompatible.\n",
            "datascience 0.10.6 requires folium==0.2.1, but you have folium 0.8.3 which is incompatible.\n",
            "albumentations 0.1.12 requires imgaug<0.2.7,>=0.2.5, but you have imgaug 0.2.9 which is incompatible.\u001b[0m\n",
            "Successfully installed certifi-2021.10.8 charset-normalizer-2.0.10 idna-3.3 kaggle-1.5.12 python-dateutil-2.8.2 python-slugify-5.0.2 requests-2.27.1 six-1.16.0 text-unidecode-1.3 tqdm-4.62.3 urllib3-1.26.8\n"
          ]
        },
        {
          "output_type": "display_data",
          "data": {
            "application/vnd.colab-display-data+json": {
              "pip_warning": {
                "packages": [
                  "dateutil",
                  "six"
                ]
              }
            }
          },
          "metadata": {}
        }
      ]
    },
    {
      "cell_type": "code",
      "metadata": {
        "id": "j2kXo3swMdpq",
        "colab": {
          "base_uri": "https://localhost:8080/"
        },
        "outputId": "412eebf0-1a86-46f2-ef93-94cd85b90860"
      },
      "source": [
        "import os\n",
        "gce=False\n",
        "if 'NO_GCE_CHECK' in os.environ:\n",
        "  gce = True\n",
        "if gce:\n",
        "  from google.colab import drive\n",
        "  drive.mount('/content/drive')\n",
        "  os.environ['KAGGLE_CONFIG_DIR'] = '/content/drive/MyDrive/Colab Notebooks'\n",
        "else:\n",
        "  pass"
      ],
      "execution_count": 2,
      "outputs": [
        {
          "output_type": "stream",
          "name": "stdout",
          "text": [
            "Mounted at /content/drive\n"
          ]
        }
      ]
    },
    {
      "cell_type": "code",
      "metadata": {
        "id": "ekJeVbnuMj9R",
        "colab": {
          "base_uri": "https://localhost:8080/"
        },
        "outputId": "c5f153fb-59a0-4c59-f8ab-dd8cb2c69077"
      },
      "source": [
        "! kaggle competitions download -c song-popularity-prediction"
      ],
      "execution_count": 3,
      "outputs": [
        {
          "output_type": "stream",
          "name": "stdout",
          "text": [
            "Downloading song-popularity-prediction.zip to /content\n",
            "\r  0% 0.00/4.18M [00:00<?, ?B/s]\n",
            "\r100% 4.18M/4.18M [00:00<00:00, 68.4MB/s]\n"
          ]
        }
      ]
    },
    {
      "cell_type": "code",
      "metadata": {
        "id": "rT6rMlxPMlzA",
        "colab": {
          "base_uri": "https://localhost:8080/"
        },
        "outputId": "cddb4647-a7cc-4337-b423-943796afb85b"
      },
      "source": [
        "! unzip song-popularity-prediction.zip"
      ],
      "execution_count": 4,
      "outputs": [
        {
          "output_type": "stream",
          "name": "stdout",
          "text": [
            "Archive:  song-popularity-prediction.zip\n",
            "  inflating: sample_submission.csv   \n",
            "  inflating: test.csv                \n",
            "  inflating: train.csv               \n"
          ]
        }
      ]
    },
    {
      "cell_type": "code",
      "metadata": {
        "id": "sUN1kjpgMqXw",
        "colab": {
          "base_uri": "https://localhost:8080/"
        },
        "outputId": "29117482-200f-42e2-885a-650d4b4b9e75"
      },
      "source": [
        "! pwd"
      ],
      "execution_count": 5,
      "outputs": [
        {
          "output_type": "stream",
          "name": "stdout",
          "text": [
            "/content\n"
          ]
        }
      ]
    },
    {
      "cell_type": "code",
      "metadata": {
        "id": "1VcsExkjMrPw",
        "colab": {
          "base_uri": "https://localhost:8080/"
        },
        "outputId": "26248fca-97d9-4c84-e6e8-0edfdad5e3f4"
      },
      "source": [
        "! ls"
      ],
      "execution_count": 6,
      "outputs": [
        {
          "output_type": "stream",
          "name": "stdout",
          "text": [
            "drive\t     sample_submission.csv\t     test.csv\n",
            "sample_data  song-popularity-prediction.zip  train.csv\n"
          ]
        }
      ]
    },
    {
      "cell_type": "code",
      "metadata": {
        "id": "Z9ulUmT4Mr1T"
      },
      "source": [
        "import pandas as pd\n",
        "import numpy as np\n",
        "from scipy import stats\n",
        "from sklearn import set_config\n",
        "from sklearn.pipeline import make_pipeline\n",
        "from sklearn.experimental import enable_iterative_imputer\n",
        "from sklearn.impute import SimpleImputer, IterativeImputer, KNNImputer\n",
        "from sklearn.dummy import DummyClassifier\n",
        "from sklearn.preprocessing import PolynomialFeatures, PowerTransformer, RobustScaler, OrdinalEncoder, StandardScaler, MinMaxScaler, KBinsDiscretizer\n",
        "from sklearn.model_selection import cross_validate, ShuffleSplit, train_test_split, StratifiedKFold, learning_curve, validation_curve, RandomizedSearchCV\n",
        "from sklearn.cluster import KMeans\n",
        "from sklearn.metrics import SCORERS, roc_auc_score\n",
        "from sklearn.compose import make_column_selector, make_column_transformer\n",
        "from sklearn.linear_model import LogisticRegression\n",
        "# from sklearn.experimental import enable_hist_gradient_boosting\n",
        "from sklearn.ensemble import HistGradientBoostingClassifier, GradientBoostingClassifier, RandomForestClassifier\n",
        "from matplotlib import pyplot as plt\n",
        "import seaborn as sns\n",
        "from scipy.stats.distributions import norm, lognorm, uniform\n",
        "set_config(display='diagram')"
      ],
      "execution_count": 732,
      "outputs": []
    },
    {
      "cell_type": "code",
      "source": [
        "np.random.seed(1)"
      ],
      "metadata": {
        "id": "BRudzbm-f4k1"
      },
      "execution_count": 733,
      "outputs": []
    },
    {
      "cell_type": "code",
      "source": [
        "df = pd.read_csv('train.csv').set_index(\"id\")\n",
        "test_df = pd.read_csv('test.csv').set_index(\"id\")"
      ],
      "metadata": {
        "id": "eHsfe95EBs7P"
      },
      "execution_count": 734,
      "outputs": []
    },
    {
      "cell_type": "code",
      "source": [
        "df.head()"
      ],
      "metadata": {
        "colab": {
          "base_uri": "https://localhost:8080/",
          "height": 302
        },
        "id": "b_v4Ku1hBvXX",
        "outputId": "4494b950-03d3-4d53-a74e-ab8aa32a7a52"
      },
      "execution_count": 735,
      "outputs": [
        {
          "output_type": "execute_result",
          "data": {
            "text/html": [
              "\n",
              "  <div id=\"df-5d36c901-b595-4903-be2e-0dfb6c1f677d\">\n",
              "    <div class=\"colab-df-container\">\n",
              "      <div>\n",
              "<style scoped>\n",
              "    .dataframe tbody tr th:only-of-type {\n",
              "        vertical-align: middle;\n",
              "    }\n",
              "\n",
              "    .dataframe tbody tr th {\n",
              "        vertical-align: top;\n",
              "    }\n",
              "\n",
              "    .dataframe thead th {\n",
              "        text-align: right;\n",
              "    }\n",
              "</style>\n",
              "<table border=\"1\" class=\"dataframe\">\n",
              "  <thead>\n",
              "    <tr style=\"text-align: right;\">\n",
              "      <th></th>\n",
              "      <th>song_duration_ms</th>\n",
              "      <th>acousticness</th>\n",
              "      <th>danceability</th>\n",
              "      <th>energy</th>\n",
              "      <th>instrumentalness</th>\n",
              "      <th>key</th>\n",
              "      <th>liveness</th>\n",
              "      <th>loudness</th>\n",
              "      <th>audio_mode</th>\n",
              "      <th>speechiness</th>\n",
              "      <th>tempo</th>\n",
              "      <th>time_signature</th>\n",
              "      <th>audio_valence</th>\n",
              "      <th>song_popularity</th>\n",
              "    </tr>\n",
              "    <tr>\n",
              "      <th>id</th>\n",
              "      <th></th>\n",
              "      <th></th>\n",
              "      <th></th>\n",
              "      <th></th>\n",
              "      <th></th>\n",
              "      <th></th>\n",
              "      <th></th>\n",
              "      <th></th>\n",
              "      <th></th>\n",
              "      <th></th>\n",
              "      <th></th>\n",
              "      <th></th>\n",
              "      <th></th>\n",
              "      <th></th>\n",
              "    </tr>\n",
              "  </thead>\n",
              "  <tbody>\n",
              "    <tr>\n",
              "      <th>0</th>\n",
              "      <td>212990.0</td>\n",
              "      <td>0.642286</td>\n",
              "      <td>0.856520</td>\n",
              "      <td>0.707073</td>\n",
              "      <td>0.002001</td>\n",
              "      <td>10.0</td>\n",
              "      <td>NaN</td>\n",
              "      <td>-5.619088</td>\n",
              "      <td>0</td>\n",
              "      <td>0.082570</td>\n",
              "      <td>158.386236</td>\n",
              "      <td>4</td>\n",
              "      <td>0.734642</td>\n",
              "      <td>0</td>\n",
              "    </tr>\n",
              "    <tr>\n",
              "      <th>1</th>\n",
              "      <td>NaN</td>\n",
              "      <td>0.054866</td>\n",
              "      <td>0.733289</td>\n",
              "      <td>0.835545</td>\n",
              "      <td>0.000996</td>\n",
              "      <td>8.0</td>\n",
              "      <td>0.436428</td>\n",
              "      <td>-5.236965</td>\n",
              "      <td>1</td>\n",
              "      <td>0.127358</td>\n",
              "      <td>102.752988</td>\n",
              "      <td>3</td>\n",
              "      <td>0.711531</td>\n",
              "      <td>1</td>\n",
              "    </tr>\n",
              "    <tr>\n",
              "      <th>2</th>\n",
              "      <td>193213.0</td>\n",
              "      <td>NaN</td>\n",
              "      <td>0.188387</td>\n",
              "      <td>0.783524</td>\n",
              "      <td>-0.002694</td>\n",
              "      <td>5.0</td>\n",
              "      <td>0.170499</td>\n",
              "      <td>-4.951759</td>\n",
              "      <td>0</td>\n",
              "      <td>0.052282</td>\n",
              "      <td>178.685791</td>\n",
              "      <td>3</td>\n",
              "      <td>0.425536</td>\n",
              "      <td>0</td>\n",
              "    </tr>\n",
              "    <tr>\n",
              "      <th>3</th>\n",
              "      <td>249893.0</td>\n",
              "      <td>0.488660</td>\n",
              "      <td>0.585234</td>\n",
              "      <td>0.552685</td>\n",
              "      <td>0.000608</td>\n",
              "      <td>0.0</td>\n",
              "      <td>0.094805</td>\n",
              "      <td>-7.893694</td>\n",
              "      <td>0</td>\n",
              "      <td>0.035618</td>\n",
              "      <td>128.715630</td>\n",
              "      <td>3</td>\n",
              "      <td>0.453597</td>\n",
              "      <td>0</td>\n",
              "    </tr>\n",
              "    <tr>\n",
              "      <th>4</th>\n",
              "      <td>165969.0</td>\n",
              "      <td>0.493017</td>\n",
              "      <td>NaN</td>\n",
              "      <td>0.740982</td>\n",
              "      <td>0.002033</td>\n",
              "      <td>10.0</td>\n",
              "      <td>0.094891</td>\n",
              "      <td>-2.684095</td>\n",
              "      <td>0</td>\n",
              "      <td>0.050746</td>\n",
              "      <td>121.928157</td>\n",
              "      <td>4</td>\n",
              "      <td>0.741311</td>\n",
              "      <td>0</td>\n",
              "    </tr>\n",
              "  </tbody>\n",
              "</table>\n",
              "</div>\n",
              "      <button class=\"colab-df-convert\" onclick=\"convertToInteractive('df-5d36c901-b595-4903-be2e-0dfb6c1f677d')\"\n",
              "              title=\"Convert this dataframe to an interactive table.\"\n",
              "              style=\"display:none;\">\n",
              "        \n",
              "  <svg xmlns=\"http://www.w3.org/2000/svg\" height=\"24px\"viewBox=\"0 0 24 24\"\n",
              "       width=\"24px\">\n",
              "    <path d=\"M0 0h24v24H0V0z\" fill=\"none\"/>\n",
              "    <path d=\"M18.56 5.44l.94 2.06.94-2.06 2.06-.94-2.06-.94-.94-2.06-.94 2.06-2.06.94zm-11 1L8.5 8.5l.94-2.06 2.06-.94-2.06-.94L8.5 2.5l-.94 2.06-2.06.94zm10 10l.94 2.06.94-2.06 2.06-.94-2.06-.94-.94-2.06-.94 2.06-2.06.94z\"/><path d=\"M17.41 7.96l-1.37-1.37c-.4-.4-.92-.59-1.43-.59-.52 0-1.04.2-1.43.59L10.3 9.45l-7.72 7.72c-.78.78-.78 2.05 0 2.83L4 21.41c.39.39.9.59 1.41.59.51 0 1.02-.2 1.41-.59l7.78-7.78 2.81-2.81c.8-.78.8-2.07 0-2.86zM5.41 20L4 18.59l7.72-7.72 1.47 1.35L5.41 20z\"/>\n",
              "  </svg>\n",
              "      </button>\n",
              "      \n",
              "  <style>\n",
              "    .colab-df-container {\n",
              "      display:flex;\n",
              "      flex-wrap:wrap;\n",
              "      gap: 12px;\n",
              "    }\n",
              "\n",
              "    .colab-df-convert {\n",
              "      background-color: #E8F0FE;\n",
              "      border: none;\n",
              "      border-radius: 50%;\n",
              "      cursor: pointer;\n",
              "      display: none;\n",
              "      fill: #1967D2;\n",
              "      height: 32px;\n",
              "      padding: 0 0 0 0;\n",
              "      width: 32px;\n",
              "    }\n",
              "\n",
              "    .colab-df-convert:hover {\n",
              "      background-color: #E2EBFA;\n",
              "      box-shadow: 0px 1px 2px rgba(60, 64, 67, 0.3), 0px 1px 3px 1px rgba(60, 64, 67, 0.15);\n",
              "      fill: #174EA6;\n",
              "    }\n",
              "\n",
              "    [theme=dark] .colab-df-convert {\n",
              "      background-color: #3B4455;\n",
              "      fill: #D2E3FC;\n",
              "    }\n",
              "\n",
              "    [theme=dark] .colab-df-convert:hover {\n",
              "      background-color: #434B5C;\n",
              "      box-shadow: 0px 1px 3px 1px rgba(0, 0, 0, 0.15);\n",
              "      filter: drop-shadow(0px 1px 2px rgba(0, 0, 0, 0.3));\n",
              "      fill: #FFFFFF;\n",
              "    }\n",
              "  </style>\n",
              "\n",
              "      <script>\n",
              "        const buttonEl =\n",
              "          document.querySelector('#df-5d36c901-b595-4903-be2e-0dfb6c1f677d button.colab-df-convert');\n",
              "        buttonEl.style.display =\n",
              "          google.colab.kernel.accessAllowed ? 'block' : 'none';\n",
              "\n",
              "        async function convertToInteractive(key) {\n",
              "          const element = document.querySelector('#df-5d36c901-b595-4903-be2e-0dfb6c1f677d');\n",
              "          const dataTable =\n",
              "            await google.colab.kernel.invokeFunction('convertToInteractive',\n",
              "                                                     [key], {});\n",
              "          if (!dataTable) return;\n",
              "\n",
              "          const docLinkHtml = 'Like what you see? Visit the ' +\n",
              "            '<a target=\"_blank\" href=https://colab.research.google.com/notebooks/data_table.ipynb>data table notebook</a>'\n",
              "            + ' to learn more about interactive tables.';\n",
              "          element.innerHTML = '';\n",
              "          dataTable['output_type'] = 'display_data';\n",
              "          await google.colab.output.renderOutput(dataTable, element);\n",
              "          const docLink = document.createElement('div');\n",
              "          docLink.innerHTML = docLinkHtml;\n",
              "          element.appendChild(docLink);\n",
              "        }\n",
              "      </script>\n",
              "    </div>\n",
              "  </div>\n",
              "  "
            ],
            "text/plain": [
              "    song_duration_ms  acousticness  ...  audio_valence  song_popularity\n",
              "id                                  ...                                \n",
              "0           212990.0      0.642286  ...       0.734642                0\n",
              "1                NaN      0.054866  ...       0.711531                1\n",
              "2           193213.0           NaN  ...       0.425536                0\n",
              "3           249893.0      0.488660  ...       0.453597                0\n",
              "4           165969.0      0.493017  ...       0.741311                0\n",
              "\n",
              "[5 rows x 14 columns]"
            ]
          },
          "metadata": {},
          "execution_count": 735
        }
      ]
    },
    {
      "cell_type": "code",
      "source": [
        "def detect_outliers(df, threshold):\n",
        "    # https://www.kaggle.com/kavehshahhosseini/spp-eda-feature-engineering-blending\n",
        "    df = df.copy()\n",
        "    threshold_z_score = stats.norm.ppf(threshold) # the 6 sigma plot, convert percentile (quantile) to Zscore.\n",
        "    z_score_df = pd.DataFrame(np.abs(stats.zscore(df)), columns=df.columns)\n",
        "    z_score_df = z_score_df > threshold_z_score # if greater than 99.99% of the data, count as outlier.\n",
        "    outliers = z_score_df.sum(axis=1) # sum across columns along each row\n",
        "    df[\"is_outlier\"] = (outliers > 0).astype(\"uint8\")\n",
        "    return df"
      ],
      "metadata": {
        "id": "uDp9nLa8zBM6"
      },
      "execution_count": 736,
      "outputs": []
    },
    {
      "cell_type": "code",
      "source": [
        "z_score_threshold = 0.9999"
      ],
      "metadata": {
        "id": "RqgJTaqU0Rre"
      },
      "execution_count": 737,
      "outputs": []
    },
    {
      "cell_type": "code",
      "source": [
        "outlier_df_train = detect_outliers(df, threshold=z_score_threshold)"
      ],
      "metadata": {
        "id": "4BKYdRV5B3F3"
      },
      "execution_count": 738,
      "outputs": []
    },
    {
      "cell_type": "code",
      "source": [
        "df = outlier_df_train[outlier_df_train.is_outlier==0].copy()"
      ],
      "metadata": {
        "id": "Nw7WlcLmzLBw"
      },
      "execution_count": 739,
      "outputs": []
    },
    {
      "cell_type": "code",
      "source": [
        "df.drop('is_outlier', inplace=True, axis=1)"
      ],
      "metadata": {
        "id": "6D__AbeYzydH"
      },
      "execution_count": 740,
      "outputs": []
    },
    {
      "cell_type": "code",
      "source": [
        "df.columns"
      ],
      "metadata": {
        "colab": {
          "base_uri": "https://localhost:8080/"
        },
        "id": "XHFq3tQIzyPO",
        "outputId": "38375022-b6c4-442e-b3ca-23ec5ea6a1b6"
      },
      "execution_count": 741,
      "outputs": [
        {
          "output_type": "execute_result",
          "data": {
            "text/plain": [
              "Index(['song_duration_ms', 'acousticness', 'danceability', 'energy',\n",
              "       'instrumentalness', 'key', 'liveness', 'loudness', 'audio_mode',\n",
              "       'speechiness', 'tempo', 'time_signature', 'audio_valence',\n",
              "       'song_popularity'],\n",
              "      dtype='object')"
            ]
          },
          "metadata": {},
          "execution_count": 741
        }
      ]
    },
    {
      "cell_type": "code",
      "source": [
        ""
      ],
      "metadata": {
        "id": "odrfz7Y9zajT"
      },
      "execution_count": 741,
      "outputs": []
    },
    {
      "cell_type": "code",
      "source": [
        "sns.countplot(data=df, x='song_popularity')"
      ],
      "metadata": {
        "colab": {
          "base_uri": "https://localhost:8080/",
          "height": 297
        },
        "id": "gQRcnmcZCTsh",
        "outputId": "3f0e6003-e3fc-4183-9e30-d91feede7567"
      },
      "execution_count": 742,
      "outputs": [
        {
          "output_type": "execute_result",
          "data": {
            "text/plain": [
              "<matplotlib.axes._subplots.AxesSubplot at 0x7f1f1c7e3210>"
            ]
          },
          "metadata": {},
          "execution_count": 742
        },
        {
          "output_type": "display_data",
          "data": {
            "image/png": "[encoded data removed]",
            "text/plain": [
              "<Figure size 432x288 with 1 Axes>"
            ]
          },
          "metadata": {
            "needs_background": "light"
          }
        }
      ]
    },
    {
      "cell_type": "code",
      "source": [
        "df.song_popularity.value_counts()"
      ],
      "metadata": {
        "colab": {
          "base_uri": "https://localhost:8080/"
        },
        "id": "f_XMpImACxNj",
        "outputId": "1b356858-c29f-46f4-85d9-9228c6a24b0f"
      },
      "execution_count": 743,
      "outputs": [
        {
          "output_type": "execute_result",
          "data": {
            "text/plain": [
              "0    25312\n",
              "1    14479\n",
              "Name: song_popularity, dtype: int64"
            ]
          },
          "metadata": {},
          "execution_count": 743
        }
      ]
    },
    {
      "cell_type": "code",
      "source": [
        "plt.figure(figsize=(10,8))\n",
        "sns.heatmap(df.corr(), annot=True)"
      ],
      "metadata": {
        "colab": {
          "base_uri": "https://localhost:8080/",
          "height": 585
        },
        "id": "1SGj6joDhfDP",
        "outputId": "936009f5-f6c2-4cb0-d0cf-1330561d459a"
      },
      "execution_count": 744,
      "outputs": [
        {
          "output_type": "execute_result",
          "data": {
            "text/plain": [
              "<matplotlib.axes._subplots.AxesSubplot at 0x7f1f1da2f750>"
            ]
          },
          "metadata": {},
          "execution_count": 744
        },
        {
          "output_type": "display_data",
          "data": {
            "image/png": "[encoded data removed]",
            "text/plain": [
              "<Figure size 720x576 with 2 Axes>"
            ]
          },
          "metadata": {
            "needs_background": "light"
          }
        }
      ]
    },
    {
      "cell_type": "code",
      "source": [
        "counts = df.song_popularity.value_counts()\n",
        "counts/counts.sum()"
      ],
      "metadata": {
        "colab": {
          "base_uri": "https://localhost:8080/"
        },
        "id": "LiDUnqqbpDe4",
        "outputId": "74a92a98-b3b2-4223-a102-d75ffe646424"
      },
      "execution_count": 745,
      "outputs": [
        {
          "output_type": "execute_result",
          "data": {
            "text/plain": [
              "0    0.636124\n",
              "1    0.363876\n",
              "Name: song_popularity, dtype: float64"
            ]
          },
          "metadata": {},
          "execution_count": 745
        }
      ]
    },
    {
      "cell_type": "code",
      "source": [
        "def resample(df, frac_1=1, frac_0=1):\n",
        "  df_1 = df[df.song_popularity==1].sample(frac=frac_1, replace=False)\n",
        "  df_0 = df[df.song_popularity==0].sample(frac=frac_0, replace=False)\n",
        "  df = pd.concat([df_1, df_0]).sample(frac=1, replace=False)\n",
        "  df.reset_index(inplace=True, drop=True)\n",
        "  return df"
      ],
      "metadata": {
        "id": "FUQ3XJsEpfTP"
      },
      "execution_count": 746,
      "outputs": []
    },
    {
      "cell_type": "code",
      "source": [
        "train_df = resample(df, frac_0=1, frac_1=1)"
      ],
      "metadata": {
        "id": "hTvXrTtUtNOG"
      },
      "execution_count": 747,
      "outputs": []
    },
    {
      "cell_type": "code",
      "source": [
        "train_df.song_popularity.value_counts()"
      ],
      "metadata": {
        "colab": {
          "base_uri": "https://localhost:8080/"
        },
        "id": "G6l1jyFBz9P0",
        "outputId": "f64f3baf-267c-4a09-dbf4-412fc3dfd65d"
      },
      "execution_count": 748,
      "outputs": [
        {
          "output_type": "execute_result",
          "data": {
            "text/plain": [
              "0    25312\n",
              "1    14479\n",
              "Name: song_popularity, dtype: int64"
            ]
          },
          "metadata": {},
          "execution_count": 748
        }
      ]
    },
    {
      "cell_type": "code",
      "source": [
        "sns.countplot(data=train_df, x='song_popularity')"
      ],
      "metadata": {
        "colab": {
          "base_uri": "https://localhost:8080/",
          "height": 297
        },
        "id": "StWiR0lStsEL",
        "outputId": "87eeb87c-aeb7-4289-ea8d-acb5152fe41e"
      },
      "execution_count": 749,
      "outputs": [
        {
          "output_type": "execute_result",
          "data": {
            "text/plain": [
              "<matplotlib.axes._subplots.AxesSubplot at 0x7f1f1c4717d0>"
            ]
          },
          "metadata": {},
          "execution_count": 749
        },
        {
          "output_type": "display_data",
          "data": {
            "image/png": "[encoded data removed]",
            "text/plain": [
              "<Figure size 432x288 with 1 Axes>"
            ]
          },
          "metadata": {
            "needs_background": "light"
          }
        }
      ]
    },
    {
      "cell_type": "code",
      "source": [
        ""
      ],
      "metadata": {
        "id": "FbcEEv0B1Dpi"
      },
      "execution_count": 749,
      "outputs": []
    },
    {
      "cell_type": "code",
      "source": [
        "plt.figure(figsize=(10,8))\n",
        "sns.heatmap(train_df.corr(), annot=True)"
      ],
      "metadata": {
        "id": "xqDkr_gHpKB5",
        "colab": {
          "base_uri": "https://localhost:8080/",
          "height": 585
        },
        "outputId": "03f0c985-10c9-4f21-d9f6-0946f126b2ff"
      },
      "execution_count": 750,
      "outputs": [
        {
          "output_type": "execute_result",
          "data": {
            "text/plain": [
              "<matplotlib.axes._subplots.AxesSubplot at 0x7f1f1d9b5b10>"
            ]
          },
          "metadata": {},
          "execution_count": 750
        },
        {
          "output_type": "display_data",
          "data": {
            "image/png": "[encoded data removed]",
            "text/plain": [
              "<Figure size 720x576 with 2 Axes>"
            ]
          },
          "metadata": {
            "needs_background": "light"
          }
        }
      ]
    },
    {
      "cell_type": "code",
      "source": [
        "train_df.head()"
      ],
      "metadata": {
        "id": "iokE_2SXpyEC",
        "colab": {
          "base_uri": "https://localhost:8080/",
          "height": 270
        },
        "outputId": "cc4873d8-10b7-487b-ff15-5017d92ddb5b"
      },
      "execution_count": 751,
      "outputs": [
        {
          "output_type": "execute_result",
          "data": {
            "text/html": [
              "\n",
              "  <div id=\"df-d3e1a73c-c901-49d5-a9a8-200b40cf724f\">\n",
              "    <div class=\"colab-df-container\">\n",
              "      <div>\n",
              "<style scoped>\n",
              "    .dataframe tbody tr th:only-of-type {\n",
              "        vertical-align: middle;\n",
              "    }\n",
              "\n",
              "    .dataframe tbody tr th {\n",
              "        vertical-align: top;\n",
              "    }\n",
              "\n",
              "    .dataframe thead th {\n",
              "        text-align: right;\n",
              "    }\n",
              "</style>\n",
              "<table border=\"1\" class=\"dataframe\">\n",
              "  <thead>\n",
              "    <tr style=\"text-align: right;\">\n",
              "      <th></th>\n",
              "      <th>song_duration_ms</th>\n",
              "      <th>acousticness</th>\n",
              "      <th>danceability</th>\n",
              "      <th>energy</th>\n",
              "      <th>instrumentalness</th>\n",
              "      <th>key</th>\n",
              "      <th>liveness</th>\n",
              "      <th>loudness</th>\n",
              "      <th>audio_mode</th>\n",
              "      <th>speechiness</th>\n",
              "      <th>tempo</th>\n",
              "      <th>time_signature</th>\n",
              "      <th>audio_valence</th>\n",
              "      <th>song_popularity</th>\n",
              "    </tr>\n",
              "  </thead>\n",
              "  <tbody>\n",
              "    <tr>\n",
              "      <th>0</th>\n",
              "      <td>195639.0</td>\n",
              "      <td>0.085303</td>\n",
              "      <td>0.831931</td>\n",
              "      <td>0.577731</td>\n",
              "      <td>0.001352</td>\n",
              "      <td>1.0</td>\n",
              "      <td>0.126959</td>\n",
              "      <td>-4.543322</td>\n",
              "      <td>0</td>\n",
              "      <td>0.130554</td>\n",
              "      <td>124.484421</td>\n",
              "      <td>3</td>\n",
              "      <td>0.688739</td>\n",
              "      <td>1</td>\n",
              "    </tr>\n",
              "    <tr>\n",
              "      <th>1</th>\n",
              "      <td>192227.0</td>\n",
              "      <td>NaN</td>\n",
              "      <td>NaN</td>\n",
              "      <td>0.496310</td>\n",
              "      <td>-0.000366</td>\n",
              "      <td>8.0</td>\n",
              "      <td>0.131052</td>\n",
              "      <td>-6.797028</td>\n",
              "      <td>1</td>\n",
              "      <td>0.118583</td>\n",
              "      <td>90.764154</td>\n",
              "      <td>2</td>\n",
              "      <td>0.450645</td>\n",
              "      <td>1</td>\n",
              "    </tr>\n",
              "    <tr>\n",
              "      <th>2</th>\n",
              "      <td>NaN</td>\n",
              "      <td>0.022250</td>\n",
              "      <td>0.417151</td>\n",
              "      <td>0.653250</td>\n",
              "      <td>-0.000438</td>\n",
              "      <td>1.0</td>\n",
              "      <td>0.096609</td>\n",
              "      <td>-3.949671</td>\n",
              "      <td>0</td>\n",
              "      <td>0.205867</td>\n",
              "      <td>86.580838</td>\n",
              "      <td>3</td>\n",
              "      <td>0.424995</td>\n",
              "      <td>1</td>\n",
              "    </tr>\n",
              "    <tr>\n",
              "      <th>3</th>\n",
              "      <td>238967.0</td>\n",
              "      <td>0.021817</td>\n",
              "      <td>0.242913</td>\n",
              "      <td>0.352160</td>\n",
              "      <td>NaN</td>\n",
              "      <td>7.0</td>\n",
              "      <td>0.120755</td>\n",
              "      <td>-14.031147</td>\n",
              "      <td>0</td>\n",
              "      <td>0.047594</td>\n",
              "      <td>102.789240</td>\n",
              "      <td>3</td>\n",
              "      <td>0.293116</td>\n",
              "      <td>1</td>\n",
              "    </tr>\n",
              "    <tr>\n",
              "      <th>4</th>\n",
              "      <td>238537.0</td>\n",
              "      <td>0.183553</td>\n",
              "      <td>0.388268</td>\n",
              "      <td>0.307188</td>\n",
              "      <td>0.002476</td>\n",
              "      <td>4.0</td>\n",
              "      <td>0.135359</td>\n",
              "      <td>-10.385418</td>\n",
              "      <td>0</td>\n",
              "      <td>0.031702</td>\n",
              "      <td>116.504629</td>\n",
              "      <td>4</td>\n",
              "      <td>0.459493</td>\n",
              "      <td>0</td>\n",
              "    </tr>\n",
              "  </tbody>\n",
              "</table>\n",
              "</div>\n",
              "      <button class=\"colab-df-convert\" onclick=\"convertToInteractive('df-d3e1a73c-c901-49d5-a9a8-200b40cf724f')\"\n",
              "              title=\"Convert this dataframe to an interactive table.\"\n",
              "              style=\"display:none;\">\n",
              "        \n",
              "  <svg xmlns=\"http://www.w3.org/2000/svg\" height=\"24px\"viewBox=\"0 0 24 24\"\n",
              "       width=\"24px\">\n",
              "    <path d=\"M0 0h24v24H0V0z\" fill=\"none\"/>\n",
              "    <path d=\"M18.56 5.44l.94 2.06.94-2.06 2.06-.94-2.06-.94-.94-2.06-.94 2.06-2.06.94zm-11 1L8.5 8.5l.94-2.06 2.06-.94-2.06-.94L8.5 2.5l-.94 2.06-2.06.94zm10 10l.94 2.06.94-2.06 2.06-.94-2.06-.94-.94-2.06-.94 2.06-2.06.94z\"/><path d=\"M17.41 7.96l-1.37-1.37c-.4-.4-.92-.59-1.43-.59-.52 0-1.04.2-1.43.59L10.3 9.45l-7.72 7.72c-.78.78-.78 2.05 0 2.83L4 21.41c.39.39.9.59 1.41.59.51 0 1.02-.2 1.41-.59l7.78-7.78 2.81-2.81c.8-.78.8-2.07 0-2.86zM5.41 20L4 18.59l7.72-7.72 1.47 1.35L5.41 20z\"/>\n",
              "  </svg>\n",
              "      </button>\n",
              "      \n",
              "  <style>\n",
              "    .colab-df-container {\n",
              "      display:flex;\n",
              "      flex-wrap:wrap;\n",
              "      gap: 12px;\n",
              "    }\n",
              "\n",
              "    .colab-df-convert {\n",
              "      background-color: #E8F0FE;\n",
              "      border: none;\n",
              "      border-radius: 50%;\n",
              "      cursor: pointer;\n",
              "      display: none;\n",
              "      fill: #1967D2;\n",
              "      height: 32px;\n",
              "      padding: 0 0 0 0;\n",
              "      width: 32px;\n",
              "    }\n",
              "\n",
              "    .colab-df-convert:hover {\n",
              "      background-color: #E2EBFA;\n",
              "      box-shadow: 0px 1px 2px rgba(60, 64, 67, 0.3), 0px 1px 3px 1px rgba(60, 64, 67, 0.15);\n",
              "      fill: #174EA6;\n",
              "    }\n",
              "\n",
              "    [theme=dark] .colab-df-convert {\n",
              "      background-color: #3B4455;\n",
              "      fill: #D2E3FC;\n",
              "    }\n",
              "\n",
              "    [theme=dark] .colab-df-convert:hover {\n",
              "      background-color: #434B5C;\n",
              "      box-shadow: 0px 1px 3px 1px rgba(0, 0, 0, 0.15);\n",
              "      filter: drop-shadow(0px 1px 2px rgba(0, 0, 0, 0.3));\n",
              "      fill: #FFFFFF;\n",
              "    }\n",
              "  </style>\n",
              "\n",
              "      <script>\n",
              "        const buttonEl =\n",
              "          document.querySelector('#df-d3e1a73c-c901-49d5-a9a8-200b40cf724f button.colab-df-convert');\n",
              "        buttonEl.style.display =\n",
              "          google.colab.kernel.accessAllowed ? 'block' : 'none';\n",
              "\n",
              "        async function convertToInteractive(key) {\n",
              "          const element = document.querySelector('#df-d3e1a73c-c901-49d5-a9a8-200b40cf724f');\n",
              "          const dataTable =\n",
              "            await google.colab.kernel.invokeFunction('convertToInteractive',\n",
              "                                                     [key], {});\n",
              "          if (!dataTable) return;\n",
              "\n",
              "          const docLinkHtml = 'Like what you see? Visit the ' +\n",
              "            '<a target=\"_blank\" href=https://colab.research.google.com/notebooks/data_table.ipynb>data table notebook</a>'\n",
              "            + ' to learn more about interactive tables.';\n",
              "          element.innerHTML = '';\n",
              "          dataTable['output_type'] = 'display_data';\n",
              "          await google.colab.output.renderOutput(dataTable, element);\n",
              "          const docLink = document.createElement('div');\n",
              "          docLink.innerHTML = docLinkHtml;\n",
              "          element.appendChild(docLink);\n",
              "        }\n",
              "      </script>\n",
              "    </div>\n",
              "  </div>\n",
              "  "
            ],
            "text/plain": [
              "   song_duration_ms  acousticness  ...  audio_valence  song_popularity\n",
              "0          195639.0      0.085303  ...       0.688739                1\n",
              "1          192227.0           NaN  ...       0.450645                1\n",
              "2               NaN      0.022250  ...       0.424995                1\n",
              "3          238967.0      0.021817  ...       0.293116                1\n",
              "4          238537.0      0.183553  ...       0.459493                0\n",
              "\n",
              "[5 rows x 14 columns]"
            ]
          },
          "metadata": {},
          "execution_count": 751
        }
      ]
    },
    {
      "cell_type": "code",
      "source": [
        "train_df[\"log_ins\"] = np.log(train_df.instrumentalness)\n",
        "train_df.drop('instrumentalness', inplace=True, axis=1)\n",
        "\n",
        "test_df[\"log_ins\"] = np.log(test_df.instrumentalness)\n",
        "test_df.drop('instrumentalness', inplace=True, axis=1)\n"
      ],
      "metadata": {
        "colab": {
          "base_uri": "https://localhost:8080/"
        },
        "id": "h5mY8wAt2zdY",
        "outputId": "095613a0-2745-47ab-9c23-e17144a1de9f"
      },
      "execution_count": 752,
      "outputs": [
        {
          "output_type": "stream",
          "name": "stderr",
          "text": [
            "/usr/local/lib/python3.7/dist-packages/pandas/core/series.py:726: RuntimeWarning: invalid value encountered in log\n",
            "  result = getattr(ufunc, method)(*inputs, **kwargs)\n"
          ]
        }
      ]
    },
    {
      "cell_type": "code",
      "source": [
        "sns.kdeplot(data=train_df, x='log_ins', hue='song_popularity', fill=True)"
      ],
      "metadata": {
        "colab": {
          "base_uri": "https://localhost:8080/",
          "height": 297
        },
        "id": "T5rboCUWPREq",
        "outputId": "c78f57e6-3b3d-4559-918a-1b11a737c855"
      },
      "execution_count": 753,
      "outputs": [
        {
          "output_type": "execute_result",
          "data": {
            "text/plain": [
              "<matplotlib.axes._subplots.AxesSubplot at 0x7f1f1c1de750>"
            ]
          },
          "metadata": {},
          "execution_count": 753
        },
        {
          "output_type": "display_data",
          "data": {
            "image/png": "[encoded data removed]",
            "text/plain": [
              "<Figure size 432x288 with 1 Axes>"
            ]
          },
          "metadata": {
            "needs_background": "light"
          }
        }
      ]
    },
    {
      "cell_type": "markdown",
      "source": [
        "Milliseconds to Minutes"
      ],
      "metadata": {
        "id": "TKcv5pp21Aus"
      }
    },
    {
      "cell_type": "code",
      "source": [
        "train_df[\"song_duration_m\"] = train_df.song_duration_ms.copy()/60000.\n",
        "train_df.drop('song_duration_ms', inplace=True, axis=1)\n",
        "\n",
        "test_df[\"song_duration_m\"] = test_df.song_duration_ms.copy()/60000.\n",
        "test_df.drop('song_duration_ms', inplace=True, axis=1)\n"
      ],
      "metadata": {
        "id": "WgrO76LI1DGk"
      },
      "execution_count": 754,
      "outputs": []
    },
    {
      "cell_type": "code",
      "source": [
        "sns.histplot(data=train_df, x='song_duration_m')"
      ],
      "metadata": {
        "colab": {
          "base_uri": "https://localhost:8080/",
          "height": 297
        },
        "id": "BD6d35Un1OGk",
        "outputId": "b7320eaf-cad0-4921-fc01-384173201ea7"
      },
      "execution_count": 755,
      "outputs": [
        {
          "output_type": "execute_result",
          "data": {
            "text/plain": [
              "<matplotlib.axes._subplots.AxesSubplot at 0x7f1f1c1dee50>"
            ]
          },
          "metadata": {},
          "execution_count": 755
        },
        {
          "output_type": "display_data",
          "data": {
            "image/png": "[encoded data removed]",
            "text/plain": [
              "<Figure size 432x288 with 1 Axes>"
            ]
          },
          "metadata": {
            "needs_background": "light"
          }
        }
      ]
    },
    {
      "cell_type": "markdown",
      "source": [
        "Make splits"
      ],
      "metadata": {
        "id": "svqYsHNy2L8U"
      }
    },
    {
      "cell_type": "code",
      "source": [
        "data = train_df.drop(labels='song_popularity', axis=1)\n",
        "target = train_df['song_popularity']\n",
        "X_train, X_valid, y_train, y_valid = train_test_split(data, target, test_size=0.2, stratify=target)"
      ],
      "metadata": {
        "id": "aeYmYleT2JYs"
      },
      "execution_count": 756,
      "outputs": []
    },
    {
      "cell_type": "code",
      "source": [
        "train = pd.concat([X_train, y_train], axis=1)"
      ],
      "metadata": {
        "id": "LJnUuoGfJxw9"
      },
      "execution_count": 757,
      "outputs": []
    },
    {
      "cell_type": "code",
      "source": [
        "valid = pd.concat([X_valid, y_valid], axis=1)"
      ],
      "metadata": {
        "id": "3ibhOCdOJ63h"
      },
      "execution_count": 758,
      "outputs": []
    },
    {
      "cell_type": "code",
      "source": [
        "valid.head()"
      ],
      "metadata": {
        "colab": {
          "base_uri": "https://localhost:8080/",
          "height": 270
        },
        "id": "tj0WpR6-KG3Z",
        "outputId": "ea23b638-2c37-4bd0-9d6c-fc0111521e28"
      },
      "execution_count": 759,
      "outputs": [
        {
          "output_type": "execute_result",
          "data": {
            "text/html": [
              "\n",
              "  <div id=\"df-5ec2556d-e2aa-46a9-99d4-02fe0f3e917b\">\n",
              "    <div class=\"colab-df-container\">\n",
              "      <div>\n",
              "<style scoped>\n",
              "    .dataframe tbody tr th:only-of-type {\n",
              "        vertical-align: middle;\n",
              "    }\n",
              "\n",
              "    .dataframe tbody tr th {\n",
              "        vertical-align: top;\n",
              "    }\n",
              "\n",
              "    .dataframe thead th {\n",
              "        text-align: right;\n",
              "    }\n",
              "</style>\n",
              "<table border=\"1\" class=\"dataframe\">\n",
              "  <thead>\n",
              "    <tr style=\"text-align: right;\">\n",
              "      <th></th>\n",
              "      <th>acousticness</th>\n",
              "      <th>danceability</th>\n",
              "      <th>energy</th>\n",
              "      <th>key</th>\n",
              "      <th>liveness</th>\n",
              "      <th>loudness</th>\n",
              "      <th>audio_mode</th>\n",
              "      <th>speechiness</th>\n",
              "      <th>tempo</th>\n",
              "      <th>time_signature</th>\n",
              "      <th>audio_valence</th>\n",
              "      <th>log_ins</th>\n",
              "      <th>song_duration_m</th>\n",
              "      <th>song_popularity</th>\n",
              "    </tr>\n",
              "  </thead>\n",
              "  <tbody>\n",
              "    <tr>\n",
              "      <th>30153</th>\n",
              "      <td>NaN</td>\n",
              "      <td>0.806153</td>\n",
              "      <td>0.815240</td>\n",
              "      <td>2.0</td>\n",
              "      <td>0.135767</td>\n",
              "      <td>-5.629497</td>\n",
              "      <td>1</td>\n",
              "      <td>0.050399</td>\n",
              "      <td>143.756960</td>\n",
              "      <td>3</td>\n",
              "      <td>0.753350</td>\n",
              "      <td>-5.516991</td>\n",
              "      <td>3.002300</td>\n",
              "      <td>0</td>\n",
              "    </tr>\n",
              "    <tr>\n",
              "      <th>20071</th>\n",
              "      <td>0.079342</td>\n",
              "      <td>0.842487</td>\n",
              "      <td>0.579820</td>\n",
              "      <td>10.0</td>\n",
              "      <td>0.102615</td>\n",
              "      <td>-7.994405</td>\n",
              "      <td>0</td>\n",
              "      <td>0.149740</td>\n",
              "      <td>94.998272</td>\n",
              "      <td>4</td>\n",
              "      <td>0.951112</td>\n",
              "      <td>-5.659638</td>\n",
              "      <td>2.504217</td>\n",
              "      <td>1</td>\n",
              "    </tr>\n",
              "    <tr>\n",
              "      <th>37304</th>\n",
              "      <td>NaN</td>\n",
              "      <td>NaN</td>\n",
              "      <td>0.687383</td>\n",
              "      <td>8.0</td>\n",
              "      <td>NaN</td>\n",
              "      <td>-4.742182</td>\n",
              "      <td>0</td>\n",
              "      <td>0.038253</td>\n",
              "      <td>106.486555</td>\n",
              "      <td>3</td>\n",
              "      <td>0.661293</td>\n",
              "      <td>-6.966546</td>\n",
              "      <td>2.871717</td>\n",
              "      <td>1</td>\n",
              "    </tr>\n",
              "    <tr>\n",
              "      <th>22684</th>\n",
              "      <td>0.021284</td>\n",
              "      <td>0.449611</td>\n",
              "      <td>0.944502</td>\n",
              "      <td>6.0</td>\n",
              "      <td>0.161359</td>\n",
              "      <td>-5.498508</td>\n",
              "      <td>1</td>\n",
              "      <td>0.042637</td>\n",
              "      <td>101.552223</td>\n",
              "      <td>4</td>\n",
              "      <td>0.555487</td>\n",
              "      <td>-6.489760</td>\n",
              "      <td>3.450600</td>\n",
              "      <td>0</td>\n",
              "    </tr>\n",
              "    <tr>\n",
              "      <th>36056</th>\n",
              "      <td>0.401394</td>\n",
              "      <td>0.736810</td>\n",
              "      <td>NaN</td>\n",
              "      <td>7.0</td>\n",
              "      <td>0.128625</td>\n",
              "      <td>-8.016616</td>\n",
              "      <td>1</td>\n",
              "      <td>0.072136</td>\n",
              "      <td>99.505918</td>\n",
              "      <td>3</td>\n",
              "      <td>0.370660</td>\n",
              "      <td>-5.752300</td>\n",
              "      <td>2.937650</td>\n",
              "      <td>1</td>\n",
              "    </tr>\n",
              "  </tbody>\n",
              "</table>\n",
              "</div>\n",
              "      <button class=\"colab-df-convert\" onclick=\"convertToInteractive('df-5ec2556d-e2aa-46a9-99d4-02fe0f3e917b')\"\n",
              "              title=\"Convert this dataframe to an interactive table.\"\n",
              "              style=\"display:none;\">\n",
              "        \n",
              "  <svg xmlns=\"http://www.w3.org/2000/svg\" height=\"24px\"viewBox=\"0 0 24 24\"\n",
              "       width=\"24px\">\n",
              "    <path d=\"M0 0h24v24H0V0z\" fill=\"none\"/>\n",
              "    <path d=\"M18.56 5.44l.94 2.06.94-2.06 2.06-.94-2.06-.94-.94-2.06-.94 2.06-2.06.94zm-11 1L8.5 8.5l.94-2.06 2.06-.94-2.06-.94L8.5 2.5l-.94 2.06-2.06.94zm10 10l.94 2.06.94-2.06 2.06-.94-2.06-.94-.94-2.06-.94 2.06-2.06.94z\"/><path d=\"M17.41 7.96l-1.37-1.37c-.4-.4-.92-.59-1.43-.59-.52 0-1.04.2-1.43.59L10.3 9.45l-7.72 7.72c-.78.78-.78 2.05 0 2.83L4 21.41c.39.39.9.59 1.41.59.51 0 1.02-.2 1.41-.59l7.78-7.78 2.81-2.81c.8-.78.8-2.07 0-2.86zM5.41 20L4 18.59l7.72-7.72 1.47 1.35L5.41 20z\"/>\n",
              "  </svg>\n",
              "      </button>\n",
              "      \n",
              "  <style>\n",
              "    .colab-df-container {\n",
              "      display:flex;\n",
              "      flex-wrap:wrap;\n",
              "      gap: 12px;\n",
              "    }\n",
              "\n",
              "    .colab-df-convert {\n",
              "      background-color: #E8F0FE;\n",
              "      border: none;\n",
              "      border-radius: 50%;\n",
              "      cursor: pointer;\n",
              "      display: none;\n",
              "      fill: #1967D2;\n",
              "      height: 32px;\n",
              "      padding: 0 0 0 0;\n",
              "      width: 32px;\n",
              "    }\n",
              "\n",
              "    .colab-df-convert:hover {\n",
              "      background-color: #E2EBFA;\n",
              "      box-shadow: 0px 1px 2px rgba(60, 64, 67, 0.3), 0px 1px 3px 1px rgba(60, 64, 67, 0.15);\n",
              "      fill: #174EA6;\n",
              "    }\n",
              "\n",
              "    [theme=dark] .colab-df-convert {\n",
              "      background-color: #3B4455;\n",
              "      fill: #D2E3FC;\n",
              "    }\n",
              "\n",
              "    [theme=dark] .colab-df-convert:hover {\n",
              "      background-color: #434B5C;\n",
              "      box-shadow: 0px 1px 3px 1px rgba(0, 0, 0, 0.15);\n",
              "      filter: drop-shadow(0px 1px 2px rgba(0, 0, 0, 0.3));\n",
              "      fill: #FFFFFF;\n",
              "    }\n",
              "  </style>\n",
              "\n",
              "      <script>\n",
              "        const buttonEl =\n",
              "          document.querySelector('#df-5ec2556d-e2aa-46a9-99d4-02fe0f3e917b button.colab-df-convert');\n",
              "        buttonEl.style.display =\n",
              "          google.colab.kernel.accessAllowed ? 'block' : 'none';\n",
              "\n",
              "        async function convertToInteractive(key) {\n",
              "          const element = document.querySelector('#df-5ec2556d-e2aa-46a9-99d4-02fe0f3e917b');\n",
              "          const dataTable =\n",
              "            await google.colab.kernel.invokeFunction('convertToInteractive',\n",
              "                                                     [key], {});\n",
              "          if (!dataTable) return;\n",
              "\n",
              "          const docLinkHtml = 'Like what you see? Visit the ' +\n",
              "            '<a target=\"_blank\" href=https://colab.research.google.com/notebooks/data_table.ipynb>data table notebook</a>'\n",
              "            + ' to learn more about interactive tables.';\n",
              "          element.innerHTML = '';\n",
              "          dataTable['output_type'] = 'display_data';\n",
              "          await google.colab.output.renderOutput(dataTable, element);\n",
              "          const docLink = document.createElement('div');\n",
              "          docLink.innerHTML = docLinkHtml;\n",
              "          element.appendChild(docLink);\n",
              "        }\n",
              "      </script>\n",
              "    </div>\n",
              "  </div>\n",
              "  "
            ],
            "text/plain": [
              "       acousticness  danceability  ...  song_duration_m  song_popularity\n",
              "30153           NaN      0.806153  ...         3.002300                0\n",
              "20071      0.079342      0.842487  ...         2.504217                1\n",
              "37304           NaN           NaN  ...         2.871717                1\n",
              "22684      0.021284      0.449611  ...         3.450600                0\n",
              "36056      0.401394      0.736810  ...         2.937650                1\n",
              "\n",
              "[5 rows x 14 columns]"
            ]
          },
          "metadata": {},
          "execution_count": 759
        }
      ]
    },
    {
      "cell_type": "code",
      "source": [
        "has_nan = train.notna().sum(0) != train.shape[0]\n",
        "has_nan"
      ],
      "metadata": {
        "colab": {
          "base_uri": "https://localhost:8080/"
        },
        "id": "FJLunxl3GEyl",
        "outputId": "6c3564be-6f6b-4e11-f63e-ba5f0db298dd"
      },
      "execution_count": 760,
      "outputs": [
        {
          "output_type": "execute_result",
          "data": {
            "text/plain": [
              "acousticness        True\n",
              "danceability        True\n",
              "energy              True\n",
              "key                 True\n",
              "liveness            True\n",
              "loudness            True\n",
              "audio_mode         False\n",
              "speechiness        False\n",
              "tempo              False\n",
              "time_signature     False\n",
              "audio_valence      False\n",
              "log_ins             True\n",
              "song_duration_m     True\n",
              "song_popularity    False\n",
              "dtype: bool"
            ]
          },
          "metadata": {},
          "execution_count": 760
        }
      ]
    },
    {
      "cell_type": "code",
      "source": [
        "impute_cols = has_nan.index[has_nan].to_list()\n",
        "impute_cols"
      ],
      "metadata": {
        "colab": {
          "base_uri": "https://localhost:8080/"
        },
        "id": "vxnUeSXQEU7I",
        "outputId": "dc9cae8b-6ed8-4654-a66b-499af7a7aae1"
      },
      "execution_count": 761,
      "outputs": [
        {
          "output_type": "execute_result",
          "data": {
            "text/plain": [
              "['acousticness',\n",
              " 'danceability',\n",
              " 'energy',\n",
              " 'key',\n",
              " 'liveness',\n",
              " 'loudness',\n",
              " 'log_ins',\n",
              " 'song_duration_m']"
            ]
          },
          "metadata": {},
          "execution_count": 761
        }
      ]
    },
    {
      "cell_type": "code",
      "source": [
        "target_col = 'song_popularity'"
      ],
      "metadata": {
        "id": "2MOjjlwEKk6r"
      },
      "execution_count": 762,
      "outputs": []
    },
    {
      "cell_type": "markdown",
      "source": [
        "# Trying out imputers"
      ],
      "metadata": {
        "id": "uMaYQrHbAr6P"
      }
    },
    {
      "cell_type": "code",
      "source": [
        "si = SimpleImputer()"
      ],
      "metadata": {
        "id": "r2VIZ31PJrOa"
      },
      "execution_count": 763,
      "outputs": []
    },
    {
      "cell_type": "code",
      "source": [
        "ii = IterativeImputer(n_nearest_features=10)"
      ],
      "metadata": {
        "id": "PhG_lEcP9FkE"
      },
      "execution_count": 764,
      "outputs": []
    },
    {
      "cell_type": "code",
      "source": [
        "kni = KNNImputer(n_neighbors=10)"
      ],
      "metadata": {
        "id": "uBbRCviCA5ch"
      },
      "execution_count": 765,
      "outputs": []
    },
    {
      "cell_type": "code",
      "source": [
        "for imputer in [si, ii, kni]:\n",
        "  _data_ = train.drop(target_col, axis=1)\n",
        "  _data_ = imputer.fit_transform(_data_)\n",
        "  _target_ = train[target_col]\n",
        "  cv_results = cross_validate(LogisticRegression(max_iter=50, solver='liblinear'), _data_, _target_, cv=4, \n",
        "                              scoring='roc_auc', return_train_score=True, return_estimator=True)\n",
        "  print(f\"{type(imputer)}, train: {cv_results['train_score'].mean()}, test: {cv_results['test_score'].mean()}\")\n"
      ],
      "metadata": {
        "colab": {
          "base_uri": "https://localhost:8080/"
        },
        "id": "H37TmwXz97ag",
        "outputId": "f000bee1-b0f8-4ee1-c5a8-7f4d2f8f38c5"
      },
      "execution_count": 639,
      "outputs": [
        {
          "output_type": "stream",
          "name": "stdout",
          "text": [
            "<class 'sklearn.impute._base.SimpleImputer'>, train: 0.5549219051688827, test: 0.5512319282718203\n"
          ]
        },
        {
          "output_type": "stream",
          "name": "stderr",
          "text": [
            "/usr/local/lib/python3.7/dist-packages/sklearn/impute/_iterative.py:701: ConvergenceWarning: [IterativeImputer] Early stopping criterion not reached.\n",
            "  ConvergenceWarning,\n"
          ]
        },
        {
          "output_type": "stream",
          "name": "stdout",
          "text": [
            "<class 'sklearn.impute._iterative.IterativeImputer'>, train: 0.5563986968295022, test: 0.5532029146996597\n",
            "<class 'sklearn.impute._knn.KNNImputer'>, train: 0.5558454112208636, test: 0.5520896825547176\n"
          ]
        }
      ]
    },
    {
      "cell_type": "markdown",
      "source": [
        "Iterative imputer seems to work best."
      ],
      "metadata": {
        "id": "N9jE55hVBa_h"
      }
    },
    {
      "cell_type": "code",
      "source": [
        "x = train.copy()\n",
        "v = valid.copy()\n",
        "t = test_df.copy()\n",
        "x[impute_cols] = ii.fit_transform(x[impute_cols]) # fit and transform the train data\n",
        "v[impute_cols] = ii.transform(v[impute_cols]) # but only transform for test data\n",
        "\n",
        "t[impute_cols] = ii.transform(t[impute_cols]) # but only transform for test data"
      ],
      "metadata": {
        "id": "QnYu_ZkQ9_IK"
      },
      "execution_count": 766,
      "outputs": []
    },
    {
      "cell_type": "markdown",
      "source": [
        "# Discretize continuous columns to make categories"
      ],
      "metadata": {
        "id": "_FMNYN0cO0CL"
      }
    },
    {
      "cell_type": "code",
      "source": [
        "plt.figure(figsize=(10,4))\n",
        "plt.subplot(1,2,1)\n",
        "sns.histplot(data=x, x='time_signature', hue=target_col)\n",
        "plt.subplot(1,2,2)\n",
        "sns.histplot(data=x, x='song_duration_m', hue=target_col, bins=20)\n",
        "plt.plot([3, 3], [0, 2000], linewidth=2, color='red')"
      ],
      "metadata": {
        "colab": {
          "base_uri": "https://localhost:8080/",
          "height": 297
        },
        "id": "rJdkmHNmKyJ8",
        "outputId": "0905bf30-704c-4f8f-c83b-43edc275c993"
      },
      "execution_count": 767,
      "outputs": [
        {
          "output_type": "execute_result",
          "data": {
            "text/plain": [
              "[<matplotlib.lines.Line2D at 0x7f1f1bd79350>]"
            ]
          },
          "metadata": {},
          "execution_count": 767
        },
        {
          "output_type": "display_data",
          "data": {
            "image/png": "[encoded data removed]",
            "text/plain": [
              "<Figure size 720x288 with 2 Axes>"
            ]
          },
          "metadata": {
            "needs_background": "light"
          }
        }
      ]
    },
    {
      "cell_type": "code",
      "source": [
        "feature_cols = x.columns.to_list()\n",
        "cat_cols = ['audio_mode', 'time_signature']\n",
        "cont_cols = ['acousticness', 'danceability', 'energy', 'liveness', 'loudness', 'speechiness', 'audio_valence']"
      ],
      "metadata": {
        "id": "GUgvVRHNLRTE"
      },
      "execution_count": 768,
      "outputs": []
    },
    {
      "cell_type": "code",
      "source": [
        "cont_2_cat = ['log_ins', 'key', 'tempo', 'song_duration_m', 'energy']"
      ],
      "metadata": {
        "id": "pp2wvBD7FTF8"
      },
      "execution_count": 769,
      "outputs": []
    },
    {
      "cell_type": "code",
      "source": [
        "plt.figure(figsize=(16,4))\n",
        "for i, col in enumerate(cont_2_cat):\n",
        "  plt.subplot(1,5,i+1)\n",
        "  sns.histplot(data=x, x=col, hue=target_col, bins=8)"
      ],
      "metadata": {
        "colab": {
          "base_uri": "https://localhost:8080/",
          "height": 280
        },
        "id": "Tp6elnnPPztK",
        "outputId": "98cd5462-9eca-4296-e868-8bad12981e1e"
      },
      "execution_count": 770,
      "outputs": [
        {
          "output_type": "display_data",
          "data": {
            "image/png": "[encoded data removed]",
            "text/plain": [
              "<Figure size 1152x288 with 5 Axes>"
            ]
          },
          "metadata": {
            "needs_background": "light"
          }
        }
      ]
    },
    {
      "cell_type": "markdown",
      "source": [
        "Preserve continuous data"
      ],
      "metadata": {
        "id": "FoHUzWyFYTiv"
      }
    },
    {
      "cell_type": "code",
      "source": [
        "preserve_cols = ['log_ins', 'song_duration_m', 'tempo', 'energy']\n",
        "preserve_cols_as = ['log_ins_cont', 'song_duration_m_cont', 'tempo_cont', 'energy_cont']\n",
        "x[preserve_cols_as] = x[preserve_cols]\n",
        "v[preserve_cols_as] = v[preserve_cols]\n",
        "t[preserve_cols_as] = t[preserve_cols]"
      ],
      "metadata": {
        "id": "cfQqCmCGYTS5"
      },
      "execution_count": 771,
      "outputs": []
    },
    {
      "cell_type": "code",
      "source": [
        "cont_cols += preserve_cols_as"
      ],
      "metadata": {
        "id": "UpS8cnCdZTVC"
      },
      "execution_count": 772,
      "outputs": []
    },
    {
      "cell_type": "code",
      "source": [
        "feature_cols += preserve_cols_as"
      ],
      "metadata": {
        "id": "9dCARxpVcYkw"
      },
      "execution_count": 773,
      "outputs": []
    },
    {
      "cell_type": "code",
      "source": [
        "cont_cols"
      ],
      "metadata": {
        "colab": {
          "base_uri": "https://localhost:8080/"
        },
        "id": "ftuv80ArZcWl",
        "outputId": "fa5b0b86-3022-4a4a-8148-f942662e1928"
      },
      "execution_count": 774,
      "outputs": [
        {
          "output_type": "execute_result",
          "data": {
            "text/plain": [
              "['acousticness',\n",
              " 'danceability',\n",
              " 'energy',\n",
              " 'liveness',\n",
              " 'loudness',\n",
              " 'speechiness',\n",
              " 'audio_valence',\n",
              " 'log_ins_cont',\n",
              " 'song_duration_m_cont',\n",
              " 'tempo_cont',\n",
              " 'energy_cont']"
            ]
          },
          "metadata": {},
          "execution_count": 774
        }
      ]
    },
    {
      "cell_type": "code",
      "source": [
        "v.head()"
      ],
      "metadata": {
        "colab": {
          "base_uri": "https://localhost:8080/",
          "height": 270
        },
        "id": "M8i_EiqvZBHP",
        "outputId": "5ea87ef8-a2a7-450b-eb18-9e6137323097"
      },
      "execution_count": 775,
      "outputs": [
        {
          "output_type": "execute_result",
          "data": {
            "text/html": [
              "\n",
              "  <div id=\"df-092b690c-936d-4837-ab54-663953be5998\">\n",
              "    <div class=\"colab-df-container\">\n",
              "      <div>\n",
              "<style scoped>\n",
              "    .dataframe tbody tr th:only-of-type {\n",
              "        vertical-align: middle;\n",
              "    }\n",
              "\n",
              "    .dataframe tbody tr th {\n",
              "        vertical-align: top;\n",
              "    }\n",
              "\n",
              "    .dataframe thead th {\n",
              "        text-align: right;\n",
              "    }\n",
              "</style>\n",
              "<table border=\"1\" class=\"dataframe\">\n",
              "  <thead>\n",
              "    <tr style=\"text-align: right;\">\n",
              "      <th></th>\n",
              "      <th>acousticness</th>\n",
              "      <th>danceability</th>\n",
              "      <th>energy</th>\n",
              "      <th>key</th>\n",
              "      <th>liveness</th>\n",
              "      <th>loudness</th>\n",
              "      <th>audio_mode</th>\n",
              "      <th>speechiness</th>\n",
              "      <th>tempo</th>\n",
              "      <th>time_signature</th>\n",
              "      <th>audio_valence</th>\n",
              "      <th>log_ins</th>\n",
              "      <th>song_duration_m</th>\n",
              "      <th>song_popularity</th>\n",
              "      <th>log_ins_cont</th>\n",
              "      <th>song_duration_m_cont</th>\n",
              "      <th>tempo_cont</th>\n",
              "      <th>energy_cont</th>\n",
              "    </tr>\n",
              "  </thead>\n",
              "  <tbody>\n",
              "    <tr>\n",
              "      <th>30153</th>\n",
              "      <td>0.189149</td>\n",
              "      <td>0.806153</td>\n",
              "      <td>0.815240</td>\n",
              "      <td>2.0</td>\n",
              "      <td>0.135767</td>\n",
              "      <td>-5.629497</td>\n",
              "      <td>1</td>\n",
              "      <td>0.050399</td>\n",
              "      <td>143.756960</td>\n",
              "      <td>3</td>\n",
              "      <td>0.753350</td>\n",
              "      <td>-5.516991</td>\n",
              "      <td>3.002300</td>\n",
              "      <td>0</td>\n",
              "      <td>-5.516991</td>\n",
              "      <td>3.002300</td>\n",
              "      <td>143.756960</td>\n",
              "      <td>0.815240</td>\n",
              "    </tr>\n",
              "    <tr>\n",
              "      <th>20071</th>\n",
              "      <td>0.079342</td>\n",
              "      <td>0.842487</td>\n",
              "      <td>0.579820</td>\n",
              "      <td>10.0</td>\n",
              "      <td>0.102615</td>\n",
              "      <td>-7.994405</td>\n",
              "      <td>0</td>\n",
              "      <td>0.149740</td>\n",
              "      <td>94.998272</td>\n",
              "      <td>4</td>\n",
              "      <td>0.951112</td>\n",
              "      <td>-5.659638</td>\n",
              "      <td>2.504217</td>\n",
              "      <td>1</td>\n",
              "      <td>-5.659638</td>\n",
              "      <td>2.504217</td>\n",
              "      <td>94.998272</td>\n",
              "      <td>0.579820</td>\n",
              "    </tr>\n",
              "    <tr>\n",
              "      <th>37304</th>\n",
              "      <td>0.215032</td>\n",
              "      <td>0.641555</td>\n",
              "      <td>0.687383</td>\n",
              "      <td>8.0</td>\n",
              "      <td>0.215612</td>\n",
              "      <td>-4.742182</td>\n",
              "      <td>0</td>\n",
              "      <td>0.038253</td>\n",
              "      <td>106.486555</td>\n",
              "      <td>3</td>\n",
              "      <td>0.661293</td>\n",
              "      <td>-6.966546</td>\n",
              "      <td>2.871717</td>\n",
              "      <td>1</td>\n",
              "      <td>-6.966546</td>\n",
              "      <td>2.871717</td>\n",
              "      <td>106.486555</td>\n",
              "      <td>0.687383</td>\n",
              "    </tr>\n",
              "    <tr>\n",
              "      <th>22684</th>\n",
              "      <td>0.021284</td>\n",
              "      <td>0.449611</td>\n",
              "      <td>0.944502</td>\n",
              "      <td>6.0</td>\n",
              "      <td>0.161359</td>\n",
              "      <td>-5.498508</td>\n",
              "      <td>1</td>\n",
              "      <td>0.042637</td>\n",
              "      <td>101.552223</td>\n",
              "      <td>4</td>\n",
              "      <td>0.555487</td>\n",
              "      <td>-6.489760</td>\n",
              "      <td>3.450600</td>\n",
              "      <td>0</td>\n",
              "      <td>-6.489760</td>\n",
              "      <td>3.450600</td>\n",
              "      <td>101.552223</td>\n",
              "      <td>0.944502</td>\n",
              "    </tr>\n",
              "    <tr>\n",
              "      <th>36056</th>\n",
              "      <td>0.401394</td>\n",
              "      <td>0.736810</td>\n",
              "      <td>0.633134</td>\n",
              "      <td>7.0</td>\n",
              "      <td>0.128625</td>\n",
              "      <td>-8.016616</td>\n",
              "      <td>1</td>\n",
              "      <td>0.072136</td>\n",
              "      <td>99.505918</td>\n",
              "      <td>3</td>\n",
              "      <td>0.370660</td>\n",
              "      <td>-5.752300</td>\n",
              "      <td>2.937650</td>\n",
              "      <td>1</td>\n",
              "      <td>-5.752300</td>\n",
              "      <td>2.937650</td>\n",
              "      <td>99.505918</td>\n",
              "      <td>0.633134</td>\n",
              "    </tr>\n",
              "  </tbody>\n",
              "</table>\n",
              "</div>\n",
              "      <button class=\"colab-df-convert\" onclick=\"convertToInteractive('df-092b690c-936d-4837-ab54-663953be5998')\"\n",
              "              title=\"Convert this dataframe to an interactive table.\"\n",
              "              style=\"display:none;\">\n",
              "        \n",
              "  <svg xmlns=\"http://www.w3.org/2000/svg\" height=\"24px\"viewBox=\"0 0 24 24\"\n",
              "       width=\"24px\">\n",
              "    <path d=\"M0 0h24v24H0V0z\" fill=\"none\"/>\n",
              "    <path d=\"M18.56 5.44l.94 2.06.94-2.06 2.06-.94-2.06-.94-.94-2.06-.94 2.06-2.06.94zm-11 1L8.5 8.5l.94-2.06 2.06-.94-2.06-.94L8.5 2.5l-.94 2.06-2.06.94zm10 10l.94 2.06.94-2.06 2.06-.94-2.06-.94-.94-2.06-.94 2.06-2.06.94z\"/><path d=\"M17.41 7.96l-1.37-1.37c-.4-.4-.92-.59-1.43-.59-.52 0-1.04.2-1.43.59L10.3 9.45l-7.72 7.72c-.78.78-.78 2.05 0 2.83L4 21.41c.39.39.9.59 1.41.59.51 0 1.02-.2 1.41-.59l7.78-7.78 2.81-2.81c.8-.78.8-2.07 0-2.86zM5.41 20L4 18.59l7.72-7.72 1.47 1.35L5.41 20z\"/>\n",
              "  </svg>\n",
              "      </button>\n",
              "      \n",
              "  <style>\n",
              "    .colab-df-container {\n",
              "      display:flex;\n",
              "      flex-wrap:wrap;\n",
              "      gap: 12px;\n",
              "    }\n",
              "\n",
              "    .colab-df-convert {\n",
              "      background-color: #E8F0FE;\n",
              "      border: none;\n",
              "      border-radius: 50%;\n",
              "      cursor: pointer;\n",
              "      display: none;\n",
              "      fill: #1967D2;\n",
              "      height: 32px;\n",
              "      padding: 0 0 0 0;\n",
              "      width: 32px;\n",
              "    }\n",
              "\n",
              "    .colab-df-convert:hover {\n",
              "      background-color: #E2EBFA;\n",
              "      box-shadow: 0px 1px 2px rgba(60, 64, 67, 0.3), 0px 1px 3px 1px rgba(60, 64, 67, 0.15);\n",
              "      fill: #174EA6;\n",
              "    }\n",
              "\n",
              "    [theme=dark] .colab-df-convert {\n",
              "      background-color: #3B4455;\n",
              "      fill: #D2E3FC;\n",
              "    }\n",
              "\n",
              "    [theme=dark] .colab-df-convert:hover {\n",
              "      background-color: #434B5C;\n",
              "      box-shadow: 0px 1px 3px 1px rgba(0, 0, 0, 0.15);\n",
              "      filter: drop-shadow(0px 1px 2px rgba(0, 0, 0, 0.3));\n",
              "      fill: #FFFFFF;\n",
              "    }\n",
              "  </style>\n",
              "\n",
              "      <script>\n",
              "        const buttonEl =\n",
              "          document.querySelector('#df-092b690c-936d-4837-ab54-663953be5998 button.colab-df-convert');\n",
              "        buttonEl.style.display =\n",
              "          google.colab.kernel.accessAllowed ? 'block' : 'none';\n",
              "\n",
              "        async function convertToInteractive(key) {\n",
              "          const element = document.querySelector('#df-092b690c-936d-4837-ab54-663953be5998');\n",
              "          const dataTable =\n",
              "            await google.colab.kernel.invokeFunction('convertToInteractive',\n",
              "                                                     [key], {});\n",
              "          if (!dataTable) return;\n",
              "\n",
              "          const docLinkHtml = 'Like what you see? Visit the ' +\n",
              "            '<a target=\"_blank\" href=https://colab.research.google.com/notebooks/data_table.ipynb>data table notebook</a>'\n",
              "            + ' to learn more about interactive tables.';\n",
              "          element.innerHTML = '';\n",
              "          dataTable['output_type'] = 'display_data';\n",
              "          await google.colab.output.renderOutput(dataTable, element);\n",
              "          const docLink = document.createElement('div');\n",
              "          docLink.innerHTML = docLinkHtml;\n",
              "          element.appendChild(docLink);\n",
              "        }\n",
              "      </script>\n",
              "    </div>\n",
              "  </div>\n",
              "  "
            ],
            "text/plain": [
              "       acousticness  danceability  ...  tempo_cont  energy_cont\n",
              "30153      0.189149      0.806153  ...  143.756960     0.815240\n",
              "20071      0.079342      0.842487  ...   94.998272     0.579820\n",
              "37304      0.215032      0.641555  ...  106.486555     0.687383\n",
              "22684      0.021284      0.449611  ...  101.552223     0.944502\n",
              "36056      0.401394      0.736810  ...   99.505918     0.633134\n",
              "\n",
              "[5 rows x 18 columns]"
            ]
          },
          "metadata": {},
          "execution_count": 775
        }
      ]
    },
    {
      "cell_type": "code",
      "source": [
        "kbd = KBinsDiscretizer(n_bins=8, encode='ordinal', strategy='uniform')"
      ],
      "metadata": {
        "id": "nOkMP6Iw25KJ"
      },
      "execution_count": 776,
      "outputs": []
    },
    {
      "cell_type": "code",
      "source": [
        "x_kbd = x.copy()\n",
        "v_kbd = v.copy()\n",
        "t_kbd = t.copy()\n",
        "x_kbd[cont_2_cat] = kbd.fit_transform(x_kbd[cont_2_cat]) # fit and transform the train data\n",
        "v_kbd[cont_2_cat] = kbd.transform(v_kbd[cont_2_cat]) # but only transform for valid data\n",
        "t_kbd[cont_2_cat] = kbd.transform(t_kbd[cont_2_cat]) # but only transform for valid data"
      ],
      "metadata": {
        "id": "gaQb-DXw2BBw"
      },
      "execution_count": 777,
      "outputs": []
    },
    {
      "cell_type": "code",
      "source": [
        ""
      ],
      "metadata": {
        "id": "Ug5OFlcDHixj"
      },
      "execution_count": 777,
      "outputs": []
    },
    {
      "cell_type": "code",
      "source": [
        "x_kbd.dtypes"
      ],
      "metadata": {
        "colab": {
          "base_uri": "https://localhost:8080/"
        },
        "id": "mIJut4hWH28l",
        "outputId": "19bec7ee-c1c5-4deb-818f-72edd2c72be7"
      },
      "execution_count": 778,
      "outputs": [
        {
          "output_type": "execute_result",
          "data": {
            "text/plain": [
              "acousticness            float64\n",
              "danceability            float64\n",
              "energy                  float64\n",
              "key                     float64\n",
              "liveness                float64\n",
              "loudness                float64\n",
              "audio_mode                int64\n",
              "speechiness             float64\n",
              "tempo                   float64\n",
              "time_signature            int64\n",
              "audio_valence           float64\n",
              "log_ins                 float64\n",
              "song_duration_m         float64\n",
              "song_popularity           int64\n",
              "log_ins_cont            float64\n",
              "song_duration_m_cont    float64\n",
              "tempo_cont              float64\n",
              "energy_cont             float64\n",
              "dtype: object"
            ]
          },
          "metadata": {},
          "execution_count": 778
        }
      ]
    },
    {
      "cell_type": "code",
      "source": [
        "cat_cols += cont_2_cat"
      ],
      "metadata": {
        "id": "QAy9zKNxZMjC"
      },
      "execution_count": 779,
      "outputs": []
    },
    {
      "cell_type": "code",
      "source": [
        "cat_cols"
      ],
      "metadata": {
        "colab": {
          "base_uri": "https://localhost:8080/"
        },
        "id": "D5JcY0PrZQH-",
        "outputId": "6a7593b1-70c8-4e71-f8cb-a15d515aeee2"
      },
      "execution_count": 780,
      "outputs": [
        {
          "output_type": "execute_result",
          "data": {
            "text/plain": [
              "['audio_mode',\n",
              " 'time_signature',\n",
              " 'log_ins',\n",
              " 'key',\n",
              " 'tempo',\n",
              " 'song_duration_m',\n",
              " 'energy']"
            ]
          },
          "metadata": {},
          "execution_count": 780
        }
      ]
    },
    {
      "cell_type": "code",
      "source": [
        "cont_cols"
      ],
      "metadata": {
        "colab": {
          "base_uri": "https://localhost:8080/"
        },
        "id": "AJRVy31zZp4D",
        "outputId": "84b3ded2-2041-4b17-e640-7092685cae5a"
      },
      "execution_count": 781,
      "outputs": [
        {
          "output_type": "execute_result",
          "data": {
            "text/plain": [
              "['acousticness',\n",
              " 'danceability',\n",
              " 'energy',\n",
              " 'liveness',\n",
              " 'loudness',\n",
              " 'speechiness',\n",
              " 'audio_valence',\n",
              " 'log_ins_cont',\n",
              " 'song_duration_m_cont',\n",
              " 'tempo_cont',\n",
              " 'energy_cont']"
            ]
          },
          "metadata": {},
          "execution_count": 781
        }
      ]
    },
    {
      "cell_type": "markdown",
      "source": [
        "# New features\n",
        "https://developer.spotify.com/discover/\n",
        "\n",
        "Mood: Danceability, Valence, Energy, Tempo\n",
        "\n",
        "Properties: Loudness, Speechiness, Instrumentalness\n",
        "\n",
        "Context: Liveness, Acousticness\n",
        "\n",
        "Segments, Tatums, Bars, Beats, Pitches, Timbre, and more\n",
        "\n",
        "https://developer.spotify.com/documentation/web-api/reference/#/operations/get-several-audio-features"
      ],
      "metadata": {
        "id": "K7pIUcoGTJ8G"
      }
    },
    {
      "cell_type": "code",
      "source": [
        "x_kbd[\"is_live\"] = (x_kbd.liveness>=0.8).astype(int)\n",
        "v_kbd[\"is_live\"] = (v_kbd.liveness>=0.8).astype(int)\n",
        "t_kbd[\"is_live\"] = (t_kbd.liveness>=0.8).astype(int)"
      ],
      "metadata": {
        "id": "gXWSkPWCSJyQ"
      },
      "execution_count": 782,
      "outputs": []
    },
    {
      "cell_type": "code",
      "source": [
        "cat_cols.append(\"is_live\")\n",
        "feature_cols.append(\"is_live\")"
      ],
      "metadata": {
        "id": "HvUVW4jES_ve"
      },
      "execution_count": 783,
      "outputs": []
    },
    {
      "cell_type": "code",
      "source": [
        "x_kbd.is_live.sum(), v_kbd.is_live.sum(), t_kbd.is_live.sum()"
      ],
      "metadata": {
        "colab": {
          "base_uri": "https://localhost:8080/"
        },
        "id": "2WtvGwWGTHxM",
        "outputId": "3ff39117-bc54-4a99-cca9-23bda1ec3675"
      },
      "execution_count": 784,
      "outputs": [
        {
          "output_type": "execute_result",
          "data": {
            "text/plain": [
              "(160, 33, 47)"
            ]
          },
          "metadata": {},
          "execution_count": 784
        }
      ]
    },
    {
      "cell_type": "code",
      "source": [
        "kbd_2 = KBinsDiscretizer(n_bins=3, encode='ordinal', strategy='uniform')"
      ],
      "metadata": {
        "id": "vhB3isf2U2-K"
      },
      "execution_count": 785,
      "outputs": []
    },
    {
      "cell_type": "code",
      "source": [
        "x_kbd['speechiness_level'] = kbd_2.fit_transform(x_kbd['speechiness'].values.reshape(-1,1))\n",
        "v_kbd['speechiness_level'] = kbd_2.transform(v_kbd['speechiness'].values.reshape(-1,1))\n",
        "t_kbd['speechiness_level'] = kbd_2.transform(t_kbd['speechiness'].values.reshape(-1,1))"
      ],
      "metadata": {
        "id": "b04ETllPVgWT"
      },
      "execution_count": 786,
      "outputs": []
    },
    {
      "cell_type": "code",
      "source": [
        "cat_cols.append(\"speechiness_level\")\n",
        "feature_cols.append(\"speechiness_level\")"
      ],
      "metadata": {
        "id": "lk9xYcfcbYtX"
      },
      "execution_count": 787,
      "outputs": []
    },
    {
      "cell_type": "code",
      "source": [
        "x_kbd['valence'] = kbd_2.fit_transform(x_kbd['audio_valence'].values.reshape(-1,1))\n",
        "v_kbd['valence'] = kbd_2.transform(v_kbd['audio_valence'].values.reshape(-1,1))\n",
        "t_kbd['valence'] = kbd_2.transform(t_kbd['audio_valence'].values.reshape(-1,1))"
      ],
      "metadata": {
        "id": "zJAtnNxbbQ7r"
      },
      "execution_count": 788,
      "outputs": []
    },
    {
      "cell_type": "code",
      "source": [
        "cat_cols.append(\"valence\")\n",
        "feature_cols.append(\"valence\")"
      ],
      "metadata": {
        "id": "85zrzbUTUhWA"
      },
      "execution_count": 789,
      "outputs": []
    },
    {
      "cell_type": "code",
      "source": [
        "sns.histplot(data=x_kbd, x='valence', hue=target_col)"
      ],
      "metadata": {
        "colab": {
          "base_uri": "https://localhost:8080/",
          "height": 296
        },
        "id": "ppDfZ75rbdRi",
        "outputId": "03098c31-3242-4ab8-f88c-ae875c8eb231"
      },
      "execution_count": 790,
      "outputs": [
        {
          "output_type": "execute_result",
          "data": {
            "text/plain": [
              "<matplotlib.axes._subplots.AxesSubplot at 0x7f1f1c78bed0>"
            ]
          },
          "metadata": {},
          "execution_count": 790
        },
        {
          "output_type": "display_data",
          "data": {
            "image/png": "[encoded data removed]",
            "text/plain": [
              "<Figure size 432x288 with 1 Axes>"
            ]
          },
          "metadata": {
            "needs_background": "light"
          }
        }
      ]
    },
    {
      "cell_type": "code",
      "source": [
        "# https://music.stackexchange.com/questions/90286/how-long-is-a-bar\n",
        "x_kbd['bpm'] = (60./x_kbd.time_signature)*4\n",
        "v_kbd['bpm'] = (60./v_kbd.time_signature)*4\n",
        "t_kbd['bpm'] = (60./t_kbd.time_signature)*4"
      ],
      "metadata": {
        "id": "fm4KMitKWsuX"
      },
      "execution_count": 791,
      "outputs": []
    },
    {
      "cell_type": "code",
      "source": [
        "cat_cols.append(\"bpm\")\n",
        "feature_cols.append(\"bpm\")"
      ],
      "metadata": {
        "id": "XYDn5iMIbD23"
      },
      "execution_count": 792,
      "outputs": []
    },
    {
      "cell_type": "code",
      "source": [
        "plt.subplot(1,3,1)\n",
        "sns.histplot(data=x_kbd, x='bpm', hue=target_col)\n",
        "plt.subplot(1,3,2)\n",
        "sns.histplot(data=x_kbd, x='tempo_cont', hue=target_col)\n",
        "plt.subplot(1,3,3)\n",
        "sns.histplot(data=x_kbd, x='tempo', hue=target_col)"
      ],
      "metadata": {
        "colab": {
          "base_uri": "https://localhost:8080/",
          "height": 297
        },
        "id": "CnA2OrIrWsoG",
        "outputId": "bb01ebd0-113a-42d2-97dd-c7256f2d3466"
      },
      "execution_count": 793,
      "outputs": [
        {
          "output_type": "execute_result",
          "data": {
            "text/plain": [
              "<matplotlib.axes._subplots.AxesSubplot at 0x7f1f1b8d6b50>"
            ]
          },
          "metadata": {},
          "execution_count": 793
        },
        {
          "output_type": "display_data",
          "data": {
            "image/png": "[encoded data removed]",
            "text/plain": [
              "<Figure size 432x288 with 3 Axes>"
            ]
          },
          "metadata": {
            "needs_background": "light"
          }
        }
      ]
    },
    {
      "cell_type": "code",
      "source": [
        "x_kbd.bpm.min()"
      ],
      "metadata": {
        "colab": {
          "base_uri": "https://localhost:8080/"
        },
        "id": "0tyZK4BLa1qg",
        "outputId": "7b0f4465-5d92-4721-b432-c1c767a8d630"
      },
      "execution_count": 794,
      "outputs": [
        {
          "output_type": "execute_result",
          "data": {
            "text/plain": [
              "48.0"
            ]
          },
          "metadata": {},
          "execution_count": 794
        }
      ]
    },
    {
      "cell_type": "code",
      "source": [
        "x_kbd[\"f1\"] = (x_kbd.audio_valence*x_kbd.loudness)\n",
        "v_kbd[\"f1\"] = (v_kbd.audio_valence*v_kbd.loudness)\n",
        "t_kbd[\"f1\"] = (t_kbd.audio_valence*t_kbd.loudness)"
      ],
      "metadata": {
        "id": "bgCy_VIxaTZQ"
      },
      "execution_count": 795,
      "outputs": []
    },
    {
      "cell_type": "code",
      "source": [
        "x_kbd[\"f2\"] = 1/np.exp(x_kbd.audio_valence)\n",
        "v_kbd[\"f2\"] = 1/np.exp(v_kbd.audio_valence)\n",
        "t_kbd[\"f2\"] = 1/np.exp(t_kbd.audio_valence)"
      ],
      "metadata": {
        "id": "VE3qWf1ba1PE"
      },
      "execution_count": 796,
      "outputs": []
    },
    {
      "cell_type": "code",
      "source": [
        "x_kbd.head()"
      ],
      "metadata": {
        "colab": {
          "base_uri": "https://localhost:8080/",
          "height": 270
        },
        "id": "Xdodm4TJD1wd",
        "outputId": "5ac2d32c-7fa9-45ca-aed1-edc082eece3e"
      },
      "execution_count": 797,
      "outputs": [
        {
          "output_type": "execute_result",
          "data": {
            "text/html": [
              "\n",
              "  <div id=\"df-a69a1d27-644e-4dd0-aa1b-530cb8e9c936\">\n",
              "    <div class=\"colab-df-container\">\n",
              "      <div>\n",
              "<style scoped>\n",
              "    .dataframe tbody tr th:only-of-type {\n",
              "        vertical-align: middle;\n",
              "    }\n",
              "\n",
              "    .dataframe tbody tr th {\n",
              "        vertical-align: top;\n",
              "    }\n",
              "\n",
              "    .dataframe thead th {\n",
              "        text-align: right;\n",
              "    }\n",
              "</style>\n",
              "<table border=\"1\" class=\"dataframe\">\n",
              "  <thead>\n",
              "    <tr style=\"text-align: right;\">\n",
              "      <th></th>\n",
              "      <th>acousticness</th>\n",
              "      <th>danceability</th>\n",
              "      <th>energy</th>\n",
              "      <th>key</th>\n",
              "      <th>liveness</th>\n",
              "      <th>loudness</th>\n",
              "      <th>audio_mode</th>\n",
              "      <th>speechiness</th>\n",
              "      <th>tempo</th>\n",
              "      <th>time_signature</th>\n",
              "      <th>audio_valence</th>\n",
              "      <th>log_ins</th>\n",
              "      <th>song_duration_m</th>\n",
              "      <th>song_popularity</th>\n",
              "      <th>log_ins_cont</th>\n",
              "      <th>song_duration_m_cont</th>\n",
              "      <th>tempo_cont</th>\n",
              "      <th>energy_cont</th>\n",
              "      <th>is_live</th>\n",
              "      <th>speechiness_level</th>\n",
              "      <th>valence</th>\n",
              "      <th>bpm</th>\n",
              "      <th>f1</th>\n",
              "      <th>f2</th>\n",
              "    </tr>\n",
              "  </thead>\n",
              "  <tbody>\n",
              "    <tr>\n",
              "      <th>38754</th>\n",
              "      <td>0.171518</td>\n",
              "      <td>0.771586</td>\n",
              "      <td>3.0</td>\n",
              "      <td>2.0</td>\n",
              "      <td>0.090668</td>\n",
              "      <td>-13.023834</td>\n",
              "      <td>1</td>\n",
              "      <td>0.374589</td>\n",
              "      <td>1.0</td>\n",
              "      <td>3</td>\n",
              "      <td>0.338582</td>\n",
              "      <td>5.0</td>\n",
              "      <td>2.0</td>\n",
              "      <td>1</td>\n",
              "      <td>-5.685862</td>\n",
              "      <td>3.028645</td>\n",
              "      <td>91.458484</td>\n",
              "      <td>0.471950</td>\n",
              "      <td>0</td>\n",
              "      <td>2.0</td>\n",
              "      <td>0.0</td>\n",
              "      <td>80.0</td>\n",
              "      <td>-4.409630</td>\n",
              "      <td>0.712781</td>\n",
              "    </tr>\n",
              "    <tr>\n",
              "      <th>33824</th>\n",
              "      <td>0.020867</td>\n",
              "      <td>0.425238</td>\n",
              "      <td>5.0</td>\n",
              "      <td>1.0</td>\n",
              "      <td>0.125137</td>\n",
              "      <td>-15.579105</td>\n",
              "      <td>1</td>\n",
              "      <td>0.045951</td>\n",
              "      <td>4.0</td>\n",
              "      <td>3</td>\n",
              "      <td>0.685437</td>\n",
              "      <td>6.0</td>\n",
              "      <td>2.0</td>\n",
              "      <td>1</td>\n",
              "      <td>-3.076899</td>\n",
              "      <td>2.745100</td>\n",
              "      <td>145.361921</td>\n",
              "      <td>0.684844</td>\n",
              "      <td>0</td>\n",
              "      <td>0.0</td>\n",
              "      <td>1.0</td>\n",
              "      <td>80.0</td>\n",
              "      <td>-10.678496</td>\n",
              "      <td>0.503870</td>\n",
              "    </tr>\n",
              "    <tr>\n",
              "      <th>32647</th>\n",
              "      <td>0.077024</td>\n",
              "      <td>0.683368</td>\n",
              "      <td>6.0</td>\n",
              "      <td>4.0</td>\n",
              "      <td>0.113637</td>\n",
              "      <td>-3.762734</td>\n",
              "      <td>0</td>\n",
              "      <td>0.043470</td>\n",
              "      <td>2.0</td>\n",
              "      <td>3</td>\n",
              "      <td>0.395992</td>\n",
              "      <td>4.0</td>\n",
              "      <td>2.0</td>\n",
              "      <td>0</td>\n",
              "      <td>-5.954191</td>\n",
              "      <td>3.096150</td>\n",
              "      <td>117.701192</td>\n",
              "      <td>0.818191</td>\n",
              "      <td>0</td>\n",
              "      <td>0.0</td>\n",
              "      <td>1.0</td>\n",
              "      <td>80.0</td>\n",
              "      <td>-1.490012</td>\n",
              "      <td>0.673012</td>\n",
              "    </tr>\n",
              "    <tr>\n",
              "      <th>20775</th>\n",
              "      <td>0.519481</td>\n",
              "      <td>0.313605</td>\n",
              "      <td>3.0</td>\n",
              "      <td>0.0</td>\n",
              "      <td>0.104981</td>\n",
              "      <td>-12.272236</td>\n",
              "      <td>1</td>\n",
              "      <td>0.059042</td>\n",
              "      <td>3.0</td>\n",
              "      <td>3</td>\n",
              "      <td>0.474223</td>\n",
              "      <td>5.0</td>\n",
              "      <td>2.0</td>\n",
              "      <td>1</td>\n",
              "      <td>-5.676054</td>\n",
              "      <td>2.749583</td>\n",
              "      <td>127.352201</td>\n",
              "      <td>0.487660</td>\n",
              "      <td>0</td>\n",
              "      <td>0.0</td>\n",
              "      <td>1.0</td>\n",
              "      <td>80.0</td>\n",
              "      <td>-5.819774</td>\n",
              "      <td>0.622369</td>\n",
              "    </tr>\n",
              "    <tr>\n",
              "      <th>3939</th>\n",
              "      <td>0.638099</td>\n",
              "      <td>0.693150</td>\n",
              "      <td>5.0</td>\n",
              "      <td>7.0</td>\n",
              "      <td>0.083411</td>\n",
              "      <td>-9.002265</td>\n",
              "      <td>1</td>\n",
              "      <td>0.121997</td>\n",
              "      <td>1.0</td>\n",
              "      <td>4</td>\n",
              "      <td>0.440677</td>\n",
              "      <td>4.0</td>\n",
              "      <td>2.0</td>\n",
              "      <td>1</td>\n",
              "      <td>-6.645917</td>\n",
              "      <td>3.218800</td>\n",
              "      <td>91.189889</td>\n",
              "      <td>0.665274</td>\n",
              "      <td>0</td>\n",
              "      <td>0.0</td>\n",
              "      <td>1.0</td>\n",
              "      <td>60.0</td>\n",
              "      <td>-3.967095</td>\n",
              "      <td>0.643600</td>\n",
              "    </tr>\n",
              "  </tbody>\n",
              "</table>\n",
              "</div>\n",
              "      <button class=\"colab-df-convert\" onclick=\"convertToInteractive('df-a69a1d27-644e-4dd0-aa1b-530cb8e9c936')\"\n",
              "              title=\"Convert this dataframe to an interactive table.\"\n",
              "              style=\"display:none;\">\n",
              "        \n",
              "  <svg xmlns=\"http://www.w3.org/2000/svg\" height=\"24px\"viewBox=\"0 0 24 24\"\n",
              "       width=\"24px\">\n",
              "    <path d=\"M0 0h24v24H0V0z\" fill=\"none\"/>\n",
              "    <path d=\"M18.56 5.44l.94 2.06.94-2.06 2.06-.94-2.06-.94-.94-2.06-.94 2.06-2.06.94zm-11 1L8.5 8.5l.94-2.06 2.06-.94-2.06-.94L8.5 2.5l-.94 2.06-2.06.94zm10 10l.94 2.06.94-2.06 2.06-.94-2.06-.94-.94-2.06-.94 2.06-2.06.94z\"/><path d=\"M17.41 7.96l-1.37-1.37c-.4-.4-.92-.59-1.43-.59-.52 0-1.04.2-1.43.59L10.3 9.45l-7.72 7.72c-.78.78-.78 2.05 0 2.83L4 21.41c.39.39.9.59 1.41.59.51 0 1.02-.2 1.41-.59l7.78-7.78 2.81-2.81c.8-.78.8-2.07 0-2.86zM5.41 20L4 18.59l7.72-7.72 1.47 1.35L5.41 20z\"/>\n",
              "  </svg>\n",
              "      </button>\n",
              "      \n",
              "  <style>\n",
              "    .colab-df-container {\n",
              "      display:flex;\n",
              "      flex-wrap:wrap;\n",
              "      gap: 12px;\n",
              "    }\n",
              "\n",
              "    .colab-df-convert {\n",
              "      background-color: #E8F0FE;\n",
              "      border: none;\n",
              "      border-radius: 50%;\n",
              "      cursor: pointer;\n",
              "      display: none;\n",
              "      fill: #1967D2;\n",
              "      height: 32px;\n",
              "      padding: 0 0 0 0;\n",
              "      width: 32px;\n",
              "    }\n",
              "\n",
              "    .colab-df-convert:hover {\n",
              "      background-color: #E2EBFA;\n",
              "      box-shadow: 0px 1px 2px rgba(60, 64, 67, 0.3), 0px 1px 3px 1px rgba(60, 64, 67, 0.15);\n",
              "      fill: #174EA6;\n",
              "    }\n",
              "\n",
              "    [theme=dark] .colab-df-convert {\n",
              "      background-color: #3B4455;\n",
              "      fill: #D2E3FC;\n",
              "    }\n",
              "\n",
              "    [theme=dark] .colab-df-convert:hover {\n",
              "      background-color: #434B5C;\n",
              "      box-shadow: 0px 1px 3px 1px rgba(0, 0, 0, 0.15);\n",
              "      filter: drop-shadow(0px 1px 2px rgba(0, 0, 0, 0.3));\n",
              "      fill: #FFFFFF;\n",
              "    }\n",
              "  </style>\n",
              "\n",
              "      <script>\n",
              "        const buttonEl =\n",
              "          document.querySelector('#df-a69a1d27-644e-4dd0-aa1b-530cb8e9c936 button.colab-df-convert');\n",
              "        buttonEl.style.display =\n",
              "          google.colab.kernel.accessAllowed ? 'block' : 'none';\n",
              "\n",
              "        async function convertToInteractive(key) {\n",
              "          const element = document.querySelector('#df-a69a1d27-644e-4dd0-aa1b-530cb8e9c936');\n",
              "          const dataTable =\n",
              "            await google.colab.kernel.invokeFunction('convertToInteractive',\n",
              "                                                     [key], {});\n",
              "          if (!dataTable) return;\n",
              "\n",
              "          const docLinkHtml = 'Like what you see? Visit the ' +\n",
              "            '<a target=\"_blank\" href=https://colab.research.google.com/notebooks/data_table.ipynb>data table notebook</a>'\n",
              "            + ' to learn more about interactive tables.';\n",
              "          element.innerHTML = '';\n",
              "          dataTable['output_type'] = 'display_data';\n",
              "          await google.colab.output.renderOutput(dataTable, element);\n",
              "          const docLink = document.createElement('div');\n",
              "          docLink.innerHTML = docLinkHtml;\n",
              "          element.appendChild(docLink);\n",
              "        }\n",
              "      </script>\n",
              "    </div>\n",
              "  </div>\n",
              "  "
            ],
            "text/plain": [
              "       acousticness  danceability  energy  ...   bpm         f1        f2\n",
              "38754      0.171518      0.771586     3.0  ...  80.0  -4.409630  0.712781\n",
              "33824      0.020867      0.425238     5.0  ...  80.0 -10.678496  0.503870\n",
              "32647      0.077024      0.683368     6.0  ...  80.0  -1.490012  0.673012\n",
              "20775      0.519481      0.313605     3.0  ...  80.0  -5.819774  0.622369\n",
              "3939       0.638099      0.693150     5.0  ...  60.0  -3.967095  0.643600\n",
              "\n",
              "[5 rows x 24 columns]"
            ]
          },
          "metadata": {},
          "execution_count": 797
        }
      ]
    },
    {
      "cell_type": "code",
      "source": [
        "sns.kdeplot(data=x_kbd, x=\"f1\", hue=\"song_popularity\")"
      ],
      "metadata": {
        "colab": {
          "base_uri": "https://localhost:8080/",
          "height": 297
        },
        "id": "V2h_VX6jVC7Y",
        "outputId": "50002e7b-2c33-464f-d232-2d77493f78ac"
      },
      "execution_count": 798,
      "outputs": [
        {
          "output_type": "execute_result",
          "data": {
            "text/plain": [
              "<matplotlib.axes._subplots.AxesSubplot at 0x7f1f1b2fce90>"
            ]
          },
          "metadata": {},
          "execution_count": 798
        },
        {
          "output_type": "display_data",
          "data": {
            "image/png": "[encoded data removed]",
            "text/plain": [
              "<Figure size 432x288 with 1 Axes>"
            ]
          },
          "metadata": {
            "needs_background": "light"
          }
        }
      ]
    },
    {
      "cell_type": "code",
      "source": [
        "sns.kdeplot(data=x_kbd, x=\"f2\", hue=\"song_popularity\")"
      ],
      "metadata": {
        "colab": {
          "base_uri": "https://localhost:8080/",
          "height": 296
        },
        "id": "tUIHRLa7mlyh",
        "outputId": "cd72f9da-33ea-41f2-957c-c969323239d3"
      },
      "execution_count": 799,
      "outputs": [
        {
          "output_type": "execute_result",
          "data": {
            "text/plain": [
              "<matplotlib.axes._subplots.AxesSubplot at 0x7f1f1c96d590>"
            ]
          },
          "metadata": {},
          "execution_count": 799
        },
        {
          "output_type": "display_data",
          "data": {
            "image/png": "[encoded data removed]",
            "text/plain": [
              "<Figure size 432x288 with 1 Axes>"
            ]
          },
          "metadata": {
            "needs_background": "light"
          }
        }
      ]
    },
    {
      "cell_type": "code",
      "source": [
        "cont_cols"
      ],
      "metadata": {
        "colab": {
          "base_uri": "https://localhost:8080/"
        },
        "id": "qFnJz59sqW4m",
        "outputId": "44298574-2e04-4d7f-ee4c-8f4dcad272f5"
      },
      "execution_count": 800,
      "outputs": [
        {
          "output_type": "execute_result",
          "data": {
            "text/plain": [
              "['acousticness',\n",
              " 'danceability',\n",
              " 'energy',\n",
              " 'liveness',\n",
              " 'loudness',\n",
              " 'speechiness',\n",
              " 'audio_valence',\n",
              " 'log_ins_cont',\n",
              " 'song_duration_m_cont',\n",
              " 'tempo_cont',\n",
              " 'energy_cont']"
            ]
          },
          "metadata": {},
          "execution_count": 800
        }
      ]
    },
    {
      "cell_type": "code",
      "source": [
        "cont_cols += [\"f1\", \"f2\"]"
      ],
      "metadata": {
        "id": "8obdW0IVgD4M"
      },
      "execution_count": 801,
      "outputs": []
    },
    {
      "cell_type": "code",
      "source": [
        "feature_cols += [\"f1\", \"f2\"]\n",
        "feature_cols"
      ],
      "metadata": {
        "colab": {
          "base_uri": "https://localhost:8080/"
        },
        "id": "RFaIohaEcWhL",
        "outputId": "3c4bb0bc-d591-4246-a1b4-5aa82d820140"
      },
      "execution_count": 802,
      "outputs": [
        {
          "output_type": "execute_result",
          "data": {
            "text/plain": [
              "['acousticness',\n",
              " 'danceability',\n",
              " 'energy',\n",
              " 'key',\n",
              " 'liveness',\n",
              " 'loudness',\n",
              " 'audio_mode',\n",
              " 'speechiness',\n",
              " 'tempo',\n",
              " 'time_signature',\n",
              " 'audio_valence',\n",
              " 'log_ins',\n",
              " 'song_duration_m',\n",
              " 'song_popularity',\n",
              " 'log_ins_cont',\n",
              " 'song_duration_m_cont',\n",
              " 'tempo_cont',\n",
              " 'energy_cont',\n",
              " 'is_live',\n",
              " 'speechiness_level',\n",
              " 'valence',\n",
              " 'bpm',\n",
              " 'f1',\n",
              " 'f2']"
            ]
          },
          "metadata": {},
          "execution_count": 802
        }
      ]
    },
    {
      "cell_type": "markdown",
      "source": [
        "# Cluster distance as a feature\n",
        "\n",
        "Read that year is a good feature, so assuming 100 years of data, take that as 10 centuries"
      ],
      "metadata": {
        "id": "pe743d1bVZao"
      }
    },
    {
      "cell_type": "code",
      "source": [
        "n_clusters = 10\n",
        "kmeans = KMeans(n_clusters=n_clusters, n_init=20, random_state=1)"
      ],
      "metadata": {
        "id": "7J9lwV3OWTfm"
      },
      "execution_count": 803,
      "outputs": []
    },
    {
      "cell_type": "code",
      "source": [
        "cluster_cols = [f\"cluster{i+1}\" for i in range(n_clusters)]\n",
        "# gives distance to cluster center for each sample # to get cluster as number, do predict\n",
        "# since this is a fit transform and not a fit predict\n",
        "x_cd = kmeans.fit_transform(x_kbd[cont_cols])\n",
        "x_cd = pd.DataFrame(x_cd, columns=cluster_cols, index=x_kbd.index)\n",
        "x_kbd = pd.concat([x_kbd,x_cd], axis=1)"
      ],
      "metadata": {
        "id": "iDm6s74rVb0y"
      },
      "execution_count": 804,
      "outputs": []
    },
    {
      "cell_type": "code",
      "source": [
        "x_kbd.head()"
      ],
      "metadata": {
        "colab": {
          "base_uri": "https://localhost:8080/",
          "height": 270
        },
        "id": "mChF9PtpXoIa",
        "outputId": "dc3064cf-0196-4c4e-f574-9065d8300c8a"
      },
      "execution_count": 805,
      "outputs": [
        {
          "output_type": "execute_result",
          "data": {
            "text/html": [
              "\n",
              "  <div id=\"df-b7efbbcb-d7be-4710-bed7-f41da50bb12a\">\n",
              "    <div class=\"colab-df-container\">\n",
              "      <div>\n",
              "<style scoped>\n",
              "    .dataframe tbody tr th:only-of-type {\n",
              "        vertical-align: middle;\n",
              "    }\n",
              "\n",
              "    .dataframe tbody tr th {\n",
              "        vertical-align: top;\n",
              "    }\n",
              "\n",
              "    .dataframe thead th {\n",
              "        text-align: right;\n",
              "    }\n",
              "</style>\n",
              "<table border=\"1\" class=\"dataframe\">\n",
              "  <thead>\n",
              "    <tr style=\"text-align: right;\">\n",
              "      <th></th>\n",
              "      <th>acousticness</th>\n",
              "      <th>danceability</th>\n",
              "      <th>energy</th>\n",
              "      <th>key</th>\n",
              "      <th>liveness</th>\n",
              "      <th>loudness</th>\n",
              "      <th>audio_mode</th>\n",
              "      <th>speechiness</th>\n",
              "      <th>tempo</th>\n",
              "      <th>time_signature</th>\n",
              "      <th>audio_valence</th>\n",
              "      <th>log_ins</th>\n",
              "      <th>song_duration_m</th>\n",
              "      <th>song_popularity</th>\n",
              "      <th>log_ins_cont</th>\n",
              "      <th>song_duration_m_cont</th>\n",
              "      <th>tempo_cont</th>\n",
              "      <th>energy_cont</th>\n",
              "      <th>is_live</th>\n",
              "      <th>speechiness_level</th>\n",
              "      <th>valence</th>\n",
              "      <th>bpm</th>\n",
              "      <th>f1</th>\n",
              "      <th>f2</th>\n",
              "      <th>cluster1</th>\n",
              "      <th>cluster2</th>\n",
              "      <th>cluster3</th>\n",
              "      <th>cluster4</th>\n",
              "      <th>cluster5</th>\n",
              "      <th>cluster6</th>\n",
              "      <th>cluster7</th>\n",
              "      <th>cluster8</th>\n",
              "      <th>cluster9</th>\n",
              "      <th>cluster10</th>\n",
              "    </tr>\n",
              "  </thead>\n",
              "  <tbody>\n",
              "    <tr>\n",
              "      <th>38754</th>\n",
              "      <td>0.171518</td>\n",
              "      <td>0.771586</td>\n",
              "      <td>3.0</td>\n",
              "      <td>2.0</td>\n",
              "      <td>0.090668</td>\n",
              "      <td>-13.023834</td>\n",
              "      <td>1</td>\n",
              "      <td>0.374589</td>\n",
              "      <td>1.0</td>\n",
              "      <td>3</td>\n",
              "      <td>0.338582</td>\n",
              "      <td>5.0</td>\n",
              "      <td>2.0</td>\n",
              "      <td>1</td>\n",
              "      <td>-5.685862</td>\n",
              "      <td>3.028645</td>\n",
              "      <td>91.458484</td>\n",
              "      <td>0.471950</td>\n",
              "      <td>0</td>\n",
              "      <td>2.0</td>\n",
              "      <td>0.0</td>\n",
              "      <td>80.0</td>\n",
              "      <td>-4.409630</td>\n",
              "      <td>0.712781</td>\n",
              "      <td>62.290936</td>\n",
              "      <td>7.654356</td>\n",
              "      <td>34.943248</td>\n",
              "      <td>96.289805</td>\n",
              "      <td>12.042692</td>\n",
              "      <td>79.522689</td>\n",
              "      <td>25.930173</td>\n",
              "      <td>13.735826</td>\n",
              "      <td>1.798989</td>\n",
              "      <td>49.682087</td>\n",
              "    </tr>\n",
              "    <tr>\n",
              "      <th>33824</th>\n",
              "      <td>0.020867</td>\n",
              "      <td>0.425238</td>\n",
              "      <td>5.0</td>\n",
              "      <td>1.0</td>\n",
              "      <td>0.125137</td>\n",
              "      <td>-15.579105</td>\n",
              "      <td>1</td>\n",
              "      <td>0.045951</td>\n",
              "      <td>4.0</td>\n",
              "      <td>3</td>\n",
              "      <td>0.685437</td>\n",
              "      <td>6.0</td>\n",
              "      <td>2.0</td>\n",
              "      <td>1</td>\n",
              "      <td>-3.076899</td>\n",
              "      <td>2.745100</td>\n",
              "      <td>145.361921</td>\n",
              "      <td>0.684844</td>\n",
              "      <td>0</td>\n",
              "      <td>0.0</td>\n",
              "      <td>1.0</td>\n",
              "      <td>80.0</td>\n",
              "      <td>-10.678496</td>\n",
              "      <td>0.503870</td>\n",
              "      <td>12.918466</td>\n",
              "      <td>52.411175</td>\n",
              "      <td>22.646947</td>\n",
              "      <td>43.864932</td>\n",
              "      <td>65.958697</td>\n",
              "      <td>28.132706</td>\n",
              "      <td>31.883501</td>\n",
              "      <td>43.212053</td>\n",
              "      <td>53.934877</td>\n",
              "      <td>11.865607</td>\n",
              "    </tr>\n",
              "    <tr>\n",
              "      <th>32647</th>\n",
              "      <td>0.077024</td>\n",
              "      <td>0.683368</td>\n",
              "      <td>6.0</td>\n",
              "      <td>4.0</td>\n",
              "      <td>0.113637</td>\n",
              "      <td>-3.762734</td>\n",
              "      <td>0</td>\n",
              "      <td>0.043470</td>\n",
              "      <td>2.0</td>\n",
              "      <td>3</td>\n",
              "      <td>0.395992</td>\n",
              "      <td>4.0</td>\n",
              "      <td>2.0</td>\n",
              "      <td>0</td>\n",
              "      <td>-5.954191</td>\n",
              "      <td>3.096150</td>\n",
              "      <td>117.701192</td>\n",
              "      <td>0.818191</td>\n",
              "      <td>0</td>\n",
              "      <td>0.0</td>\n",
              "      <td>1.0</td>\n",
              "      <td>80.0</td>\n",
              "      <td>-1.490012</td>\n",
              "      <td>0.673012</td>\n",
              "      <td>36.311843</td>\n",
              "      <td>23.629041</td>\n",
              "      <td>9.063719</td>\n",
              "      <td>69.840801</td>\n",
              "      <td>38.188354</td>\n",
              "      <td>53.024803</td>\n",
              "      <td>3.240642</td>\n",
              "      <td>14.706241</td>\n",
              "      <td>28.375160</td>\n",
              "      <td>23.516538</td>\n",
              "    </tr>\n",
              "    <tr>\n",
              "      <th>20775</th>\n",
              "      <td>0.519481</td>\n",
              "      <td>0.313605</td>\n",
              "      <td>3.0</td>\n",
              "      <td>0.0</td>\n",
              "      <td>0.104981</td>\n",
              "      <td>-12.272236</td>\n",
              "      <td>1</td>\n",
              "      <td>0.059042</td>\n",
              "      <td>3.0</td>\n",
              "      <td>3</td>\n",
              "      <td>0.474223</td>\n",
              "      <td>5.0</td>\n",
              "      <td>2.0</td>\n",
              "      <td>1</td>\n",
              "      <td>-5.676054</td>\n",
              "      <td>2.749583</td>\n",
              "      <td>127.352201</td>\n",
              "      <td>0.487660</td>\n",
              "      <td>0</td>\n",
              "      <td>0.0</td>\n",
              "      <td>1.0</td>\n",
              "      <td>80.0</td>\n",
              "      <td>-5.819774</td>\n",
              "      <td>0.622369</td>\n",
              "      <td>26.574678</td>\n",
              "      <td>33.679147</td>\n",
              "      <td>6.307201</td>\n",
              "      <td>60.533701</td>\n",
              "      <td>47.406720</td>\n",
              "      <td>43.863671</td>\n",
              "      <td>13.601788</td>\n",
              "      <td>24.433585</td>\n",
              "      <td>35.620082</td>\n",
              "      <td>14.548023</td>\n",
              "    </tr>\n",
              "    <tr>\n",
              "      <th>3939</th>\n",
              "      <td>0.638099</td>\n",
              "      <td>0.693150</td>\n",
              "      <td>5.0</td>\n",
              "      <td>7.0</td>\n",
              "      <td>0.083411</td>\n",
              "      <td>-9.002265</td>\n",
              "      <td>1</td>\n",
              "      <td>0.121997</td>\n",
              "      <td>1.0</td>\n",
              "      <td>4</td>\n",
              "      <td>0.440677</td>\n",
              "      <td>4.0</td>\n",
              "      <td>2.0</td>\n",
              "      <td>1</td>\n",
              "      <td>-6.645917</td>\n",
              "      <td>3.218800</td>\n",
              "      <td>91.189889</td>\n",
              "      <td>0.665274</td>\n",
              "      <td>0</td>\n",
              "      <td>0.0</td>\n",
              "      <td>1.0</td>\n",
              "      <td>60.0</td>\n",
              "      <td>-3.967095</td>\n",
              "      <td>0.643600</td>\n",
              "      <td>62.383318</td>\n",
              "      <td>4.217051</td>\n",
              "      <td>34.672571</td>\n",
              "      <td>96.330184</td>\n",
              "      <td>11.227924</td>\n",
              "      <td>79.504529</td>\n",
              "      <td>25.182231</td>\n",
              "      <td>12.625104</td>\n",
              "      <td>6.058414</td>\n",
              "      <td>49.614881</td>\n",
              "    </tr>\n",
              "  </tbody>\n",
              "</table>\n",
              "</div>\n",
              "      <button class=\"colab-df-convert\" onclick=\"convertToInteractive('df-b7efbbcb-d7be-4710-bed7-f41da50bb12a')\"\n",
              "              title=\"Convert this dataframe to an interactive table.\"\n",
              "              style=\"display:none;\">\n",
              "        \n",
              "  <svg xmlns=\"http://www.w3.org/2000/svg\" height=\"24px\"viewBox=\"0 0 24 24\"\n",
              "       width=\"24px\">\n",
              "    <path d=\"M0 0h24v24H0V0z\" fill=\"none\"/>\n",
              "    <path d=\"M18.56 5.44l.94 2.06.94-2.06 2.06-.94-2.06-.94-.94-2.06-.94 2.06-2.06.94zm-11 1L8.5 8.5l.94-2.06 2.06-.94-2.06-.94L8.5 2.5l-.94 2.06-2.06.94zm10 10l.94 2.06.94-2.06 2.06-.94-2.06-.94-.94-2.06-.94 2.06-2.06.94z\"/><path d=\"M17.41 7.96l-1.37-1.37c-.4-.4-.92-.59-1.43-.59-.52 0-1.04.2-1.43.59L10.3 9.45l-7.72 7.72c-.78.78-.78 2.05 0 2.83L4 21.41c.39.39.9.59 1.41.59.51 0 1.02-.2 1.41-.59l7.78-7.78 2.81-2.81c.8-.78.8-2.07 0-2.86zM5.41 20L4 18.59l7.72-7.72 1.47 1.35L5.41 20z\"/>\n",
              "  </svg>\n",
              "      </button>\n",
              "      \n",
              "  <style>\n",
              "    .colab-df-container {\n",
              "      display:flex;\n",
              "      flex-wrap:wrap;\n",
              "      gap: 12px;\n",
              "    }\n",
              "\n",
              "    .colab-df-convert {\n",
              "      background-color: #E8F0FE;\n",
              "      border: none;\n",
              "      border-radius: 50%;\n",
              "      cursor: pointer;\n",
              "      display: none;\n",
              "      fill: #1967D2;\n",
              "      height: 32px;\n",
              "      padding: 0 0 0 0;\n",
              "      width: 32px;\n",
              "    }\n",
              "\n",
              "    .colab-df-convert:hover {\n",
              "      background-color: #E2EBFA;\n",
              "      box-shadow: 0px 1px 2px rgba(60, 64, 67, 0.3), 0px 1px 3px 1px rgba(60, 64, 67, 0.15);\n",
              "      fill: #174EA6;\n",
              "    }\n",
              "\n",
              "    [theme=dark] .colab-df-convert {\n",
              "      background-color: #3B4455;\n",
              "      fill: #D2E3FC;\n",
              "    }\n",
              "\n",
              "    [theme=dark] .colab-df-convert:hover {\n",
              "      background-color: #434B5C;\n",
              "      box-shadow: 0px 1px 3px 1px rgba(0, 0, 0, 0.15);\n",
              "      filter: drop-shadow(0px 1px 2px rgba(0, 0, 0, 0.3));\n",
              "      fill: #FFFFFF;\n",
              "    }\n",
              "  </style>\n",
              "\n",
              "      <script>\n",
              "        const buttonEl =\n",
              "          document.querySelector('#df-b7efbbcb-d7be-4710-bed7-f41da50bb12a button.colab-df-convert');\n",
              "        buttonEl.style.display =\n",
              "          google.colab.kernel.accessAllowed ? 'block' : 'none';\n",
              "\n",
              "        async function convertToInteractive(key) {\n",
              "          const element = document.querySelector('#df-b7efbbcb-d7be-4710-bed7-f41da50bb12a');\n",
              "          const dataTable =\n",
              "            await google.colab.kernel.invokeFunction('convertToInteractive',\n",
              "                                                     [key], {});\n",
              "          if (!dataTable) return;\n",
              "\n",
              "          const docLinkHtml = 'Like what you see? Visit the ' +\n",
              "            '<a target=\"_blank\" href=https://colab.research.google.com/notebooks/data_table.ipynb>data table notebook</a>'\n",
              "            + ' to learn more about interactive tables.';\n",
              "          element.innerHTML = '';\n",
              "          dataTable['output_type'] = 'display_data';\n",
              "          await google.colab.output.renderOutput(dataTable, element);\n",
              "          const docLink = document.createElement('div');\n",
              "          docLink.innerHTML = docLinkHtml;\n",
              "          element.appendChild(docLink);\n",
              "        }\n",
              "      </script>\n",
              "    </div>\n",
              "  </div>\n",
              "  "
            ],
            "text/plain": [
              "       acousticness  danceability  energy  ...   cluster8   cluster9  cluster10\n",
              "38754      0.171518      0.771586     3.0  ...  13.735826   1.798989  49.682087\n",
              "33824      0.020867      0.425238     5.0  ...  43.212053  53.934877  11.865607\n",
              "32647      0.077024      0.683368     6.0  ...  14.706241  28.375160  23.516538\n",
              "20775      0.519481      0.313605     3.0  ...  24.433585  35.620082  14.548023\n",
              "3939       0.638099      0.693150     5.0  ...  12.625104   6.058414  49.614881\n",
              "\n",
              "[5 rows x 34 columns]"
            ]
          },
          "metadata": {},
          "execution_count": 805
        }
      ]
    },
    {
      "cell_type": "code",
      "source": [
        "x_cd = kmeans.transform(v_kbd[cont_cols]) # dont fit for test\n",
        "x_cd = pd.DataFrame(x_cd, columns=cluster_cols, index=v_kbd.index)\n",
        "v_kbd = pd.concat([v_kbd,x_cd], axis=1)\n",
        "v_kbd.head()"
      ],
      "metadata": {
        "colab": {
          "base_uri": "https://localhost:8080/",
          "height": 270
        },
        "id": "3FQMt0UDVbwC",
        "outputId": "5bd02b47-1f68-4ecd-b657-d12a5ba26cad"
      },
      "execution_count": 806,
      "outputs": [
        {
          "output_type": "execute_result",
          "data": {
            "text/html": [
              "\n",
              "  <div id=\"df-5cb4735e-fbb0-4351-b5d8-dacf8ec62a96\">\n",
              "    <div class=\"colab-df-container\">\n",
              "      <div>\n",
              "<style scoped>\n",
              "    .dataframe tbody tr th:only-of-type {\n",
              "        vertical-align: middle;\n",
              "    }\n",
              "\n",
              "    .dataframe tbody tr th {\n",
              "        vertical-align: top;\n",
              "    }\n",
              "\n",
              "    .dataframe thead th {\n",
              "        text-align: right;\n",
              "    }\n",
              "</style>\n",
              "<table border=\"1\" class=\"dataframe\">\n",
              "  <thead>\n",
              "    <tr style=\"text-align: right;\">\n",
              "      <th></th>\n",
              "      <th>acousticness</th>\n",
              "      <th>danceability</th>\n",
              "      <th>energy</th>\n",
              "      <th>key</th>\n",
              "      <th>liveness</th>\n",
              "      <th>loudness</th>\n",
              "      <th>audio_mode</th>\n",
              "      <th>speechiness</th>\n",
              "      <th>tempo</th>\n",
              "      <th>time_signature</th>\n",
              "      <th>audio_valence</th>\n",
              "      <th>log_ins</th>\n",
              "      <th>song_duration_m</th>\n",
              "      <th>song_popularity</th>\n",
              "      <th>log_ins_cont</th>\n",
              "      <th>song_duration_m_cont</th>\n",
              "      <th>tempo_cont</th>\n",
              "      <th>energy_cont</th>\n",
              "      <th>is_live</th>\n",
              "      <th>speechiness_level</th>\n",
              "      <th>valence</th>\n",
              "      <th>bpm</th>\n",
              "      <th>f1</th>\n",
              "      <th>f2</th>\n",
              "      <th>cluster1</th>\n",
              "      <th>cluster2</th>\n",
              "      <th>cluster3</th>\n",
              "      <th>cluster4</th>\n",
              "      <th>cluster5</th>\n",
              "      <th>cluster6</th>\n",
              "      <th>cluster7</th>\n",
              "      <th>cluster8</th>\n",
              "      <th>cluster9</th>\n",
              "      <th>cluster10</th>\n",
              "    </tr>\n",
              "  </thead>\n",
              "  <tbody>\n",
              "    <tr>\n",
              "      <th>30153</th>\n",
              "      <td>0.189149</td>\n",
              "      <td>0.806153</td>\n",
              "      <td>6.0</td>\n",
              "      <td>1.0</td>\n",
              "      <td>0.135767</td>\n",
              "      <td>-5.629497</td>\n",
              "      <td>1</td>\n",
              "      <td>0.050399</td>\n",
              "      <td>4.0</td>\n",
              "      <td>3</td>\n",
              "      <td>0.753350</td>\n",
              "      <td>5.0</td>\n",
              "      <td>2.0</td>\n",
              "      <td>0</td>\n",
              "      <td>-5.516991</td>\n",
              "      <td>3.002300</td>\n",
              "      <td>143.756960</td>\n",
              "      <td>0.815240</td>\n",
              "      <td>0</td>\n",
              "      <td>0.0</td>\n",
              "      <td>2.0</td>\n",
              "      <td>80.0</td>\n",
              "      <td>-4.240982</td>\n",
              "      <td>0.470787</td>\n",
              "      <td>10.333799</td>\n",
              "      <td>49.436232</td>\n",
              "      <td>18.049687</td>\n",
              "      <td>43.746733</td>\n",
              "      <td>63.818396</td>\n",
              "      <td>26.919314</td>\n",
              "      <td>27.667553</td>\n",
              "      <td>40.160336</td>\n",
              "      <td>52.770792</td>\n",
              "      <td>3.642590</td>\n",
              "    </tr>\n",
              "    <tr>\n",
              "      <th>20071</th>\n",
              "      <td>0.079342</td>\n",
              "      <td>0.842487</td>\n",
              "      <td>4.0</td>\n",
              "      <td>7.0</td>\n",
              "      <td>0.102615</td>\n",
              "      <td>-7.994405</td>\n",
              "      <td>0</td>\n",
              "      <td>0.149740</td>\n",
              "      <td>1.0</td>\n",
              "      <td>4</td>\n",
              "      <td>0.951112</td>\n",
              "      <td>5.0</td>\n",
              "      <td>2.0</td>\n",
              "      <td>1</td>\n",
              "      <td>-5.659638</td>\n",
              "      <td>2.504217</td>\n",
              "      <td>94.998272</td>\n",
              "      <td>0.579820</td>\n",
              "      <td>0</td>\n",
              "      <td>1.0</td>\n",
              "      <td>2.0</td>\n",
              "      <td>60.0</td>\n",
              "      <td>-7.603571</td>\n",
              "      <td>0.386311</td>\n",
              "      <td>58.663539</td>\n",
              "      <td>4.490733</td>\n",
              "      <td>31.074022</td>\n",
              "      <td>92.623363</td>\n",
              "      <td>15.349786</td>\n",
              "      <td>75.807783</td>\n",
              "      <td>21.709472</td>\n",
              "      <td>9.496824</td>\n",
              "      <td>7.531903</td>\n",
              "      <td>45.922894</td>\n",
              "    </tr>\n",
              "    <tr>\n",
              "      <th>37304</th>\n",
              "      <td>0.215032</td>\n",
              "      <td>0.641555</td>\n",
              "      <td>5.0</td>\n",
              "      <td>5.0</td>\n",
              "      <td>0.215612</td>\n",
              "      <td>-4.742182</td>\n",
              "      <td>0</td>\n",
              "      <td>0.038253</td>\n",
              "      <td>2.0</td>\n",
              "      <td>3</td>\n",
              "      <td>0.661293</td>\n",
              "      <td>4.0</td>\n",
              "      <td>2.0</td>\n",
              "      <td>1</td>\n",
              "      <td>-6.966546</td>\n",
              "      <td>2.871717</td>\n",
              "      <td>106.486555</td>\n",
              "      <td>0.687383</td>\n",
              "      <td>0</td>\n",
              "      <td>0.0</td>\n",
              "      <td>1.0</td>\n",
              "      <td>80.0</td>\n",
              "      <td>-3.135970</td>\n",
              "      <td>0.516184</td>\n",
              "      <td>47.251759</td>\n",
              "      <td>12.289457</td>\n",
              "      <td>19.473266</td>\n",
              "      <td>81.017462</td>\n",
              "      <td>26.874712</td>\n",
              "      <td>64.177167</td>\n",
              "      <td>9.737201</td>\n",
              "      <td>3.867967</td>\n",
              "      <td>17.845832</td>\n",
              "      <td>34.409068</td>\n",
              "    </tr>\n",
              "    <tr>\n",
              "      <th>22684</th>\n",
              "      <td>0.021284</td>\n",
              "      <td>0.449611</td>\n",
              "      <td>7.0</td>\n",
              "      <td>4.0</td>\n",
              "      <td>0.161359</td>\n",
              "      <td>-5.498508</td>\n",
              "      <td>1</td>\n",
              "      <td>0.042637</td>\n",
              "      <td>2.0</td>\n",
              "      <td>4</td>\n",
              "      <td>0.555487</td>\n",
              "      <td>4.0</td>\n",
              "      <td>3.0</td>\n",
              "      <td>0</td>\n",
              "      <td>-6.489760</td>\n",
              "      <td>3.450600</td>\n",
              "      <td>101.552223</td>\n",
              "      <td>0.944502</td>\n",
              "      <td>0</td>\n",
              "      <td>0.0</td>\n",
              "      <td>1.0</td>\n",
              "      <td>60.0</td>\n",
              "      <td>-3.054352</td>\n",
              "      <td>0.573793</td>\n",
              "      <td>52.177251</td>\n",
              "      <td>7.577074</td>\n",
              "      <td>24.375986</td>\n",
              "      <td>85.939088</td>\n",
              "      <td>22.080947</td>\n",
              "      <td>69.105513</td>\n",
              "      <td>14.629021</td>\n",
              "      <td>3.520291</td>\n",
              "      <td>14.000297</td>\n",
              "      <td>39.334675</td>\n",
              "    </tr>\n",
              "    <tr>\n",
              "      <th>36056</th>\n",
              "      <td>0.401394</td>\n",
              "      <td>0.736810</td>\n",
              "      <td>5.0</td>\n",
              "      <td>5.0</td>\n",
              "      <td>0.128625</td>\n",
              "      <td>-8.016616</td>\n",
              "      <td>1</td>\n",
              "      <td>0.072136</td>\n",
              "      <td>1.0</td>\n",
              "      <td>3</td>\n",
              "      <td>0.370660</td>\n",
              "      <td>5.0</td>\n",
              "      <td>2.0</td>\n",
              "      <td>1</td>\n",
              "      <td>-5.752300</td>\n",
              "      <td>2.937650</td>\n",
              "      <td>99.505918</td>\n",
              "      <td>0.633134</td>\n",
              "      <td>0</td>\n",
              "      <td>0.0</td>\n",
              "      <td>1.0</td>\n",
              "      <td>80.0</td>\n",
              "      <td>-2.971438</td>\n",
              "      <td>0.690279</td>\n",
              "      <td>54.078761</td>\n",
              "      <td>5.536958</td>\n",
              "      <td>26.329486</td>\n",
              "      <td>87.985873</td>\n",
              "      <td>19.548899</td>\n",
              "      <td>71.159199</td>\n",
              "      <td>16.827478</td>\n",
              "      <td>4.433326</td>\n",
              "      <td>10.396035</td>\n",
              "      <td>41.288507</td>\n",
              "    </tr>\n",
              "  </tbody>\n",
              "</table>\n",
              "</div>\n",
              "      <button class=\"colab-df-convert\" onclick=\"convertToInteractive('df-5cb4735e-fbb0-4351-b5d8-dacf8ec62a96')\"\n",
              "              title=\"Convert this dataframe to an interactive table.\"\n",
              "              style=\"display:none;\">\n",
              "        \n",
              "  <svg xmlns=\"http://www.w3.org/2000/svg\" height=\"24px\"viewBox=\"0 0 24 24\"\n",
              "       width=\"24px\">\n",
              "    <path d=\"M0 0h24v24H0V0z\" fill=\"none\"/>\n",
              "    <path d=\"M18.56 5.44l.94 2.06.94-2.06 2.06-.94-2.06-.94-.94-2.06-.94 2.06-2.06.94zm-11 1L8.5 8.5l.94-2.06 2.06-.94-2.06-.94L8.5 2.5l-.94 2.06-2.06.94zm10 10l.94 2.06.94-2.06 2.06-.94-2.06-.94-.94-2.06-.94 2.06-2.06.94z\"/><path d=\"M17.41 7.96l-1.37-1.37c-.4-.4-.92-.59-1.43-.59-.52 0-1.04.2-1.43.59L10.3 9.45l-7.72 7.72c-.78.78-.78 2.05 0 2.83L4 21.41c.39.39.9.59 1.41.59.51 0 1.02-.2 1.41-.59l7.78-7.78 2.81-2.81c.8-.78.8-2.07 0-2.86zM5.41 20L4 18.59l7.72-7.72 1.47 1.35L5.41 20z\"/>\n",
              "  </svg>\n",
              "      </button>\n",
              "      \n",
              "  <style>\n",
              "    .colab-df-container {\n",
              "      display:flex;\n",
              "      flex-wrap:wrap;\n",
              "      gap: 12px;\n",
              "    }\n",
              "\n",
              "    .colab-df-convert {\n",
              "      background-color: #E8F0FE;\n",
              "      border: none;\n",
              "      border-radius: 50%;\n",
              "      cursor: pointer;\n",
              "      display: none;\n",
              "      fill: #1967D2;\n",
              "      height: 32px;\n",
              "      padding: 0 0 0 0;\n",
              "      width: 32px;\n",
              "    }\n",
              "\n",
              "    .colab-df-convert:hover {\n",
              "      background-color: #E2EBFA;\n",
              "      box-shadow: 0px 1px 2px rgba(60, 64, 67, 0.3), 0px 1px 3px 1px rgba(60, 64, 67, 0.15);\n",
              "      fill: #174EA6;\n",
              "    }\n",
              "\n",
              "    [theme=dark] .colab-df-convert {\n",
              "      background-color: #3B4455;\n",
              "      fill: #D2E3FC;\n",
              "    }\n",
              "\n",
              "    [theme=dark] .colab-df-convert:hover {\n",
              "      background-color: #434B5C;\n",
              "      box-shadow: 0px 1px 3px 1px rgba(0, 0, 0, 0.15);\n",
              "      filter: drop-shadow(0px 1px 2px rgba(0, 0, 0, 0.3));\n",
              "      fill: #FFFFFF;\n",
              "    }\n",
              "  </style>\n",
              "\n",
              "      <script>\n",
              "        const buttonEl =\n",
              "          document.querySelector('#df-5cb4735e-fbb0-4351-b5d8-dacf8ec62a96 button.colab-df-convert');\n",
              "        buttonEl.style.display =\n",
              "          google.colab.kernel.accessAllowed ? 'block' : 'none';\n",
              "\n",
              "        async function convertToInteractive(key) {\n",
              "          const element = document.querySelector('#df-5cb4735e-fbb0-4351-b5d8-dacf8ec62a96');\n",
              "          const dataTable =\n",
              "            await google.colab.kernel.invokeFunction('convertToInteractive',\n",
              "                                                     [key], {});\n",
              "          if (!dataTable) return;\n",
              "\n",
              "          const docLinkHtml = 'Like what you see? Visit the ' +\n",
              "            '<a target=\"_blank\" href=https://colab.research.google.com/notebooks/data_table.ipynb>data table notebook</a>'\n",
              "            + ' to learn more about interactive tables.';\n",
              "          element.innerHTML = '';\n",
              "          dataTable['output_type'] = 'display_data';\n",
              "          await google.colab.output.renderOutput(dataTable, element);\n",
              "          const docLink = document.createElement('div');\n",
              "          docLink.innerHTML = docLinkHtml;\n",
              "          element.appendChild(docLink);\n",
              "        }\n",
              "      </script>\n",
              "    </div>\n",
              "  </div>\n",
              "  "
            ],
            "text/plain": [
              "       acousticness  danceability  energy  ...   cluster8   cluster9  cluster10\n",
              "30153      0.189149      0.806153     6.0  ...  40.160336  52.770792   3.642590\n",
              "20071      0.079342      0.842487     4.0  ...   9.496824   7.531903  45.922894\n",
              "37304      0.215032      0.641555     5.0  ...   3.867967  17.845832  34.409068\n",
              "22684      0.021284      0.449611     7.0  ...   3.520291  14.000297  39.334675\n",
              "36056      0.401394      0.736810     5.0  ...   4.433326  10.396035  41.288507\n",
              "\n",
              "[5 rows x 34 columns]"
            ]
          },
          "metadata": {},
          "execution_count": 806
        }
      ]
    },
    {
      "cell_type": "code",
      "source": [
        "x_cd = kmeans.transform(t_kbd[cont_cols]) # dont fit for test\n",
        "x_cd = pd.DataFrame(x_cd, columns=cluster_cols, index=t_kbd.index)\n",
        "t_kbd = pd.concat([t_kbd,x_cd], axis=1)\n",
        "t_kbd.head()"
      ],
      "metadata": {
        "colab": {
          "base_uri": "https://localhost:8080/",
          "height": 302
        },
        "id": "55hyOk09ogzq",
        "outputId": "fc1f88df-e4ba-4064-d9f8-e2b3ad1f56b1"
      },
      "execution_count": 807,
      "outputs": [
        {
          "output_type": "execute_result",
          "data": {
            "text/html": [
              "\n",
              "  <div id=\"df-eddac24f-0457-4a9f-a0c6-d473dbce44d5\">\n",
              "    <div class=\"colab-df-container\">\n",
              "      <div>\n",
              "<style scoped>\n",
              "    .dataframe tbody tr th:only-of-type {\n",
              "        vertical-align: middle;\n",
              "    }\n",
              "\n",
              "    .dataframe tbody tr th {\n",
              "        vertical-align: top;\n",
              "    }\n",
              "\n",
              "    .dataframe thead th {\n",
              "        text-align: right;\n",
              "    }\n",
              "</style>\n",
              "<table border=\"1\" class=\"dataframe\">\n",
              "  <thead>\n",
              "    <tr style=\"text-align: right;\">\n",
              "      <th></th>\n",
              "      <th>acousticness</th>\n",
              "      <th>danceability</th>\n",
              "      <th>energy</th>\n",
              "      <th>key</th>\n",
              "      <th>liveness</th>\n",
              "      <th>loudness</th>\n",
              "      <th>audio_mode</th>\n",
              "      <th>speechiness</th>\n",
              "      <th>tempo</th>\n",
              "      <th>time_signature</th>\n",
              "      <th>audio_valence</th>\n",
              "      <th>log_ins</th>\n",
              "      <th>song_duration_m</th>\n",
              "      <th>log_ins_cont</th>\n",
              "      <th>song_duration_m_cont</th>\n",
              "      <th>tempo_cont</th>\n",
              "      <th>energy_cont</th>\n",
              "      <th>is_live</th>\n",
              "      <th>speechiness_level</th>\n",
              "      <th>valence</th>\n",
              "      <th>bpm</th>\n",
              "      <th>f1</th>\n",
              "      <th>f2</th>\n",
              "      <th>cluster1</th>\n",
              "      <th>cluster2</th>\n",
              "      <th>cluster3</th>\n",
              "      <th>cluster4</th>\n",
              "      <th>cluster5</th>\n",
              "      <th>cluster6</th>\n",
              "      <th>cluster7</th>\n",
              "      <th>cluster8</th>\n",
              "      <th>cluster9</th>\n",
              "      <th>cluster10</th>\n",
              "    </tr>\n",
              "    <tr>\n",
              "      <th>id</th>\n",
              "      <th></th>\n",
              "      <th></th>\n",
              "      <th></th>\n",
              "      <th></th>\n",
              "      <th></th>\n",
              "      <th></th>\n",
              "      <th></th>\n",
              "      <th></th>\n",
              "      <th></th>\n",
              "      <th></th>\n",
              "      <th></th>\n",
              "      <th></th>\n",
              "      <th></th>\n",
              "      <th></th>\n",
              "      <th></th>\n",
              "      <th></th>\n",
              "      <th></th>\n",
              "      <th></th>\n",
              "      <th></th>\n",
              "      <th></th>\n",
              "      <th></th>\n",
              "      <th></th>\n",
              "      <th></th>\n",
              "      <th></th>\n",
              "      <th></th>\n",
              "      <th></th>\n",
              "      <th></th>\n",
              "      <th></th>\n",
              "      <th></th>\n",
              "      <th></th>\n",
              "      <th></th>\n",
              "      <th></th>\n",
              "      <th></th>\n",
              "    </tr>\n",
              "  </thead>\n",
              "  <tbody>\n",
              "    <tr>\n",
              "      <th>0</th>\n",
              "      <td>0.019845</td>\n",
              "      <td>0.501230</td>\n",
              "      <td>7.0</td>\n",
              "      <td>3.0</td>\n",
              "      <td>0.112832</td>\n",
              "      <td>-8.890172</td>\n",
              "      <td>0</td>\n",
              "      <td>0.082714</td>\n",
              "      <td>3.0</td>\n",
              "      <td>4</td>\n",
              "      <td>0.399620</td>\n",
              "      <td>4.0</td>\n",
              "      <td>4.0</td>\n",
              "      <td>-6.544156</td>\n",
              "      <td>5.142050</td>\n",
              "      <td>126.129304</td>\n",
              "      <td>0.908939</td>\n",
              "      <td>0</td>\n",
              "      <td>0.0</td>\n",
              "      <td>1.0</td>\n",
              "      <td>60.0</td>\n",
              "      <td>-3.552694</td>\n",
              "      <td>0.670575</td>\n",
              "      <td>27.649298</td>\n",
              "      <td>32.015641</td>\n",
              "      <td>3.373049</td>\n",
              "      <td>61.438657</td>\n",
              "      <td>46.221957</td>\n",
              "      <td>44.651881</td>\n",
              "      <td>10.837090</td>\n",
              "      <td>22.749756</td>\n",
              "      <td>35.144574</td>\n",
              "      <td>15.025581</td>\n",
              "    </tr>\n",
              "    <tr>\n",
              "      <th>1</th>\n",
              "      <td>0.070119</td>\n",
              "      <td>0.731256</td>\n",
              "      <td>3.0</td>\n",
              "      <td>7.0</td>\n",
              "      <td>0.139040</td>\n",
              "      <td>-6.301214</td>\n",
              "      <td>0</td>\n",
              "      <td>0.061685</td>\n",
              "      <td>1.0</td>\n",
              "      <td>3</td>\n",
              "      <td>0.499424</td>\n",
              "      <td>4.0</td>\n",
              "      <td>2.0</td>\n",
              "      <td>-6.204810</td>\n",
              "      <td>3.333517</td>\n",
              "      <td>86.448149</td>\n",
              "      <td>0.444655</td>\n",
              "      <td>0</td>\n",
              "      <td>0.0</td>\n",
              "      <td>1.0</td>\n",
              "      <td>80.0</td>\n",
              "      <td>-3.146980</td>\n",
              "      <td>0.606880</td>\n",
              "      <td>67.174826</td>\n",
              "      <td>8.173560</td>\n",
              "      <td>39.415797</td>\n",
              "      <td>101.060749</td>\n",
              "      <td>7.210599</td>\n",
              "      <td>84.227168</td>\n",
              "      <td>29.801900</td>\n",
              "      <td>17.344971</td>\n",
              "      <td>9.862288</td>\n",
              "      <td>54.373381</td>\n",
              "    </tr>\n",
              "    <tr>\n",
              "      <th>2</th>\n",
              "      <td>0.810637</td>\n",
              "      <td>0.568858</td>\n",
              "      <td>1.0</td>\n",
              "      <td>0.0</td>\n",
              "      <td>0.226614</td>\n",
              "      <td>-11.542478</td>\n",
              "      <td>0</td>\n",
              "      <td>0.041868</td>\n",
              "      <td>1.0</td>\n",
              "      <td>3</td>\n",
              "      <td>0.564951</td>\n",
              "      <td>7.0</td>\n",
              "      <td>4.0</td>\n",
              "      <td>-0.106649</td>\n",
              "      <td>4.662633</td>\n",
              "      <td>99.544351</td>\n",
              "      <td>0.125466</td>\n",
              "      <td>0</td>\n",
              "      <td>0.0</td>\n",
              "      <td>1.0</td>\n",
              "      <td>80.0</td>\n",
              "      <td>-6.520930</td>\n",
              "      <td>0.568388</td>\n",
              "      <td>54.590596</td>\n",
              "      <td>10.842973</td>\n",
              "      <td>27.777777</td>\n",
              "      <td>88.462112</td>\n",
              "      <td>20.750667</td>\n",
              "      <td>71.775911</td>\n",
              "      <td>19.501968</td>\n",
              "      <td>9.901096</td>\n",
              "      <td>9.894449</td>\n",
              "      <td>42.128854</td>\n",
              "    </tr>\n",
              "    <tr>\n",
              "      <th>3</th>\n",
              "      <td>0.332922</td>\n",
              "      <td>0.871789</td>\n",
              "      <td>4.0</td>\n",
              "      <td>2.0</td>\n",
              "      <td>0.325391</td>\n",
              "      <td>-7.905546</td>\n",
              "      <td>1</td>\n",
              "      <td>0.046815</td>\n",
              "      <td>3.0</td>\n",
              "      <td>4</td>\n",
              "      <td>0.906485</td>\n",
              "      <td>4.0</td>\n",
              "      <td>3.0</td>\n",
              "      <td>-7.243249</td>\n",
              "      <td>4.153283</td>\n",
              "      <td>123.063854</td>\n",
              "      <td>0.557342</td>\n",
              "      <td>0</td>\n",
              "      <td>0.0</td>\n",
              "      <td>2.0</td>\n",
              "      <td>60.0</td>\n",
              "      <td>-7.166262</td>\n",
              "      <td>0.403941</td>\n",
              "      <td>30.684839</td>\n",
              "      <td>29.020531</td>\n",
              "      <td>4.802155</td>\n",
              "      <td>64.605068</td>\n",
              "      <td>43.147196</td>\n",
              "      <td>47.812046</td>\n",
              "      <td>8.484492</td>\n",
              "      <td>19.763463</td>\n",
              "      <td>32.085858</td>\n",
              "      <td>18.067148</td>\n",
              "    </tr>\n",
              "    <tr>\n",
              "      <th>4</th>\n",
              "      <td>0.765568</td>\n",
              "      <td>0.624687</td>\n",
              "      <td>5.0</td>\n",
              "      <td>5.0</td>\n",
              "      <td>0.308284</td>\n",
              "      <td>-7.683531</td>\n",
              "      <td>0</td>\n",
              "      <td>0.129284</td>\n",
              "      <td>1.0</td>\n",
              "      <td>3</td>\n",
              "      <td>0.935571</td>\n",
              "      <td>3.0</td>\n",
              "      <td>2.0</td>\n",
              "      <td>-7.967652</td>\n",
              "      <td>3.078807</td>\n",
              "      <td>88.703121</td>\n",
              "      <td>0.710794</td>\n",
              "      <td>0</td>\n",
              "      <td>0.0</td>\n",
              "      <td>2.0</td>\n",
              "      <td>80.0</td>\n",
              "      <td>-7.188492</td>\n",
              "      <td>0.392362</td>\n",
              "      <td>64.963313</td>\n",
              "      <td>7.013264</td>\n",
              "      <td>37.302402</td>\n",
              "      <td>98.896715</td>\n",
              "      <td>9.592679</td>\n",
              "      <td>82.068168</td>\n",
              "      <td>27.796333</td>\n",
              "      <td>15.398375</td>\n",
              "      <td>8.367389</td>\n",
              "      <td>52.197778</td>\n",
              "    </tr>\n",
              "  </tbody>\n",
              "</table>\n",
              "</div>\n",
              "      <button class=\"colab-df-convert\" onclick=\"convertToInteractive('df-eddac24f-0457-4a9f-a0c6-d473dbce44d5')\"\n",
              "              title=\"Convert this dataframe to an interactive table.\"\n",
              "              style=\"display:none;\">\n",
              "        \n",
              "  <svg xmlns=\"http://www.w3.org/2000/svg\" height=\"24px\"viewBox=\"0 0 24 24\"\n",
              "       width=\"24px\">\n",
              "    <path d=\"M0 0h24v24H0V0z\" fill=\"none\"/>\n",
              "    <path d=\"M18.56 5.44l.94 2.06.94-2.06 2.06-.94-2.06-.94-.94-2.06-.94 2.06-2.06.94zm-11 1L8.5 8.5l.94-2.06 2.06-.94-2.06-.94L8.5 2.5l-.94 2.06-2.06.94zm10 10l.94 2.06.94-2.06 2.06-.94-2.06-.94-.94-2.06-.94 2.06-2.06.94z\"/><path d=\"M17.41 7.96l-1.37-1.37c-.4-.4-.92-.59-1.43-.59-.52 0-1.04.2-1.43.59L10.3 9.45l-7.72 7.72c-.78.78-.78 2.05 0 2.83L4 21.41c.39.39.9.59 1.41.59.51 0 1.02-.2 1.41-.59l7.78-7.78 2.81-2.81c.8-.78.8-2.07 0-2.86zM5.41 20L4 18.59l7.72-7.72 1.47 1.35L5.41 20z\"/>\n",
              "  </svg>\n",
              "      </button>\n",
              "      \n",
              "  <style>\n",
              "    .colab-df-container {\n",
              "      display:flex;\n",
              "      flex-wrap:wrap;\n",
              "      gap: 12px;\n",
              "    }\n",
              "\n",
              "    .colab-df-convert {\n",
              "      background-color: #E8F0FE;\n",
              "      border: none;\n",
              "      border-radius: 50%;\n",
              "      cursor: pointer;\n",
              "      display: none;\n",
              "      fill: #1967D2;\n",
              "      height: 32px;\n",
              "      padding: 0 0 0 0;\n",
              "      width: 32px;\n",
              "    }\n",
              "\n",
              "    .colab-df-convert:hover {\n",
              "      background-color: #E2EBFA;\n",
              "      box-shadow: 0px 1px 2px rgba(60, 64, 67, 0.3), 0px 1px 3px 1px rgba(60, 64, 67, 0.15);\n",
              "      fill: #174EA6;\n",
              "    }\n",
              "\n",
              "    [theme=dark] .colab-df-convert {\n",
              "      background-color: #3B4455;\n",
              "      fill: #D2E3FC;\n",
              "    }\n",
              "\n",
              "    [theme=dark] .colab-df-convert:hover {\n",
              "      background-color: #434B5C;\n",
              "      box-shadow: 0px 1px 3px 1px rgba(0, 0, 0, 0.15);\n",
              "      filter: drop-shadow(0px 1px 2px rgba(0, 0, 0, 0.3));\n",
              "      fill: #FFFFFF;\n",
              "    }\n",
              "  </style>\n",
              "\n",
              "      <script>\n",
              "        const buttonEl =\n",
              "          document.querySelector('#df-eddac24f-0457-4a9f-a0c6-d473dbce44d5 button.colab-df-convert');\n",
              "        buttonEl.style.display =\n",
              "          google.colab.kernel.accessAllowed ? 'block' : 'none';\n",
              "\n",
              "        async function convertToInteractive(key) {\n",
              "          const element = document.querySelector('#df-eddac24f-0457-4a9f-a0c6-d473dbce44d5');\n",
              "          const dataTable =\n",
              "            await google.colab.kernel.invokeFunction('convertToInteractive',\n",
              "                                                     [key], {});\n",
              "          if (!dataTable) return;\n",
              "\n",
              "          const docLinkHtml = 'Like what you see? Visit the ' +\n",
              "            '<a target=\"_blank\" href=https://colab.research.google.com/notebooks/data_table.ipynb>data table notebook</a>'\n",
              "            + ' to learn more about interactive tables.';\n",
              "          element.innerHTML = '';\n",
              "          dataTable['output_type'] = 'display_data';\n",
              "          await google.colab.output.renderOutput(dataTable, element);\n",
              "          const docLink = document.createElement('div');\n",
              "          docLink.innerHTML = docLinkHtml;\n",
              "          element.appendChild(docLink);\n",
              "        }\n",
              "      </script>\n",
              "    </div>\n",
              "  </div>\n",
              "  "
            ],
            "text/plain": [
              "    acousticness  danceability  energy  ...   cluster8   cluster9  cluster10\n",
              "id                                      ...                                 \n",
              "0       0.019845      0.501230     7.0  ...  22.749756  35.144574  15.025581\n",
              "1       0.070119      0.731256     3.0  ...  17.344971   9.862288  54.373381\n",
              "2       0.810637      0.568858     1.0  ...   9.901096   9.894449  42.128854\n",
              "3       0.332922      0.871789     4.0  ...  19.763463  32.085858  18.067148\n",
              "4       0.765568      0.624687     5.0  ...  15.398375   8.367389  52.197778\n",
              "\n",
              "[5 rows x 33 columns]"
            ]
          },
          "metadata": {},
          "execution_count": 807
        }
      ]
    },
    {
      "cell_type": "code",
      "source": [
        "feature_cols += cluster_cols"
      ],
      "metadata": {
        "id": "EaeFW4IEccrT"
      },
      "execution_count": 808,
      "outputs": []
    },
    {
      "cell_type": "code",
      "source": [
        "cont_cols += cluster_cols"
      ],
      "metadata": {
        "id": "nvGWG8e7cwM5"
      },
      "execution_count": 809,
      "outputs": []
    },
    {
      "cell_type": "code",
      "source": [
        "cont_cols"
      ],
      "metadata": {
        "colab": {
          "base_uri": "https://localhost:8080/"
        },
        "id": "Ei7OYxkqcfWT",
        "outputId": "486b4fad-1d04-46ae-ec76-f3bd51adc56c"
      },
      "execution_count": 810,
      "outputs": [
        {
          "output_type": "execute_result",
          "data": {
            "text/plain": [
              "['acousticness',\n",
              " 'danceability',\n",
              " 'energy',\n",
              " 'liveness',\n",
              " 'loudness',\n",
              " 'speechiness',\n",
              " 'audio_valence',\n",
              " 'log_ins_cont',\n",
              " 'song_duration_m_cont',\n",
              " 'tempo_cont',\n",
              " 'energy_cont',\n",
              " 'f1',\n",
              " 'f2',\n",
              " 'cluster1',\n",
              " 'cluster2',\n",
              " 'cluster3',\n",
              " 'cluster4',\n",
              " 'cluster5',\n",
              " 'cluster6',\n",
              " 'cluster7',\n",
              " 'cluster8',\n",
              " 'cluster9',\n",
              " 'cluster10']"
            ]
          },
          "metadata": {},
          "execution_count": 810
        }
      ]
    },
    {
      "cell_type": "markdown",
      "source": [
        "# Cluster as number"
      ],
      "metadata": {
        "id": "iVhOOSJIYskf"
      }
    },
    {
      "cell_type": "code",
      "source": [
        "n_clusters = 10\n",
        "kmeans = KMeans(n_clusters=n_clusters, n_init=20, random_state=1)"
      ],
      "metadata": {
        "id": "zaCHEE30YuJf"
      },
      "execution_count": 811,
      "outputs": []
    },
    {
      "cell_type": "code",
      "source": [
        "cluster_col = ['year_cluster']\n",
        "kmeans.fit(x_kbd[cont_cols])\n",
        "x_c = kmeans.predict(x_kbd[cont_cols])"
      ],
      "metadata": {
        "id": "3TSFUegEYxiN"
      },
      "execution_count": 812,
      "outputs": []
    },
    {
      "cell_type": "code",
      "source": [
        "x_c = pd.DataFrame(x_c, columns=cluster_col, index=x_kbd.index)"
      ],
      "metadata": {
        "id": "t3FSfltrZ7gu"
      },
      "execution_count": 813,
      "outputs": []
    },
    {
      "cell_type": "code",
      "source": [
        "x_kbd = pd.concat([x_kbd,x_c], axis=1)"
      ],
      "metadata": {
        "id": "CmAZF7HnZ6iI"
      },
      "execution_count": 814,
      "outputs": []
    },
    {
      "cell_type": "code",
      "source": [
        "x_kbd.notna().sum()"
      ],
      "metadata": {
        "colab": {
          "base_uri": "https://localhost:8080/"
        },
        "id": "J--MxgyhZndI",
        "outputId": "0e4e4d92-58ae-4354-be7b-5d2ce04b3898"
      },
      "execution_count": 815,
      "outputs": [
        {
          "output_type": "execute_result",
          "data": {
            "text/plain": [
              "acousticness            31832\n",
              "danceability            31832\n",
              "energy                  31832\n",
              "key                     31832\n",
              "liveness                31832\n",
              "loudness                31832\n",
              "audio_mode              31832\n",
              "speechiness             31832\n",
              "tempo                   31832\n",
              "time_signature          31832\n",
              "audio_valence           31832\n",
              "log_ins                 31832\n",
              "song_duration_m         31832\n",
              "song_popularity         31832\n",
              "log_ins_cont            31832\n",
              "song_duration_m_cont    31832\n",
              "tempo_cont              31832\n",
              "energy_cont             31832\n",
              "is_live                 31832\n",
              "speechiness_level       31832\n",
              "valence                 31832\n",
              "bpm                     31832\n",
              "f1                      31832\n",
              "f2                      31832\n",
              "cluster1                31832\n",
              "cluster2                31832\n",
              "cluster3                31832\n",
              "cluster4                31832\n",
              "cluster5                31832\n",
              "cluster6                31832\n",
              "cluster7                31832\n",
              "cluster8                31832\n",
              "cluster9                31832\n",
              "cluster10               31832\n",
              "year_cluster            31832\n",
              "dtype: int64"
            ]
          },
          "metadata": {},
          "execution_count": 815
        }
      ]
    },
    {
      "cell_type": "code",
      "source": [
        "x_c = kmeans.predict(v_kbd[cont_cols])\n",
        "x_c = pd.DataFrame(x_c, columns=cluster_col, index=v_kbd.index)\n",
        "v_kbd = pd.concat([v_kbd,x_c], axis=1)\n",
        "v_kbd.head()"
      ],
      "metadata": {
        "colab": {
          "base_uri": "https://localhost:8080/",
          "height": 270
        },
        "id": "ud_PM4BfZGnz",
        "outputId": "4ffdb7ed-5508-44b6-8e12-1d6517f37ecd"
      },
      "execution_count": 816,
      "outputs": [
        {
          "output_type": "execute_result",
          "data": {
            "text/html": [
              "\n",
              "  <div id=\"df-972a29bb-53a3-4e9c-bc9a-459683e15aba\">\n",
              "    <div class=\"colab-df-container\">\n",
              "      <div>\n",
              "<style scoped>\n",
              "    .dataframe tbody tr th:only-of-type {\n",
              "        vertical-align: middle;\n",
              "    }\n",
              "\n",
              "    .dataframe tbody tr th {\n",
              "        vertical-align: top;\n",
              "    }\n",
              "\n",
              "    .dataframe thead th {\n",
              "        text-align: right;\n",
              "    }\n",
              "</style>\n",
              "<table border=\"1\" class=\"dataframe\">\n",
              "  <thead>\n",
              "    <tr style=\"text-align: right;\">\n",
              "      <th></th>\n",
              "      <th>acousticness</th>\n",
              "      <th>danceability</th>\n",
              "      <th>energy</th>\n",
              "      <th>key</th>\n",
              "      <th>liveness</th>\n",
              "      <th>loudness</th>\n",
              "      <th>audio_mode</th>\n",
              "      <th>speechiness</th>\n",
              "      <th>tempo</th>\n",
              "      <th>time_signature</th>\n",
              "      <th>audio_valence</th>\n",
              "      <th>log_ins</th>\n",
              "      <th>song_duration_m</th>\n",
              "      <th>song_popularity</th>\n",
              "      <th>log_ins_cont</th>\n",
              "      <th>song_duration_m_cont</th>\n",
              "      <th>tempo_cont</th>\n",
              "      <th>energy_cont</th>\n",
              "      <th>is_live</th>\n",
              "      <th>speechiness_level</th>\n",
              "      <th>valence</th>\n",
              "      <th>bpm</th>\n",
              "      <th>f1</th>\n",
              "      <th>f2</th>\n",
              "      <th>cluster1</th>\n",
              "      <th>cluster2</th>\n",
              "      <th>cluster3</th>\n",
              "      <th>cluster4</th>\n",
              "      <th>cluster5</th>\n",
              "      <th>cluster6</th>\n",
              "      <th>cluster7</th>\n",
              "      <th>cluster8</th>\n",
              "      <th>cluster9</th>\n",
              "      <th>cluster10</th>\n",
              "      <th>year_cluster</th>\n",
              "    </tr>\n",
              "  </thead>\n",
              "  <tbody>\n",
              "    <tr>\n",
              "      <th>30153</th>\n",
              "      <td>0.189149</td>\n",
              "      <td>0.806153</td>\n",
              "      <td>6.0</td>\n",
              "      <td>1.0</td>\n",
              "      <td>0.135767</td>\n",
              "      <td>-5.629497</td>\n",
              "      <td>1</td>\n",
              "      <td>0.050399</td>\n",
              "      <td>4.0</td>\n",
              "      <td>3</td>\n",
              "      <td>0.753350</td>\n",
              "      <td>5.0</td>\n",
              "      <td>2.0</td>\n",
              "      <td>0</td>\n",
              "      <td>-5.516991</td>\n",
              "      <td>3.002300</td>\n",
              "      <td>143.756960</td>\n",
              "      <td>0.815240</td>\n",
              "      <td>0</td>\n",
              "      <td>0.0</td>\n",
              "      <td>2.0</td>\n",
              "      <td>80.0</td>\n",
              "      <td>-4.240982</td>\n",
              "      <td>0.470787</td>\n",
              "      <td>10.333799</td>\n",
              "      <td>49.436232</td>\n",
              "      <td>18.049687</td>\n",
              "      <td>43.746733</td>\n",
              "      <td>63.818396</td>\n",
              "      <td>26.919314</td>\n",
              "      <td>27.667553</td>\n",
              "      <td>40.160336</td>\n",
              "      <td>52.770792</td>\n",
              "      <td>3.642590</td>\n",
              "      <td>7</td>\n",
              "    </tr>\n",
              "    <tr>\n",
              "      <th>20071</th>\n",
              "      <td>0.079342</td>\n",
              "      <td>0.842487</td>\n",
              "      <td>4.0</td>\n",
              "      <td>7.0</td>\n",
              "      <td>0.102615</td>\n",
              "      <td>-7.994405</td>\n",
              "      <td>0</td>\n",
              "      <td>0.149740</td>\n",
              "      <td>1.0</td>\n",
              "      <td>4</td>\n",
              "      <td>0.951112</td>\n",
              "      <td>5.0</td>\n",
              "      <td>2.0</td>\n",
              "      <td>1</td>\n",
              "      <td>-5.659638</td>\n",
              "      <td>2.504217</td>\n",
              "      <td>94.998272</td>\n",
              "      <td>0.579820</td>\n",
              "      <td>0</td>\n",
              "      <td>1.0</td>\n",
              "      <td>2.0</td>\n",
              "      <td>60.0</td>\n",
              "      <td>-7.603571</td>\n",
              "      <td>0.386311</td>\n",
              "      <td>58.663539</td>\n",
              "      <td>4.490733</td>\n",
              "      <td>31.074022</td>\n",
              "      <td>92.623363</td>\n",
              "      <td>15.349786</td>\n",
              "      <td>75.807783</td>\n",
              "      <td>21.709472</td>\n",
              "      <td>9.496824</td>\n",
              "      <td>7.531903</td>\n",
              "      <td>45.922894</td>\n",
              "      <td>0</td>\n",
              "    </tr>\n",
              "    <tr>\n",
              "      <th>37304</th>\n",
              "      <td>0.215032</td>\n",
              "      <td>0.641555</td>\n",
              "      <td>5.0</td>\n",
              "      <td>5.0</td>\n",
              "      <td>0.215612</td>\n",
              "      <td>-4.742182</td>\n",
              "      <td>0</td>\n",
              "      <td>0.038253</td>\n",
              "      <td>2.0</td>\n",
              "      <td>3</td>\n",
              "      <td>0.661293</td>\n",
              "      <td>4.0</td>\n",
              "      <td>2.0</td>\n",
              "      <td>1</td>\n",
              "      <td>-6.966546</td>\n",
              "      <td>2.871717</td>\n",
              "      <td>106.486555</td>\n",
              "      <td>0.687383</td>\n",
              "      <td>0</td>\n",
              "      <td>0.0</td>\n",
              "      <td>1.0</td>\n",
              "      <td>80.0</td>\n",
              "      <td>-3.135970</td>\n",
              "      <td>0.516184</td>\n",
              "      <td>47.251759</td>\n",
              "      <td>12.289457</td>\n",
              "      <td>19.473266</td>\n",
              "      <td>81.017462</td>\n",
              "      <td>26.874712</td>\n",
              "      <td>64.177167</td>\n",
              "      <td>9.737201</td>\n",
              "      <td>3.867967</td>\n",
              "      <td>17.845832</td>\n",
              "      <td>34.409068</td>\n",
              "      <td>5</td>\n",
              "    </tr>\n",
              "    <tr>\n",
              "      <th>22684</th>\n",
              "      <td>0.021284</td>\n",
              "      <td>0.449611</td>\n",
              "      <td>7.0</td>\n",
              "      <td>4.0</td>\n",
              "      <td>0.161359</td>\n",
              "      <td>-5.498508</td>\n",
              "      <td>1</td>\n",
              "      <td>0.042637</td>\n",
              "      <td>2.0</td>\n",
              "      <td>4</td>\n",
              "      <td>0.555487</td>\n",
              "      <td>4.0</td>\n",
              "      <td>3.0</td>\n",
              "      <td>0</td>\n",
              "      <td>-6.489760</td>\n",
              "      <td>3.450600</td>\n",
              "      <td>101.552223</td>\n",
              "      <td>0.944502</td>\n",
              "      <td>0</td>\n",
              "      <td>0.0</td>\n",
              "      <td>1.0</td>\n",
              "      <td>60.0</td>\n",
              "      <td>-3.054352</td>\n",
              "      <td>0.573793</td>\n",
              "      <td>52.177251</td>\n",
              "      <td>7.577074</td>\n",
              "      <td>24.375986</td>\n",
              "      <td>85.939088</td>\n",
              "      <td>22.080947</td>\n",
              "      <td>69.105513</td>\n",
              "      <td>14.629021</td>\n",
              "      <td>3.520291</td>\n",
              "      <td>14.000297</td>\n",
              "      <td>39.334675</td>\n",
              "      <td>0</td>\n",
              "    </tr>\n",
              "    <tr>\n",
              "      <th>36056</th>\n",
              "      <td>0.401394</td>\n",
              "      <td>0.736810</td>\n",
              "      <td>5.0</td>\n",
              "      <td>5.0</td>\n",
              "      <td>0.128625</td>\n",
              "      <td>-8.016616</td>\n",
              "      <td>1</td>\n",
              "      <td>0.072136</td>\n",
              "      <td>1.0</td>\n",
              "      <td>3</td>\n",
              "      <td>0.370660</td>\n",
              "      <td>5.0</td>\n",
              "      <td>2.0</td>\n",
              "      <td>1</td>\n",
              "      <td>-5.752300</td>\n",
              "      <td>2.937650</td>\n",
              "      <td>99.505918</td>\n",
              "      <td>0.633134</td>\n",
              "      <td>0</td>\n",
              "      <td>0.0</td>\n",
              "      <td>1.0</td>\n",
              "      <td>80.0</td>\n",
              "      <td>-2.971438</td>\n",
              "      <td>0.690279</td>\n",
              "      <td>54.078761</td>\n",
              "      <td>5.536958</td>\n",
              "      <td>26.329486</td>\n",
              "      <td>87.985873</td>\n",
              "      <td>19.548899</td>\n",
              "      <td>71.159199</td>\n",
              "      <td>16.827478</td>\n",
              "      <td>4.433326</td>\n",
              "      <td>10.396035</td>\n",
              "      <td>41.288507</td>\n",
              "      <td>0</td>\n",
              "    </tr>\n",
              "  </tbody>\n",
              "</table>\n",
              "</div>\n",
              "      <button class=\"colab-df-convert\" onclick=\"convertToInteractive('df-972a29bb-53a3-4e9c-bc9a-459683e15aba')\"\n",
              "              title=\"Convert this dataframe to an interactive table.\"\n",
              "              style=\"display:none;\">\n",
              "        \n",
              "  <svg xmlns=\"http://www.w3.org/2000/svg\" height=\"24px\"viewBox=\"0 0 24 24\"\n",
              "       width=\"24px\">\n",
              "    <path d=\"M0 0h24v24H0V0z\" fill=\"none\"/>\n",
              "    <path d=\"M18.56 5.44l.94 2.06.94-2.06 2.06-.94-2.06-.94-.94-2.06-.94 2.06-2.06.94zm-11 1L8.5 8.5l.94-2.06 2.06-.94-2.06-.94L8.5 2.5l-.94 2.06-2.06.94zm10 10l.94 2.06.94-2.06 2.06-.94-2.06-.94-.94-2.06-.94 2.06-2.06.94z\"/><path d=\"M17.41 7.96l-1.37-1.37c-.4-.4-.92-.59-1.43-.59-.52 0-1.04.2-1.43.59L10.3 9.45l-7.72 7.72c-.78.78-.78 2.05 0 2.83L4 21.41c.39.39.9.59 1.41.59.51 0 1.02-.2 1.41-.59l7.78-7.78 2.81-2.81c.8-.78.8-2.07 0-2.86zM5.41 20L4 18.59l7.72-7.72 1.47 1.35L5.41 20z\"/>\n",
              "  </svg>\n",
              "      </button>\n",
              "      \n",
              "  <style>\n",
              "    .colab-df-container {\n",
              "      display:flex;\n",
              "      flex-wrap:wrap;\n",
              "      gap: 12px;\n",
              "    }\n",
              "\n",
              "    .colab-df-convert {\n",
              "      background-color: #E8F0FE;\n",
              "      border: none;\n",
              "      border-radius: 50%;\n",
              "      cursor: pointer;\n",
              "      display: none;\n",
              "      fill: #1967D2;\n",
              "      height: 32px;\n",
              "      padding: 0 0 0 0;\n",
              "      width: 32px;\n",
              "    }\n",
              "\n",
              "    .colab-df-convert:hover {\n",
              "      background-color: #E2EBFA;\n",
              "      box-shadow: 0px 1px 2px rgba(60, 64, 67, 0.3), 0px 1px 3px 1px rgba(60, 64, 67, 0.15);\n",
              "      fill: #174EA6;\n",
              "    }\n",
              "\n",
              "    [theme=dark] .colab-df-convert {\n",
              "      background-color: #3B4455;\n",
              "      fill: #D2E3FC;\n",
              "    }\n",
              "\n",
              "    [theme=dark] .colab-df-convert:hover {\n",
              "      background-color: #434B5C;\n",
              "      box-shadow: 0px 1px 3px 1px rgba(0, 0, 0, 0.15);\n",
              "      filter: drop-shadow(0px 1px 2px rgba(0, 0, 0, 0.3));\n",
              "      fill: #FFFFFF;\n",
              "    }\n",
              "  </style>\n",
              "\n",
              "      <script>\n",
              "        const buttonEl =\n",
              "          document.querySelector('#df-972a29bb-53a3-4e9c-bc9a-459683e15aba button.colab-df-convert');\n",
              "        buttonEl.style.display =\n",
              "          google.colab.kernel.accessAllowed ? 'block' : 'none';\n",
              "\n",
              "        async function convertToInteractive(key) {\n",
              "          const element = document.querySelector('#df-972a29bb-53a3-4e9c-bc9a-459683e15aba');\n",
              "          const dataTable =\n",
              "            await google.colab.kernel.invokeFunction('convertToInteractive',\n",
              "                                                     [key], {});\n",
              "          if (!dataTable) return;\n",
              "\n",
              "          const docLinkHtml = 'Like what you see? Visit the ' +\n",
              "            '<a target=\"_blank\" href=https://colab.research.google.com/notebooks/data_table.ipynb>data table notebook</a>'\n",
              "            + ' to learn more about interactive tables.';\n",
              "          element.innerHTML = '';\n",
              "          dataTable['output_type'] = 'display_data';\n",
              "          await google.colab.output.renderOutput(dataTable, element);\n",
              "          const docLink = document.createElement('div');\n",
              "          docLink.innerHTML = docLinkHtml;\n",
              "          element.appendChild(docLink);\n",
              "        }\n",
              "      </script>\n",
              "    </div>\n",
              "  </div>\n",
              "  "
            ],
            "text/plain": [
              "       acousticness  danceability  energy  ...   cluster9  cluster10  year_cluster\n",
              "30153      0.189149      0.806153     6.0  ...  52.770792   3.642590             7\n",
              "20071      0.079342      0.842487     4.0  ...   7.531903  45.922894             0\n",
              "37304      0.215032      0.641555     5.0  ...  17.845832  34.409068             5\n",
              "22684      0.021284      0.449611     7.0  ...  14.000297  39.334675             0\n",
              "36056      0.401394      0.736810     5.0  ...  10.396035  41.288507             0\n",
              "\n",
              "[5 rows x 35 columns]"
            ]
          },
          "metadata": {},
          "execution_count": 816
        }
      ]
    },
    {
      "cell_type": "code",
      "source": [
        "x_c = kmeans.predict(t_kbd[cont_cols])\n",
        "x_c = pd.DataFrame(x_c, columns=cluster_col, index=t_kbd.index)\n",
        "t_kbd = pd.concat([t_kbd,x_c], axis=1)\n",
        "t_kbd.head()"
      ],
      "metadata": {
        "colab": {
          "base_uri": "https://localhost:8080/",
          "height": 302
        },
        "id": "nf4mHESkpDvD",
        "outputId": "59dc9144-7c79-4b9b-ff9f-6d1ddce01303"
      },
      "execution_count": 817,
      "outputs": [
        {
          "output_type": "execute_result",
          "data": {
            "text/html": [
              "\n",
              "  <div id=\"df-c9c331d2-0be2-4015-b781-67d233385f08\">\n",
              "    <div class=\"colab-df-container\">\n",
              "      <div>\n",
              "<style scoped>\n",
              "    .dataframe tbody tr th:only-of-type {\n",
              "        vertical-align: middle;\n",
              "    }\n",
              "\n",
              "    .dataframe tbody tr th {\n",
              "        vertical-align: top;\n",
              "    }\n",
              "\n",
              "    .dataframe thead th {\n",
              "        text-align: right;\n",
              "    }\n",
              "</style>\n",
              "<table border=\"1\" class=\"dataframe\">\n",
              "  <thead>\n",
              "    <tr style=\"text-align: right;\">\n",
              "      <th></th>\n",
              "      <th>acousticness</th>\n",
              "      <th>danceability</th>\n",
              "      <th>energy</th>\n",
              "      <th>key</th>\n",
              "      <th>liveness</th>\n",
              "      <th>loudness</th>\n",
              "      <th>audio_mode</th>\n",
              "      <th>speechiness</th>\n",
              "      <th>tempo</th>\n",
              "      <th>time_signature</th>\n",
              "      <th>audio_valence</th>\n",
              "      <th>log_ins</th>\n",
              "      <th>song_duration_m</th>\n",
              "      <th>log_ins_cont</th>\n",
              "      <th>song_duration_m_cont</th>\n",
              "      <th>tempo_cont</th>\n",
              "      <th>energy_cont</th>\n",
              "      <th>is_live</th>\n",
              "      <th>speechiness_level</th>\n",
              "      <th>valence</th>\n",
              "      <th>bpm</th>\n",
              "      <th>f1</th>\n",
              "      <th>f2</th>\n",
              "      <th>cluster1</th>\n",
              "      <th>cluster2</th>\n",
              "      <th>cluster3</th>\n",
              "      <th>cluster4</th>\n",
              "      <th>cluster5</th>\n",
              "      <th>cluster6</th>\n",
              "      <th>cluster7</th>\n",
              "      <th>cluster8</th>\n",
              "      <th>cluster9</th>\n",
              "      <th>cluster10</th>\n",
              "      <th>year_cluster</th>\n",
              "    </tr>\n",
              "    <tr>\n",
              "      <th>id</th>\n",
              "      <th></th>\n",
              "      <th></th>\n",
              "      <th></th>\n",
              "      <th></th>\n",
              "      <th></th>\n",
              "      <th></th>\n",
              "      <th></th>\n",
              "      <th></th>\n",
              "      <th></th>\n",
              "      <th></th>\n",
              "      <th></th>\n",
              "      <th></th>\n",
              "      <th></th>\n",
              "      <th></th>\n",
              "      <th></th>\n",
              "      <th></th>\n",
              "      <th></th>\n",
              "      <th></th>\n",
              "      <th></th>\n",
              "      <th></th>\n",
              "      <th></th>\n",
              "      <th></th>\n",
              "      <th></th>\n",
              "      <th></th>\n",
              "      <th></th>\n",
              "      <th></th>\n",
              "      <th></th>\n",
              "      <th></th>\n",
              "      <th></th>\n",
              "      <th></th>\n",
              "      <th></th>\n",
              "      <th></th>\n",
              "      <th></th>\n",
              "      <th></th>\n",
              "    </tr>\n",
              "  </thead>\n",
              "  <tbody>\n",
              "    <tr>\n",
              "      <th>0</th>\n",
              "      <td>0.019845</td>\n",
              "      <td>0.501230</td>\n",
              "      <td>7.0</td>\n",
              "      <td>3.0</td>\n",
              "      <td>0.112832</td>\n",
              "      <td>-8.890172</td>\n",
              "      <td>0</td>\n",
              "      <td>0.082714</td>\n",
              "      <td>3.0</td>\n",
              "      <td>4</td>\n",
              "      <td>0.399620</td>\n",
              "      <td>4.0</td>\n",
              "      <td>4.0</td>\n",
              "      <td>-6.544156</td>\n",
              "      <td>5.142050</td>\n",
              "      <td>126.129304</td>\n",
              "      <td>0.908939</td>\n",
              "      <td>0</td>\n",
              "      <td>0.0</td>\n",
              "      <td>1.0</td>\n",
              "      <td>60.0</td>\n",
              "      <td>-3.552694</td>\n",
              "      <td>0.670575</td>\n",
              "      <td>27.649298</td>\n",
              "      <td>32.015641</td>\n",
              "      <td>3.373049</td>\n",
              "      <td>61.438657</td>\n",
              "      <td>46.221957</td>\n",
              "      <td>44.651881</td>\n",
              "      <td>10.837090</td>\n",
              "      <td>22.749756</td>\n",
              "      <td>35.144574</td>\n",
              "      <td>15.025581</td>\n",
              "      <td>2</td>\n",
              "    </tr>\n",
              "    <tr>\n",
              "      <th>1</th>\n",
              "      <td>0.070119</td>\n",
              "      <td>0.731256</td>\n",
              "      <td>3.0</td>\n",
              "      <td>7.0</td>\n",
              "      <td>0.139040</td>\n",
              "      <td>-6.301214</td>\n",
              "      <td>0</td>\n",
              "      <td>0.061685</td>\n",
              "      <td>1.0</td>\n",
              "      <td>3</td>\n",
              "      <td>0.499424</td>\n",
              "      <td>4.0</td>\n",
              "      <td>2.0</td>\n",
              "      <td>-6.204810</td>\n",
              "      <td>3.333517</td>\n",
              "      <td>86.448149</td>\n",
              "      <td>0.444655</td>\n",
              "      <td>0</td>\n",
              "      <td>0.0</td>\n",
              "      <td>1.0</td>\n",
              "      <td>80.0</td>\n",
              "      <td>-3.146980</td>\n",
              "      <td>0.606880</td>\n",
              "      <td>67.174826</td>\n",
              "      <td>8.173560</td>\n",
              "      <td>39.415797</td>\n",
              "      <td>101.060749</td>\n",
              "      <td>7.210599</td>\n",
              "      <td>84.227168</td>\n",
              "      <td>29.801900</td>\n",
              "      <td>17.344971</td>\n",
              "      <td>9.862288</td>\n",
              "      <td>54.373381</td>\n",
              "      <td>4</td>\n",
              "    </tr>\n",
              "    <tr>\n",
              "      <th>2</th>\n",
              "      <td>0.810637</td>\n",
              "      <td>0.568858</td>\n",
              "      <td>1.0</td>\n",
              "      <td>0.0</td>\n",
              "      <td>0.226614</td>\n",
              "      <td>-11.542478</td>\n",
              "      <td>0</td>\n",
              "      <td>0.041868</td>\n",
              "      <td>1.0</td>\n",
              "      <td>3</td>\n",
              "      <td>0.564951</td>\n",
              "      <td>7.0</td>\n",
              "      <td>4.0</td>\n",
              "      <td>-0.106649</td>\n",
              "      <td>4.662633</td>\n",
              "      <td>99.544351</td>\n",
              "      <td>0.125466</td>\n",
              "      <td>0</td>\n",
              "      <td>0.0</td>\n",
              "      <td>1.0</td>\n",
              "      <td>80.0</td>\n",
              "      <td>-6.520930</td>\n",
              "      <td>0.568388</td>\n",
              "      <td>54.590596</td>\n",
              "      <td>10.842973</td>\n",
              "      <td>27.777777</td>\n",
              "      <td>88.462112</td>\n",
              "      <td>20.750667</td>\n",
              "      <td>71.775911</td>\n",
              "      <td>19.501968</td>\n",
              "      <td>9.901096</td>\n",
              "      <td>9.894449</td>\n",
              "      <td>42.128854</td>\n",
              "      <td>0</td>\n",
              "    </tr>\n",
              "    <tr>\n",
              "      <th>3</th>\n",
              "      <td>0.332922</td>\n",
              "      <td>0.871789</td>\n",
              "      <td>4.0</td>\n",
              "      <td>2.0</td>\n",
              "      <td>0.325391</td>\n",
              "      <td>-7.905546</td>\n",
              "      <td>1</td>\n",
              "      <td>0.046815</td>\n",
              "      <td>3.0</td>\n",
              "      <td>4</td>\n",
              "      <td>0.906485</td>\n",
              "      <td>4.0</td>\n",
              "      <td>3.0</td>\n",
              "      <td>-7.243249</td>\n",
              "      <td>4.153283</td>\n",
              "      <td>123.063854</td>\n",
              "      <td>0.557342</td>\n",
              "      <td>0</td>\n",
              "      <td>0.0</td>\n",
              "      <td>2.0</td>\n",
              "      <td>60.0</td>\n",
              "      <td>-7.166262</td>\n",
              "      <td>0.403941</td>\n",
              "      <td>30.684839</td>\n",
              "      <td>29.020531</td>\n",
              "      <td>4.802155</td>\n",
              "      <td>64.605068</td>\n",
              "      <td>43.147196</td>\n",
              "      <td>47.812046</td>\n",
              "      <td>8.484492</td>\n",
              "      <td>19.763463</td>\n",
              "      <td>32.085858</td>\n",
              "      <td>18.067148</td>\n",
              "      <td>2</td>\n",
              "    </tr>\n",
              "    <tr>\n",
              "      <th>4</th>\n",
              "      <td>0.765568</td>\n",
              "      <td>0.624687</td>\n",
              "      <td>5.0</td>\n",
              "      <td>5.0</td>\n",
              "      <td>0.308284</td>\n",
              "      <td>-7.683531</td>\n",
              "      <td>0</td>\n",
              "      <td>0.129284</td>\n",
              "      <td>1.0</td>\n",
              "      <td>3</td>\n",
              "      <td>0.935571</td>\n",
              "      <td>3.0</td>\n",
              "      <td>2.0</td>\n",
              "      <td>-7.967652</td>\n",
              "      <td>3.078807</td>\n",
              "      <td>88.703121</td>\n",
              "      <td>0.710794</td>\n",
              "      <td>0</td>\n",
              "      <td>0.0</td>\n",
              "      <td>2.0</td>\n",
              "      <td>80.0</td>\n",
              "      <td>-7.188492</td>\n",
              "      <td>0.392362</td>\n",
              "      <td>64.963313</td>\n",
              "      <td>7.013264</td>\n",
              "      <td>37.302402</td>\n",
              "      <td>98.896715</td>\n",
              "      <td>9.592679</td>\n",
              "      <td>82.068168</td>\n",
              "      <td>27.796333</td>\n",
              "      <td>15.398375</td>\n",
              "      <td>8.367389</td>\n",
              "      <td>52.197778</td>\n",
              "      <td>4</td>\n",
              "    </tr>\n",
              "  </tbody>\n",
              "</table>\n",
              "</div>\n",
              "      <button class=\"colab-df-convert\" onclick=\"convertToInteractive('df-c9c331d2-0be2-4015-b781-67d233385f08')\"\n",
              "              title=\"Convert this dataframe to an interactive table.\"\n",
              "              style=\"display:none;\">\n",
              "        \n",
              "  <svg xmlns=\"http://www.w3.org/2000/svg\" height=\"24px\"viewBox=\"0 0 24 24\"\n",
              "       width=\"24px\">\n",
              "    <path d=\"M0 0h24v24H0V0z\" fill=\"none\"/>\n",
              "    <path d=\"M18.56 5.44l.94 2.06.94-2.06 2.06-.94-2.06-.94-.94-2.06-.94 2.06-2.06.94zm-11 1L8.5 8.5l.94-2.06 2.06-.94-2.06-.94L8.5 2.5l-.94 2.06-2.06.94zm10 10l.94 2.06.94-2.06 2.06-.94-2.06-.94-.94-2.06-.94 2.06-2.06.94z\"/><path d=\"M17.41 7.96l-1.37-1.37c-.4-.4-.92-.59-1.43-.59-.52 0-1.04.2-1.43.59L10.3 9.45l-7.72 7.72c-.78.78-.78 2.05 0 2.83L4 21.41c.39.39.9.59 1.41.59.51 0 1.02-.2 1.41-.59l7.78-7.78 2.81-2.81c.8-.78.8-2.07 0-2.86zM5.41 20L4 18.59l7.72-7.72 1.47 1.35L5.41 20z\"/>\n",
              "  </svg>\n",
              "      </button>\n",
              "      \n",
              "  <style>\n",
              "    .colab-df-container {\n",
              "      display:flex;\n",
              "      flex-wrap:wrap;\n",
              "      gap: 12px;\n",
              "    }\n",
              "\n",
              "    .colab-df-convert {\n",
              "      background-color: #E8F0FE;\n",
              "      border: none;\n",
              "      border-radius: 50%;\n",
              "      cursor: pointer;\n",
              "      display: none;\n",
              "      fill: #1967D2;\n",
              "      height: 32px;\n",
              "      padding: 0 0 0 0;\n",
              "      width: 32px;\n",
              "    }\n",
              "\n",
              "    .colab-df-convert:hover {\n",
              "      background-color: #E2EBFA;\n",
              "      box-shadow: 0px 1px 2px rgba(60, 64, 67, 0.3), 0px 1px 3px 1px rgba(60, 64, 67, 0.15);\n",
              "      fill: #174EA6;\n",
              "    }\n",
              "\n",
              "    [theme=dark] .colab-df-convert {\n",
              "      background-color: #3B4455;\n",
              "      fill: #D2E3FC;\n",
              "    }\n",
              "\n",
              "    [theme=dark] .colab-df-convert:hover {\n",
              "      background-color: #434B5C;\n",
              "      box-shadow: 0px 1px 3px 1px rgba(0, 0, 0, 0.15);\n",
              "      filter: drop-shadow(0px 1px 2px rgba(0, 0, 0, 0.3));\n",
              "      fill: #FFFFFF;\n",
              "    }\n",
              "  </style>\n",
              "\n",
              "      <script>\n",
              "        const buttonEl =\n",
              "          document.querySelector('#df-c9c331d2-0be2-4015-b781-67d233385f08 button.colab-df-convert');\n",
              "        buttonEl.style.display =\n",
              "          google.colab.kernel.accessAllowed ? 'block' : 'none';\n",
              "\n",
              "        async function convertToInteractive(key) {\n",
              "          const element = document.querySelector('#df-c9c331d2-0be2-4015-b781-67d233385f08');\n",
              "          const dataTable =\n",
              "            await google.colab.kernel.invokeFunction('convertToInteractive',\n",
              "                                                     [key], {});\n",
              "          if (!dataTable) return;\n",
              "\n",
              "          const docLinkHtml = 'Like what you see? Visit the ' +\n",
              "            '<a target=\"_blank\" href=https://colab.research.google.com/notebooks/data_table.ipynb>data table notebook</a>'\n",
              "            + ' to learn more about interactive tables.';\n",
              "          element.innerHTML = '';\n",
              "          dataTable['output_type'] = 'display_data';\n",
              "          await google.colab.output.renderOutput(dataTable, element);\n",
              "          const docLink = document.createElement('div');\n",
              "          docLink.innerHTML = docLinkHtml;\n",
              "          element.appendChild(docLink);\n",
              "        }\n",
              "      </script>\n",
              "    </div>\n",
              "  </div>\n",
              "  "
            ],
            "text/plain": [
              "    acousticness  danceability  energy  ...   cluster9  cluster10  year_cluster\n",
              "id                                      ...                                    \n",
              "0       0.019845      0.501230     7.0  ...  35.144574  15.025581             2\n",
              "1       0.070119      0.731256     3.0  ...   9.862288  54.373381             4\n",
              "2       0.810637      0.568858     1.0  ...   9.894449  42.128854             0\n",
              "3       0.332922      0.871789     4.0  ...  32.085858  18.067148             2\n",
              "4       0.765568      0.624687     5.0  ...   8.367389  52.197778             4\n",
              "\n",
              "[5 rows x 34 columns]"
            ]
          },
          "metadata": {},
          "execution_count": 817
        }
      ]
    },
    {
      "cell_type": "code",
      "source": [
        "cat_cols += cluster_col"
      ],
      "metadata": {
        "id": "hDQkKeiLczb2"
      },
      "execution_count": 818,
      "outputs": []
    },
    {
      "cell_type": "code",
      "source": [
        "feature_cols += cluster_col"
      ],
      "metadata": {
        "id": "qrbUgIQjfvgL"
      },
      "execution_count": 819,
      "outputs": []
    },
    {
      "cell_type": "code",
      "source": [
        "cat_cols"
      ],
      "metadata": {
        "colab": {
          "base_uri": "https://localhost:8080/"
        },
        "id": "t6BlrRsuc0JD",
        "outputId": "6b0d64a3-b139-43d9-f414-20d0fb42ea0c"
      },
      "execution_count": 820,
      "outputs": [
        {
          "output_type": "execute_result",
          "data": {
            "text/plain": [
              "['audio_mode',\n",
              " 'time_signature',\n",
              " 'log_ins',\n",
              " 'key',\n",
              " 'tempo',\n",
              " 'song_duration_m',\n",
              " 'energy',\n",
              " 'is_live',\n",
              " 'speechiness_level',\n",
              " 'valence',\n",
              " 'bpm',\n",
              " 'year_cluster']"
            ]
          },
          "metadata": {},
          "execution_count": 820
        }
      ]
    },
    {
      "cell_type": "code",
      "source": [
        ""
      ],
      "metadata": {
        "id": "XyXAuvqtc8-s"
      },
      "execution_count": 820,
      "outputs": []
    },
    {
      "cell_type": "code",
      "source": [
        "sns.histplot(data=x_kbd, x=\"year_cluster\", hue=\"song_popularity\")"
      ],
      "metadata": {
        "colab": {
          "base_uri": "https://localhost:8080/",
          "height": 297
        },
        "id": "rfBJgSVSbYfP",
        "outputId": "66f5923c-37be-4b15-8828-73cd0e78719f"
      },
      "execution_count": 821,
      "outputs": [
        {
          "output_type": "execute_result",
          "data": {
            "text/plain": [
              "<matplotlib.axes._subplots.AxesSubplot at 0x7f1f1b44f8d0>"
            ]
          },
          "metadata": {},
          "execution_count": 821
        },
        {
          "output_type": "display_data",
          "data": {
            "image/png": "[encoded data removed]",
            "text/plain": [
              "<Figure size 432x288 with 1 Axes>"
            ]
          },
          "metadata": {
            "needs_background": "light"
          }
        }
      ]
    },
    {
      "cell_type": "code",
      "source": [
        "sns.heatmap(x_kbd.corr(), cmap=\"YlGnBu\")"
      ],
      "metadata": {
        "colab": {
          "base_uri": "https://localhost:8080/",
          "height": 362
        },
        "id": "J9Sv2exTr3mW",
        "outputId": "4ace850f-0eea-40bf-b856-a972c6c1041f"
      },
      "execution_count": 822,
      "outputs": [
        {
          "output_type": "execute_result",
          "data": {
            "text/plain": [
              "<matplotlib.axes._subplots.AxesSubplot at 0x7f1f1c9ac190>"
            ]
          },
          "metadata": {},
          "execution_count": 822
        },
        {
          "output_type": "display_data",
          "data": {
            "image/png": "[encoded data removed]",
            "text/plain": [
              "<Figure size 432x288 with 2 Axes>"
            ]
          },
          "metadata": {
            "needs_background": "light"
          }
        }
      ]
    },
    {
      "cell_type": "code",
      "source": [
        "cat_cols"
      ],
      "metadata": {
        "colab": {
          "base_uri": "https://localhost:8080/"
        },
        "id": "UcBULB-ErIRF",
        "outputId": "312e9e30-9ba8-424a-c92f-9fef4e0d9429"
      },
      "execution_count": 823,
      "outputs": [
        {
          "output_type": "execute_result",
          "data": {
            "text/plain": [
              "['audio_mode',\n",
              " 'time_signature',\n",
              " 'log_ins',\n",
              " 'key',\n",
              " 'tempo',\n",
              " 'song_duration_m',\n",
              " 'energy',\n",
              " 'is_live',\n",
              " 'speechiness_level',\n",
              " 'valence',\n",
              " 'bpm',\n",
              " 'year_cluster']"
            ]
          },
          "metadata": {},
          "execution_count": 823
        }
      ]
    },
    {
      "cell_type": "code",
      "source": [
        "for c in cat_cols:\n",
        "  x_kbd[c] = x_kbd[c].astype('int').astype('category')\n",
        "  v_kbd[c] = v_kbd[c].astype('int').astype('category')\n",
        "  t_kbd[c] = t_kbd[c].astype('int').astype('category')"
      ],
      "metadata": {
        "id": "2AH4j_Wpc-vj"
      },
      "execution_count": 824,
      "outputs": []
    },
    {
      "cell_type": "markdown",
      "source": [
        "# Make Pipeline"
      ],
      "metadata": {
        "id": "4tIhE6drc_yq"
      }
    },
    {
      "cell_type": "code",
      "source": [
        "x_kbd.columns"
      ],
      "metadata": {
        "colab": {
          "base_uri": "https://localhost:8080/"
        },
        "id": "wNvHDqSF_Q2M",
        "outputId": "04cd80c8-41ed-461f-bb9a-86c44339abe9"
      },
      "execution_count": 825,
      "outputs": [
        {
          "output_type": "execute_result",
          "data": {
            "text/plain": [
              "Index(['acousticness', 'danceability', 'energy', 'key', 'liveness', 'loudness',\n",
              "       'audio_mode', 'speechiness', 'tempo', 'time_signature', 'audio_valence',\n",
              "       'log_ins', 'song_duration_m', 'song_popularity', 'log_ins_cont',\n",
              "       'song_duration_m_cont', 'tempo_cont', 'energy_cont', 'is_live',\n",
              "       'speechiness_level', 'valence', 'bpm', 'f1', 'f2', 'cluster1',\n",
              "       'cluster2', 'cluster3', 'cluster4', 'cluster5', 'cluster6', 'cluster7',\n",
              "       'cluster8', 'cluster9', 'cluster10', 'year_cluster'],\n",
              "      dtype='object')"
            ]
          },
          "metadata": {},
          "execution_count": 825
        }
      ]
    },
    {
      "cell_type": "code",
      "source": [
        "ct = make_column_transformer(\n",
        "    (StandardScaler(), cont_cols),\n",
        "    remainder='passthrough')"
      ],
      "metadata": {
        "id": "MdnlOyziYnMn"
      },
      "execution_count": 826,
      "outputs": []
    },
    {
      "cell_type": "code",
      "source": [
        "ct"
      ],
      "metadata": {
        "colab": {
          "base_uri": "https://localhost:8080/",
          "height": 118
        },
        "id": "ZrU_zQrsZVk1",
        "outputId": "3367f1f5-f2c3-4663-af2c-a1c55901422f"
      },
      "execution_count": 827,
      "outputs": [
        {
          "output_type": "execute_result",
          "data": {
            "text/html": [
              "<style>#sk-7d52c1b3-2d7a-40e1-9b58-87486cb4d2d9 {color: black;background-color: white;}#sk-7d52c1b3-2d7a-40e1-9b58-87486cb4d2d9 pre{padding: 0;}#sk-7d52c1b3-2d7a-40e1-9b58-87486cb4d2d9 div.sk-toggleable {background-color: white;}#sk-7d52c1b3-2d7a-40e1-9b58-87486cb4d2d9 label.sk-toggleable__label {cursor: pointer;display: block;width: 100%;margin-bottom: 0;padding: 0.3em;box-sizing: border-box;text-align: center;}#sk-7d52c1b3-2d7a-40e1-9b58-87486cb4d2d9 label.sk-toggleable__label-arrow:before {content: \"▸\";float: left;margin-right: 0.25em;color: #696969;}#sk-7d52c1b3-2d7a-40e1-9b58-87486cb4d2d9 label.sk-toggleable__label-arrow:hover:before {color: black;}#sk-7d52c1b3-2d7a-40e1-9b58-87486cb4d2d9 div.sk-estimator:hover label.sk-toggleable__label-arrow:before {color: black;}#sk-7d52c1b3-2d7a-40e1-9b58-87486cb4d2d9 div.sk-toggleable__content {max-height: 0;max-width: 0;overflow: hidden;text-align: left;background-color: #f0f8ff;}#sk-7d52c1b3-2d7a-40e1-9b58-87486cb4d2d9 div.sk-toggleable__content pre {margin: 0.2em;color: black;border-radius: 0.25em;background-color: #f0f8ff;}#sk-7d52c1b3-2d7a-40e1-9b58-87486cb4d2d9 input.sk-toggleable__control:checked~div.sk-toggleable__content {max-height: 200px;max-width: 100%;overflow: auto;}#sk-7d52c1b3-2d7a-40e1-9b58-87486cb4d2d9 input.sk-toggleable__control:checked~label.sk-toggleable__label-arrow:before {content: \"▾\";}#sk-7d52c1b3-2d7a-40e1-9b58-87486cb4d2d9 div.sk-estimator input.sk-toggleable__control:checked~label.sk-toggleable__label {background-color: #d4ebff;}#sk-7d52c1b3-2d7a-40e1-9b58-87486cb4d2d9 div.sk-label input.sk-toggleable__control:checked~label.sk-toggleable__label {background-color: #d4ebff;}#sk-7d52c1b3-2d7a-40e1-9b58-87486cb4d2d9 input.sk-hidden--visually {border: 0;clip: rect(1px 1px 1px 1px);clip: rect(1px, 1px, 1px, 1px);height: 1px;margin: -1px;overflow: hidden;padding: 0;position: absolute;width: 1px;}#sk-7d52c1b3-2d7a-40e1-9b58-87486cb4d2d9 div.sk-estimator {font-family: monospace;background-color: #f0f8ff;border: 1px dotted black;border-radius: 0.25em;box-sizing: border-box;margin-bottom: 0.5em;}#sk-7d52c1b3-2d7a-40e1-9b58-87486cb4d2d9 div.sk-estimator:hover {background-color: #d4ebff;}#sk-7d52c1b3-2d7a-40e1-9b58-87486cb4d2d9 div.sk-parallel-item::after {content: \"\";width: 100%;border-bottom: 1px solid gray;flex-grow: 1;}#sk-7d52c1b3-2d7a-40e1-9b58-87486cb4d2d9 div.sk-label:hover label.sk-toggleable__label {background-color: #d4ebff;}#sk-7d52c1b3-2d7a-40e1-9b58-87486cb4d2d9 div.sk-serial::before {content: \"\";position: absolute;border-left: 1px solid gray;box-sizing: border-box;top: 2em;bottom: 0;left: 50%;}#sk-7d52c1b3-2d7a-40e1-9b58-87486cb4d2d9 div.sk-serial {display: flex;flex-direction: column;align-items: center;background-color: white;padding-right: 0.2em;padding-left: 0.2em;}#sk-7d52c1b3-2d7a-40e1-9b58-87486cb4d2d9 div.sk-item {z-index: 1;}#sk-7d52c1b3-2d7a-40e1-9b58-87486cb4d2d9 div.sk-parallel {display: flex;align-items: stretch;justify-content: center;background-color: white;}#sk-7d52c1b3-2d7a-40e1-9b58-87486cb4d2d9 div.sk-parallel::before {content: \"\";position: absolute;border-left: 1px solid gray;box-sizing: border-box;top: 2em;bottom: 0;left: 50%;}#sk-7d52c1b3-2d7a-40e1-9b58-87486cb4d2d9 div.sk-parallel-item {display: flex;flex-direction: column;position: relative;background-color: white;}#sk-7d52c1b3-2d7a-40e1-9b58-87486cb4d2d9 div.sk-parallel-item:first-child::after {align-self: flex-end;width: 50%;}#sk-7d52c1b3-2d7a-40e1-9b58-87486cb4d2d9 div.sk-parallel-item:last-child::after {align-self: flex-start;width: 50%;}#sk-7d52c1b3-2d7a-40e1-9b58-87486cb4d2d9 div.sk-parallel-item:only-child::after {width: 0;}#sk-7d52c1b3-2d7a-40e1-9b58-87486cb4d2d9 div.sk-dashed-wrapped {border: 1px dashed gray;margin: 0 0.4em 0.5em 0.4em;box-sizing: border-box;padding-bottom: 0.4em;background-color: white;position: relative;}#sk-7d52c1b3-2d7a-40e1-9b58-87486cb4d2d9 div.sk-label label {font-family: monospace;font-weight: bold;background-color: white;display: inline-block;line-height: 1.2em;}#sk-7d52c1b3-2d7a-40e1-9b58-87486cb4d2d9 div.sk-label-container {position: relative;z-index: 2;text-align: center;}#sk-7d52c1b3-2d7a-40e1-9b58-87486cb4d2d9 div.sk-container {/* jupyter's `normalize.less` sets `[hidden] { display: none; }` but bootstrap.min.css set `[hidden] { display: none !important; }` so we also need the `!important` here to be able to override the default hidden behavior on the sphinx rendered scikit-learn.org. See: https://github.com/scikit-learn/scikit-learn/issues/21755 */display: inline-block !important;position: relative;}#sk-7d52c1b3-2d7a-40e1-9b58-87486cb4d2d9 div.sk-text-repr-fallback {display: none;}</style><div id=\"sk-7d52c1b3-2d7a-40e1-9b58-87486cb4d2d9\" class=\"sk-top-container\"><div class=\"sk-text-repr-fallback\"><pre>ColumnTransformer(remainder=&#x27;passthrough&#x27;,\n",
              "                  transformers=[(&#x27;standardscaler&#x27;, StandardScaler(),\n",
              "                                 [&#x27;acousticness&#x27;, &#x27;danceability&#x27;, &#x27;energy&#x27;,\n",
              "                                  &#x27;liveness&#x27;, &#x27;loudness&#x27;, &#x27;speechiness&#x27;,\n",
              "                                  &#x27;audio_valence&#x27;, &#x27;log_ins_cont&#x27;,\n",
              "                                  &#x27;song_duration_m_cont&#x27;, &#x27;tempo_cont&#x27;,\n",
              "                                  &#x27;energy_cont&#x27;, &#x27;f1&#x27;, &#x27;f2&#x27;, &#x27;cluster1&#x27;,\n",
              "                                  &#x27;cluster2&#x27;, &#x27;cluster3&#x27;, &#x27;cluster4&#x27;,\n",
              "                                  &#x27;cluster5&#x27;, &#x27;cluster6&#x27;, &#x27;cluster7&#x27;,\n",
              "                                  &#x27;cluster8&#x27;, &#x27;cluster9&#x27;, &#x27;cluster10&#x27;])])</pre><b>Please rerun this cell to show the HTML repr or trust the notebook.</b></div><div class=\"sk-container\" hidden><div class=\"sk-item sk-dashed-wrapped\"><div class=\"sk-label-container\"><div class=\"sk-label sk-toggleable\"><input class=\"sk-toggleable__control sk-hidden--visually\" id=\"904bb705-4715-4956-b939-7bfa130d5777\" type=\"checkbox\" ><label for=\"904bb705-4715-4956-b939-7bfa130d5777\" class=\"sk-toggleable__label sk-toggleable__label-arrow\">ColumnTransformer</label><div class=\"sk-toggleable__content\"><pre>ColumnTransformer(remainder=&#x27;passthrough&#x27;,\n",
              "                  transformers=[(&#x27;standardscaler&#x27;, StandardScaler(),\n",
              "                                 [&#x27;acousticness&#x27;, &#x27;danceability&#x27;, &#x27;energy&#x27;,\n",
              "                                  &#x27;liveness&#x27;, &#x27;loudness&#x27;, &#x27;speechiness&#x27;,\n",
              "                                  &#x27;audio_valence&#x27;, &#x27;log_ins_cont&#x27;,\n",
              "                                  &#x27;song_duration_m_cont&#x27;, &#x27;tempo_cont&#x27;,\n",
              "                                  &#x27;energy_cont&#x27;, &#x27;f1&#x27;, &#x27;f2&#x27;, &#x27;cluster1&#x27;,\n",
              "                                  &#x27;cluster2&#x27;, &#x27;cluster3&#x27;, &#x27;cluster4&#x27;,\n",
              "                                  &#x27;cluster5&#x27;, &#x27;cluster6&#x27;, &#x27;cluster7&#x27;,\n",
              "                                  &#x27;cluster8&#x27;, &#x27;cluster9&#x27;, &#x27;cluster10&#x27;])])</pre></div></div></div><div class=\"sk-parallel\"><div class=\"sk-parallel-item\"><div class=\"sk-item\"><div class=\"sk-label-container\"><div class=\"sk-label sk-toggleable\"><input class=\"sk-toggleable__control sk-hidden--visually\" id=\"d7597a7a-b52d-4dd1-9375-f0c22625fe93\" type=\"checkbox\" ><label for=\"d7597a7a-b52d-4dd1-9375-f0c22625fe93\" class=\"sk-toggleable__label sk-toggleable__label-arrow\">standardscaler</label><div class=\"sk-toggleable__content\"><pre>[&#x27;acousticness&#x27;, &#x27;danceability&#x27;, &#x27;energy&#x27;, &#x27;liveness&#x27;, &#x27;loudness&#x27;, &#x27;speechiness&#x27;, &#x27;audio_valence&#x27;, &#x27;log_ins_cont&#x27;, &#x27;song_duration_m_cont&#x27;, &#x27;tempo_cont&#x27;, &#x27;energy_cont&#x27;, &#x27;f1&#x27;, &#x27;f2&#x27;, &#x27;cluster1&#x27;, &#x27;cluster2&#x27;, &#x27;cluster3&#x27;, &#x27;cluster4&#x27;, &#x27;cluster5&#x27;, &#x27;cluster6&#x27;, &#x27;cluster7&#x27;, &#x27;cluster8&#x27;, &#x27;cluster9&#x27;, &#x27;cluster10&#x27;]</pre></div></div></div><div class=\"sk-serial\"><div class=\"sk-item\"><div class=\"sk-estimator sk-toggleable\"><input class=\"sk-toggleable__control sk-hidden--visually\" id=\"75546ba9-0488-4e07-9dc9-f1a982b0f804\" type=\"checkbox\" ><label for=\"75546ba9-0488-4e07-9dc9-f1a982b0f804\" class=\"sk-toggleable__label sk-toggleable__label-arrow\">StandardScaler</label><div class=\"sk-toggleable__content\"><pre>StandardScaler()</pre></div></div></div></div></div></div><div class=\"sk-parallel-item\"><div class=\"sk-item\"><div class=\"sk-label-container\"><div class=\"sk-label sk-toggleable\"><input class=\"sk-toggleable__control sk-hidden--visually\" id=\"d09ee765-e6cc-4b34-a153-1a2e79f0068f\" type=\"checkbox\" ><label for=\"d09ee765-e6cc-4b34-a153-1a2e79f0068f\" class=\"sk-toggleable__label sk-toggleable__label-arrow\">remainder</label><div class=\"sk-toggleable__content\"><pre></pre></div></div></div><div class=\"sk-serial\"><div class=\"sk-item\"><div class=\"sk-estimator sk-toggleable\"><input class=\"sk-toggleable__control sk-hidden--visually\" id=\"9cc81081-ac6a-4514-916a-567a99b36e71\" type=\"checkbox\" ><label for=\"9cc81081-ac6a-4514-916a-567a99b36e71\" class=\"sk-toggleable__label sk-toggleable__label-arrow\">passthrough</label><div class=\"sk-toggleable__content\"><pre>passthrough</pre></div></div></div></div></div></div></div></div></div></div>"
            ],
            "text/plain": [
              "ColumnTransformer(remainder='passthrough',\n",
              "                  transformers=[('standardscaler', StandardScaler(),\n",
              "                                 ['acousticness', 'danceability', 'energy',\n",
              "                                  'liveness', 'loudness', 'speechiness',\n",
              "                                  'audio_valence', 'log_ins_cont',\n",
              "                                  'song_duration_m_cont', 'tempo_cont',\n",
              "                                  'energy_cont', 'f1', 'f2', 'cluster1',\n",
              "                                  'cluster2', 'cluster3', 'cluster4',\n",
              "                                  'cluster5', 'cluster6', 'cluster7',\n",
              "                                  'cluster8', 'cluster9', 'cluster10'])])"
            ]
          },
          "metadata": {},
          "execution_count": 827
        }
      ]
    },
    {
      "cell_type": "code",
      "source": [
        "data = x_kbd.drop(labels=target_col, axis=1)\n",
        "target = x_kbd.song_popularity\n",
        "v_data = v_kbd.drop(labels=target_col, axis=1)\n",
        "v_target = v_kbd.song_popularity"
      ],
      "metadata": {
        "id": "yYL83Oy1Se1k"
      },
      "execution_count": 828,
      "outputs": []
    },
    {
      "cell_type": "code",
      "source": [
        "t_data = t_kbd"
      ],
      "metadata": {
        "id": "8NpetX4hub7F"
      },
      "execution_count": 829,
      "outputs": []
    },
    {
      "cell_type": "code",
      "source": [
        ""
      ],
      "metadata": {
        "id": "D0B3Ow8QA4U9"
      },
      "execution_count": 829,
      "outputs": []
    },
    {
      "cell_type": "code",
      "source": [
        "data.shape, v_data.shape, t_data.shape"
      ],
      "metadata": {
        "colab": {
          "base_uri": "https://localhost:8080/"
        },
        "id": "G3ViH8x7Elqi",
        "outputId": "747236da-61f6-42f6-cc9a-43e52b345240"
      },
      "execution_count": 830,
      "outputs": [
        {
          "output_type": "execute_result",
          "data": {
            "text/plain": [
              "((31832, 34), (7959, 34), (10000, 34))"
            ]
          },
          "metadata": {},
          "execution_count": 830
        }
      ]
    },
    {
      "cell_type": "code",
      "source": [
        "ct"
      ],
      "metadata": {
        "colab": {
          "base_uri": "https://localhost:8080/",
          "height": 118
        },
        "id": "cfrQRBAEVa5l",
        "outputId": "12a67539-bb80-4ba4-f15e-faa366e9e81b"
      },
      "execution_count": 831,
      "outputs": [
        {
          "output_type": "execute_result",
          "data": {
            "text/html": [
              "<style>#sk-6eb7ec3b-338f-4607-8ffd-f0c6b41ddd62 {color: black;background-color: white;}#sk-6eb7ec3b-338f-4607-8ffd-f0c6b41ddd62 pre{padding: 0;}#sk-6eb7ec3b-338f-4607-8ffd-f0c6b41ddd62 div.sk-toggleable {background-color: white;}#sk-6eb7ec3b-338f-4607-8ffd-f0c6b41ddd62 label.sk-toggleable__label {cursor: pointer;display: block;width: 100%;margin-bottom: 0;padding: 0.3em;box-sizing: border-box;text-align: center;}#sk-6eb7ec3b-338f-4607-8ffd-f0c6b41ddd62 label.sk-toggleable__label-arrow:before {content: \"▸\";float: left;margin-right: 0.25em;color: #696969;}#sk-6eb7ec3b-338f-4607-8ffd-f0c6b41ddd62 label.sk-toggleable__label-arrow:hover:before {color: black;}#sk-6eb7ec3b-338f-4607-8ffd-f0c6b41ddd62 div.sk-estimator:hover label.sk-toggleable__label-arrow:before {color: black;}#sk-6eb7ec3b-338f-4607-8ffd-f0c6b41ddd62 div.sk-toggleable__content {max-height: 0;max-width: 0;overflow: hidden;text-align: left;background-color: #f0f8ff;}#sk-6eb7ec3b-338f-4607-8ffd-f0c6b41ddd62 div.sk-toggleable__content pre {margin: 0.2em;color: black;border-radius: 0.25em;background-color: #f0f8ff;}#sk-6eb7ec3b-338f-4607-8ffd-f0c6b41ddd62 input.sk-toggleable__control:checked~div.sk-toggleable__content {max-height: 200px;max-width: 100%;overflow: auto;}#sk-6eb7ec3b-338f-4607-8ffd-f0c6b41ddd62 input.sk-toggleable__control:checked~label.sk-toggleable__label-arrow:before {content: \"▾\";}#sk-6eb7ec3b-338f-4607-8ffd-f0c6b41ddd62 div.sk-estimator input.sk-toggleable__control:checked~label.sk-toggleable__label {background-color: #d4ebff;}#sk-6eb7ec3b-338f-4607-8ffd-f0c6b41ddd62 div.sk-label input.sk-toggleable__control:checked~label.sk-toggleable__label {background-color: #d4ebff;}#sk-6eb7ec3b-338f-4607-8ffd-f0c6b41ddd62 input.sk-hidden--visually {border: 0;clip: rect(1px 1px 1px 1px);clip: rect(1px, 1px, 1px, 1px);height: 1px;margin: -1px;overflow: hidden;padding: 0;position: absolute;width: 1px;}#sk-6eb7ec3b-338f-4607-8ffd-f0c6b41ddd62 div.sk-estimator {font-family: monospace;background-color: #f0f8ff;border: 1px dotted black;border-radius: 0.25em;box-sizing: border-box;margin-bottom: 0.5em;}#sk-6eb7ec3b-338f-4607-8ffd-f0c6b41ddd62 div.sk-estimator:hover {background-color: #d4ebff;}#sk-6eb7ec3b-338f-4607-8ffd-f0c6b41ddd62 div.sk-parallel-item::after {content: \"\";width: 100%;border-bottom: 1px solid gray;flex-grow: 1;}#sk-6eb7ec3b-338f-4607-8ffd-f0c6b41ddd62 div.sk-label:hover label.sk-toggleable__label {background-color: #d4ebff;}#sk-6eb7ec3b-338f-4607-8ffd-f0c6b41ddd62 div.sk-serial::before {content: \"\";position: absolute;border-left: 1px solid gray;box-sizing: border-box;top: 2em;bottom: 0;left: 50%;}#sk-6eb7ec3b-338f-4607-8ffd-f0c6b41ddd62 div.sk-serial {display: flex;flex-direction: column;align-items: center;background-color: white;padding-right: 0.2em;padding-left: 0.2em;}#sk-6eb7ec3b-338f-4607-8ffd-f0c6b41ddd62 div.sk-item {z-index: 1;}#sk-6eb7ec3b-338f-4607-8ffd-f0c6b41ddd62 div.sk-parallel {display: flex;align-items: stretch;justify-content: center;background-color: white;}#sk-6eb7ec3b-338f-4607-8ffd-f0c6b41ddd62 div.sk-parallel::before {content: \"\";position: absolute;border-left: 1px solid gray;box-sizing: border-box;top: 2em;bottom: 0;left: 50%;}#sk-6eb7ec3b-338f-4607-8ffd-f0c6b41ddd62 div.sk-parallel-item {display: flex;flex-direction: column;position: relative;background-color: white;}#sk-6eb7ec3b-338f-4607-8ffd-f0c6b41ddd62 div.sk-parallel-item:first-child::after {align-self: flex-end;width: 50%;}#sk-6eb7ec3b-338f-4607-8ffd-f0c6b41ddd62 div.sk-parallel-item:last-child::after {align-self: flex-start;width: 50%;}#sk-6eb7ec3b-338f-4607-8ffd-f0c6b41ddd62 div.sk-parallel-item:only-child::after {width: 0;}#sk-6eb7ec3b-338f-4607-8ffd-f0c6b41ddd62 div.sk-dashed-wrapped {border: 1px dashed gray;margin: 0 0.4em 0.5em 0.4em;box-sizing: border-box;padding-bottom: 0.4em;background-color: white;position: relative;}#sk-6eb7ec3b-338f-4607-8ffd-f0c6b41ddd62 div.sk-label label {font-family: monospace;font-weight: bold;background-color: white;display: inline-block;line-height: 1.2em;}#sk-6eb7ec3b-338f-4607-8ffd-f0c6b41ddd62 div.sk-label-container {position: relative;z-index: 2;text-align: center;}#sk-6eb7ec3b-338f-4607-8ffd-f0c6b41ddd62 div.sk-container {/* jupyter's `normalize.less` sets `[hidden] { display: none; }` but bootstrap.min.css set `[hidden] { display: none !important; }` so we also need the `!important` here to be able to override the default hidden behavior on the sphinx rendered scikit-learn.org. See: https://github.com/scikit-learn/scikit-learn/issues/21755 */display: inline-block !important;position: relative;}#sk-6eb7ec3b-338f-4607-8ffd-f0c6b41ddd62 div.sk-text-repr-fallback {display: none;}</style><div id=\"sk-6eb7ec3b-338f-4607-8ffd-f0c6b41ddd62\" class=\"sk-top-container\"><div class=\"sk-text-repr-fallback\"><pre>ColumnTransformer(remainder=&#x27;passthrough&#x27;,\n",
              "                  transformers=[(&#x27;standardscaler&#x27;, StandardScaler(),\n",
              "                                 [&#x27;acousticness&#x27;, &#x27;danceability&#x27;, &#x27;energy&#x27;,\n",
              "                                  &#x27;liveness&#x27;, &#x27;loudness&#x27;, &#x27;speechiness&#x27;,\n",
              "                                  &#x27;audio_valence&#x27;, &#x27;log_ins_cont&#x27;,\n",
              "                                  &#x27;song_duration_m_cont&#x27;, &#x27;tempo_cont&#x27;,\n",
              "                                  &#x27;energy_cont&#x27;, &#x27;f1&#x27;, &#x27;f2&#x27;, &#x27;cluster1&#x27;,\n",
              "                                  &#x27;cluster2&#x27;, &#x27;cluster3&#x27;, &#x27;cluster4&#x27;,\n",
              "                                  &#x27;cluster5&#x27;, &#x27;cluster6&#x27;, &#x27;cluster7&#x27;,\n",
              "                                  &#x27;cluster8&#x27;, &#x27;cluster9&#x27;, &#x27;cluster10&#x27;])])</pre><b>Please rerun this cell to show the HTML repr or trust the notebook.</b></div><div class=\"sk-container\" hidden><div class=\"sk-item sk-dashed-wrapped\"><div class=\"sk-label-container\"><div class=\"sk-label sk-toggleable\"><input class=\"sk-toggleable__control sk-hidden--visually\" id=\"6f347df6-3c23-4900-9a89-e007087b2028\" type=\"checkbox\" ><label for=\"6f347df6-3c23-4900-9a89-e007087b2028\" class=\"sk-toggleable__label sk-toggleable__label-arrow\">ColumnTransformer</label><div class=\"sk-toggleable__content\"><pre>ColumnTransformer(remainder=&#x27;passthrough&#x27;,\n",
              "                  transformers=[(&#x27;standardscaler&#x27;, StandardScaler(),\n",
              "                                 [&#x27;acousticness&#x27;, &#x27;danceability&#x27;, &#x27;energy&#x27;,\n",
              "                                  &#x27;liveness&#x27;, &#x27;loudness&#x27;, &#x27;speechiness&#x27;,\n",
              "                                  &#x27;audio_valence&#x27;, &#x27;log_ins_cont&#x27;,\n",
              "                                  &#x27;song_duration_m_cont&#x27;, &#x27;tempo_cont&#x27;,\n",
              "                                  &#x27;energy_cont&#x27;, &#x27;f1&#x27;, &#x27;f2&#x27;, &#x27;cluster1&#x27;,\n",
              "                                  &#x27;cluster2&#x27;, &#x27;cluster3&#x27;, &#x27;cluster4&#x27;,\n",
              "                                  &#x27;cluster5&#x27;, &#x27;cluster6&#x27;, &#x27;cluster7&#x27;,\n",
              "                                  &#x27;cluster8&#x27;, &#x27;cluster9&#x27;, &#x27;cluster10&#x27;])])</pre></div></div></div><div class=\"sk-parallel\"><div class=\"sk-parallel-item\"><div class=\"sk-item\"><div class=\"sk-label-container\"><div class=\"sk-label sk-toggleable\"><input class=\"sk-toggleable__control sk-hidden--visually\" id=\"8a33ad0f-36ec-4aea-acc1-707b59ea01ce\" type=\"checkbox\" ><label for=\"8a33ad0f-36ec-4aea-acc1-707b59ea01ce\" class=\"sk-toggleable__label sk-toggleable__label-arrow\">standardscaler</label><div class=\"sk-toggleable__content\"><pre>[&#x27;acousticness&#x27;, &#x27;danceability&#x27;, &#x27;energy&#x27;, &#x27;liveness&#x27;, &#x27;loudness&#x27;, &#x27;speechiness&#x27;, &#x27;audio_valence&#x27;, &#x27;log_ins_cont&#x27;, &#x27;song_duration_m_cont&#x27;, &#x27;tempo_cont&#x27;, &#x27;energy_cont&#x27;, &#x27;f1&#x27;, &#x27;f2&#x27;, &#x27;cluster1&#x27;, &#x27;cluster2&#x27;, &#x27;cluster3&#x27;, &#x27;cluster4&#x27;, &#x27;cluster5&#x27;, &#x27;cluster6&#x27;, &#x27;cluster7&#x27;, &#x27;cluster8&#x27;, &#x27;cluster9&#x27;, &#x27;cluster10&#x27;]</pre></div></div></div><div class=\"sk-serial\"><div class=\"sk-item\"><div class=\"sk-estimator sk-toggleable\"><input class=\"sk-toggleable__control sk-hidden--visually\" id=\"265c48c4-20fe-40de-ba04-9aa233079c4a\" type=\"checkbox\" ><label for=\"265c48c4-20fe-40de-ba04-9aa233079c4a\" class=\"sk-toggleable__label sk-toggleable__label-arrow\">StandardScaler</label><div class=\"sk-toggleable__content\"><pre>StandardScaler()</pre></div></div></div></div></div></div><div class=\"sk-parallel-item\"><div class=\"sk-item\"><div class=\"sk-label-container\"><div class=\"sk-label sk-toggleable\"><input class=\"sk-toggleable__control sk-hidden--visually\" id=\"ef744ce5-25a0-40c3-b8e5-e9e6ac16234f\" type=\"checkbox\" ><label for=\"ef744ce5-25a0-40c3-b8e5-e9e6ac16234f\" class=\"sk-toggleable__label sk-toggleable__label-arrow\">remainder</label><div class=\"sk-toggleable__content\"><pre></pre></div></div></div><div class=\"sk-serial\"><div class=\"sk-item\"><div class=\"sk-estimator sk-toggleable\"><input class=\"sk-toggleable__control sk-hidden--visually\" id=\"aa51c205-4b01-497a-b065-cf83a46b6a56\" type=\"checkbox\" ><label for=\"aa51c205-4b01-497a-b065-cf83a46b6a56\" class=\"sk-toggleable__label sk-toggleable__label-arrow\">passthrough</label><div class=\"sk-toggleable__content\"><pre>passthrough</pre></div></div></div></div></div></div></div></div></div></div>"
            ],
            "text/plain": [
              "ColumnTransformer(remainder='passthrough',\n",
              "                  transformers=[('standardscaler', StandardScaler(),\n",
              "                                 ['acousticness', 'danceability', 'energy',\n",
              "                                  'liveness', 'loudness', 'speechiness',\n",
              "                                  'audio_valence', 'log_ins_cont',\n",
              "                                  'song_duration_m_cont', 'tempo_cont',\n",
              "                                  'energy_cont', 'f1', 'f2', 'cluster1',\n",
              "                                  'cluster2', 'cluster3', 'cluster4',\n",
              "                                  'cluster5', 'cluster6', 'cluster7',\n",
              "                                  'cluster8', 'cluster9', 'cluster10'])])"
            ]
          },
          "metadata": {},
          "execution_count": 831
        }
      ]
    },
    {
      "cell_type": "code",
      "source": [
        "data.shape, len(cont_cols), len(cat_cols)"
      ],
      "metadata": {
        "colab": {
          "base_uri": "https://localhost:8080/"
        },
        "id": "8ORF1mqIf01U",
        "outputId": "1cf33ead-4306-4304-93b3-3df0ce9f5690"
      },
      "execution_count": 832,
      "outputs": [
        {
          "output_type": "execute_result",
          "data": {
            "text/plain": [
              "((31832, 34), 23, 12)"
            ]
          },
          "metadata": {},
          "execution_count": 832
        }
      ]
    },
    {
      "cell_type": "code",
      "source": [
        "data.key.value_counts()"
      ],
      "metadata": {
        "colab": {
          "base_uri": "https://localhost:8080/"
        },
        "id": "sV0i5V3ojIFN",
        "outputId": "516ee0f9-17f0-41bf-d160-1804d9035ef9"
      },
      "execution_count": 833,
      "outputs": [
        {
          "output_type": "execute_result",
          "data": {
            "text/plain": [
              "0    5769\n",
              "4    5104\n",
              "5    4601\n",
              "3    3947\n",
              "7    3541\n",
              "1    3303\n",
              "2    3271\n",
              "6    2296\n",
              "Name: key, dtype: int64"
            ]
          },
          "metadata": {},
          "execution_count": 833
        }
      ]
    },
    {
      "cell_type": "code",
      "source": [
        "cat_col_id = [i for i, col_name in enumerate(data.columns) if col_name in cat_cols]"
      ],
      "metadata": {
        "id": "4iJfViZOfjDy"
      },
      "execution_count": 834,
      "outputs": []
    },
    {
      "cell_type": "code",
      "source": [
        "cat_col_id"
      ],
      "metadata": {
        "colab": {
          "base_uri": "https://localhost:8080/"
        },
        "id": "FUBf9g4hvYcm",
        "outputId": "9e9f9929-60a8-412d-fe1b-cf297ef7d68b"
      },
      "execution_count": 835,
      "outputs": [
        {
          "output_type": "execute_result",
          "data": {
            "text/plain": [
              "[2, 3, 6, 8, 9, 11, 12, 17, 18, 19, 20, 33]"
            ]
          },
          "metadata": {},
          "execution_count": 835
        }
      ]
    },
    {
      "cell_type": "code",
      "source": [
        "model_hgb = make_pipeline(ct, HistGradientBoostingClassifier(scoring='roc_auc'))"
      ],
      "metadata": {
        "id": "9YdSSXOqU3os"
      },
      "execution_count": 836,
      "outputs": []
    },
    {
      "cell_type": "code",
      "source": [
        "data"
      ],
      "metadata": {
        "colab": {
          "base_uri": "https://localhost:8080/",
          "height": 488
        },
        "id": "ZpvpBlONjVNI",
        "outputId": "d779d4f2-84ed-4239-ed87-d87954c56971"
      },
      "execution_count": 837,
      "outputs": [
        {
          "output_type": "execute_result",
          "data": {
            "text/html": [
              "\n",
              "  <div id=\"df-6aad4ead-0161-4d56-a63e-c0d64f5a9494\">\n",
              "    <div class=\"colab-df-container\">\n",
              "      <div>\n",
              "<style scoped>\n",
              "    .dataframe tbody tr th:only-of-type {\n",
              "        vertical-align: middle;\n",
              "    }\n",
              "\n",
              "    .dataframe tbody tr th {\n",
              "        vertical-align: top;\n",
              "    }\n",
              "\n",
              "    .dataframe thead th {\n",
              "        text-align: right;\n",
              "    }\n",
              "</style>\n",
              "<table border=\"1\" class=\"dataframe\">\n",
              "  <thead>\n",
              "    <tr style=\"text-align: right;\">\n",
              "      <th></th>\n",
              "      <th>acousticness</th>\n",
              "      <th>danceability</th>\n",
              "      <th>energy</th>\n",
              "      <th>key</th>\n",
              "      <th>liveness</th>\n",
              "      <th>loudness</th>\n",
              "      <th>audio_mode</th>\n",
              "      <th>speechiness</th>\n",
              "      <th>tempo</th>\n",
              "      <th>time_signature</th>\n",
              "      <th>audio_valence</th>\n",
              "      <th>log_ins</th>\n",
              "      <th>song_duration_m</th>\n",
              "      <th>log_ins_cont</th>\n",
              "      <th>song_duration_m_cont</th>\n",
              "      <th>tempo_cont</th>\n",
              "      <th>energy_cont</th>\n",
              "      <th>is_live</th>\n",
              "      <th>speechiness_level</th>\n",
              "      <th>valence</th>\n",
              "      <th>bpm</th>\n",
              "      <th>f1</th>\n",
              "      <th>f2</th>\n",
              "      <th>cluster1</th>\n",
              "      <th>cluster2</th>\n",
              "      <th>cluster3</th>\n",
              "      <th>cluster4</th>\n",
              "      <th>cluster5</th>\n",
              "      <th>cluster6</th>\n",
              "      <th>cluster7</th>\n",
              "      <th>cluster8</th>\n",
              "      <th>cluster9</th>\n",
              "      <th>cluster10</th>\n",
              "      <th>year_cluster</th>\n",
              "    </tr>\n",
              "  </thead>\n",
              "  <tbody>\n",
              "    <tr>\n",
              "      <th>38754</th>\n",
              "      <td>0.171518</td>\n",
              "      <td>0.771586</td>\n",
              "      <td>3</td>\n",
              "      <td>2</td>\n",
              "      <td>0.090668</td>\n",
              "      <td>-13.023834</td>\n",
              "      <td>1</td>\n",
              "      <td>0.374589</td>\n",
              "      <td>1</td>\n",
              "      <td>3</td>\n",
              "      <td>0.338582</td>\n",
              "      <td>5</td>\n",
              "      <td>2</td>\n",
              "      <td>-5.685862</td>\n",
              "      <td>3.028645</td>\n",
              "      <td>91.458484</td>\n",
              "      <td>0.471950</td>\n",
              "      <td>0</td>\n",
              "      <td>2</td>\n",
              "      <td>0</td>\n",
              "      <td>80</td>\n",
              "      <td>-4.409630</td>\n",
              "      <td>0.712781</td>\n",
              "      <td>62.290936</td>\n",
              "      <td>7.654356</td>\n",
              "      <td>34.943248</td>\n",
              "      <td>96.289805</td>\n",
              "      <td>12.042692</td>\n",
              "      <td>79.522689</td>\n",
              "      <td>25.930173</td>\n",
              "      <td>13.735826</td>\n",
              "      <td>1.798989</td>\n",
              "      <td>49.682087</td>\n",
              "      <td>4</td>\n",
              "    </tr>\n",
              "    <tr>\n",
              "      <th>33824</th>\n",
              "      <td>0.020867</td>\n",
              "      <td>0.425238</td>\n",
              "      <td>5</td>\n",
              "      <td>1</td>\n",
              "      <td>0.125137</td>\n",
              "      <td>-15.579105</td>\n",
              "      <td>1</td>\n",
              "      <td>0.045951</td>\n",
              "      <td>4</td>\n",
              "      <td>3</td>\n",
              "      <td>0.685437</td>\n",
              "      <td>6</td>\n",
              "      <td>2</td>\n",
              "      <td>-3.076899</td>\n",
              "      <td>2.745100</td>\n",
              "      <td>145.361921</td>\n",
              "      <td>0.684844</td>\n",
              "      <td>0</td>\n",
              "      <td>0</td>\n",
              "      <td>1</td>\n",
              "      <td>80</td>\n",
              "      <td>-10.678496</td>\n",
              "      <td>0.503870</td>\n",
              "      <td>12.918466</td>\n",
              "      <td>52.411175</td>\n",
              "      <td>22.646947</td>\n",
              "      <td>43.864932</td>\n",
              "      <td>65.958697</td>\n",
              "      <td>28.132706</td>\n",
              "      <td>31.883501</td>\n",
              "      <td>43.212053</td>\n",
              "      <td>53.934877</td>\n",
              "      <td>11.865607</td>\n",
              "      <td>7</td>\n",
              "    </tr>\n",
              "    <tr>\n",
              "      <th>32647</th>\n",
              "      <td>0.077024</td>\n",
              "      <td>0.683368</td>\n",
              "      <td>6</td>\n",
              "      <td>4</td>\n",
              "      <td>0.113637</td>\n",
              "      <td>-3.762734</td>\n",
              "      <td>0</td>\n",
              "      <td>0.043470</td>\n",
              "      <td>2</td>\n",
              "      <td>3</td>\n",
              "      <td>0.395992</td>\n",
              "      <td>4</td>\n",
              "      <td>2</td>\n",
              "      <td>-5.954191</td>\n",
              "      <td>3.096150</td>\n",
              "      <td>117.701192</td>\n",
              "      <td>0.818191</td>\n",
              "      <td>0</td>\n",
              "      <td>0</td>\n",
              "      <td>1</td>\n",
              "      <td>80</td>\n",
              "      <td>-1.490012</td>\n",
              "      <td>0.673012</td>\n",
              "      <td>36.311843</td>\n",
              "      <td>23.629041</td>\n",
              "      <td>9.063719</td>\n",
              "      <td>69.840801</td>\n",
              "      <td>38.188354</td>\n",
              "      <td>53.024803</td>\n",
              "      <td>3.240642</td>\n",
              "      <td>14.706241</td>\n",
              "      <td>28.375160</td>\n",
              "      <td>23.516538</td>\n",
              "      <td>9</td>\n",
              "    </tr>\n",
              "    <tr>\n",
              "      <th>20775</th>\n",
              "      <td>0.519481</td>\n",
              "      <td>0.313605</td>\n",
              "      <td>3</td>\n",
              "      <td>0</td>\n",
              "      <td>0.104981</td>\n",
              "      <td>-12.272236</td>\n",
              "      <td>1</td>\n",
              "      <td>0.059042</td>\n",
              "      <td>3</td>\n",
              "      <td>3</td>\n",
              "      <td>0.474223</td>\n",
              "      <td>5</td>\n",
              "      <td>2</td>\n",
              "      <td>-5.676054</td>\n",
              "      <td>2.749583</td>\n",
              "      <td>127.352201</td>\n",
              "      <td>0.487660</td>\n",
              "      <td>0</td>\n",
              "      <td>0</td>\n",
              "      <td>1</td>\n",
              "      <td>80</td>\n",
              "      <td>-5.819774</td>\n",
              "      <td>0.622369</td>\n",
              "      <td>26.574678</td>\n",
              "      <td>33.679147</td>\n",
              "      <td>6.307201</td>\n",
              "      <td>60.533701</td>\n",
              "      <td>47.406720</td>\n",
              "      <td>43.863671</td>\n",
              "      <td>13.601788</td>\n",
              "      <td>24.433585</td>\n",
              "      <td>35.620082</td>\n",
              "      <td>14.548023</td>\n",
              "      <td>2</td>\n",
              "    </tr>\n",
              "    <tr>\n",
              "      <th>3939</th>\n",
              "      <td>0.638099</td>\n",
              "      <td>0.693150</td>\n",
              "      <td>5</td>\n",
              "      <td>7</td>\n",
              "      <td>0.083411</td>\n",
              "      <td>-9.002265</td>\n",
              "      <td>1</td>\n",
              "      <td>0.121997</td>\n",
              "      <td>1</td>\n",
              "      <td>4</td>\n",
              "      <td>0.440677</td>\n",
              "      <td>4</td>\n",
              "      <td>2</td>\n",
              "      <td>-6.645917</td>\n",
              "      <td>3.218800</td>\n",
              "      <td>91.189889</td>\n",
              "      <td>0.665274</td>\n",
              "      <td>0</td>\n",
              "      <td>0</td>\n",
              "      <td>1</td>\n",
              "      <td>60</td>\n",
              "      <td>-3.967095</td>\n",
              "      <td>0.643600</td>\n",
              "      <td>62.383318</td>\n",
              "      <td>4.217051</td>\n",
              "      <td>34.672571</td>\n",
              "      <td>96.330184</td>\n",
              "      <td>11.227924</td>\n",
              "      <td>79.504529</td>\n",
              "      <td>25.182231</td>\n",
              "      <td>12.625104</td>\n",
              "      <td>6.058414</td>\n",
              "      <td>49.614881</td>\n",
              "      <td>4</td>\n",
              "    </tr>\n",
              "    <tr>\n",
              "      <th>...</th>\n",
              "      <td>...</td>\n",
              "      <td>...</td>\n",
              "      <td>...</td>\n",
              "      <td>...</td>\n",
              "      <td>...</td>\n",
              "      <td>...</td>\n",
              "      <td>...</td>\n",
              "      <td>...</td>\n",
              "      <td>...</td>\n",
              "      <td>...</td>\n",
              "      <td>...</td>\n",
              "      <td>...</td>\n",
              "      <td>...</td>\n",
              "      <td>...</td>\n",
              "      <td>...</td>\n",
              "      <td>...</td>\n",
              "      <td>...</td>\n",
              "      <td>...</td>\n",
              "      <td>...</td>\n",
              "      <td>...</td>\n",
              "      <td>...</td>\n",
              "      <td>...</td>\n",
              "      <td>...</td>\n",
              "      <td>...</td>\n",
              "      <td>...</td>\n",
              "      <td>...</td>\n",
              "      <td>...</td>\n",
              "      <td>...</td>\n",
              "      <td>...</td>\n",
              "      <td>...</td>\n",
              "      <td>...</td>\n",
              "      <td>...</td>\n",
              "      <td>...</td>\n",
              "      <td>...</td>\n",
              "    </tr>\n",
              "    <tr>\n",
              "      <th>5483</th>\n",
              "      <td>0.010578</td>\n",
              "      <td>0.115379</td>\n",
              "      <td>6</td>\n",
              "      <td>4</td>\n",
              "      <td>0.079407</td>\n",
              "      <td>-4.426479</td>\n",
              "      <td>1</td>\n",
              "      <td>0.076734</td>\n",
              "      <td>5</td>\n",
              "      <td>4</td>\n",
              "      <td>0.413834</td>\n",
              "      <td>5</td>\n",
              "      <td>3</td>\n",
              "      <td>-5.578360</td>\n",
              "      <td>4.189817</td>\n",
              "      <td>172.358588</td>\n",
              "      <td>0.865978</td>\n",
              "      <td>0</td>\n",
              "      <td>0</td>\n",
              "      <td>1</td>\n",
              "      <td>60</td>\n",
              "      <td>-1.831829</td>\n",
              "      <td>0.661110</td>\n",
              "      <td>19.487136</td>\n",
              "      <td>78.077758</td>\n",
              "      <td>46.701744</td>\n",
              "      <td>15.316773</td>\n",
              "      <td>92.473298</td>\n",
              "      <td>3.087720</td>\n",
              "      <td>56.307621</td>\n",
              "      <td>68.820720</td>\n",
              "      <td>81.299541</td>\n",
              "      <td>31.846907</td>\n",
              "      <td>6</td>\n",
              "    </tr>\n",
              "    <tr>\n",
              "      <th>33018</th>\n",
              "      <td>0.386938</td>\n",
              "      <td>0.843396</td>\n",
              "      <td>5</td>\n",
              "      <td>5</td>\n",
              "      <td>0.109416</td>\n",
              "      <td>-7.055798</td>\n",
              "      <td>1</td>\n",
              "      <td>0.045598</td>\n",
              "      <td>4</td>\n",
              "      <td>3</td>\n",
              "      <td>0.753327</td>\n",
              "      <td>4</td>\n",
              "      <td>2</td>\n",
              "      <td>-6.371021</td>\n",
              "      <td>3.067840</td>\n",
              "      <td>141.341437</td>\n",
              "      <td>0.660863</td>\n",
              "      <td>0</td>\n",
              "      <td>0</td>\n",
              "      <td>2</td>\n",
              "      <td>80</td>\n",
              "      <td>-5.315322</td>\n",
              "      <td>0.470798</td>\n",
              "      <td>12.363486</td>\n",
              "      <td>47.031666</td>\n",
              "      <td>15.627698</td>\n",
              "      <td>46.206696</td>\n",
              "      <td>61.326620</td>\n",
              "      <td>29.391416</td>\n",
              "      <td>25.353217</td>\n",
              "      <td>37.721150</td>\n",
              "      <td>50.125053</td>\n",
              "      <td>1.439871</td>\n",
              "      <td>7</td>\n",
              "    </tr>\n",
              "    <tr>\n",
              "      <th>8442</th>\n",
              "      <td>0.120464</td>\n",
              "      <td>0.724195</td>\n",
              "      <td>7</td>\n",
              "      <td>1</td>\n",
              "      <td>0.117277</td>\n",
              "      <td>-4.754668</td>\n",
              "      <td>1</td>\n",
              "      <td>0.173324</td>\n",
              "      <td>3</td>\n",
              "      <td>4</td>\n",
              "      <td>0.548428</td>\n",
              "      <td>4</td>\n",
              "      <td>2</td>\n",
              "      <td>-6.425234</td>\n",
              "      <td>2.979650</td>\n",
              "      <td>122.384144</td>\n",
              "      <td>0.928880</td>\n",
              "      <td>0</td>\n",
              "      <td>1</td>\n",
              "      <td>1</td>\n",
              "      <td>60</td>\n",
              "      <td>-2.607593</td>\n",
              "      <td>0.577858</td>\n",
              "      <td>31.554055</td>\n",
              "      <td>28.182217</td>\n",
              "      <td>4.674904</td>\n",
              "      <td>65.130962</td>\n",
              "      <td>42.702101</td>\n",
              "      <td>48.304824</td>\n",
              "      <td>6.547999</td>\n",
              "      <td>19.054913</td>\n",
              "      <td>32.426812</td>\n",
              "      <td>18.752395</td>\n",
              "      <td>2</td>\n",
              "    </tr>\n",
              "    <tr>\n",
              "      <th>34448</th>\n",
              "      <td>0.060739</td>\n",
              "      <td>0.655377</td>\n",
              "      <td>4</td>\n",
              "      <td>7</td>\n",
              "      <td>0.119043</td>\n",
              "      <td>-7.104308</td>\n",
              "      <td>1</td>\n",
              "      <td>0.174999</td>\n",
              "      <td>2</td>\n",
              "      <td>3</td>\n",
              "      <td>0.740933</td>\n",
              "      <td>4</td>\n",
              "      <td>2</td>\n",
              "      <td>-5.986103</td>\n",
              "      <td>3.135317</td>\n",
              "      <td>100.786680</td>\n",
              "      <td>0.612398</td>\n",
              "      <td>0</td>\n",
              "      <td>1</td>\n",
              "      <td>2</td>\n",
              "      <td>80</td>\n",
              "      <td>-5.263814</td>\n",
              "      <td>0.476669</td>\n",
              "      <td>52.802268</td>\n",
              "      <td>6.748247</td>\n",
              "      <td>25.072537</td>\n",
              "      <td>86.734875</td>\n",
              "      <td>20.847686</td>\n",
              "      <td>69.902083</td>\n",
              "      <td>15.586364</td>\n",
              "      <td>3.256370</td>\n",
              "      <td>11.568084</td>\n",
              "      <td>40.008270</td>\n",
              "      <td>0</td>\n",
              "    </tr>\n",
              "    <tr>\n",
              "      <th>13432</th>\n",
              "      <td>0.906296</td>\n",
              "      <td>0.332455</td>\n",
              "      <td>3</td>\n",
              "      <td>7</td>\n",
              "      <td>0.154266</td>\n",
              "      <td>-10.684097</td>\n",
              "      <td>0</td>\n",
              "      <td>0.049284</td>\n",
              "      <td>1</td>\n",
              "      <td>2</td>\n",
              "      <td>0.146150</td>\n",
              "      <td>5</td>\n",
              "      <td>2</td>\n",
              "      <td>-5.506745</td>\n",
              "      <td>3.026230</td>\n",
              "      <td>89.540412</td>\n",
              "      <td>0.420714</td>\n",
              "      <td>0</td>\n",
              "      <td>0</td>\n",
              "      <td>0</td>\n",
              "      <td>120</td>\n",
              "      <td>-1.561478</td>\n",
              "      <td>0.864028</td>\n",
              "      <td>64.143520</td>\n",
              "      <td>7.250963</td>\n",
              "      <td>36.595431</td>\n",
              "      <td>98.076903</td>\n",
              "      <td>10.037544</td>\n",
              "      <td>81.284601</td>\n",
              "      <td>27.307123</td>\n",
              "      <td>14.947999</td>\n",
              "      <td>5.618335</td>\n",
              "      <td>51.450770</td>\n",
              "      <td>4</td>\n",
              "    </tr>\n",
              "  </tbody>\n",
              "</table>\n",
              "<p>31832 rows × 34 columns</p>\n",
              "</div>\n",
              "      <button class=\"colab-df-convert\" onclick=\"convertToInteractive('df-6aad4ead-0161-4d56-a63e-c0d64f5a9494')\"\n",
              "              title=\"Convert this dataframe to an interactive table.\"\n",
              "              style=\"display:none;\">\n",
              "        \n",
              "  <svg xmlns=\"http://www.w3.org/2000/svg\" height=\"24px\"viewBox=\"0 0 24 24\"\n",
              "       width=\"24px\">\n",
              "    <path d=\"M0 0h24v24H0V0z\" fill=\"none\"/>\n",
              "    <path d=\"M18.56 5.44l.94 2.06.94-2.06 2.06-.94-2.06-.94-.94-2.06-.94 2.06-2.06.94zm-11 1L8.5 8.5l.94-2.06 2.06-.94-2.06-.94L8.5 2.5l-.94 2.06-2.06.94zm10 10l.94 2.06.94-2.06 2.06-.94-2.06-.94-.94-2.06-.94 2.06-2.06.94z\"/><path d=\"M17.41 7.96l-1.37-1.37c-.4-.4-.92-.59-1.43-.59-.52 0-1.04.2-1.43.59L10.3 9.45l-7.72 7.72c-.78.78-.78 2.05 0 2.83L4 21.41c.39.39.9.59 1.41.59.51 0 1.02-.2 1.41-.59l7.78-7.78 2.81-2.81c.8-.78.8-2.07 0-2.86zM5.41 20L4 18.59l7.72-7.72 1.47 1.35L5.41 20z\"/>\n",
              "  </svg>\n",
              "      </button>\n",
              "      \n",
              "  <style>\n",
              "    .colab-df-container {\n",
              "      display:flex;\n",
              "      flex-wrap:wrap;\n",
              "      gap: 12px;\n",
              "    }\n",
              "\n",
              "    .colab-df-convert {\n",
              "      background-color: #E8F0FE;\n",
              "      border: none;\n",
              "      border-radius: 50%;\n",
              "      cursor: pointer;\n",
              "      display: none;\n",
              "      fill: #1967D2;\n",
              "      height: 32px;\n",
              "      padding: 0 0 0 0;\n",
              "      width: 32px;\n",
              "    }\n",
              "\n",
              "    .colab-df-convert:hover {\n",
              "      background-color: #E2EBFA;\n",
              "      box-shadow: 0px 1px 2px rgba(60, 64, 67, 0.3), 0px 1px 3px 1px rgba(60, 64, 67, 0.15);\n",
              "      fill: #174EA6;\n",
              "    }\n",
              "\n",
              "    [theme=dark] .colab-df-convert {\n",
              "      background-color: #3B4455;\n",
              "      fill: #D2E3FC;\n",
              "    }\n",
              "\n",
              "    [theme=dark] .colab-df-convert:hover {\n",
              "      background-color: #434B5C;\n",
              "      box-shadow: 0px 1px 3px 1px rgba(0, 0, 0, 0.15);\n",
              "      filter: drop-shadow(0px 1px 2px rgba(0, 0, 0, 0.3));\n",
              "      fill: #FFFFFF;\n",
              "    }\n",
              "  </style>\n",
              "\n",
              "      <script>\n",
              "        const buttonEl =\n",
              "          document.querySelector('#df-6aad4ead-0161-4d56-a63e-c0d64f5a9494 button.colab-df-convert');\n",
              "        buttonEl.style.display =\n",
              "          google.colab.kernel.accessAllowed ? 'block' : 'none';\n",
              "\n",
              "        async function convertToInteractive(key) {\n",
              "          const element = document.querySelector('#df-6aad4ead-0161-4d56-a63e-c0d64f5a9494');\n",
              "          const dataTable =\n",
              "            await google.colab.kernel.invokeFunction('convertToInteractive',\n",
              "                                                     [key], {});\n",
              "          if (!dataTable) return;\n",
              "\n",
              "          const docLinkHtml = 'Like what you see? Visit the ' +\n",
              "            '<a target=\"_blank\" href=https://colab.research.google.com/notebooks/data_table.ipynb>data table notebook</a>'\n",
              "            + ' to learn more about interactive tables.';\n",
              "          element.innerHTML = '';\n",
              "          dataTable['output_type'] = 'display_data';\n",
              "          await google.colab.output.renderOutput(dataTable, element);\n",
              "          const docLink = document.createElement('div');\n",
              "          docLink.innerHTML = docLinkHtml;\n",
              "          element.appendChild(docLink);\n",
              "        }\n",
              "      </script>\n",
              "    </div>\n",
              "  </div>\n",
              "  "
            ],
            "text/plain": [
              "       acousticness  danceability energy  ...   cluster9  cluster10  year_cluster\n",
              "38754      0.171518      0.771586      3  ...   1.798989  49.682087             4\n",
              "33824      0.020867      0.425238      5  ...  53.934877  11.865607             7\n",
              "32647      0.077024      0.683368      6  ...  28.375160  23.516538             9\n",
              "20775      0.519481      0.313605      3  ...  35.620082  14.548023             2\n",
              "3939       0.638099      0.693150      5  ...   6.058414  49.614881             4\n",
              "...             ...           ...    ...  ...        ...        ...           ...\n",
              "5483       0.010578      0.115379      6  ...  81.299541  31.846907             6\n",
              "33018      0.386938      0.843396      5  ...  50.125053   1.439871             7\n",
              "8442       0.120464      0.724195      7  ...  32.426812  18.752395             2\n",
              "34448      0.060739      0.655377      4  ...  11.568084  40.008270             0\n",
              "13432      0.906296      0.332455      3  ...   5.618335  51.450770             4\n",
              "\n",
              "[31832 rows x 34 columns]"
            ]
          },
          "metadata": {},
          "execution_count": 837
        }
      ]
    },
    {
      "cell_type": "code",
      "source": [
        "n_splits = 5\n",
        "cv = StratifiedKFold(n_splits=n_splits, shuffle=True, random_state=1)"
      ],
      "metadata": {
        "id": "1dLL5KDu9jIu"
      },
      "execution_count": 838,
      "outputs": []
    },
    {
      "cell_type": "markdown",
      "source": [
        "# Search for HGB"
      ],
      "metadata": {
        "id": "-UiT7Uw2-QqT"
      }
    },
    {
      "cell_type": "code",
      "source": [
        "model_hgb.fit(data,target)"
      ],
      "metadata": {
        "colab": {
          "base_uri": "https://localhost:8080/",
          "height": 192
        },
        "id": "0J7VKW7cfY1A",
        "outputId": "a41681ca-23cd-440c-b87a-28ca507f97ae"
      },
      "execution_count": 839,
      "outputs": [
        {
          "output_type": "execute_result",
          "data": {
            "text/html": [
              "<style>#sk-7e9a088f-c5af-4abb-85ed-d9e95e814f98 {color: black;background-color: white;}#sk-7e9a088f-c5af-4abb-85ed-d9e95e814f98 pre{padding: 0;}#sk-7e9a088f-c5af-4abb-85ed-d9e95e814f98 div.sk-toggleable {background-color: white;}#sk-7e9a088f-c5af-4abb-85ed-d9e95e814f98 label.sk-toggleable__label {cursor: pointer;display: block;width: 100%;margin-bottom: 0;padding: 0.3em;box-sizing: border-box;text-align: center;}#sk-7e9a088f-c5af-4abb-85ed-d9e95e814f98 label.sk-toggleable__label-arrow:before {content: \"▸\";float: left;margin-right: 0.25em;color: #696969;}#sk-7e9a088f-c5af-4abb-85ed-d9e95e814f98 label.sk-toggleable__label-arrow:hover:before {color: black;}#sk-7e9a088f-c5af-4abb-85ed-d9e95e814f98 div.sk-estimator:hover label.sk-toggleable__label-arrow:before {color: black;}#sk-7e9a088f-c5af-4abb-85ed-d9e95e814f98 div.sk-toggleable__content {max-height: 0;max-width: 0;overflow: hidden;text-align: left;background-color: #f0f8ff;}#sk-7e9a088f-c5af-4abb-85ed-d9e95e814f98 div.sk-toggleable__content pre {margin: 0.2em;color: black;border-radius: 0.25em;background-color: #f0f8ff;}#sk-7e9a088f-c5af-4abb-85ed-d9e95e814f98 input.sk-toggleable__control:checked~div.sk-toggleable__content {max-height: 200px;max-width: 100%;overflow: auto;}#sk-7e9a088f-c5af-4abb-85ed-d9e95e814f98 input.sk-toggleable__control:checked~label.sk-toggleable__label-arrow:before {content: \"▾\";}#sk-7e9a088f-c5af-4abb-85ed-d9e95e814f98 div.sk-estimator input.sk-toggleable__control:checked~label.sk-toggleable__label {background-color: #d4ebff;}#sk-7e9a088f-c5af-4abb-85ed-d9e95e814f98 div.sk-label input.sk-toggleable__control:checked~label.sk-toggleable__label {background-color: #d4ebff;}#sk-7e9a088f-c5af-4abb-85ed-d9e95e814f98 input.sk-hidden--visually {border: 0;clip: rect(1px 1px 1px 1px);clip: rect(1px, 1px, 1px, 1px);height: 1px;margin: -1px;overflow: hidden;padding: 0;position: absolute;width: 1px;}#sk-7e9a088f-c5af-4abb-85ed-d9e95e814f98 div.sk-estimator {font-family: monospace;background-color: #f0f8ff;border: 1px dotted black;border-radius: 0.25em;box-sizing: border-box;margin-bottom: 0.5em;}#sk-7e9a088f-c5af-4abb-85ed-d9e95e814f98 div.sk-estimator:hover {background-color: #d4ebff;}#sk-7e9a088f-c5af-4abb-85ed-d9e95e814f98 div.sk-parallel-item::after {content: \"\";width: 100%;border-bottom: 1px solid gray;flex-grow: 1;}#sk-7e9a088f-c5af-4abb-85ed-d9e95e814f98 div.sk-label:hover label.sk-toggleable__label {background-color: #d4ebff;}#sk-7e9a088f-c5af-4abb-85ed-d9e95e814f98 div.sk-serial::before {content: \"\";position: absolute;border-left: 1px solid gray;box-sizing: border-box;top: 2em;bottom: 0;left: 50%;}#sk-7e9a088f-c5af-4abb-85ed-d9e95e814f98 div.sk-serial {display: flex;flex-direction: column;align-items: center;background-color: white;padding-right: 0.2em;padding-left: 0.2em;}#sk-7e9a088f-c5af-4abb-85ed-d9e95e814f98 div.sk-item {z-index: 1;}#sk-7e9a088f-c5af-4abb-85ed-d9e95e814f98 div.sk-parallel {display: flex;align-items: stretch;justify-content: center;background-color: white;}#sk-7e9a088f-c5af-4abb-85ed-d9e95e814f98 div.sk-parallel::before {content: \"\";position: absolute;border-left: 1px solid gray;box-sizing: border-box;top: 2em;bottom: 0;left: 50%;}#sk-7e9a088f-c5af-4abb-85ed-d9e95e814f98 div.sk-parallel-item {display: flex;flex-direction: column;position: relative;background-color: white;}#sk-7e9a088f-c5af-4abb-85ed-d9e95e814f98 div.sk-parallel-item:first-child::after {align-self: flex-end;width: 50%;}#sk-7e9a088f-c5af-4abb-85ed-d9e95e814f98 div.sk-parallel-item:last-child::after {align-self: flex-start;width: 50%;}#sk-7e9a088f-c5af-4abb-85ed-d9e95e814f98 div.sk-parallel-item:only-child::after {width: 0;}#sk-7e9a088f-c5af-4abb-85ed-d9e95e814f98 div.sk-dashed-wrapped {border: 1px dashed gray;margin: 0 0.4em 0.5em 0.4em;box-sizing: border-box;padding-bottom: 0.4em;background-color: white;position: relative;}#sk-7e9a088f-c5af-4abb-85ed-d9e95e814f98 div.sk-label label {font-family: monospace;font-weight: bold;background-color: white;display: inline-block;line-height: 1.2em;}#sk-7e9a088f-c5af-4abb-85ed-d9e95e814f98 div.sk-label-container {position: relative;z-index: 2;text-align: center;}#sk-7e9a088f-c5af-4abb-85ed-d9e95e814f98 div.sk-container {/* jupyter's `normalize.less` sets `[hidden] { display: none; }` but bootstrap.min.css set `[hidden] { display: none !important; }` so we also need the `!important` here to be able to override the default hidden behavior on the sphinx rendered scikit-learn.org. See: https://github.com/scikit-learn/scikit-learn/issues/21755 */display: inline-block !important;position: relative;}#sk-7e9a088f-c5af-4abb-85ed-d9e95e814f98 div.sk-text-repr-fallback {display: none;}</style><div id=\"sk-7e9a088f-c5af-4abb-85ed-d9e95e814f98\" class=\"sk-top-container\"><div class=\"sk-text-repr-fallback\"><pre>Pipeline(steps=[(&#x27;columntransformer&#x27;,\n",
              "                 ColumnTransformer(remainder=&#x27;passthrough&#x27;,\n",
              "                                   transformers=[(&#x27;standardscaler&#x27;,\n",
              "                                                  StandardScaler(),\n",
              "                                                  [&#x27;acousticness&#x27;,\n",
              "                                                   &#x27;danceability&#x27;, &#x27;energy&#x27;,\n",
              "                                                   &#x27;liveness&#x27;, &#x27;loudness&#x27;,\n",
              "                                                   &#x27;speechiness&#x27;,\n",
              "                                                   &#x27;audio_valence&#x27;,\n",
              "                                                   &#x27;log_ins_cont&#x27;,\n",
              "                                                   &#x27;song_duration_m_cont&#x27;,\n",
              "                                                   &#x27;tempo_cont&#x27;, &#x27;energy_cont&#x27;,\n",
              "                                                   &#x27;f1&#x27;, &#x27;f2&#x27;, &#x27;cluster1&#x27;,\n",
              "                                                   &#x27;cluster2&#x27;, &#x27;cluster3&#x27;,\n",
              "                                                   &#x27;cluster4&#x27;, &#x27;cluster5&#x27;,\n",
              "                                                   &#x27;cluster6&#x27;, &#x27;cluster7&#x27;,\n",
              "                                                   &#x27;cluster8&#x27;, &#x27;cluster9&#x27;,\n",
              "                                                   &#x27;cluster10&#x27;])])),\n",
              "                (&#x27;histgradientboostingclassifier&#x27;,\n",
              "                 HistGradientBoostingClassifier(scoring=&#x27;roc_auc&#x27;))])</pre><b>Please rerun this cell to show the HTML repr or trust the notebook.</b></div><div class=\"sk-container\" hidden><div class=\"sk-item sk-dashed-wrapped\"><div class=\"sk-label-container\"><div class=\"sk-label sk-toggleable\"><input class=\"sk-toggleable__control sk-hidden--visually\" id=\"07207b01-ff3b-431f-b16e-bde8bf5d5e0d\" type=\"checkbox\" ><label for=\"07207b01-ff3b-431f-b16e-bde8bf5d5e0d\" class=\"sk-toggleable__label sk-toggleable__label-arrow\">Pipeline</label><div class=\"sk-toggleable__content\"><pre>Pipeline(steps=[(&#x27;columntransformer&#x27;,\n",
              "                 ColumnTransformer(remainder=&#x27;passthrough&#x27;,\n",
              "                                   transformers=[(&#x27;standardscaler&#x27;,\n",
              "                                                  StandardScaler(),\n",
              "                                                  [&#x27;acousticness&#x27;,\n",
              "                                                   &#x27;danceability&#x27;, &#x27;energy&#x27;,\n",
              "                                                   &#x27;liveness&#x27;, &#x27;loudness&#x27;,\n",
              "                                                   &#x27;speechiness&#x27;,\n",
              "                                                   &#x27;audio_valence&#x27;,\n",
              "                                                   &#x27;log_ins_cont&#x27;,\n",
              "                                                   &#x27;song_duration_m_cont&#x27;,\n",
              "                                                   &#x27;tempo_cont&#x27;, &#x27;energy_cont&#x27;,\n",
              "                                                   &#x27;f1&#x27;, &#x27;f2&#x27;, &#x27;cluster1&#x27;,\n",
              "                                                   &#x27;cluster2&#x27;, &#x27;cluster3&#x27;,\n",
              "                                                   &#x27;cluster4&#x27;, &#x27;cluster5&#x27;,\n",
              "                                                   &#x27;cluster6&#x27;, &#x27;cluster7&#x27;,\n",
              "                                                   &#x27;cluster8&#x27;, &#x27;cluster9&#x27;,\n",
              "                                                   &#x27;cluster10&#x27;])])),\n",
              "                (&#x27;histgradientboostingclassifier&#x27;,\n",
              "                 HistGradientBoostingClassifier(scoring=&#x27;roc_auc&#x27;))])</pre></div></div></div><div class=\"sk-serial\"><div class=\"sk-item sk-dashed-wrapped\"><div class=\"sk-label-container\"><div class=\"sk-label sk-toggleable\"><input class=\"sk-toggleable__control sk-hidden--visually\" id=\"4dd6ec66-7f97-4007-bc2e-bf52341bc16c\" type=\"checkbox\" ><label for=\"4dd6ec66-7f97-4007-bc2e-bf52341bc16c\" class=\"sk-toggleable__label sk-toggleable__label-arrow\">columntransformer: ColumnTransformer</label><div class=\"sk-toggleable__content\"><pre>ColumnTransformer(remainder=&#x27;passthrough&#x27;,\n",
              "                  transformers=[(&#x27;standardscaler&#x27;, StandardScaler(),\n",
              "                                 [&#x27;acousticness&#x27;, &#x27;danceability&#x27;, &#x27;energy&#x27;,\n",
              "                                  &#x27;liveness&#x27;, &#x27;loudness&#x27;, &#x27;speechiness&#x27;,\n",
              "                                  &#x27;audio_valence&#x27;, &#x27;log_ins_cont&#x27;,\n",
              "                                  &#x27;song_duration_m_cont&#x27;, &#x27;tempo_cont&#x27;,\n",
              "                                  &#x27;energy_cont&#x27;, &#x27;f1&#x27;, &#x27;f2&#x27;, &#x27;cluster1&#x27;,\n",
              "                                  &#x27;cluster2&#x27;, &#x27;cluster3&#x27;, &#x27;cluster4&#x27;,\n",
              "                                  &#x27;cluster5&#x27;, &#x27;cluster6&#x27;, &#x27;cluster7&#x27;,\n",
              "                                  &#x27;cluster8&#x27;, &#x27;cluster9&#x27;, &#x27;cluster10&#x27;])])</pre></div></div></div><div class=\"sk-parallel\"><div class=\"sk-parallel-item\"><div class=\"sk-item\"><div class=\"sk-label-container\"><div class=\"sk-label sk-toggleable\"><input class=\"sk-toggleable__control sk-hidden--visually\" id=\"39a7b6d2-0616-4060-8fef-12f056348e17\" type=\"checkbox\" ><label for=\"39a7b6d2-0616-4060-8fef-12f056348e17\" class=\"sk-toggleable__label sk-toggleable__label-arrow\">standardscaler</label><div class=\"sk-toggleable__content\"><pre>[&#x27;acousticness&#x27;, &#x27;danceability&#x27;, &#x27;energy&#x27;, &#x27;liveness&#x27;, &#x27;loudness&#x27;, &#x27;speechiness&#x27;, &#x27;audio_valence&#x27;, &#x27;log_ins_cont&#x27;, &#x27;song_duration_m_cont&#x27;, &#x27;tempo_cont&#x27;, &#x27;energy_cont&#x27;, &#x27;f1&#x27;, &#x27;f2&#x27;, &#x27;cluster1&#x27;, &#x27;cluster2&#x27;, &#x27;cluster3&#x27;, &#x27;cluster4&#x27;, &#x27;cluster5&#x27;, &#x27;cluster6&#x27;, &#x27;cluster7&#x27;, &#x27;cluster8&#x27;, &#x27;cluster9&#x27;, &#x27;cluster10&#x27;]</pre></div></div></div><div class=\"sk-serial\"><div class=\"sk-item\"><div class=\"sk-estimator sk-toggleable\"><input class=\"sk-toggleable__control sk-hidden--visually\" id=\"226537dd-66b7-4efa-b8c7-59ab9328a8b2\" type=\"checkbox\" ><label for=\"226537dd-66b7-4efa-b8c7-59ab9328a8b2\" class=\"sk-toggleable__label sk-toggleable__label-arrow\">StandardScaler</label><div class=\"sk-toggleable__content\"><pre>StandardScaler()</pre></div></div></div></div></div></div><div class=\"sk-parallel-item\"><div class=\"sk-item\"><div class=\"sk-label-container\"><div class=\"sk-label sk-toggleable\"><input class=\"sk-toggleable__control sk-hidden--visually\" id=\"5194ccdb-2a09-47ca-bd58-02403502e8c0\" type=\"checkbox\" ><label for=\"5194ccdb-2a09-47ca-bd58-02403502e8c0\" class=\"sk-toggleable__label sk-toggleable__label-arrow\">remainder</label><div class=\"sk-toggleable__content\"><pre>[&#x27;key&#x27;, &#x27;audio_mode&#x27;, &#x27;tempo&#x27;, &#x27;time_signature&#x27;, &#x27;log_ins&#x27;, &#x27;song_duration_m&#x27;, &#x27;is_live&#x27;, &#x27;speechiness_level&#x27;, &#x27;valence&#x27;, &#x27;bpm&#x27;, &#x27;year_cluster&#x27;]</pre></div></div></div><div class=\"sk-serial\"><div class=\"sk-item\"><div class=\"sk-estimator sk-toggleable\"><input class=\"sk-toggleable__control sk-hidden--visually\" id=\"237bea0f-bb04-4feb-a59d-01ba2f181dfb\" type=\"checkbox\" ><label for=\"237bea0f-bb04-4feb-a59d-01ba2f181dfb\" class=\"sk-toggleable__label sk-toggleable__label-arrow\">passthrough</label><div class=\"sk-toggleable__content\"><pre>passthrough</pre></div></div></div></div></div></div></div></div><div class=\"sk-item\"><div class=\"sk-estimator sk-toggleable\"><input class=\"sk-toggleable__control sk-hidden--visually\" id=\"95faf628-4b80-4f6f-8144-2fc70e207b14\" type=\"checkbox\" ><label for=\"95faf628-4b80-4f6f-8144-2fc70e207b14\" class=\"sk-toggleable__label sk-toggleable__label-arrow\">HistGradientBoostingClassifier</label><div class=\"sk-toggleable__content\"><pre>HistGradientBoostingClassifier(scoring=&#x27;roc_auc&#x27;)</pre></div></div></div></div></div></div></div>"
            ],
            "text/plain": [
              "Pipeline(steps=[('columntransformer',\n",
              "                 ColumnTransformer(remainder='passthrough',\n",
              "                                   transformers=[('standardscaler',\n",
              "                                                  StandardScaler(),\n",
              "                                                  ['acousticness',\n",
              "                                                   'danceability', 'energy',\n",
              "                                                   'liveness', 'loudness',\n",
              "                                                   'speechiness',\n",
              "                                                   'audio_valence',\n",
              "                                                   'log_ins_cont',\n",
              "                                                   'song_duration_m_cont',\n",
              "                                                   'tempo_cont', 'energy_cont',\n",
              "                                                   'f1', 'f2', 'cluster1',\n",
              "                                                   'cluster2', 'cluster3',\n",
              "                                                   'cluster4', 'cluster5',\n",
              "                                                   'cluster6', 'cluster7',\n",
              "                                                   'cluster8', 'cluster9',\n",
              "                                                   'cluster10'])])),\n",
              "                ('histgradientboostingclassifier',\n",
              "                 HistGradientBoostingClassifier(scoring='roc_auc'))])"
            ]
          },
          "metadata": {},
          "execution_count": 839
        }
      ]
    },
    {
      "cell_type": "code",
      "source": [
        "model_hgb.score(data, target), model_hgb.score(v_data, v_target)"
      ],
      "metadata": {
        "colab": {
          "base_uri": "https://localhost:8080/"
        },
        "id": "px30dBIk5Qj-",
        "outputId": "22c1cf1b-2523-42e0-a984-c803eefc7c25"
      },
      "execution_count": 840,
      "outputs": [
        {
          "output_type": "execute_result",
          "data": {
            "text/plain": [
              "(0.637880120633325, 0.6357582610880764)"
            ]
          },
          "metadata": {},
          "execution_count": 840
        }
      ]
    },
    {
      "cell_type": "code",
      "source": [
        "param_distrib_hgb = {\n",
        "    'histgradientboostingclassifier__l2_regularization': lognorm(1),\n",
        "    'histgradientboostingclassifier__learning_rate': lognorm(1),\n",
        "    'histgradientboostingclassifier__max_depth': [x for x in range(10,300,10)],\n",
        "    'histgradientboostingclassifier__max_iter': [x for x in range(5,200,20)],\n",
        "    'histgradientboostingclassifier__max_bins' : [x for x in range(len(cat_col_id),255,10)],\n",
        "}"
      ],
      "metadata": {
        "id": "zc5BGmoLIP_I"
      },
      "execution_count": 841,
      "outputs": []
    },
    {
      "cell_type": "code",
      "source": [
        "search_hgb = RandomizedSearchCV(model_hgb, param_distributions=param_distrib_hgb, \n",
        "                                scoring='roc_auc', n_jobs=4, cv=cv, n_iter=100)"
      ],
      "metadata": {
        "id": "w4Sox70I9gr3"
      },
      "execution_count": 842,
      "outputs": []
    },
    {
      "cell_type": "code",
      "source": [
        "search_hgb_results = search_hgb.fit(data, target)"
      ],
      "metadata": {
        "id": "6ImBlJrh9gr3"
      },
      "execution_count": 843,
      "outputs": []
    },
    {
      "cell_type": "code",
      "source": [
        "search_hgb_results.best_estimator_.score(data, target), search_hgb_results.best_estimator_.score(v_data, v_target)"
      ],
      "metadata": {
        "colab": {
          "base_uri": "https://localhost:8080/"
        },
        "outputId": "6cb332f1-532e-4465-c787-3a1230b40a29",
        "id": "aquUY1wM9w5M"
      },
      "execution_count": 844,
      "outputs": [
        {
          "output_type": "execute_result",
          "data": {
            "text/plain": [
              "(0.639545111837145, 0.6351300414624953)"
            ]
          },
          "metadata": {},
          "execution_count": 844
        }
      ]
    },
    {
      "cell_type": "code",
      "source": [
        "df_hgb = pd.DataFrame.from_records(search_hgb_results.cv_results_)\n",
        "df_hgb.columns = [name.split('__')[-1] for name in df_hgb.columns]\n",
        "df_hgb = df_hgb[[name for name in df_hgb.columns if 'time' not in name]]\n",
        "df_hgb = df_hgb.sort_values(by='rank_test_score').head(10)\n",
        "df_hgb"
      ],
      "metadata": {
        "colab": {
          "base_uri": "https://localhost:8080/",
          "height": 427
        },
        "id": "AuAvWprr9wWq",
        "outputId": "5fbd64d2-2f2e-495a-9eb9-2c08ecfc2717"
      },
      "execution_count": 845,
      "outputs": [
        {
          "output_type": "execute_result",
          "data": {
            "text/html": [
              "\n",
              "  <div id=\"df-7b7db82a-1c3c-4b45-9157-aa2247b66c23\">\n",
              "    <div class=\"colab-df-container\">\n",
              "      <div>\n",
              "<style scoped>\n",
              "    .dataframe tbody tr th:only-of-type {\n",
              "        vertical-align: middle;\n",
              "    }\n",
              "\n",
              "    .dataframe tbody tr th {\n",
              "        vertical-align: top;\n",
              "    }\n",
              "\n",
              "    .dataframe thead th {\n",
              "        text-align: right;\n",
              "    }\n",
              "</style>\n",
              "<table border=\"1\" class=\"dataframe\">\n",
              "  <thead>\n",
              "    <tr style=\"text-align: right;\">\n",
              "      <th></th>\n",
              "      <th>mean_test_score</th>\n",
              "      <th>l2_regularization</th>\n",
              "      <th>learning_rate</th>\n",
              "      <th>max_bins</th>\n",
              "      <th>max_depth</th>\n",
              "      <th>max_iter</th>\n",
              "      <th>params</th>\n",
              "      <th>rank_test_score</th>\n",
              "      <th>split0_test_score</th>\n",
              "      <th>split1_test_score</th>\n",
              "      <th>split2_test_score</th>\n",
              "      <th>split3_test_score</th>\n",
              "      <th>split4_test_score</th>\n",
              "      <th>std_test_score</th>\n",
              "    </tr>\n",
              "  </thead>\n",
              "  <tbody>\n",
              "    <tr>\n",
              "      <th>81</th>\n",
              "      <td>0.564613</td>\n",
              "      <td>8.23313</td>\n",
              "      <td>0.199865</td>\n",
              "      <td>52</td>\n",
              "      <td>50</td>\n",
              "      <td>25</td>\n",
              "      <td>{'histgradientboostingclassifier__l2_regulariz...</td>\n",
              "      <td>1</td>\n",
              "      <td>0.566619</td>\n",
              "      <td>0.559833</td>\n",
              "      <td>0.571730</td>\n",
              "      <td>0.567410</td>\n",
              "      <td>0.557474</td>\n",
              "      <td>0.005221</td>\n",
              "    </tr>\n",
              "    <tr>\n",
              "      <th>91</th>\n",
              "      <td>0.561939</td>\n",
              "      <td>2.84467</td>\n",
              "      <td>0.0737165</td>\n",
              "      <td>172</td>\n",
              "      <td>90</td>\n",
              "      <td>185</td>\n",
              "      <td>{'histgradientboostingclassifier__l2_regulariz...</td>\n",
              "      <td>2</td>\n",
              "      <td>0.562544</td>\n",
              "      <td>0.549860</td>\n",
              "      <td>0.573857</td>\n",
              "      <td>0.567956</td>\n",
              "      <td>0.555480</td>\n",
              "      <td>0.008558</td>\n",
              "    </tr>\n",
              "    <tr>\n",
              "      <th>44</th>\n",
              "      <td>0.560275</td>\n",
              "      <td>2.22283</td>\n",
              "      <td>0.390886</td>\n",
              "      <td>212</td>\n",
              "      <td>110</td>\n",
              "      <td>5</td>\n",
              "      <td>{'histgradientboostingclassifier__l2_regulariz...</td>\n",
              "      <td>3</td>\n",
              "      <td>0.559686</td>\n",
              "      <td>0.553414</td>\n",
              "      <td>0.570924</td>\n",
              "      <td>0.560771</td>\n",
              "      <td>0.556582</td>\n",
              "      <td>0.005911</td>\n",
              "    </tr>\n",
              "    <tr>\n",
              "      <th>97</th>\n",
              "      <td>0.559832</td>\n",
              "      <td>2.33514</td>\n",
              "      <td>0.324659</td>\n",
              "      <td>152</td>\n",
              "      <td>80</td>\n",
              "      <td>105</td>\n",
              "      <td>{'histgradientboostingclassifier__l2_regulariz...</td>\n",
              "      <td>4</td>\n",
              "      <td>0.565687</td>\n",
              "      <td>0.551682</td>\n",
              "      <td>0.570184</td>\n",
              "      <td>0.565269</td>\n",
              "      <td>0.546338</td>\n",
              "      <td>0.009160</td>\n",
              "    </tr>\n",
              "    <tr>\n",
              "      <th>21</th>\n",
              "      <td>0.557590</td>\n",
              "      <td>1.01436</td>\n",
              "      <td>0.183473</td>\n",
              "      <td>192</td>\n",
              "      <td>180</td>\n",
              "      <td>165</td>\n",
              "      <td>{'histgradientboostingclassifier__l2_regulariz...</td>\n",
              "      <td>5</td>\n",
              "      <td>0.554070</td>\n",
              "      <td>0.551635</td>\n",
              "      <td>0.568092</td>\n",
              "      <td>0.566245</td>\n",
              "      <td>0.547905</td>\n",
              "      <td>0.008085</td>\n",
              "    </tr>\n",
              "    <tr>\n",
              "      <th>47</th>\n",
              "      <td>0.557450</td>\n",
              "      <td>5.18935</td>\n",
              "      <td>0.256684</td>\n",
              "      <td>62</td>\n",
              "      <td>90</td>\n",
              "      <td>65</td>\n",
              "      <td>{'histgradientboostingclassifier__l2_regulariz...</td>\n",
              "      <td>6</td>\n",
              "      <td>0.551820</td>\n",
              "      <td>0.551560</td>\n",
              "      <td>0.568787</td>\n",
              "      <td>0.568574</td>\n",
              "      <td>0.546508</td>\n",
              "      <td>0.009364</td>\n",
              "    </tr>\n",
              "    <tr>\n",
              "      <th>85</th>\n",
              "      <td>0.557128</td>\n",
              "      <td>0.418202</td>\n",
              "      <td>0.256494</td>\n",
              "      <td>182</td>\n",
              "      <td>200</td>\n",
              "      <td>185</td>\n",
              "      <td>{'histgradientboostingclassifier__l2_regulariz...</td>\n",
              "      <td>7</td>\n",
              "      <td>0.554378</td>\n",
              "      <td>0.549819</td>\n",
              "      <td>0.570831</td>\n",
              "      <td>0.555130</td>\n",
              "      <td>0.555480</td>\n",
              "      <td>0.007148</td>\n",
              "    </tr>\n",
              "    <tr>\n",
              "      <th>99</th>\n",
              "      <td>0.556809</td>\n",
              "      <td>1.10264</td>\n",
              "      <td>0.61846</td>\n",
              "      <td>72</td>\n",
              "      <td>290</td>\n",
              "      <td>5</td>\n",
              "      <td>{'histgradientboostingclassifier__l2_regulariz...</td>\n",
              "      <td>8</td>\n",
              "      <td>0.553907</td>\n",
              "      <td>0.549356</td>\n",
              "      <td>0.558626</td>\n",
              "      <td>0.566072</td>\n",
              "      <td>0.556082</td>\n",
              "      <td>0.005543</td>\n",
              "    </tr>\n",
              "    <tr>\n",
              "      <th>39</th>\n",
              "      <td>0.556245</td>\n",
              "      <td>0.947475</td>\n",
              "      <td>0.396128</td>\n",
              "      <td>22</td>\n",
              "      <td>10</td>\n",
              "      <td>5</td>\n",
              "      <td>{'histgradientboostingclassifier__l2_regulariz...</td>\n",
              "      <td>9</td>\n",
              "      <td>0.547509</td>\n",
              "      <td>0.550292</td>\n",
              "      <td>0.572003</td>\n",
              "      <td>0.548606</td>\n",
              "      <td>0.562814</td>\n",
              "      <td>0.009608</td>\n",
              "    </tr>\n",
              "    <tr>\n",
              "      <th>51</th>\n",
              "      <td>0.555381</td>\n",
              "      <td>0.788724</td>\n",
              "      <td>0.432466</td>\n",
              "      <td>32</td>\n",
              "      <td>20</td>\n",
              "      <td>125</td>\n",
              "      <td>{'histgradientboostingclassifier__l2_regulariz...</td>\n",
              "      <td>10</td>\n",
              "      <td>0.553252</td>\n",
              "      <td>0.550544</td>\n",
              "      <td>0.566584</td>\n",
              "      <td>0.554790</td>\n",
              "      <td>0.551736</td>\n",
              "      <td>0.005781</td>\n",
              "    </tr>\n",
              "  </tbody>\n",
              "</table>\n",
              "</div>\n",
              "      <button class=\"colab-df-convert\" onclick=\"convertToInteractive('df-7b7db82a-1c3c-4b45-9157-aa2247b66c23')\"\n",
              "              title=\"Convert this dataframe to an interactive table.\"\n",
              "              style=\"display:none;\">\n",
              "        \n",
              "  <svg xmlns=\"http://www.w3.org/2000/svg\" height=\"24px\"viewBox=\"0 0 24 24\"\n",
              "       width=\"24px\">\n",
              "    <path d=\"M0 0h24v24H0V0z\" fill=\"none\"/>\n",
              "    <path d=\"M18.56 5.44l.94 2.06.94-2.06 2.06-.94-2.06-.94-.94-2.06-.94 2.06-2.06.94zm-11 1L8.5 8.5l.94-2.06 2.06-.94-2.06-.94L8.5 2.5l-.94 2.06-2.06.94zm10 10l.94 2.06.94-2.06 2.06-.94-2.06-.94-.94-2.06-.94 2.06-2.06.94z\"/><path d=\"M17.41 7.96l-1.37-1.37c-.4-.4-.92-.59-1.43-.59-.52 0-1.04.2-1.43.59L10.3 9.45l-7.72 7.72c-.78.78-.78 2.05 0 2.83L4 21.41c.39.39.9.59 1.41.59.51 0 1.02-.2 1.41-.59l7.78-7.78 2.81-2.81c.8-.78.8-2.07 0-2.86zM5.41 20L4 18.59l7.72-7.72 1.47 1.35L5.41 20z\"/>\n",
              "  </svg>\n",
              "      </button>\n",
              "      \n",
              "  <style>\n",
              "    .colab-df-container {\n",
              "      display:flex;\n",
              "      flex-wrap:wrap;\n",
              "      gap: 12px;\n",
              "    }\n",
              "\n",
              "    .colab-df-convert {\n",
              "      background-color: #E8F0FE;\n",
              "      border: none;\n",
              "      border-radius: 50%;\n",
              "      cursor: pointer;\n",
              "      display: none;\n",
              "      fill: #1967D2;\n",
              "      height: 32px;\n",
              "      padding: 0 0 0 0;\n",
              "      width: 32px;\n",
              "    }\n",
              "\n",
              "    .colab-df-convert:hover {\n",
              "      background-color: #E2EBFA;\n",
              "      box-shadow: 0px 1px 2px rgba(60, 64, 67, 0.3), 0px 1px 3px 1px rgba(60, 64, 67, 0.15);\n",
              "      fill: #174EA6;\n",
              "    }\n",
              "\n",
              "    [theme=dark] .colab-df-convert {\n",
              "      background-color: #3B4455;\n",
              "      fill: #D2E3FC;\n",
              "    }\n",
              "\n",
              "    [theme=dark] .colab-df-convert:hover {\n",
              "      background-color: #434B5C;\n",
              "      box-shadow: 0px 1px 3px 1px rgba(0, 0, 0, 0.15);\n",
              "      filter: drop-shadow(0px 1px 2px rgba(0, 0, 0, 0.3));\n",
              "      fill: #FFFFFF;\n",
              "    }\n",
              "  </style>\n",
              "\n",
              "      <script>\n",
              "        const buttonEl =\n",
              "          document.querySelector('#df-7b7db82a-1c3c-4b45-9157-aa2247b66c23 button.colab-df-convert');\n",
              "        buttonEl.style.display =\n",
              "          google.colab.kernel.accessAllowed ? 'block' : 'none';\n",
              "\n",
              "        async function convertToInteractive(key) {\n",
              "          const element = document.querySelector('#df-7b7db82a-1c3c-4b45-9157-aa2247b66c23');\n",
              "          const dataTable =\n",
              "            await google.colab.kernel.invokeFunction('convertToInteractive',\n",
              "                                                     [key], {});\n",
              "          if (!dataTable) return;\n",
              "\n",
              "          const docLinkHtml = 'Like what you see? Visit the ' +\n",
              "            '<a target=\"_blank\" href=https://colab.research.google.com/notebooks/data_table.ipynb>data table notebook</a>'\n",
              "            + ' to learn more about interactive tables.';\n",
              "          element.innerHTML = '';\n",
              "          dataTable['output_type'] = 'display_data';\n",
              "          await google.colab.output.renderOutput(dataTable, element);\n",
              "          const docLink = document.createElement('div');\n",
              "          docLink.innerHTML = docLinkHtml;\n",
              "          element.appendChild(docLink);\n",
              "        }\n",
              "      </script>\n",
              "    </div>\n",
              "  </div>\n",
              "  "
            ],
            "text/plain": [
              "    mean_test_score l2_regularization  ... split4_test_score std_test_score\n",
              "81         0.564613           8.23313  ...          0.557474       0.005221\n",
              "91         0.561939           2.84467  ...          0.555480       0.008558\n",
              "44         0.560275           2.22283  ...          0.556582       0.005911\n",
              "97         0.559832           2.33514  ...          0.546338       0.009160\n",
              "21         0.557590           1.01436  ...          0.547905       0.008085\n",
              "47         0.557450           5.18935  ...          0.546508       0.009364\n",
              "85         0.557128          0.418202  ...          0.555480       0.007148\n",
              "99         0.556809           1.10264  ...          0.556082       0.005543\n",
              "39         0.556245          0.947475  ...          0.562814       0.009608\n",
              "51         0.555381          0.788724  ...          0.551736       0.005781\n",
              "\n",
              "[10 rows x 14 columns]"
            ]
          },
          "metadata": {},
          "execution_count": 845
        }
      ]
    },
    {
      "cell_type": "code",
      "source": [
        "best_hgb = search_hgb_results.best_estimator_"
      ],
      "metadata": {
        "id": "Efae1c7R9wLN"
      },
      "execution_count": 847,
      "outputs": []
    },
    {
      "cell_type": "markdown",
      "source": [
        "# Search for LR"
      ],
      "metadata": {
        "id": "DYKgm8E4-Oin"
      }
    },
    {
      "cell_type": "code",
      "source": [
        "model_lr = make_pipeline(ct, LogisticRegression(solver='liblinear'))"
      ],
      "metadata": {
        "id": "TgtybgGZ3TGw"
      },
      "execution_count": 160,
      "outputs": []
    },
    {
      "cell_type": "code",
      "source": [
        "model_lr.fit(data,target)"
      ],
      "metadata": {
        "colab": {
          "base_uri": "https://localhost:8080/",
          "height": 192
        },
        "id": "kv4yWnUP5Yfk",
        "outputId": "17ce5ff3-6002-49da-91fe-7267a4333b3d"
      },
      "execution_count": 161,
      "outputs": [
        {
          "output_type": "execute_result",
          "data": {
            "text/html": [
              "<style>#sk-e0b69467-9c35-4f3d-8465-032e990f5268 {color: black;background-color: white;}#sk-e0b69467-9c35-4f3d-8465-032e990f5268 pre{padding: 0;}#sk-e0b69467-9c35-4f3d-8465-032e990f5268 div.sk-toggleable {background-color: white;}#sk-e0b69467-9c35-4f3d-8465-032e990f5268 label.sk-toggleable__label {cursor: pointer;display: block;width: 100%;margin-bottom: 0;padding: 0.3em;box-sizing: border-box;text-align: center;}#sk-e0b69467-9c35-4f3d-8465-032e990f5268 label.sk-toggleable__label-arrow:before {content: \"▸\";float: left;margin-right: 0.25em;color: #696969;}#sk-e0b69467-9c35-4f3d-8465-032e990f5268 label.sk-toggleable__label-arrow:hover:before {color: black;}#sk-e0b69467-9c35-4f3d-8465-032e990f5268 div.sk-estimator:hover label.sk-toggleable__label-arrow:before {color: black;}#sk-e0b69467-9c35-4f3d-8465-032e990f5268 div.sk-toggleable__content {max-height: 0;max-width: 0;overflow: hidden;text-align: left;background-color: #f0f8ff;}#sk-e0b69467-9c35-4f3d-8465-032e990f5268 div.sk-toggleable__content pre {margin: 0.2em;color: black;border-radius: 0.25em;background-color: #f0f8ff;}#sk-e0b69467-9c35-4f3d-8465-032e990f5268 input.sk-toggleable__control:checked~div.sk-toggleable__content {max-height: 200px;max-width: 100%;overflow: auto;}#sk-e0b69467-9c35-4f3d-8465-032e990f5268 input.sk-toggleable__control:checked~label.sk-toggleable__label-arrow:before {content: \"▾\";}#sk-e0b69467-9c35-4f3d-8465-032e990f5268 div.sk-estimator input.sk-toggleable__control:checked~label.sk-toggleable__label {background-color: #d4ebff;}#sk-e0b69467-9c35-4f3d-8465-032e990f5268 div.sk-label input.sk-toggleable__control:checked~label.sk-toggleable__label {background-color: #d4ebff;}#sk-e0b69467-9c35-4f3d-8465-032e990f5268 input.sk-hidden--visually {border: 0;clip: rect(1px 1px 1px 1px);clip: rect(1px, 1px, 1px, 1px);height: 1px;margin: -1px;overflow: hidden;padding: 0;position: absolute;width: 1px;}#sk-e0b69467-9c35-4f3d-8465-032e990f5268 div.sk-estimator {font-family: monospace;background-color: #f0f8ff;border: 1px dotted black;border-radius: 0.25em;box-sizing: border-box;margin-bottom: 0.5em;}#sk-e0b69467-9c35-4f3d-8465-032e990f5268 div.sk-estimator:hover {background-color: #d4ebff;}#sk-e0b69467-9c35-4f3d-8465-032e990f5268 div.sk-parallel-item::after {content: \"\";width: 100%;border-bottom: 1px solid gray;flex-grow: 1;}#sk-e0b69467-9c35-4f3d-8465-032e990f5268 div.sk-label:hover label.sk-toggleable__label {background-color: #d4ebff;}#sk-e0b69467-9c35-4f3d-8465-032e990f5268 div.sk-serial::before {content: \"\";position: absolute;border-left: 1px solid gray;box-sizing: border-box;top: 2em;bottom: 0;left: 50%;}#sk-e0b69467-9c35-4f3d-8465-032e990f5268 div.sk-serial {display: flex;flex-direction: column;align-items: center;background-color: white;padding-right: 0.2em;padding-left: 0.2em;}#sk-e0b69467-9c35-4f3d-8465-032e990f5268 div.sk-item {z-index: 1;}#sk-e0b69467-9c35-4f3d-8465-032e990f5268 div.sk-parallel {display: flex;align-items: stretch;justify-content: center;background-color: white;}#sk-e0b69467-9c35-4f3d-8465-032e990f5268 div.sk-parallel::before {content: \"\";position: absolute;border-left: 1px solid gray;box-sizing: border-box;top: 2em;bottom: 0;left: 50%;}#sk-e0b69467-9c35-4f3d-8465-032e990f5268 div.sk-parallel-item {display: flex;flex-direction: column;position: relative;background-color: white;}#sk-e0b69467-9c35-4f3d-8465-032e990f5268 div.sk-parallel-item:first-child::after {align-self: flex-end;width: 50%;}#sk-e0b69467-9c35-4f3d-8465-032e990f5268 div.sk-parallel-item:last-child::after {align-self: flex-start;width: 50%;}#sk-e0b69467-9c35-4f3d-8465-032e990f5268 div.sk-parallel-item:only-child::after {width: 0;}#sk-e0b69467-9c35-4f3d-8465-032e990f5268 div.sk-dashed-wrapped {border: 1px dashed gray;margin: 0 0.4em 0.5em 0.4em;box-sizing: border-box;padding-bottom: 0.4em;background-color: white;position: relative;}#sk-e0b69467-9c35-4f3d-8465-032e990f5268 div.sk-label label {font-family: monospace;font-weight: bold;background-color: white;display: inline-block;line-height: 1.2em;}#sk-e0b69467-9c35-4f3d-8465-032e990f5268 div.sk-label-container {position: relative;z-index: 2;text-align: center;}#sk-e0b69467-9c35-4f3d-8465-032e990f5268 div.sk-container {/* jupyter's `normalize.less` sets `[hidden] { display: none; }` but bootstrap.min.css set `[hidden] { display: none !important; }` so we also need the `!important` here to be able to override the default hidden behavior on the sphinx rendered scikit-learn.org. See: https://github.com/scikit-learn/scikit-learn/issues/21755 */display: inline-block !important;position: relative;}#sk-e0b69467-9c35-4f3d-8465-032e990f5268 div.sk-text-repr-fallback {display: none;}</style><div id=\"sk-e0b69467-9c35-4f3d-8465-032e990f5268\" class=\"sk-top-container\"><div class=\"sk-text-repr-fallback\"><pre>Pipeline(steps=[(&#x27;columntransformer&#x27;,\n",
              "                 ColumnTransformer(remainder=&#x27;passthrough&#x27;,\n",
              "                                   transformers=[(&#x27;minmaxscaler&#x27;,\n",
              "                                                  MinMaxScaler(),\n",
              "                                                  [&#x27;acousticness&#x27;,\n",
              "                                                   &#x27;danceability&#x27;, &#x27;energy&#x27;,\n",
              "                                                   &#x27;liveness&#x27;, &#x27;loudness&#x27;,\n",
              "                                                   &#x27;speechiness&#x27;,\n",
              "                                                   &#x27;audio_valence&#x27;,\n",
              "                                                   &#x27;log_ins_cont&#x27;,\n",
              "                                                   &#x27;song_duration_m_cont&#x27;, &#x27;f1&#x27;,\n",
              "                                                   &#x27;f2&#x27;, &#x27;f3&#x27;, &#x27;f4&#x27;, &#x27;cluster1&#x27;,\n",
              "                                                   &#x27;cluster2&#x27;, &#x27;cluster3&#x27;,\n",
              "                                                   &#x27;cluster4&#x27;, &#x27;cluster5&#x27;])])),\n",
              "                (&#x27;logisticregression&#x27;, LogisticRegression(solver=&#x27;liblinear&#x27;))])</pre><b>Please rerun this cell to show the HTML repr or trust the notebook.</b></div><div class=\"sk-container\" hidden><div class=\"sk-item sk-dashed-wrapped\"><div class=\"sk-label-container\"><div class=\"sk-label sk-toggleable\"><input class=\"sk-toggleable__control sk-hidden--visually\" id=\"db2abbf4-95aa-4b03-9de1-544225287c60\" type=\"checkbox\" ><label for=\"db2abbf4-95aa-4b03-9de1-544225287c60\" class=\"sk-toggleable__label sk-toggleable__label-arrow\">Pipeline</label><div class=\"sk-toggleable__content\"><pre>Pipeline(steps=[(&#x27;columntransformer&#x27;,\n",
              "                 ColumnTransformer(remainder=&#x27;passthrough&#x27;,\n",
              "                                   transformers=[(&#x27;minmaxscaler&#x27;,\n",
              "                                                  MinMaxScaler(),\n",
              "                                                  [&#x27;acousticness&#x27;,\n",
              "                                                   &#x27;danceability&#x27;, &#x27;energy&#x27;,\n",
              "                                                   &#x27;liveness&#x27;, &#x27;loudness&#x27;,\n",
              "                                                   &#x27;speechiness&#x27;,\n",
              "                                                   &#x27;audio_valence&#x27;,\n",
              "                                                   &#x27;log_ins_cont&#x27;,\n",
              "                                                   &#x27;song_duration_m_cont&#x27;, &#x27;f1&#x27;,\n",
              "                                                   &#x27;f2&#x27;, &#x27;f3&#x27;, &#x27;f4&#x27;, &#x27;cluster1&#x27;,\n",
              "                                                   &#x27;cluster2&#x27;, &#x27;cluster3&#x27;,\n",
              "                                                   &#x27;cluster4&#x27;, &#x27;cluster5&#x27;])])),\n",
              "                (&#x27;logisticregression&#x27;, LogisticRegression(solver=&#x27;liblinear&#x27;))])</pre></div></div></div><div class=\"sk-serial\"><div class=\"sk-item sk-dashed-wrapped\"><div class=\"sk-label-container\"><div class=\"sk-label sk-toggleable\"><input class=\"sk-toggleable__control sk-hidden--visually\" id=\"c1dc017b-260c-47a3-ba65-7830356e5670\" type=\"checkbox\" ><label for=\"c1dc017b-260c-47a3-ba65-7830356e5670\" class=\"sk-toggleable__label sk-toggleable__label-arrow\">columntransformer: ColumnTransformer</label><div class=\"sk-toggleable__content\"><pre>ColumnTransformer(remainder=&#x27;passthrough&#x27;,\n",
              "                  transformers=[(&#x27;minmaxscaler&#x27;, MinMaxScaler(),\n",
              "                                 [&#x27;acousticness&#x27;, &#x27;danceability&#x27;, &#x27;energy&#x27;,\n",
              "                                  &#x27;liveness&#x27;, &#x27;loudness&#x27;, &#x27;speechiness&#x27;,\n",
              "                                  &#x27;audio_valence&#x27;, &#x27;log_ins_cont&#x27;,\n",
              "                                  &#x27;song_duration_m_cont&#x27;, &#x27;f1&#x27;, &#x27;f2&#x27;, &#x27;f3&#x27;,\n",
              "                                  &#x27;f4&#x27;, &#x27;cluster1&#x27;, &#x27;cluster2&#x27;, &#x27;cluster3&#x27;,\n",
              "                                  &#x27;cluster4&#x27;, &#x27;cluster5&#x27;])])</pre></div></div></div><div class=\"sk-parallel\"><div class=\"sk-parallel-item\"><div class=\"sk-item\"><div class=\"sk-label-container\"><div class=\"sk-label sk-toggleable\"><input class=\"sk-toggleable__control sk-hidden--visually\" id=\"72073bdf-14f6-4627-b876-08aee4dec838\" type=\"checkbox\" ><label for=\"72073bdf-14f6-4627-b876-08aee4dec838\" class=\"sk-toggleable__label sk-toggleable__label-arrow\">minmaxscaler</label><div class=\"sk-toggleable__content\"><pre>[&#x27;acousticness&#x27;, &#x27;danceability&#x27;, &#x27;energy&#x27;, &#x27;liveness&#x27;, &#x27;loudness&#x27;, &#x27;speechiness&#x27;, &#x27;audio_valence&#x27;, &#x27;log_ins_cont&#x27;, &#x27;song_duration_m_cont&#x27;, &#x27;f1&#x27;, &#x27;f2&#x27;, &#x27;f3&#x27;, &#x27;f4&#x27;, &#x27;cluster1&#x27;, &#x27;cluster2&#x27;, &#x27;cluster3&#x27;, &#x27;cluster4&#x27;, &#x27;cluster5&#x27;]</pre></div></div></div><div class=\"sk-serial\"><div class=\"sk-item\"><div class=\"sk-estimator sk-toggleable\"><input class=\"sk-toggleable__control sk-hidden--visually\" id=\"79c82d5c-42d6-4908-a4b1-47aae4cc956d\" type=\"checkbox\" ><label for=\"79c82d5c-42d6-4908-a4b1-47aae4cc956d\" class=\"sk-toggleable__label sk-toggleable__label-arrow\">MinMaxScaler</label><div class=\"sk-toggleable__content\"><pre>MinMaxScaler()</pre></div></div></div></div></div></div><div class=\"sk-parallel-item\"><div class=\"sk-item\"><div class=\"sk-label-container\"><div class=\"sk-label sk-toggleable\"><input class=\"sk-toggleable__control sk-hidden--visually\" id=\"2e0a4b97-5caf-403d-840d-ab6fe5a74571\" type=\"checkbox\" ><label for=\"2e0a4b97-5caf-403d-840d-ab6fe5a74571\" class=\"sk-toggleable__label sk-toggleable__label-arrow\">remainder</label><div class=\"sk-toggleable__content\"><pre>[&#x27;key&#x27;, &#x27;audio_mode&#x27;, &#x27;tempo&#x27;, &#x27;time_signature&#x27;, &#x27;log_ins&#x27;, &#x27;song_duration_m&#x27;, &#x27;year_cluster&#x27;]</pre></div></div></div><div class=\"sk-serial\"><div class=\"sk-item\"><div class=\"sk-estimator sk-toggleable\"><input class=\"sk-toggleable__control sk-hidden--visually\" id=\"0c92bb57-1b75-4f4c-b7f5-52cabfc31f3b\" type=\"checkbox\" ><label for=\"0c92bb57-1b75-4f4c-b7f5-52cabfc31f3b\" class=\"sk-toggleable__label sk-toggleable__label-arrow\">passthrough</label><div class=\"sk-toggleable__content\"><pre>passthrough</pre></div></div></div></div></div></div></div></div><div class=\"sk-item\"><div class=\"sk-estimator sk-toggleable\"><input class=\"sk-toggleable__control sk-hidden--visually\" id=\"890c6767-37e4-4a03-9539-f888fca0cad1\" type=\"checkbox\" ><label for=\"890c6767-37e4-4a03-9539-f888fca0cad1\" class=\"sk-toggleable__label sk-toggleable__label-arrow\">LogisticRegression</label><div class=\"sk-toggleable__content\"><pre>LogisticRegression(solver=&#x27;liblinear&#x27;)</pre></div></div></div></div></div></div></div>"
            ],
            "text/plain": [
              "Pipeline(steps=[('columntransformer',\n",
              "                 ColumnTransformer(remainder='passthrough',\n",
              "                                   transformers=[('minmaxscaler',\n",
              "                                                  MinMaxScaler(),\n",
              "                                                  ['acousticness',\n",
              "                                                   'danceability', 'energy',\n",
              "                                                   'liveness', 'loudness',\n",
              "                                                   'speechiness',\n",
              "                                                   'audio_valence',\n",
              "                                                   'log_ins_cont',\n",
              "                                                   'song_duration_m_cont', 'f1',\n",
              "                                                   'f2', 'f3', 'f4', 'cluster1',\n",
              "                                                   'cluster2', 'cluster3',\n",
              "                                                   'cluster4', 'cluster5'])])),\n",
              "                ('logisticregression', LogisticRegression(solver='liblinear'))])"
            ]
          },
          "metadata": {},
          "execution_count": 161
        }
      ]
    },
    {
      "cell_type": "code",
      "source": [
        "model_lr.score(data, target), model_lr.score(v_data, v_target)"
      ],
      "metadata": {
        "id": "1goBTw-G3j-p",
        "colab": {
          "base_uri": "https://localhost:8080/"
        },
        "outputId": "156edae2-6644-49cd-9aab-359b3f8268bd"
      },
      "execution_count": 162,
      "outputs": [
        {
          "output_type": "execute_result",
          "data": {
            "text/plain": [
              "(0.6359952249308871, 0.6356326171629602)"
            ]
          },
          "metadata": {},
          "execution_count": 162
        }
      ]
    },
    {
      "cell_type": "code",
      "source": [
        "param_distrib_lr = {\n",
        "    'logisticregression__C': lognorm(1),\n",
        "    'logisticregression__l1_ratio': lognorm(1),\n",
        "    'logisticregression__warm_start': [True, False],\n",
        "}"
      ],
      "metadata": {
        "id": "F6NvJsod4vxG"
      },
      "execution_count": 163,
      "outputs": []
    },
    {
      "cell_type": "code",
      "source": [
        "search_lr = RandomizedSearchCV(model_lr, param_distributions=param_distrib_lr, \n",
        "                                scoring='roc_auc', n_jobs=4, cv=cv, n_iter=100)"
      ],
      "metadata": {
        "id": "u9CEJWYd-b_3"
      },
      "execution_count": 164,
      "outputs": []
    },
    {
      "cell_type": "code",
      "source": [
        "search_lr_results = search_lr.fit(data, target)"
      ],
      "metadata": {
        "colab": {
          "base_uri": "https://localhost:8080/"
        },
        "id": "C59GurUg-vTu",
        "outputId": "490114b9-7061-451e-f817-e3fb8bd813b4"
      },
      "execution_count": 165,
      "outputs": [
        {
          "output_type": "stream",
          "name": "stderr",
          "text": [
            "/usr/local/lib/python3.7/dist-packages/sklearn/linear_model/_logistic.py:1479: UserWarning: l1_ratio parameter is only used when penalty is 'elasticnet'. Got (penalty=l2)\n",
            "  \"(penalty={})\".format(self.penalty)\n"
          ]
        }
      ]
    },
    {
      "cell_type": "code",
      "source": [
        "search_lr_results.best_estimator_.score(data, target), search_lr_results.best_estimator_.score(v_data, v_target)"
      ],
      "metadata": {
        "colab": {
          "base_uri": "https://localhost:8080/"
        },
        "id": "EfDGELK1-b52",
        "outputId": "8d3a930c-d66d-44e7-bd4c-90cefa34613c"
      },
      "execution_count": 166,
      "outputs": [
        {
          "output_type": "execute_result",
          "data": {
            "text/plain": [
              "(0.6358695652173914, 0.6356326171629602)"
            ]
          },
          "metadata": {},
          "execution_count": 166
        }
      ]
    },
    {
      "cell_type": "code",
      "source": [
        "df_lr = pd.DataFrame.from_records(search_lr_results.cv_results_)\n",
        "df_lr.columns = [name.split('__')[-1] for name in df_lr.columns]\n",
        "df_lr = df_lr[[name for name in df_lr.columns if 'time' not in name]]\n",
        "df_lr = df_lr.sort_values(by='rank_test_score').head(10)\n",
        "df_lr"
      ],
      "metadata": {
        "colab": {
          "base_uri": "https://localhost:8080/",
          "height": 774
        },
        "id": "dtcm23ZM-by4",
        "outputId": "aa217b5b-2bf0-484e-9bc5-450d635e39ea"
      },
      "execution_count": 167,
      "outputs": [
        {
          "output_type": "execute_result",
          "data": {
            "text/html": [
              "\n",
              "  <div id=\"df-76a1aee0-b403-4a2b-8d1b-c0e4dc6f1000\">\n",
              "    <div class=\"colab-df-container\">\n",
              "      <div>\n",
              "<style scoped>\n",
              "    .dataframe tbody tr th:only-of-type {\n",
              "        vertical-align: middle;\n",
              "    }\n",
              "\n",
              "    .dataframe tbody tr th {\n",
              "        vertical-align: top;\n",
              "    }\n",
              "\n",
              "    .dataframe thead th {\n",
              "        text-align: right;\n",
              "    }\n",
              "</style>\n",
              "<table border=\"1\" class=\"dataframe\">\n",
              "  <thead>\n",
              "    <tr style=\"text-align: right;\">\n",
              "      <th></th>\n",
              "      <th>mean_test_score</th>\n",
              "      <th>C</th>\n",
              "      <th>l1_ratio</th>\n",
              "      <th>warm_start</th>\n",
              "      <th>params</th>\n",
              "      <th>rank_test_score</th>\n",
              "      <th>split0_test_score</th>\n",
              "      <th>split1_test_score</th>\n",
              "      <th>split2_test_score</th>\n",
              "      <th>split3_test_score</th>\n",
              "      <th>split4_test_score</th>\n",
              "      <th>std_test_score</th>\n",
              "    </tr>\n",
              "  </thead>\n",
              "  <tbody>\n",
              "    <tr>\n",
              "      <th>53</th>\n",
              "      <td>0.556222</td>\n",
              "      <td>0.993289</td>\n",
              "      <td>0.456388</td>\n",
              "      <td>False</td>\n",
              "      <td>{'logisticregression__C': 0.9932889846659644, ...</td>\n",
              "      <td>1</td>\n",
              "      <td>0.554360</td>\n",
              "      <td>0.549996</td>\n",
              "      <td>0.573385</td>\n",
              "      <td>0.552266</td>\n",
              "      <td>0.551105</td>\n",
              "      <td>0.008702</td>\n",
              "    </tr>\n",
              "    <tr>\n",
              "      <th>67</th>\n",
              "      <td>0.556211</td>\n",
              "      <td>0.986991</td>\n",
              "      <td>1.76174</td>\n",
              "      <td>False</td>\n",
              "      <td>{'logisticregression__C': 0.9869909291296505, ...</td>\n",
              "      <td>2</td>\n",
              "      <td>0.554348</td>\n",
              "      <td>0.549969</td>\n",
              "      <td>0.573354</td>\n",
              "      <td>0.552282</td>\n",
              "      <td>0.551102</td>\n",
              "      <td>0.008693</td>\n",
              "    </tr>\n",
              "    <tr>\n",
              "      <th>0</th>\n",
              "      <td>0.556210</td>\n",
              "      <td>1.00387</td>\n",
              "      <td>1.63815</td>\n",
              "      <td>True</td>\n",
              "      <td>{'logisticregression__C': 1.0038663110994894, ...</td>\n",
              "      <td>3</td>\n",
              "      <td>0.554240</td>\n",
              "      <td>0.549996</td>\n",
              "      <td>0.573362</td>\n",
              "      <td>0.552337</td>\n",
              "      <td>0.551113</td>\n",
              "      <td>0.008691</td>\n",
              "    </tr>\n",
              "    <tr>\n",
              "      <th>19</th>\n",
              "      <td>0.556210</td>\n",
              "      <td>0.901008</td>\n",
              "      <td>0.437212</td>\n",
              "      <td>True</td>\n",
              "      <td>{'logisticregression__C': 0.9010078482326419, ...</td>\n",
              "      <td>4</td>\n",
              "      <td>0.554270</td>\n",
              "      <td>0.550014</td>\n",
              "      <td>0.573319</td>\n",
              "      <td>0.552352</td>\n",
              "      <td>0.551093</td>\n",
              "      <td>0.008671</td>\n",
              "    </tr>\n",
              "    <tr>\n",
              "      <th>16</th>\n",
              "      <td>0.556204</td>\n",
              "      <td>1.0027</td>\n",
              "      <td>0.414319</td>\n",
              "      <td>True</td>\n",
              "      <td>{'logisticregression__C': 1.0026991954389837, ...</td>\n",
              "      <td>5</td>\n",
              "      <td>0.554355</td>\n",
              "      <td>0.549963</td>\n",
              "      <td>0.573355</td>\n",
              "      <td>0.552334</td>\n",
              "      <td>0.551010</td>\n",
              "      <td>0.008700</td>\n",
              "    </tr>\n",
              "    <tr>\n",
              "      <th>92</th>\n",
              "      <td>0.556203</td>\n",
              "      <td>0.890584</td>\n",
              "      <td>1.89857</td>\n",
              "      <td>False</td>\n",
              "      <td>{'logisticregression__C': 0.8905840933251725, ...</td>\n",
              "      <td>6</td>\n",
              "      <td>0.554272</td>\n",
              "      <td>0.549968</td>\n",
              "      <td>0.573324</td>\n",
              "      <td>0.552358</td>\n",
              "      <td>0.551092</td>\n",
              "      <td>0.008679</td>\n",
              "    </tr>\n",
              "    <tr>\n",
              "      <th>17</th>\n",
              "      <td>0.556196</td>\n",
              "      <td>0.930979</td>\n",
              "      <td>2.85369</td>\n",
              "      <td>False</td>\n",
              "      <td>{'logisticregression__C': 0.9309793446912272, ...</td>\n",
              "      <td>7</td>\n",
              "      <td>0.554280</td>\n",
              "      <td>0.549953</td>\n",
              "      <td>0.573343</td>\n",
              "      <td>0.552344</td>\n",
              "      <td>0.551058</td>\n",
              "      <td>0.008694</td>\n",
              "    </tr>\n",
              "    <tr>\n",
              "      <th>47</th>\n",
              "      <td>0.556194</td>\n",
              "      <td>0.983254</td>\n",
              "      <td>1.3249</td>\n",
              "      <td>True</td>\n",
              "      <td>{'logisticregression__C': 0.9832540505996691, ...</td>\n",
              "      <td>8</td>\n",
              "      <td>0.554235</td>\n",
              "      <td>0.549990</td>\n",
              "      <td>0.573346</td>\n",
              "      <td>0.552280</td>\n",
              "      <td>0.551118</td>\n",
              "      <td>0.008690</td>\n",
              "    </tr>\n",
              "    <tr>\n",
              "      <th>40</th>\n",
              "      <td>0.556193</td>\n",
              "      <td>0.92951</td>\n",
              "      <td>2.03111</td>\n",
              "      <td>True</td>\n",
              "      <td>{'logisticregression__C': 0.9295103266598861, ...</td>\n",
              "      <td>9</td>\n",
              "      <td>0.554282</td>\n",
              "      <td>0.549954</td>\n",
              "      <td>0.573354</td>\n",
              "      <td>0.552341</td>\n",
              "      <td>0.551036</td>\n",
              "      <td>0.008700</td>\n",
              "    </tr>\n",
              "    <tr>\n",
              "      <th>48</th>\n",
              "      <td>0.556192</td>\n",
              "      <td>0.803213</td>\n",
              "      <td>1.14537</td>\n",
              "      <td>True</td>\n",
              "      <td>{'logisticregression__C': 0.803212900219727, '...</td>\n",
              "      <td>10</td>\n",
              "      <td>0.554333</td>\n",
              "      <td>0.549924</td>\n",
              "      <td>0.573245</td>\n",
              "      <td>0.552394</td>\n",
              "      <td>0.551062</td>\n",
              "      <td>0.008652</td>\n",
              "    </tr>\n",
              "  </tbody>\n",
              "</table>\n",
              "</div>\n",
              "      <button class=\"colab-df-convert\" onclick=\"convertToInteractive('df-76a1aee0-b403-4a2b-8d1b-c0e4dc6f1000')\"\n",
              "              title=\"Convert this dataframe to an interactive table.\"\n",
              "              style=\"display:none;\">\n",
              "        \n",
              "  <svg xmlns=\"http://www.w3.org/2000/svg\" height=\"24px\"viewBox=\"0 0 24 24\"\n",
              "       width=\"24px\">\n",
              "    <path d=\"M0 0h24v24H0V0z\" fill=\"none\"/>\n",
              "    <path d=\"M18.56 5.44l.94 2.06.94-2.06 2.06-.94-2.06-.94-.94-2.06-.94 2.06-2.06.94zm-11 1L8.5 8.5l.94-2.06 2.06-.94-2.06-.94L8.5 2.5l-.94 2.06-2.06.94zm10 10l.94 2.06.94-2.06 2.06-.94-2.06-.94-.94-2.06-.94 2.06-2.06.94z\"/><path d=\"M17.41 7.96l-1.37-1.37c-.4-.4-.92-.59-1.43-.59-.52 0-1.04.2-1.43.59L10.3 9.45l-7.72 7.72c-.78.78-.78 2.05 0 2.83L4 21.41c.39.39.9.59 1.41.59.51 0 1.02-.2 1.41-.59l7.78-7.78 2.81-2.81c.8-.78.8-2.07 0-2.86zM5.41 20L4 18.59l7.72-7.72 1.47 1.35L5.41 20z\"/>\n",
              "  </svg>\n",
              "      </button>\n",
              "      \n",
              "  <style>\n",
              "    .colab-df-container {\n",
              "      display:flex;\n",
              "      flex-wrap:wrap;\n",
              "      gap: 12px;\n",
              "    }\n",
              "\n",
              "    .colab-df-convert {\n",
              "      background-color: #E8F0FE;\n",
              "      border: none;\n",
              "      border-radius: 50%;\n",
              "      cursor: pointer;\n",
              "      display: none;\n",
              "      fill: #1967D2;\n",
              "      height: 32px;\n",
              "      padding: 0 0 0 0;\n",
              "      width: 32px;\n",
              "    }\n",
              "\n",
              "    .colab-df-convert:hover {\n",
              "      background-color: #E2EBFA;\n",
              "      box-shadow: 0px 1px 2px rgba(60, 64, 67, 0.3), 0px 1px 3px 1px rgba(60, 64, 67, 0.15);\n",
              "      fill: #174EA6;\n",
              "    }\n",
              "\n",
              "    [theme=dark] .colab-df-convert {\n",
              "      background-color: #3B4455;\n",
              "      fill: #D2E3FC;\n",
              "    }\n",
              "\n",
              "    [theme=dark] .colab-df-convert:hover {\n",
              "      background-color: #434B5C;\n",
              "      box-shadow: 0px 1px 3px 1px rgba(0, 0, 0, 0.15);\n",
              "      filter: drop-shadow(0px 1px 2px rgba(0, 0, 0, 0.3));\n",
              "      fill: #FFFFFF;\n",
              "    }\n",
              "  </style>\n",
              "\n",
              "      <script>\n",
              "        const buttonEl =\n",
              "          document.querySelector('#df-76a1aee0-b403-4a2b-8d1b-c0e4dc6f1000 button.colab-df-convert');\n",
              "        buttonEl.style.display =\n",
              "          google.colab.kernel.accessAllowed ? 'block' : 'none';\n",
              "\n",
              "        async function convertToInteractive(key) {\n",
              "          const element = document.querySelector('#df-76a1aee0-b403-4a2b-8d1b-c0e4dc6f1000');\n",
              "          const dataTable =\n",
              "            await google.colab.kernel.invokeFunction('convertToInteractive',\n",
              "                                                     [key], {});\n",
              "          if (!dataTable) return;\n",
              "\n",
              "          const docLinkHtml = 'Like what you see? Visit the ' +\n",
              "            '<a target=\"_blank\" href=https://colab.research.google.com/notebooks/data_table.ipynb>data table notebook</a>'\n",
              "            + ' to learn more about interactive tables.';\n",
              "          element.innerHTML = '';\n",
              "          dataTable['output_type'] = 'display_data';\n",
              "          await google.colab.output.renderOutput(dataTable, element);\n",
              "          const docLink = document.createElement('div');\n",
              "          docLink.innerHTML = docLinkHtml;\n",
              "          element.appendChild(docLink);\n",
              "        }\n",
              "      </script>\n",
              "    </div>\n",
              "  </div>\n",
              "  "
            ],
            "text/plain": [
              "    mean_test_score         C  ... split4_test_score std_test_score\n",
              "53         0.556222  0.993289  ...          0.551105       0.008702\n",
              "67         0.556211  0.986991  ...          0.551102       0.008693\n",
              "0          0.556210   1.00387  ...          0.551113       0.008691\n",
              "19         0.556210  0.901008  ...          0.551093       0.008671\n",
              "16         0.556204    1.0027  ...          0.551010       0.008700\n",
              "92         0.556203  0.890584  ...          0.551092       0.008679\n",
              "17         0.556196  0.930979  ...          0.551058       0.008694\n",
              "47         0.556194  0.983254  ...          0.551118       0.008690\n",
              "40         0.556193   0.92951  ...          0.551036       0.008700\n",
              "48         0.556192  0.803213  ...          0.551062       0.008652\n",
              "\n",
              "[10 rows x 12 columns]"
            ]
          },
          "metadata": {},
          "execution_count": 167
        }
      ]
    },
    {
      "cell_type": "code",
      "source": [
        "best_lr = search_lr_results.best_estimator_"
      ],
      "metadata": {
        "id": "cQsk3Vem_eoS"
      },
      "execution_count": 168,
      "outputs": []
    },
    {
      "cell_type": "markdown",
      "source": [
        "# Search RF"
      ],
      "metadata": {
        "id": "OIjHKv6M--Cl"
      }
    },
    {
      "cell_type": "code",
      "source": [
        "model_rf = make_pipeline(ct, RandomForestClassifier(n_estimators=50, max_depth=20))"
      ],
      "metadata": {
        "id": "w4ZvSzob5k7_"
      },
      "execution_count": 178,
      "outputs": []
    },
    {
      "cell_type": "code",
      "source": [
        "model_rf.fit(data,target)"
      ],
      "metadata": {
        "colab": {
          "base_uri": "https://localhost:8080/",
          "height": 192
        },
        "id": "OLZQx1Iz6GFc",
        "outputId": "2a36c34b-f741-4845-ec35-76ed82815634"
      },
      "execution_count": 179,
      "outputs": [
        {
          "output_type": "execute_result",
          "data": {
            "text/html": [
              "<style>#sk-f8a63a14-f4ec-49f7-9d01-8c395d0b25d1 {color: black;background-color: white;}#sk-f8a63a14-f4ec-49f7-9d01-8c395d0b25d1 pre{padding: 0;}#sk-f8a63a14-f4ec-49f7-9d01-8c395d0b25d1 div.sk-toggleable {background-color: white;}#sk-f8a63a14-f4ec-49f7-9d01-8c395d0b25d1 label.sk-toggleable__label {cursor: pointer;display: block;width: 100%;margin-bottom: 0;padding: 0.3em;box-sizing: border-box;text-align: center;}#sk-f8a63a14-f4ec-49f7-9d01-8c395d0b25d1 label.sk-toggleable__label-arrow:before {content: \"▸\";float: left;margin-right: 0.25em;color: #696969;}#sk-f8a63a14-f4ec-49f7-9d01-8c395d0b25d1 label.sk-toggleable__label-arrow:hover:before {color: black;}#sk-f8a63a14-f4ec-49f7-9d01-8c395d0b25d1 div.sk-estimator:hover label.sk-toggleable__label-arrow:before {color: black;}#sk-f8a63a14-f4ec-49f7-9d01-8c395d0b25d1 div.sk-toggleable__content {max-height: 0;max-width: 0;overflow: hidden;text-align: left;background-color: #f0f8ff;}#sk-f8a63a14-f4ec-49f7-9d01-8c395d0b25d1 div.sk-toggleable__content pre {margin: 0.2em;color: black;border-radius: 0.25em;background-color: #f0f8ff;}#sk-f8a63a14-f4ec-49f7-9d01-8c395d0b25d1 input.sk-toggleable__control:checked~div.sk-toggleable__content {max-height: 200px;max-width: 100%;overflow: auto;}#sk-f8a63a14-f4ec-49f7-9d01-8c395d0b25d1 input.sk-toggleable__control:checked~label.sk-toggleable__label-arrow:before {content: \"▾\";}#sk-f8a63a14-f4ec-49f7-9d01-8c395d0b25d1 div.sk-estimator input.sk-toggleable__control:checked~label.sk-toggleable__label {background-color: #d4ebff;}#sk-f8a63a14-f4ec-49f7-9d01-8c395d0b25d1 div.sk-label input.sk-toggleable__control:checked~label.sk-toggleable__label {background-color: #d4ebff;}#sk-f8a63a14-f4ec-49f7-9d01-8c395d0b25d1 input.sk-hidden--visually {border: 0;clip: rect(1px 1px 1px 1px);clip: rect(1px, 1px, 1px, 1px);height: 1px;margin: -1px;overflow: hidden;padding: 0;position: absolute;width: 1px;}#sk-f8a63a14-f4ec-49f7-9d01-8c395d0b25d1 div.sk-estimator {font-family: monospace;background-color: #f0f8ff;border: 1px dotted black;border-radius: 0.25em;box-sizing: border-box;margin-bottom: 0.5em;}#sk-f8a63a14-f4ec-49f7-9d01-8c395d0b25d1 div.sk-estimator:hover {background-color: #d4ebff;}#sk-f8a63a14-f4ec-49f7-9d01-8c395d0b25d1 div.sk-parallel-item::after {content: \"\";width: 100%;border-bottom: 1px solid gray;flex-grow: 1;}#sk-f8a63a14-f4ec-49f7-9d01-8c395d0b25d1 div.sk-label:hover label.sk-toggleable__label {background-color: #d4ebff;}#sk-f8a63a14-f4ec-49f7-9d01-8c395d0b25d1 div.sk-serial::before {content: \"\";position: absolute;border-left: 1px solid gray;box-sizing: border-box;top: 2em;bottom: 0;left: 50%;}#sk-f8a63a14-f4ec-49f7-9d01-8c395d0b25d1 div.sk-serial {display: flex;flex-direction: column;align-items: center;background-color: white;padding-right: 0.2em;padding-left: 0.2em;}#sk-f8a63a14-f4ec-49f7-9d01-8c395d0b25d1 div.sk-item {z-index: 1;}#sk-f8a63a14-f4ec-49f7-9d01-8c395d0b25d1 div.sk-parallel {display: flex;align-items: stretch;justify-content: center;background-color: white;}#sk-f8a63a14-f4ec-49f7-9d01-8c395d0b25d1 div.sk-parallel::before {content: \"\";position: absolute;border-left: 1px solid gray;box-sizing: border-box;top: 2em;bottom: 0;left: 50%;}#sk-f8a63a14-f4ec-49f7-9d01-8c395d0b25d1 div.sk-parallel-item {display: flex;flex-direction: column;position: relative;background-color: white;}#sk-f8a63a14-f4ec-49f7-9d01-8c395d0b25d1 div.sk-parallel-item:first-child::after {align-self: flex-end;width: 50%;}#sk-f8a63a14-f4ec-49f7-9d01-8c395d0b25d1 div.sk-parallel-item:last-child::after {align-self: flex-start;width: 50%;}#sk-f8a63a14-f4ec-49f7-9d01-8c395d0b25d1 div.sk-parallel-item:only-child::after {width: 0;}#sk-f8a63a14-f4ec-49f7-9d01-8c395d0b25d1 div.sk-dashed-wrapped {border: 1px dashed gray;margin: 0 0.4em 0.5em 0.4em;box-sizing: border-box;padding-bottom: 0.4em;background-color: white;position: relative;}#sk-f8a63a14-f4ec-49f7-9d01-8c395d0b25d1 div.sk-label label {font-family: monospace;font-weight: bold;background-color: white;display: inline-block;line-height: 1.2em;}#sk-f8a63a14-f4ec-49f7-9d01-8c395d0b25d1 div.sk-label-container {position: relative;z-index: 2;text-align: center;}#sk-f8a63a14-f4ec-49f7-9d01-8c395d0b25d1 div.sk-container {/* jupyter's `normalize.less` sets `[hidden] { display: none; }` but bootstrap.min.css set `[hidden] { display: none !important; }` so we also need the `!important` here to be able to override the default hidden behavior on the sphinx rendered scikit-learn.org. See: https://github.com/scikit-learn/scikit-learn/issues/21755 */display: inline-block !important;position: relative;}#sk-f8a63a14-f4ec-49f7-9d01-8c395d0b25d1 div.sk-text-repr-fallback {display: none;}</style><div id=\"sk-f8a63a14-f4ec-49f7-9d01-8c395d0b25d1\" class=\"sk-top-container\"><div class=\"sk-text-repr-fallback\"><pre>Pipeline(steps=[(&#x27;columntransformer&#x27;,\n",
              "                 ColumnTransformer(remainder=&#x27;passthrough&#x27;,\n",
              "                                   transformers=[(&#x27;minmaxscaler&#x27;,\n",
              "                                                  MinMaxScaler(),\n",
              "                                                  [&#x27;acousticness&#x27;,\n",
              "                                                   &#x27;danceability&#x27;, &#x27;energy&#x27;,\n",
              "                                                   &#x27;liveness&#x27;, &#x27;loudness&#x27;,\n",
              "                                                   &#x27;speechiness&#x27;,\n",
              "                                                   &#x27;audio_valence&#x27;,\n",
              "                                                   &#x27;log_ins_cont&#x27;,\n",
              "                                                   &#x27;song_duration_m_cont&#x27;, &#x27;f1&#x27;,\n",
              "                                                   &#x27;f2&#x27;, &#x27;f3&#x27;, &#x27;f4&#x27;, &#x27;cluster1&#x27;,\n",
              "                                                   &#x27;cluster2&#x27;, &#x27;cluster3&#x27;,\n",
              "                                                   &#x27;cluster4&#x27;, &#x27;cluster5&#x27;])])),\n",
              "                (&#x27;randomforestclassifier&#x27;,\n",
              "                 RandomForestClassifier(max_depth=20, n_estimators=50,\n",
              "                                        oob_score=True))])</pre><b>Please rerun this cell to show the HTML repr or trust the notebook.</b></div><div class=\"sk-container\" hidden><div class=\"sk-item sk-dashed-wrapped\"><div class=\"sk-label-container\"><div class=\"sk-label sk-toggleable\"><input class=\"sk-toggleable__control sk-hidden--visually\" id=\"780fa964-3047-4087-a35f-585c2b2c55c8\" type=\"checkbox\" ><label for=\"780fa964-3047-4087-a35f-585c2b2c55c8\" class=\"sk-toggleable__label sk-toggleable__label-arrow\">Pipeline</label><div class=\"sk-toggleable__content\"><pre>Pipeline(steps=[(&#x27;columntransformer&#x27;,\n",
              "                 ColumnTransformer(remainder=&#x27;passthrough&#x27;,\n",
              "                                   transformers=[(&#x27;minmaxscaler&#x27;,\n",
              "                                                  MinMaxScaler(),\n",
              "                                                  [&#x27;acousticness&#x27;,\n",
              "                                                   &#x27;danceability&#x27;, &#x27;energy&#x27;,\n",
              "                                                   &#x27;liveness&#x27;, &#x27;loudness&#x27;,\n",
              "                                                   &#x27;speechiness&#x27;,\n",
              "                                                   &#x27;audio_valence&#x27;,\n",
              "                                                   &#x27;log_ins_cont&#x27;,\n",
              "                                                   &#x27;song_duration_m_cont&#x27;, &#x27;f1&#x27;,\n",
              "                                                   &#x27;f2&#x27;, &#x27;f3&#x27;, &#x27;f4&#x27;, &#x27;cluster1&#x27;,\n",
              "                                                   &#x27;cluster2&#x27;, &#x27;cluster3&#x27;,\n",
              "                                                   &#x27;cluster4&#x27;, &#x27;cluster5&#x27;])])),\n",
              "                (&#x27;randomforestclassifier&#x27;,\n",
              "                 RandomForestClassifier(max_depth=20, n_estimators=50,\n",
              "                                        oob_score=True))])</pre></div></div></div><div class=\"sk-serial\"><div class=\"sk-item sk-dashed-wrapped\"><div class=\"sk-label-container\"><div class=\"sk-label sk-toggleable\"><input class=\"sk-toggleable__control sk-hidden--visually\" id=\"16bd1c51-0381-40a9-a8a2-42056d852faf\" type=\"checkbox\" ><label for=\"16bd1c51-0381-40a9-a8a2-42056d852faf\" class=\"sk-toggleable__label sk-toggleable__label-arrow\">columntransformer: ColumnTransformer</label><div class=\"sk-toggleable__content\"><pre>ColumnTransformer(remainder=&#x27;passthrough&#x27;,\n",
              "                  transformers=[(&#x27;minmaxscaler&#x27;, MinMaxScaler(),\n",
              "                                 [&#x27;acousticness&#x27;, &#x27;danceability&#x27;, &#x27;energy&#x27;,\n",
              "                                  &#x27;liveness&#x27;, &#x27;loudness&#x27;, &#x27;speechiness&#x27;,\n",
              "                                  &#x27;audio_valence&#x27;, &#x27;log_ins_cont&#x27;,\n",
              "                                  &#x27;song_duration_m_cont&#x27;, &#x27;f1&#x27;, &#x27;f2&#x27;, &#x27;f3&#x27;,\n",
              "                                  &#x27;f4&#x27;, &#x27;cluster1&#x27;, &#x27;cluster2&#x27;, &#x27;cluster3&#x27;,\n",
              "                                  &#x27;cluster4&#x27;, &#x27;cluster5&#x27;])])</pre></div></div></div><div class=\"sk-parallel\"><div class=\"sk-parallel-item\"><div class=\"sk-item\"><div class=\"sk-label-container\"><div class=\"sk-label sk-toggleable\"><input class=\"sk-toggleable__control sk-hidden--visually\" id=\"b5074074-8732-4df2-ab1e-6b9fce0ec079\" type=\"checkbox\" ><label for=\"b5074074-8732-4df2-ab1e-6b9fce0ec079\" class=\"sk-toggleable__label sk-toggleable__label-arrow\">minmaxscaler</label><div class=\"sk-toggleable__content\"><pre>[&#x27;acousticness&#x27;, &#x27;danceability&#x27;, &#x27;energy&#x27;, &#x27;liveness&#x27;, &#x27;loudness&#x27;, &#x27;speechiness&#x27;, &#x27;audio_valence&#x27;, &#x27;log_ins_cont&#x27;, &#x27;song_duration_m_cont&#x27;, &#x27;f1&#x27;, &#x27;f2&#x27;, &#x27;f3&#x27;, &#x27;f4&#x27;, &#x27;cluster1&#x27;, &#x27;cluster2&#x27;, &#x27;cluster3&#x27;, &#x27;cluster4&#x27;, &#x27;cluster5&#x27;]</pre></div></div></div><div class=\"sk-serial\"><div class=\"sk-item\"><div class=\"sk-estimator sk-toggleable\"><input class=\"sk-toggleable__control sk-hidden--visually\" id=\"af126c23-4300-40a1-85fa-a19b673c82ef\" type=\"checkbox\" ><label for=\"af126c23-4300-40a1-85fa-a19b673c82ef\" class=\"sk-toggleable__label sk-toggleable__label-arrow\">MinMaxScaler</label><div class=\"sk-toggleable__content\"><pre>MinMaxScaler()</pre></div></div></div></div></div></div><div class=\"sk-parallel-item\"><div class=\"sk-item\"><div class=\"sk-label-container\"><div class=\"sk-label sk-toggleable\"><input class=\"sk-toggleable__control sk-hidden--visually\" id=\"5401f965-1034-4857-8a13-2cfbd533e0e9\" type=\"checkbox\" ><label for=\"5401f965-1034-4857-8a13-2cfbd533e0e9\" class=\"sk-toggleable__label sk-toggleable__label-arrow\">remainder</label><div class=\"sk-toggleable__content\"><pre>[&#x27;key&#x27;, &#x27;audio_mode&#x27;, &#x27;tempo&#x27;, &#x27;time_signature&#x27;, &#x27;log_ins&#x27;, &#x27;song_duration_m&#x27;, &#x27;year_cluster&#x27;]</pre></div></div></div><div class=\"sk-serial\"><div class=\"sk-item\"><div class=\"sk-estimator sk-toggleable\"><input class=\"sk-toggleable__control sk-hidden--visually\" id=\"a4424e42-b67a-458b-97b6-5d3390d5e803\" type=\"checkbox\" ><label for=\"a4424e42-b67a-458b-97b6-5d3390d5e803\" class=\"sk-toggleable__label sk-toggleable__label-arrow\">passthrough</label><div class=\"sk-toggleable__content\"><pre>passthrough</pre></div></div></div></div></div></div></div></div><div class=\"sk-item\"><div class=\"sk-estimator sk-toggleable\"><input class=\"sk-toggleable__control sk-hidden--visually\" id=\"92be5d3a-6848-40a5-842e-2c29da30f714\" type=\"checkbox\" ><label for=\"92be5d3a-6848-40a5-842e-2c29da30f714\" class=\"sk-toggleable__label sk-toggleable__label-arrow\">RandomForestClassifier</label><div class=\"sk-toggleable__content\"><pre>RandomForestClassifier(max_depth=20, n_estimators=50, oob_score=True)</pre></div></div></div></div></div></div></div>"
            ],
            "text/plain": [
              "Pipeline(steps=[('columntransformer',\n",
              "                 ColumnTransformer(remainder='passthrough',\n",
              "                                   transformers=[('minmaxscaler',\n",
              "                                                  MinMaxScaler(),\n",
              "                                                  ['acousticness',\n",
              "                                                   'danceability', 'energy',\n",
              "                                                   'liveness', 'loudness',\n",
              "                                                   'speechiness',\n",
              "                                                   'audio_valence',\n",
              "                                                   'log_ins_cont',\n",
              "                                                   'song_duration_m_cont', 'f1',\n",
              "                                                   'f2', 'f3', 'f4', 'cluster1',\n",
              "                                                   'cluster2', 'cluster3',\n",
              "                                                   'cluster4', 'cluster5'])])),\n",
              "                ('randomforestclassifier',\n",
              "                 RandomForestClassifier(max_depth=20, n_estimators=50,\n",
              "                                        oob_score=True))])"
            ]
          },
          "metadata": {},
          "execution_count": 179
        }
      ]
    },
    {
      "cell_type": "code",
      "source": [
        "model_rf.score(data, target), model_rf.score(v_data, v_target)"
      ],
      "metadata": {
        "id": "kHR8MMnsIqY2",
        "colab": {
          "base_uri": "https://localhost:8080/"
        },
        "outputId": "8c23faa6-4b57-48cf-88b6-36f86657ae26"
      },
      "execution_count": 180,
      "outputs": [
        {
          "output_type": "execute_result",
          "data": {
            "text/plain": [
              "(0.9714752450364413, 0.6257067470787787)"
            ]
          },
          "metadata": {},
          "execution_count": 180
        }
      ]
    },
    {
      "cell_type": "code",
      "source": [
        "param_distrib_rf = {\n",
        " 'randomforestclassifier__ccp_alpha': lognorm(1),\n",
        " 'randomforestclassifier__max_depth': [x for x in range(2,80,10)],\n",
        " 'randomforestclassifier__n_estimators': [x for x in range(2,50,5)],\n",
        " 'randomforestclassifier__warm_start': [True, False],\n",
        "}"
      ],
      "metadata": {
        "id": "vmBqz9or3R1t"
      },
      "execution_count": 181,
      "outputs": []
    },
    {
      "cell_type": "code",
      "source": [
        "search_rf = RandomizedSearchCV(model_rf, param_distributions=param_distrib_rf, \n",
        "                                scoring='roc_auc', n_jobs=4, cv=cv, n_iter=100)"
      ],
      "metadata": {
        "id": "-KQ8JKJV_qmd"
      },
      "execution_count": 182,
      "outputs": []
    },
    {
      "cell_type": "code",
      "source": [
        "search_rf_results = search_rf.fit(data, target)"
      ],
      "metadata": {
        "id": "d8cc_HJo_qme",
        "colab": {
          "base_uri": "https://localhost:8080/"
        },
        "outputId": "c000f516-9726-4b1b-8c61-3b05a573465a"
      },
      "execution_count": 183,
      "outputs": [
        {
          "output_type": "stream",
          "name": "stderr",
          "text": [
            "/usr/local/lib/python3.7/dist-packages/sklearn/ensemble/_forest.py:564: UserWarning: Some inputs do not have OOB scores. This probably means too few trees were used to compute any reliable OOB estimates.\n",
            "  UserWarning,\n"
          ]
        }
      ]
    },
    {
      "cell_type": "code",
      "source": [
        "search_rf_results.best_estimator_.score(data, target), search_rf_results.best_estimator_.score(v_data, v_target)"
      ],
      "metadata": {
        "colab": {
          "base_uri": "https://localhost:8080/"
        },
        "id": "AcI_Qcfb_qme",
        "outputId": "c7ff17d9-3460-4fcf-809d-35731412d7d0"
      },
      "execution_count": 184,
      "outputs": [
        {
          "output_type": "execute_result",
          "data": {
            "text/plain": [
              "(0.636120884644383, 0.636135192863425)"
            ]
          },
          "metadata": {},
          "execution_count": 184
        }
      ]
    },
    {
      "cell_type": "code",
      "source": [
        "df_rf = pd.DataFrame.from_records(search_rf_results.cv_results_)\n",
        "df_rf.columns = [name.split('__')[-1] for name in df_rf.columns]\n",
        "df_rf = df_rf[[name for name in df_rf.columns if 'time' not in name]]\n",
        "df_rf = df_rf.sort_values(by='rank_test_score').head(10)\n",
        "df_rf"
      ],
      "metadata": {
        "colab": {
          "base_uri": "https://localhost:8080/",
          "height": 601
        },
        "id": "8_0xovmo_qme",
        "outputId": "be0519c0-8d12-4deb-ca48-3b484452c24c"
      },
      "execution_count": 185,
      "outputs": [
        {
          "output_type": "execute_result",
          "data": {
            "text/html": [
              "\n",
              "  <div id=\"df-60eedbc6-bd11-4877-b589-4e79aae15866\">\n",
              "    <div class=\"colab-df-container\">\n",
              "      <div>\n",
              "<style scoped>\n",
              "    .dataframe tbody tr th:only-of-type {\n",
              "        vertical-align: middle;\n",
              "    }\n",
              "\n",
              "    .dataframe tbody tr th {\n",
              "        vertical-align: top;\n",
              "    }\n",
              "\n",
              "    .dataframe thead th {\n",
              "        text-align: right;\n",
              "    }\n",
              "</style>\n",
              "<table border=\"1\" class=\"dataframe\">\n",
              "  <thead>\n",
              "    <tr style=\"text-align: right;\">\n",
              "      <th></th>\n",
              "      <th>mean_test_score</th>\n",
              "      <th>ccp_alpha</th>\n",
              "      <th>max_depth</th>\n",
              "      <th>n_estimators</th>\n",
              "      <th>warm_start</th>\n",
              "      <th>params</th>\n",
              "      <th>rank_test_score</th>\n",
              "      <th>split0_test_score</th>\n",
              "      <th>split1_test_score</th>\n",
              "      <th>split2_test_score</th>\n",
              "      <th>split3_test_score</th>\n",
              "      <th>split4_test_score</th>\n",
              "      <th>std_test_score</th>\n",
              "    </tr>\n",
              "  </thead>\n",
              "  <tbody>\n",
              "    <tr>\n",
              "      <th>0</th>\n",
              "      <td>0.5</td>\n",
              "      <td>0.468059</td>\n",
              "      <td>42</td>\n",
              "      <td>7</td>\n",
              "      <td>True</td>\n",
              "      <td>{'randomforestclassifier__ccp_alpha': 0.468058...</td>\n",
              "      <td>1</td>\n",
              "      <td>0.5</td>\n",
              "      <td>0.5</td>\n",
              "      <td>0.5</td>\n",
              "      <td>0.5</td>\n",
              "      <td>0.5</td>\n",
              "      <td>0.0</td>\n",
              "    </tr>\n",
              "    <tr>\n",
              "      <th>72</th>\n",
              "      <td>0.5</td>\n",
              "      <td>1.57147</td>\n",
              "      <td>12</td>\n",
              "      <td>2</td>\n",
              "      <td>True</td>\n",
              "      <td>{'randomforestclassifier__ccp_alpha': 1.571467...</td>\n",
              "      <td>1</td>\n",
              "      <td>0.5</td>\n",
              "      <td>0.5</td>\n",
              "      <td>0.5</td>\n",
              "      <td>0.5</td>\n",
              "      <td>0.5</td>\n",
              "      <td>0.0</td>\n",
              "    </tr>\n",
              "    <tr>\n",
              "      <th>71</th>\n",
              "      <td>0.5</td>\n",
              "      <td>1.7152</td>\n",
              "      <td>32</td>\n",
              "      <td>42</td>\n",
              "      <td>True</td>\n",
              "      <td>{'randomforestclassifier__ccp_alpha': 1.715199...</td>\n",
              "      <td>1</td>\n",
              "      <td>0.5</td>\n",
              "      <td>0.5</td>\n",
              "      <td>0.5</td>\n",
              "      <td>0.5</td>\n",
              "      <td>0.5</td>\n",
              "      <td>0.0</td>\n",
              "    </tr>\n",
              "    <tr>\n",
              "      <th>70</th>\n",
              "      <td>0.5</td>\n",
              "      <td>7.16139</td>\n",
              "      <td>72</td>\n",
              "      <td>17</td>\n",
              "      <td>True</td>\n",
              "      <td>{'randomforestclassifier__ccp_alpha': 7.161385...</td>\n",
              "      <td>1</td>\n",
              "      <td>0.5</td>\n",
              "      <td>0.5</td>\n",
              "      <td>0.5</td>\n",
              "      <td>0.5</td>\n",
              "      <td>0.5</td>\n",
              "      <td>0.0</td>\n",
              "    </tr>\n",
              "    <tr>\n",
              "      <th>69</th>\n",
              "      <td>0.5</td>\n",
              "      <td>1.46066</td>\n",
              "      <td>22</td>\n",
              "      <td>2</td>\n",
              "      <td>True</td>\n",
              "      <td>{'randomforestclassifier__ccp_alpha': 1.460663...</td>\n",
              "      <td>1</td>\n",
              "      <td>0.5</td>\n",
              "      <td>0.5</td>\n",
              "      <td>0.5</td>\n",
              "      <td>0.5</td>\n",
              "      <td>0.5</td>\n",
              "      <td>0.0</td>\n",
              "    </tr>\n",
              "    <tr>\n",
              "      <th>68</th>\n",
              "      <td>0.5</td>\n",
              "      <td>1.11114</td>\n",
              "      <td>62</td>\n",
              "      <td>27</td>\n",
              "      <td>False</td>\n",
              "      <td>{'randomforestclassifier__ccp_alpha': 1.111143...</td>\n",
              "      <td>1</td>\n",
              "      <td>0.5</td>\n",
              "      <td>0.5</td>\n",
              "      <td>0.5</td>\n",
              "      <td>0.5</td>\n",
              "      <td>0.5</td>\n",
              "      <td>0.0</td>\n",
              "    </tr>\n",
              "    <tr>\n",
              "      <th>67</th>\n",
              "      <td>0.5</td>\n",
              "      <td>1.96568</td>\n",
              "      <td>42</td>\n",
              "      <td>32</td>\n",
              "      <td>False</td>\n",
              "      <td>{'randomforestclassifier__ccp_alpha': 1.965680...</td>\n",
              "      <td>1</td>\n",
              "      <td>0.5</td>\n",
              "      <td>0.5</td>\n",
              "      <td>0.5</td>\n",
              "      <td>0.5</td>\n",
              "      <td>0.5</td>\n",
              "      <td>0.0</td>\n",
              "    </tr>\n",
              "    <tr>\n",
              "      <th>66</th>\n",
              "      <td>0.5</td>\n",
              "      <td>2.02177</td>\n",
              "      <td>12</td>\n",
              "      <td>12</td>\n",
              "      <td>False</td>\n",
              "      <td>{'randomforestclassifier__ccp_alpha': 2.021774...</td>\n",
              "      <td>1</td>\n",
              "      <td>0.5</td>\n",
              "      <td>0.5</td>\n",
              "      <td>0.5</td>\n",
              "      <td>0.5</td>\n",
              "      <td>0.5</td>\n",
              "      <td>0.0</td>\n",
              "    </tr>\n",
              "    <tr>\n",
              "      <th>65</th>\n",
              "      <td>0.5</td>\n",
              "      <td>1.80304</td>\n",
              "      <td>62</td>\n",
              "      <td>27</td>\n",
              "      <td>True</td>\n",
              "      <td>{'randomforestclassifier__ccp_alpha': 1.803035...</td>\n",
              "      <td>1</td>\n",
              "      <td>0.5</td>\n",
              "      <td>0.5</td>\n",
              "      <td>0.5</td>\n",
              "      <td>0.5</td>\n",
              "      <td>0.5</td>\n",
              "      <td>0.0</td>\n",
              "    </tr>\n",
              "    <tr>\n",
              "      <th>64</th>\n",
              "      <td>0.5</td>\n",
              "      <td>3.10441</td>\n",
              "      <td>72</td>\n",
              "      <td>32</td>\n",
              "      <td>True</td>\n",
              "      <td>{'randomforestclassifier__ccp_alpha': 3.104413...</td>\n",
              "      <td>1</td>\n",
              "      <td>0.5</td>\n",
              "      <td>0.5</td>\n",
              "      <td>0.5</td>\n",
              "      <td>0.5</td>\n",
              "      <td>0.5</td>\n",
              "      <td>0.0</td>\n",
              "    </tr>\n",
              "  </tbody>\n",
              "</table>\n",
              "</div>\n",
              "      <button class=\"colab-df-convert\" onclick=\"convertToInteractive('df-60eedbc6-bd11-4877-b589-4e79aae15866')\"\n",
              "              title=\"Convert this dataframe to an interactive table.\"\n",
              "              style=\"display:none;\">\n",
              "        \n",
              "  <svg xmlns=\"http://www.w3.org/2000/svg\" height=\"24px\"viewBox=\"0 0 24 24\"\n",
              "       width=\"24px\">\n",
              "    <path d=\"M0 0h24v24H0V0z\" fill=\"none\"/>\n",
              "    <path d=\"M18.56 5.44l.94 2.06.94-2.06 2.06-.94-2.06-.94-.94-2.06-.94 2.06-2.06.94zm-11 1L8.5 8.5l.94-2.06 2.06-.94-2.06-.94L8.5 2.5l-.94 2.06-2.06.94zm10 10l.94 2.06.94-2.06 2.06-.94-2.06-.94-.94-2.06-.94 2.06-2.06.94z\"/><path d=\"M17.41 7.96l-1.37-1.37c-.4-.4-.92-.59-1.43-.59-.52 0-1.04.2-1.43.59L10.3 9.45l-7.72 7.72c-.78.78-.78 2.05 0 2.83L4 21.41c.39.39.9.59 1.41.59.51 0 1.02-.2 1.41-.59l7.78-7.78 2.81-2.81c.8-.78.8-2.07 0-2.86zM5.41 20L4 18.59l7.72-7.72 1.47 1.35L5.41 20z\"/>\n",
              "  </svg>\n",
              "      </button>\n",
              "      \n",
              "  <style>\n",
              "    .colab-df-container {\n",
              "      display:flex;\n",
              "      flex-wrap:wrap;\n",
              "      gap: 12px;\n",
              "    }\n",
              "\n",
              "    .colab-df-convert {\n",
              "      background-color: #E8F0FE;\n",
              "      border: none;\n",
              "      border-radius: 50%;\n",
              "      cursor: pointer;\n",
              "      display: none;\n",
              "      fill: #1967D2;\n",
              "      height: 32px;\n",
              "      padding: 0 0 0 0;\n",
              "      width: 32px;\n",
              "    }\n",
              "\n",
              "    .colab-df-convert:hover {\n",
              "      background-color: #E2EBFA;\n",
              "      box-shadow: 0px 1px 2px rgba(60, 64, 67, 0.3), 0px 1px 3px 1px rgba(60, 64, 67, 0.15);\n",
              "      fill: #174EA6;\n",
              "    }\n",
              "\n",
              "    [theme=dark] .colab-df-convert {\n",
              "      background-color: #3B4455;\n",
              "      fill: #D2E3FC;\n",
              "    }\n",
              "\n",
              "    [theme=dark] .colab-df-convert:hover {\n",
              "      background-color: #434B5C;\n",
              "      box-shadow: 0px 1px 3px 1px rgba(0, 0, 0, 0.15);\n",
              "      filter: drop-shadow(0px 1px 2px rgba(0, 0, 0, 0.3));\n",
              "      fill: #FFFFFF;\n",
              "    }\n",
              "  </style>\n",
              "\n",
              "      <script>\n",
              "        const buttonEl =\n",
              "          document.querySelector('#df-60eedbc6-bd11-4877-b589-4e79aae15866 button.colab-df-convert');\n",
              "        buttonEl.style.display =\n",
              "          google.colab.kernel.accessAllowed ? 'block' : 'none';\n",
              "\n",
              "        async function convertToInteractive(key) {\n",
              "          const element = document.querySelector('#df-60eedbc6-bd11-4877-b589-4e79aae15866');\n",
              "          const dataTable =\n",
              "            await google.colab.kernel.invokeFunction('convertToInteractive',\n",
              "                                                     [key], {});\n",
              "          if (!dataTable) return;\n",
              "\n",
              "          const docLinkHtml = 'Like what you see? Visit the ' +\n",
              "            '<a target=\"_blank\" href=https://colab.research.google.com/notebooks/data_table.ipynb>data table notebook</a>'\n",
              "            + ' to learn more about interactive tables.';\n",
              "          element.innerHTML = '';\n",
              "          dataTable['output_type'] = 'display_data';\n",
              "          await google.colab.output.renderOutput(dataTable, element);\n",
              "          const docLink = document.createElement('div');\n",
              "          docLink.innerHTML = docLinkHtml;\n",
              "          element.appendChild(docLink);\n",
              "        }\n",
              "      </script>\n",
              "    </div>\n",
              "  </div>\n",
              "  "
            ],
            "text/plain": [
              "    mean_test_score ccp_alpha  ... split4_test_score std_test_score\n",
              "0               0.5  0.468059  ...               0.5            0.0\n",
              "72              0.5   1.57147  ...               0.5            0.0\n",
              "71              0.5    1.7152  ...               0.5            0.0\n",
              "70              0.5   7.16139  ...               0.5            0.0\n",
              "69              0.5   1.46066  ...               0.5            0.0\n",
              "68              0.5   1.11114  ...               0.5            0.0\n",
              "67              0.5   1.96568  ...               0.5            0.0\n",
              "66              0.5   2.02177  ...               0.5            0.0\n",
              "65              0.5   1.80304  ...               0.5            0.0\n",
              "64              0.5   3.10441  ...               0.5            0.0\n",
              "\n",
              "[10 rows x 13 columns]"
            ]
          },
          "metadata": {},
          "execution_count": 185
        }
      ]
    },
    {
      "cell_type": "code",
      "source": [
        "best_rf = search_rf_results.best_estimator_"
      ],
      "metadata": {
        "id": "HkEKo3_7_qme"
      },
      "execution_count": 186,
      "outputs": []
    },
    {
      "cell_type": "markdown",
      "source": [
        "# Retrain on whole data for all best models"
      ],
      "metadata": {
        "id": "ylAdYrUsDx1v"
      }
    },
    {
      "cell_type": "code",
      "source": [
        "data_ = pd.concat([data, v_data], axis=0)\n",
        "target_ = pd.concat([target, v_target], axis=0)"
      ],
      "metadata": {
        "id": "PWQNYTqrk2G-"
      },
      "execution_count": 848,
      "outputs": []
    },
    {
      "cell_type": "code",
      "source": [
        "full = pd.concat([data_, target_], axis=1)"
      ],
      "metadata": {
        "id": "qO35rNp0Mhka"
      },
      "execution_count": 849,
      "outputs": []
    },
    {
      "cell_type": "code",
      "source": [
        "full.head()"
      ],
      "metadata": {
        "colab": {
          "base_uri": "https://localhost:8080/",
          "height": 270
        },
        "id": "uqflcejDMniB",
        "outputId": "25a06d81-cd6d-485c-ebf4-5856a0be0f1b"
      },
      "execution_count": 850,
      "outputs": [
        {
          "output_type": "execute_result",
          "data": {
            "text/html": [
              "\n",
              "  <div id=\"df-7b27d1e5-cdfc-4aa6-94de-0f03cdc78d6f\">\n",
              "    <div class=\"colab-df-container\">\n",
              "      <div>\n",
              "<style scoped>\n",
              "    .dataframe tbody tr th:only-of-type {\n",
              "        vertical-align: middle;\n",
              "    }\n",
              "\n",
              "    .dataframe tbody tr th {\n",
              "        vertical-align: top;\n",
              "    }\n",
              "\n",
              "    .dataframe thead th {\n",
              "        text-align: right;\n",
              "    }\n",
              "</style>\n",
              "<table border=\"1\" class=\"dataframe\">\n",
              "  <thead>\n",
              "    <tr style=\"text-align: right;\">\n",
              "      <th></th>\n",
              "      <th>acousticness</th>\n",
              "      <th>danceability</th>\n",
              "      <th>energy</th>\n",
              "      <th>key</th>\n",
              "      <th>liveness</th>\n",
              "      <th>loudness</th>\n",
              "      <th>audio_mode</th>\n",
              "      <th>speechiness</th>\n",
              "      <th>tempo</th>\n",
              "      <th>time_signature</th>\n",
              "      <th>audio_valence</th>\n",
              "      <th>log_ins</th>\n",
              "      <th>song_duration_m</th>\n",
              "      <th>log_ins_cont</th>\n",
              "      <th>song_duration_m_cont</th>\n",
              "      <th>tempo_cont</th>\n",
              "      <th>energy_cont</th>\n",
              "      <th>is_live</th>\n",
              "      <th>speechiness_level</th>\n",
              "      <th>valence</th>\n",
              "      <th>bpm</th>\n",
              "      <th>f1</th>\n",
              "      <th>f2</th>\n",
              "      <th>cluster1</th>\n",
              "      <th>cluster2</th>\n",
              "      <th>cluster3</th>\n",
              "      <th>cluster4</th>\n",
              "      <th>cluster5</th>\n",
              "      <th>cluster6</th>\n",
              "      <th>cluster7</th>\n",
              "      <th>cluster8</th>\n",
              "      <th>cluster9</th>\n",
              "      <th>cluster10</th>\n",
              "      <th>year_cluster</th>\n",
              "      <th>song_popularity</th>\n",
              "    </tr>\n",
              "  </thead>\n",
              "  <tbody>\n",
              "    <tr>\n",
              "      <th>38754</th>\n",
              "      <td>0.171518</td>\n",
              "      <td>0.771586</td>\n",
              "      <td>3</td>\n",
              "      <td>2</td>\n",
              "      <td>0.090668</td>\n",
              "      <td>-13.023834</td>\n",
              "      <td>1</td>\n",
              "      <td>0.374589</td>\n",
              "      <td>1</td>\n",
              "      <td>3</td>\n",
              "      <td>0.338582</td>\n",
              "      <td>5</td>\n",
              "      <td>2</td>\n",
              "      <td>-5.685862</td>\n",
              "      <td>3.028645</td>\n",
              "      <td>91.458484</td>\n",
              "      <td>0.471950</td>\n",
              "      <td>0</td>\n",
              "      <td>2</td>\n",
              "      <td>0</td>\n",
              "      <td>80</td>\n",
              "      <td>-4.409630</td>\n",
              "      <td>0.712781</td>\n",
              "      <td>62.290936</td>\n",
              "      <td>7.654356</td>\n",
              "      <td>34.943248</td>\n",
              "      <td>96.289805</td>\n",
              "      <td>12.042692</td>\n",
              "      <td>79.522689</td>\n",
              "      <td>25.930173</td>\n",
              "      <td>13.735826</td>\n",
              "      <td>1.798989</td>\n",
              "      <td>49.682087</td>\n",
              "      <td>4</td>\n",
              "      <td>1</td>\n",
              "    </tr>\n",
              "    <tr>\n",
              "      <th>33824</th>\n",
              "      <td>0.020867</td>\n",
              "      <td>0.425238</td>\n",
              "      <td>5</td>\n",
              "      <td>1</td>\n",
              "      <td>0.125137</td>\n",
              "      <td>-15.579105</td>\n",
              "      <td>1</td>\n",
              "      <td>0.045951</td>\n",
              "      <td>4</td>\n",
              "      <td>3</td>\n",
              "      <td>0.685437</td>\n",
              "      <td>6</td>\n",
              "      <td>2</td>\n",
              "      <td>-3.076899</td>\n",
              "      <td>2.745100</td>\n",
              "      <td>145.361921</td>\n",
              "      <td>0.684844</td>\n",
              "      <td>0</td>\n",
              "      <td>0</td>\n",
              "      <td>1</td>\n",
              "      <td>80</td>\n",
              "      <td>-10.678496</td>\n",
              "      <td>0.503870</td>\n",
              "      <td>12.918466</td>\n",
              "      <td>52.411175</td>\n",
              "      <td>22.646947</td>\n",
              "      <td>43.864932</td>\n",
              "      <td>65.958697</td>\n",
              "      <td>28.132706</td>\n",
              "      <td>31.883501</td>\n",
              "      <td>43.212053</td>\n",
              "      <td>53.934877</td>\n",
              "      <td>11.865607</td>\n",
              "      <td>7</td>\n",
              "      <td>1</td>\n",
              "    </tr>\n",
              "    <tr>\n",
              "      <th>32647</th>\n",
              "      <td>0.077024</td>\n",
              "      <td>0.683368</td>\n",
              "      <td>6</td>\n",
              "      <td>4</td>\n",
              "      <td>0.113637</td>\n",
              "      <td>-3.762734</td>\n",
              "      <td>0</td>\n",
              "      <td>0.043470</td>\n",
              "      <td>2</td>\n",
              "      <td>3</td>\n",
              "      <td>0.395992</td>\n",
              "      <td>4</td>\n",
              "      <td>2</td>\n",
              "      <td>-5.954191</td>\n",
              "      <td>3.096150</td>\n",
              "      <td>117.701192</td>\n",
              "      <td>0.818191</td>\n",
              "      <td>0</td>\n",
              "      <td>0</td>\n",
              "      <td>1</td>\n",
              "      <td>80</td>\n",
              "      <td>-1.490012</td>\n",
              "      <td>0.673012</td>\n",
              "      <td>36.311843</td>\n",
              "      <td>23.629041</td>\n",
              "      <td>9.063719</td>\n",
              "      <td>69.840801</td>\n",
              "      <td>38.188354</td>\n",
              "      <td>53.024803</td>\n",
              "      <td>3.240642</td>\n",
              "      <td>14.706241</td>\n",
              "      <td>28.375160</td>\n",
              "      <td>23.516538</td>\n",
              "      <td>9</td>\n",
              "      <td>0</td>\n",
              "    </tr>\n",
              "    <tr>\n",
              "      <th>20775</th>\n",
              "      <td>0.519481</td>\n",
              "      <td>0.313605</td>\n",
              "      <td>3</td>\n",
              "      <td>0</td>\n",
              "      <td>0.104981</td>\n",
              "      <td>-12.272236</td>\n",
              "      <td>1</td>\n",
              "      <td>0.059042</td>\n",
              "      <td>3</td>\n",
              "      <td>3</td>\n",
              "      <td>0.474223</td>\n",
              "      <td>5</td>\n",
              "      <td>2</td>\n",
              "      <td>-5.676054</td>\n",
              "      <td>2.749583</td>\n",
              "      <td>127.352201</td>\n",
              "      <td>0.487660</td>\n",
              "      <td>0</td>\n",
              "      <td>0</td>\n",
              "      <td>1</td>\n",
              "      <td>80</td>\n",
              "      <td>-5.819774</td>\n",
              "      <td>0.622369</td>\n",
              "      <td>26.574678</td>\n",
              "      <td>33.679147</td>\n",
              "      <td>6.307201</td>\n",
              "      <td>60.533701</td>\n",
              "      <td>47.406720</td>\n",
              "      <td>43.863671</td>\n",
              "      <td>13.601788</td>\n",
              "      <td>24.433585</td>\n",
              "      <td>35.620082</td>\n",
              "      <td>14.548023</td>\n",
              "      <td>2</td>\n",
              "      <td>1</td>\n",
              "    </tr>\n",
              "    <tr>\n",
              "      <th>3939</th>\n",
              "      <td>0.638099</td>\n",
              "      <td>0.693150</td>\n",
              "      <td>5</td>\n",
              "      <td>7</td>\n",
              "      <td>0.083411</td>\n",
              "      <td>-9.002265</td>\n",
              "      <td>1</td>\n",
              "      <td>0.121997</td>\n",
              "      <td>1</td>\n",
              "      <td>4</td>\n",
              "      <td>0.440677</td>\n",
              "      <td>4</td>\n",
              "      <td>2</td>\n",
              "      <td>-6.645917</td>\n",
              "      <td>3.218800</td>\n",
              "      <td>91.189889</td>\n",
              "      <td>0.665274</td>\n",
              "      <td>0</td>\n",
              "      <td>0</td>\n",
              "      <td>1</td>\n",
              "      <td>60</td>\n",
              "      <td>-3.967095</td>\n",
              "      <td>0.643600</td>\n",
              "      <td>62.383318</td>\n",
              "      <td>4.217051</td>\n",
              "      <td>34.672571</td>\n",
              "      <td>96.330184</td>\n",
              "      <td>11.227924</td>\n",
              "      <td>79.504529</td>\n",
              "      <td>25.182231</td>\n",
              "      <td>12.625104</td>\n",
              "      <td>6.058414</td>\n",
              "      <td>49.614881</td>\n",
              "      <td>4</td>\n",
              "      <td>1</td>\n",
              "    </tr>\n",
              "  </tbody>\n",
              "</table>\n",
              "</div>\n",
              "      <button class=\"colab-df-convert\" onclick=\"convertToInteractive('df-7b27d1e5-cdfc-4aa6-94de-0f03cdc78d6f')\"\n",
              "              title=\"Convert this dataframe to an interactive table.\"\n",
              "              style=\"display:none;\">\n",
              "        \n",
              "  <svg xmlns=\"http://www.w3.org/2000/svg\" height=\"24px\"viewBox=\"0 0 24 24\"\n",
              "       width=\"24px\">\n",
              "    <path d=\"M0 0h24v24H0V0z\" fill=\"none\"/>\n",
              "    <path d=\"M18.56 5.44l.94 2.06.94-2.06 2.06-.94-2.06-.94-.94-2.06-.94 2.06-2.06.94zm-11 1L8.5 8.5l.94-2.06 2.06-.94-2.06-.94L8.5 2.5l-.94 2.06-2.06.94zm10 10l.94 2.06.94-2.06 2.06-.94-2.06-.94-.94-2.06-.94 2.06-2.06.94z\"/><path d=\"M17.41 7.96l-1.37-1.37c-.4-.4-.92-.59-1.43-.59-.52 0-1.04.2-1.43.59L10.3 9.45l-7.72 7.72c-.78.78-.78 2.05 0 2.83L4 21.41c.39.39.9.59 1.41.59.51 0 1.02-.2 1.41-.59l7.78-7.78 2.81-2.81c.8-.78.8-2.07 0-2.86zM5.41 20L4 18.59l7.72-7.72 1.47 1.35L5.41 20z\"/>\n",
              "  </svg>\n",
              "      </button>\n",
              "      \n",
              "  <style>\n",
              "    .colab-df-container {\n",
              "      display:flex;\n",
              "      flex-wrap:wrap;\n",
              "      gap: 12px;\n",
              "    }\n",
              "\n",
              "    .colab-df-convert {\n",
              "      background-color: #E8F0FE;\n",
              "      border: none;\n",
              "      border-radius: 50%;\n",
              "      cursor: pointer;\n",
              "      display: none;\n",
              "      fill: #1967D2;\n",
              "      height: 32px;\n",
              "      padding: 0 0 0 0;\n",
              "      width: 32px;\n",
              "    }\n",
              "\n",
              "    .colab-df-convert:hover {\n",
              "      background-color: #E2EBFA;\n",
              "      box-shadow: 0px 1px 2px rgba(60, 64, 67, 0.3), 0px 1px 3px 1px rgba(60, 64, 67, 0.15);\n",
              "      fill: #174EA6;\n",
              "    }\n",
              "\n",
              "    [theme=dark] .colab-df-convert {\n",
              "      background-color: #3B4455;\n",
              "      fill: #D2E3FC;\n",
              "    }\n",
              "\n",
              "    [theme=dark] .colab-df-convert:hover {\n",
              "      background-color: #434B5C;\n",
              "      box-shadow: 0px 1px 3px 1px rgba(0, 0, 0, 0.15);\n",
              "      filter: drop-shadow(0px 1px 2px rgba(0, 0, 0, 0.3));\n",
              "      fill: #FFFFFF;\n",
              "    }\n",
              "  </style>\n",
              "\n",
              "      <script>\n",
              "        const buttonEl =\n",
              "          document.querySelector('#df-7b27d1e5-cdfc-4aa6-94de-0f03cdc78d6f button.colab-df-convert');\n",
              "        buttonEl.style.display =\n",
              "          google.colab.kernel.accessAllowed ? 'block' : 'none';\n",
              "\n",
              "        async function convertToInteractive(key) {\n",
              "          const element = document.querySelector('#df-7b27d1e5-cdfc-4aa6-94de-0f03cdc78d6f');\n",
              "          const dataTable =\n",
              "            await google.colab.kernel.invokeFunction('convertToInteractive',\n",
              "                                                     [key], {});\n",
              "          if (!dataTable) return;\n",
              "\n",
              "          const docLinkHtml = 'Like what you see? Visit the ' +\n",
              "            '<a target=\"_blank\" href=https://colab.research.google.com/notebooks/data_table.ipynb>data table notebook</a>'\n",
              "            + ' to learn more about interactive tables.';\n",
              "          element.innerHTML = '';\n",
              "          dataTable['output_type'] = 'display_data';\n",
              "          await google.colab.output.renderOutput(dataTable, element);\n",
              "          const docLink = document.createElement('div');\n",
              "          docLink.innerHTML = docLinkHtml;\n",
              "          element.appendChild(docLink);\n",
              "        }\n",
              "      </script>\n",
              "    </div>\n",
              "  </div>\n",
              "  "
            ],
            "text/plain": [
              "       acousticness  danceability  ... year_cluster song_popularity\n",
              "38754      0.171518      0.771586  ...            4               1\n",
              "33824      0.020867      0.425238  ...            7               1\n",
              "32647      0.077024      0.683368  ...            9               0\n",
              "20775      0.519481      0.313605  ...            2               1\n",
              "3939       0.638099      0.693150  ...            4               1\n",
              "\n",
              "[5 rows x 35 columns]"
            ]
          },
          "metadata": {},
          "execution_count": 850
        }
      ]
    },
    {
      "cell_type": "code",
      "source": [
        "for m in [best_rf, best_lr, best_hgb]:\n",
        "  cv_results = cross_validate(m, data_, target_, cv=cv, \n",
        "                              scoring='roc_auc', \n",
        "                              return_train_score=True, return_estimator=True)\n",
        "  tr_s, te_s = cv_results['train_score'].mean(), cv_results['test_score'].mean()\n",
        "  print(f\"model: {m.steps[-1][0]}, train score: {tr_s}, test score: {te_s}\")"
      ],
      "metadata": {
        "id": "6dniPkUt2hbX",
        "colab": {
          "base_uri": "https://localhost:8080/"
        },
        "outputId": "9ab245bb-9601-4520-cf14-212a6dd61680"
      },
      "execution_count": 323,
      "outputs": [
        {
          "output_type": "stream",
          "name": "stderr",
          "text": [
            "/usr/local/lib/python3.7/dist-packages/sklearn/ensemble/_forest.py:564: UserWarning: Some inputs do not have OOB scores. This probably means too few trees were used to compute any reliable OOB estimates.\n",
            "  UserWarning,\n",
            "/usr/local/lib/python3.7/dist-packages/sklearn/ensemble/_forest.py:564: UserWarning: Some inputs do not have OOB scores. This probably means too few trees were used to compute any reliable OOB estimates.\n",
            "  UserWarning,\n",
            "/usr/local/lib/python3.7/dist-packages/sklearn/ensemble/_forest.py:564: UserWarning: Some inputs do not have OOB scores. This probably means too few trees were used to compute any reliable OOB estimates.\n",
            "  UserWarning,\n",
            "/usr/local/lib/python3.7/dist-packages/sklearn/ensemble/_forest.py:564: UserWarning: Some inputs do not have OOB scores. This probably means too few trees were used to compute any reliable OOB estimates.\n",
            "  UserWarning,\n",
            "/usr/local/lib/python3.7/dist-packages/sklearn/ensemble/_forest.py:564: UserWarning: Some inputs do not have OOB scores. This probably means too few trees were used to compute any reliable OOB estimates.\n",
            "  UserWarning,\n",
            "/usr/local/lib/python3.7/dist-packages/sklearn/linear_model/_logistic.py:1479: UserWarning: l1_ratio parameter is only used when penalty is 'elasticnet'. Got (penalty=l2)\n",
            "  \"(penalty={})\".format(self.penalty)\n"
          ]
        },
        {
          "output_type": "stream",
          "name": "stdout",
          "text": [
            "model: randomforestclassifier, train score: 0.5, test score: 0.5\n"
          ]
        },
        {
          "output_type": "stream",
          "name": "stderr",
          "text": [
            "/usr/local/lib/python3.7/dist-packages/sklearn/linear_model/_logistic.py:1479: UserWarning: l1_ratio parameter is only used when penalty is 'elasticnet'. Got (penalty=l2)\n",
            "  \"(penalty={})\".format(self.penalty)\n",
            "/usr/local/lib/python3.7/dist-packages/sklearn/linear_model/_logistic.py:1479: UserWarning: l1_ratio parameter is only used when penalty is 'elasticnet'. Got (penalty=l2)\n",
            "  \"(penalty={})\".format(self.penalty)\n",
            "/usr/local/lib/python3.7/dist-packages/sklearn/linear_model/_logistic.py:1479: UserWarning: l1_ratio parameter is only used when penalty is 'elasticnet'. Got (penalty=l2)\n",
            "  \"(penalty={})\".format(self.penalty)\n",
            "/usr/local/lib/python3.7/dist-packages/sklearn/linear_model/_logistic.py:1479: UserWarning: l1_ratio parameter is only used when penalty is 'elasticnet'. Got (penalty=l2)\n",
            "  \"(penalty={})\".format(self.penalty)\n"
          ]
        },
        {
          "output_type": "stream",
          "name": "stdout",
          "text": [
            "model: logisticregression, train score: 0.5589276647673886, test score: 0.5559149277355386\n",
            "model: histgradientboostingclassifier, train score: nan, test score: nan\n"
          ]
        },
        {
          "output_type": "stream",
          "name": "stderr",
          "text": [
            "/usr/local/lib/python3.7/dist-packages/sklearn/model_selection/_validation.py:372: FitFailedWarning: \n",
            "5 fits failed out of a total of 5.\n",
            "The score on these train-test partitions for these parameters will be set to nan.\n",
            "If these failures are not expected, you can try to debug them by setting error_score='raise'.\n",
            "\n",
            "Below are more details about the failures:\n",
            "--------------------------------------------------------------------------------\n",
            "5 fits failed with the following error:\n",
            "Traceback (most recent call last):\n",
            "  File \"/usr/local/lib/python3.7/dist-packages/pandas/core/indexes/base.py\", line 2898, in get_loc\n",
            "    return self._engine.get_loc(casted_key)\n",
            "  File \"pandas/_libs/index.pyx\", line 70, in pandas._libs.index.IndexEngine.get_loc\n",
            "  File \"pandas/_libs/index.pyx\", line 101, in pandas._libs.index.IndexEngine.get_loc\n",
            "  File \"pandas/_libs/hashtable_class_helper.pxi\", line 1675, in pandas._libs.hashtable.PyObjectHashTable.get_item\n",
            "  File \"pandas/_libs/hashtable_class_helper.pxi\", line 1683, in pandas._libs.hashtable.PyObjectHashTable.get_item\n",
            "KeyError: 'cluster6'\n",
            "\n",
            "The above exception was the direct cause of the following exception:\n",
            "\n",
            "Traceback (most recent call last):\n",
            "  File \"/usr/local/lib/python3.7/dist-packages/sklearn/utils/__init__.py\", line 433, in _get_column_indices\n",
            "    col_idx = all_columns.get_loc(col)\n",
            "  File \"/usr/local/lib/python3.7/dist-packages/pandas/core/indexes/base.py\", line 2900, in get_loc\n",
            "    raise KeyError(key) from err\n",
            "KeyError: 'cluster6'\n",
            "\n",
            "The above exception was the direct cause of the following exception:\n",
            "\n",
            "Traceback (most recent call last):\n",
            "  File \"/usr/local/lib/python3.7/dist-packages/sklearn/model_selection/_validation.py\", line 680, in _fit_and_score\n",
            "    estimator.fit(X_train, y_train, **fit_params)\n",
            "  File \"/usr/local/lib/python3.7/dist-packages/sklearn/pipeline.py\", line 390, in fit\n",
            "    Xt = self._fit(X, y, **fit_params_steps)\n",
            "  File \"/usr/local/lib/python3.7/dist-packages/sklearn/pipeline.py\", line 355, in _fit\n",
            "    **fit_params_steps[name],\n",
            "  File \"/usr/local/lib/python3.7/dist-packages/joblib/memory.py\", line 349, in __call__\n",
            "    return self.func(*args, **kwargs)\n",
            "  File \"/usr/local/lib/python3.7/dist-packages/sklearn/pipeline.py\", line 893, in _fit_transform_one\n",
            "    res = transformer.fit_transform(X, y, **fit_params)\n",
            "  File \"/usr/local/lib/python3.7/dist-packages/sklearn/compose/_column_transformer.py\", line 672, in fit_transform\n",
            "    self._validate_column_callables(X)\n",
            "  File \"/usr/local/lib/python3.7/dist-packages/sklearn/compose/_column_transformer.py\", line 352, in _validate_column_callables\n",
            "    transformer_to_input_indices[name] = _get_column_indices(X, columns)\n",
            "  File \"/usr/local/lib/python3.7/dist-packages/sklearn/utils/__init__.py\", line 441, in _get_column_indices\n",
            "    raise ValueError(\"A given column is not a column of the dataframe\") from e\n",
            "ValueError: A given column is not a column of the dataframe\n",
            "\n",
            "  warnings.warn(some_fits_failed_message, FitFailedWarning)\n"
          ]
        }
      ]
    },
    {
      "cell_type": "markdown",
      "source": [
        "# Inference"
      ],
      "metadata": {
        "id": "G63CNyHYevnu"
      }
    },
    {
      "cell_type": "code",
      "source": [
        "best_hgb"
      ],
      "metadata": {
        "colab": {
          "base_uri": "https://localhost:8080/",
          "height": 250
        },
        "id": "GymopQcYQKfK",
        "outputId": "47ce9b72-5571-4afa-858f-1bd94332083a"
      },
      "execution_count": 864,
      "outputs": [
        {
          "output_type": "execute_result",
          "data": {
            "text/html": [
              "<style>#sk-ba45f951-7991-441e-9de7-0614f83c62a5 {color: black;background-color: white;}#sk-ba45f951-7991-441e-9de7-0614f83c62a5 pre{padding: 0;}#sk-ba45f951-7991-441e-9de7-0614f83c62a5 div.sk-toggleable {background-color: white;}#sk-ba45f951-7991-441e-9de7-0614f83c62a5 label.sk-toggleable__label {cursor: pointer;display: block;width: 100%;margin-bottom: 0;padding: 0.3em;box-sizing: border-box;text-align: center;}#sk-ba45f951-7991-441e-9de7-0614f83c62a5 label.sk-toggleable__label-arrow:before {content: \"▸\";float: left;margin-right: 0.25em;color: #696969;}#sk-ba45f951-7991-441e-9de7-0614f83c62a5 label.sk-toggleable__label-arrow:hover:before {color: black;}#sk-ba45f951-7991-441e-9de7-0614f83c62a5 div.sk-estimator:hover label.sk-toggleable__label-arrow:before {color: black;}#sk-ba45f951-7991-441e-9de7-0614f83c62a5 div.sk-toggleable__content {max-height: 0;max-width: 0;overflow: hidden;text-align: left;background-color: #f0f8ff;}#sk-ba45f951-7991-441e-9de7-0614f83c62a5 div.sk-toggleable__content pre {margin: 0.2em;color: black;border-radius: 0.25em;background-color: #f0f8ff;}#sk-ba45f951-7991-441e-9de7-0614f83c62a5 input.sk-toggleable__control:checked~div.sk-toggleable__content {max-height: 200px;max-width: 100%;overflow: auto;}#sk-ba45f951-7991-441e-9de7-0614f83c62a5 input.sk-toggleable__control:checked~label.sk-toggleable__label-arrow:before {content: \"▾\";}#sk-ba45f951-7991-441e-9de7-0614f83c62a5 div.sk-estimator input.sk-toggleable__control:checked~label.sk-toggleable__label {background-color: #d4ebff;}#sk-ba45f951-7991-441e-9de7-0614f83c62a5 div.sk-label input.sk-toggleable__control:checked~label.sk-toggleable__label {background-color: #d4ebff;}#sk-ba45f951-7991-441e-9de7-0614f83c62a5 input.sk-hidden--visually {border: 0;clip: rect(1px 1px 1px 1px);clip: rect(1px, 1px, 1px, 1px);height: 1px;margin: -1px;overflow: hidden;padding: 0;position: absolute;width: 1px;}#sk-ba45f951-7991-441e-9de7-0614f83c62a5 div.sk-estimator {font-family: monospace;background-color: #f0f8ff;border: 1px dotted black;border-radius: 0.25em;box-sizing: border-box;margin-bottom: 0.5em;}#sk-ba45f951-7991-441e-9de7-0614f83c62a5 div.sk-estimator:hover {background-color: #d4ebff;}#sk-ba45f951-7991-441e-9de7-0614f83c62a5 div.sk-parallel-item::after {content: \"\";width: 100%;border-bottom: 1px solid gray;flex-grow: 1;}#sk-ba45f951-7991-441e-9de7-0614f83c62a5 div.sk-label:hover label.sk-toggleable__label {background-color: #d4ebff;}#sk-ba45f951-7991-441e-9de7-0614f83c62a5 div.sk-serial::before {content: \"\";position: absolute;border-left: 1px solid gray;box-sizing: border-box;top: 2em;bottom: 0;left: 50%;}#sk-ba45f951-7991-441e-9de7-0614f83c62a5 div.sk-serial {display: flex;flex-direction: column;align-items: center;background-color: white;padding-right: 0.2em;padding-left: 0.2em;}#sk-ba45f951-7991-441e-9de7-0614f83c62a5 div.sk-item {z-index: 1;}#sk-ba45f951-7991-441e-9de7-0614f83c62a5 div.sk-parallel {display: flex;align-items: stretch;justify-content: center;background-color: white;}#sk-ba45f951-7991-441e-9de7-0614f83c62a5 div.sk-parallel::before {content: \"\";position: absolute;border-left: 1px solid gray;box-sizing: border-box;top: 2em;bottom: 0;left: 50%;}#sk-ba45f951-7991-441e-9de7-0614f83c62a5 div.sk-parallel-item {display: flex;flex-direction: column;position: relative;background-color: white;}#sk-ba45f951-7991-441e-9de7-0614f83c62a5 div.sk-parallel-item:first-child::after {align-self: flex-end;width: 50%;}#sk-ba45f951-7991-441e-9de7-0614f83c62a5 div.sk-parallel-item:last-child::after {align-self: flex-start;width: 50%;}#sk-ba45f951-7991-441e-9de7-0614f83c62a5 div.sk-parallel-item:only-child::after {width: 0;}#sk-ba45f951-7991-441e-9de7-0614f83c62a5 div.sk-dashed-wrapped {border: 1px dashed gray;margin: 0 0.4em 0.5em 0.4em;box-sizing: border-box;padding-bottom: 0.4em;background-color: white;position: relative;}#sk-ba45f951-7991-441e-9de7-0614f83c62a5 div.sk-label label {font-family: monospace;font-weight: bold;background-color: white;display: inline-block;line-height: 1.2em;}#sk-ba45f951-7991-441e-9de7-0614f83c62a5 div.sk-label-container {position: relative;z-index: 2;text-align: center;}#sk-ba45f951-7991-441e-9de7-0614f83c62a5 div.sk-container {/* jupyter's `normalize.less` sets `[hidden] { display: none; }` but bootstrap.min.css set `[hidden] { display: none !important; }` so we also need the `!important` here to be able to override the default hidden behavior on the sphinx rendered scikit-learn.org. See: https://github.com/scikit-learn/scikit-learn/issues/21755 */display: inline-block !important;position: relative;}#sk-ba45f951-7991-441e-9de7-0614f83c62a5 div.sk-text-repr-fallback {display: none;}</style><div id=\"sk-ba45f951-7991-441e-9de7-0614f83c62a5\" class=\"sk-top-container\"><div class=\"sk-text-repr-fallback\"><pre>Pipeline(steps=[(&#x27;columntransformer&#x27;,\n",
              "                 ColumnTransformer(remainder=&#x27;passthrough&#x27;,\n",
              "                                   transformers=[(&#x27;standardscaler&#x27;,\n",
              "                                                  StandardScaler(),\n",
              "                                                  [&#x27;acousticness&#x27;,\n",
              "                                                   &#x27;danceability&#x27;, &#x27;energy&#x27;,\n",
              "                                                   &#x27;liveness&#x27;, &#x27;loudness&#x27;,\n",
              "                                                   &#x27;speechiness&#x27;,\n",
              "                                                   &#x27;audio_valence&#x27;,\n",
              "                                                   &#x27;log_ins_cont&#x27;,\n",
              "                                                   &#x27;song_duration_m_cont&#x27;,\n",
              "                                                   &#x27;tempo_cont&#x27;, &#x27;energy_cont&#x27;,\n",
              "                                                   &#x27;f1&#x27;, &#x27;f2&#x27;, &#x27;cluster1&#x27;,\n",
              "                                                   &#x27;cluster2&#x27;, &#x27;cluster3&#x27;,\n",
              "                                                   &#x27;cluster4&#x27;, &#x27;cluster5&#x27;,\n",
              "                                                   &#x27;cluster6&#x27;, &#x27;cluster7&#x27;,\n",
              "                                                   &#x27;cluster8&#x27;, &#x27;cluster9&#x27;,\n",
              "                                                   &#x27;cluster10&#x27;])])),\n",
              "                (&#x27;histgradientboostingclassifier&#x27;,\n",
              "                 HistGradientBoostingClassifier(l2_regularization=8.23313491420191,\n",
              "                                                learning_rate=0.19986470334471046,\n",
              "                                                max_bins=52, max_depth=50,\n",
              "                                                max_iter=25,\n",
              "                                                scoring=&#x27;roc_auc&#x27;))])</pre><b>Please rerun this cell to show the HTML repr or trust the notebook.</b></div><div class=\"sk-container\" hidden><div class=\"sk-item sk-dashed-wrapped\"><div class=\"sk-label-container\"><div class=\"sk-label sk-toggleable\"><input class=\"sk-toggleable__control sk-hidden--visually\" id=\"2345dc92-3464-48af-adec-580bb18143c5\" type=\"checkbox\" ><label for=\"2345dc92-3464-48af-adec-580bb18143c5\" class=\"sk-toggleable__label sk-toggleable__label-arrow\">Pipeline</label><div class=\"sk-toggleable__content\"><pre>Pipeline(steps=[(&#x27;columntransformer&#x27;,\n",
              "                 ColumnTransformer(remainder=&#x27;passthrough&#x27;,\n",
              "                                   transformers=[(&#x27;standardscaler&#x27;,\n",
              "                                                  StandardScaler(),\n",
              "                                                  [&#x27;acousticness&#x27;,\n",
              "                                                   &#x27;danceability&#x27;, &#x27;energy&#x27;,\n",
              "                                                   &#x27;liveness&#x27;, &#x27;loudness&#x27;,\n",
              "                                                   &#x27;speechiness&#x27;,\n",
              "                                                   &#x27;audio_valence&#x27;,\n",
              "                                                   &#x27;log_ins_cont&#x27;,\n",
              "                                                   &#x27;song_duration_m_cont&#x27;,\n",
              "                                                   &#x27;tempo_cont&#x27;, &#x27;energy_cont&#x27;,\n",
              "                                                   &#x27;f1&#x27;, &#x27;f2&#x27;, &#x27;cluster1&#x27;,\n",
              "                                                   &#x27;cluster2&#x27;, &#x27;cluster3&#x27;,\n",
              "                                                   &#x27;cluster4&#x27;, &#x27;cluster5&#x27;,\n",
              "                                                   &#x27;cluster6&#x27;, &#x27;cluster7&#x27;,\n",
              "                                                   &#x27;cluster8&#x27;, &#x27;cluster9&#x27;,\n",
              "                                                   &#x27;cluster10&#x27;])])),\n",
              "                (&#x27;histgradientboostingclassifier&#x27;,\n",
              "                 HistGradientBoostingClassifier(l2_regularization=8.23313491420191,\n",
              "                                                learning_rate=0.19986470334471046,\n",
              "                                                max_bins=52, max_depth=50,\n",
              "                                                max_iter=25,\n",
              "                                                scoring=&#x27;roc_auc&#x27;))])</pre></div></div></div><div class=\"sk-serial\"><div class=\"sk-item sk-dashed-wrapped\"><div class=\"sk-label-container\"><div class=\"sk-label sk-toggleable\"><input class=\"sk-toggleable__control sk-hidden--visually\" id=\"a7589421-5f9e-4af8-9a96-fe74cc04db53\" type=\"checkbox\" ><label for=\"a7589421-5f9e-4af8-9a96-fe74cc04db53\" class=\"sk-toggleable__label sk-toggleable__label-arrow\">columntransformer: ColumnTransformer</label><div class=\"sk-toggleable__content\"><pre>ColumnTransformer(remainder=&#x27;passthrough&#x27;,\n",
              "                  transformers=[(&#x27;standardscaler&#x27;, StandardScaler(),\n",
              "                                 [&#x27;acousticness&#x27;, &#x27;danceability&#x27;, &#x27;energy&#x27;,\n",
              "                                  &#x27;liveness&#x27;, &#x27;loudness&#x27;, &#x27;speechiness&#x27;,\n",
              "                                  &#x27;audio_valence&#x27;, &#x27;log_ins_cont&#x27;,\n",
              "                                  &#x27;song_duration_m_cont&#x27;, &#x27;tempo_cont&#x27;,\n",
              "                                  &#x27;energy_cont&#x27;, &#x27;f1&#x27;, &#x27;f2&#x27;, &#x27;cluster1&#x27;,\n",
              "                                  &#x27;cluster2&#x27;, &#x27;cluster3&#x27;, &#x27;cluster4&#x27;,\n",
              "                                  &#x27;cluster5&#x27;, &#x27;cluster6&#x27;, &#x27;cluster7&#x27;,\n",
              "                                  &#x27;cluster8&#x27;, &#x27;cluster9&#x27;, &#x27;cluster10&#x27;])])</pre></div></div></div><div class=\"sk-parallel\"><div class=\"sk-parallel-item\"><div class=\"sk-item\"><div class=\"sk-label-container\"><div class=\"sk-label sk-toggleable\"><input class=\"sk-toggleable__control sk-hidden--visually\" id=\"0def1b9f-2753-4635-83d3-0efbb10e218d\" type=\"checkbox\" ><label for=\"0def1b9f-2753-4635-83d3-0efbb10e218d\" class=\"sk-toggleable__label sk-toggleable__label-arrow\">standardscaler</label><div class=\"sk-toggleable__content\"><pre>[&#x27;acousticness&#x27;, &#x27;danceability&#x27;, &#x27;energy&#x27;, &#x27;liveness&#x27;, &#x27;loudness&#x27;, &#x27;speechiness&#x27;, &#x27;audio_valence&#x27;, &#x27;log_ins_cont&#x27;, &#x27;song_duration_m_cont&#x27;, &#x27;tempo_cont&#x27;, &#x27;energy_cont&#x27;, &#x27;f1&#x27;, &#x27;f2&#x27;, &#x27;cluster1&#x27;, &#x27;cluster2&#x27;, &#x27;cluster3&#x27;, &#x27;cluster4&#x27;, &#x27;cluster5&#x27;, &#x27;cluster6&#x27;, &#x27;cluster7&#x27;, &#x27;cluster8&#x27;, &#x27;cluster9&#x27;, &#x27;cluster10&#x27;]</pre></div></div></div><div class=\"sk-serial\"><div class=\"sk-item\"><div class=\"sk-estimator sk-toggleable\"><input class=\"sk-toggleable__control sk-hidden--visually\" id=\"1469e3bf-77bc-4965-8588-f31eeb1906fe\" type=\"checkbox\" ><label for=\"1469e3bf-77bc-4965-8588-f31eeb1906fe\" class=\"sk-toggleable__label sk-toggleable__label-arrow\">StandardScaler</label><div class=\"sk-toggleable__content\"><pre>StandardScaler()</pre></div></div></div></div></div></div><div class=\"sk-parallel-item\"><div class=\"sk-item\"><div class=\"sk-label-container\"><div class=\"sk-label sk-toggleable\"><input class=\"sk-toggleable__control sk-hidden--visually\" id=\"67019c55-c113-4010-8744-e27750ff09f3\" type=\"checkbox\" ><label for=\"67019c55-c113-4010-8744-e27750ff09f3\" class=\"sk-toggleable__label sk-toggleable__label-arrow\">remainder</label><div class=\"sk-toggleable__content\"><pre>[&#x27;key&#x27;, &#x27;audio_mode&#x27;, &#x27;tempo&#x27;, &#x27;time_signature&#x27;, &#x27;log_ins&#x27;, &#x27;song_duration_m&#x27;, &#x27;is_live&#x27;, &#x27;speechiness_level&#x27;, &#x27;valence&#x27;, &#x27;bpm&#x27;, &#x27;year_cluster&#x27;]</pre></div></div></div><div class=\"sk-serial\"><div class=\"sk-item\"><div class=\"sk-estimator sk-toggleable\"><input class=\"sk-toggleable__control sk-hidden--visually\" id=\"d8847b9c-493a-46ec-b873-bea242ab2824\" type=\"checkbox\" ><label for=\"d8847b9c-493a-46ec-b873-bea242ab2824\" class=\"sk-toggleable__label sk-toggleable__label-arrow\">passthrough</label><div class=\"sk-toggleable__content\"><pre>passthrough</pre></div></div></div></div></div></div></div></div><div class=\"sk-item\"><div class=\"sk-estimator sk-toggleable\"><input class=\"sk-toggleable__control sk-hidden--visually\" id=\"e235d1e4-7a98-4f46-b85c-0ee49dd0df75\" type=\"checkbox\" ><label for=\"e235d1e4-7a98-4f46-b85c-0ee49dd0df75\" class=\"sk-toggleable__label sk-toggleable__label-arrow\">HistGradientBoostingClassifier</label><div class=\"sk-toggleable__content\"><pre>HistGradientBoostingClassifier(l2_regularization=8.23313491420191,\n",
              "                               learning_rate=0.19986470334471046, max_bins=52,\n",
              "                               max_depth=50, max_iter=25, scoring=&#x27;roc_auc&#x27;)</pre></div></div></div></div></div></div></div>"
            ],
            "text/plain": [
              "Pipeline(steps=[('columntransformer',\n",
              "                 ColumnTransformer(remainder='passthrough',\n",
              "                                   transformers=[('standardscaler',\n",
              "                                                  StandardScaler(),\n",
              "                                                  ['acousticness',\n",
              "                                                   'danceability', 'energy',\n",
              "                                                   'liveness', 'loudness',\n",
              "                                                   'speechiness',\n",
              "                                                   'audio_valence',\n",
              "                                                   'log_ins_cont',\n",
              "                                                   'song_duration_m_cont',\n",
              "                                                   'tempo_cont', 'energy_cont',\n",
              "                                                   'f1', 'f2', 'cluster1',\n",
              "                                                   'cluster2', 'cluster3',\n",
              "                                                   'cluster4', 'cluster5',\n",
              "                                                   'cluster6', 'cluster7',\n",
              "                                                   'cluster8', 'cluster9',\n",
              "                                                   'cluster10'])])),\n",
              "                ('histgradientboostingclassifier',\n",
              "                 HistGradientBoostingClassifier(l2_regularization=8.23313491420191,\n",
              "                                                learning_rate=0.19986470334471046,\n",
              "                                                max_bins=52, max_depth=50,\n",
              "                                                max_iter=25,\n",
              "                                                scoring='roc_auc'))])"
            ]
          },
          "metadata": {},
          "execution_count": 864
        }
      ]
    },
    {
      "cell_type": "code",
      "source": [
        "cv_results = cross_validate(best_hgb, data_, target_, cv=cv, \n",
        "                              scoring='roc_auc', return_train_score=True, return_estimator=True)"
      ],
      "metadata": {
        "id": "gfOCh7mlAPxq"
      },
      "execution_count": 851,
      "outputs": []
    },
    {
      "cell_type": "code",
      "source": [
        "len(cv_results['estimator'])"
      ],
      "metadata": {
        "colab": {
          "base_uri": "https://localhost:8080/"
        },
        "id": "uOFBhY2AM55V",
        "outputId": "53e3c9df-0ce6-4dbb-c674-1f6843b5817a"
      },
      "execution_count": 852,
      "outputs": [
        {
          "output_type": "execute_result",
          "data": {
            "text/plain": [
              "5"
            ]
          },
          "metadata": {},
          "execution_count": 852
        }
      ]
    },
    {
      "cell_type": "code",
      "source": [
        "cv_results['train_score'].mean(), cv_results['test_score'].mean()"
      ],
      "metadata": {
        "colab": {
          "base_uri": "https://localhost:8080/"
        },
        "id": "IiXjl1jcQSoo",
        "outputId": "aac5c0c7-8e10-4158-e2e2-c2c9134e1250"
      },
      "execution_count": 853,
      "outputs": [
        {
          "output_type": "execute_result",
          "data": {
            "text/plain": [
              "(0.6533717692000505, 0.5666943713362305)"
            ]
          },
          "metadata": {},
          "execution_count": 853
        }
      ]
    },
    {
      "cell_type": "code",
      "source": [
        "t_data.shape"
      ],
      "metadata": {
        "id": "fFK51cAxcKBe",
        "colab": {
          "base_uri": "https://localhost:8080/"
        },
        "outputId": "6eda2492-6c50-40fa-f36e-05998b0837c7"
      },
      "execution_count": 854,
      "outputs": [
        {
          "output_type": "execute_result",
          "data": {
            "text/plain": [
              "(10000, 34)"
            ]
          },
          "metadata": {},
          "execution_count": 854
        }
      ]
    },
    {
      "cell_type": "code",
      "source": [
        "test_preds_ = np.asarray([m.predict_proba(t_data)[:,1] for m in cv_results['estimator']])"
      ],
      "metadata": {
        "id": "aRkAk4bbhDkx"
      },
      "execution_count": 855,
      "outputs": []
    },
    {
      "cell_type": "code",
      "source": [
        "test_preds = pd.DataFrame(test_preds_.T, columns=[f'pred_{i}' for i in range(len(cv_results['estimator']))])\n",
        "test_preds[target_col] = test_preds.mean(1)\n",
        "test_preds[\"id\"] = test_preds.reset_index()[\"index\"]"
      ],
      "metadata": {
        "id": "w-fDmEKfMvl4"
      },
      "execution_count": 856,
      "outputs": []
    },
    {
      "cell_type": "code",
      "source": [
        "test_preds.head()"
      ],
      "metadata": {
        "colab": {
          "base_uri": "https://localhost:8080/",
          "height": 206
        },
        "id": "P4yMQ8tNM6JB",
        "outputId": "06c9070e-e867-41d5-b40f-c66b22641c17"
      },
      "execution_count": 857,
      "outputs": [
        {
          "output_type": "execute_result",
          "data": {
            "text/html": [
              "\n",
              "  <div id=\"df-9a9730b2-162f-49e4-8737-97124fa6da11\">\n",
              "    <div class=\"colab-df-container\">\n",
              "      <div>\n",
              "<style scoped>\n",
              "    .dataframe tbody tr th:only-of-type {\n",
              "        vertical-align: middle;\n",
              "    }\n",
              "\n",
              "    .dataframe tbody tr th {\n",
              "        vertical-align: top;\n",
              "    }\n",
              "\n",
              "    .dataframe thead th {\n",
              "        text-align: right;\n",
              "    }\n",
              "</style>\n",
              "<table border=\"1\" class=\"dataframe\">\n",
              "  <thead>\n",
              "    <tr style=\"text-align: right;\">\n",
              "      <th></th>\n",
              "      <th>pred_0</th>\n",
              "      <th>pred_1</th>\n",
              "      <th>pred_2</th>\n",
              "      <th>pred_3</th>\n",
              "      <th>pred_4</th>\n",
              "      <th>song_popularity</th>\n",
              "      <th>id</th>\n",
              "    </tr>\n",
              "  </thead>\n",
              "  <tbody>\n",
              "    <tr>\n",
              "      <th>0</th>\n",
              "      <td>0.448497</td>\n",
              "      <td>0.393905</td>\n",
              "      <td>0.388215</td>\n",
              "      <td>0.455551</td>\n",
              "      <td>0.404240</td>\n",
              "      <td>0.418082</td>\n",
              "      <td>0</td>\n",
              "    </tr>\n",
              "    <tr>\n",
              "      <th>1</th>\n",
              "      <td>0.469296</td>\n",
              "      <td>0.482032</td>\n",
              "      <td>0.543064</td>\n",
              "      <td>0.465713</td>\n",
              "      <td>0.458842</td>\n",
              "      <td>0.483789</td>\n",
              "      <td>1</td>\n",
              "    </tr>\n",
              "    <tr>\n",
              "      <th>2</th>\n",
              "      <td>0.308134</td>\n",
              "      <td>0.290185</td>\n",
              "      <td>0.273043</td>\n",
              "      <td>0.317877</td>\n",
              "      <td>0.380242</td>\n",
              "      <td>0.313896</td>\n",
              "      <td>2</td>\n",
              "    </tr>\n",
              "    <tr>\n",
              "      <th>3</th>\n",
              "      <td>0.312403</td>\n",
              "      <td>0.357560</td>\n",
              "      <td>0.285391</td>\n",
              "      <td>0.286224</td>\n",
              "      <td>0.382961</td>\n",
              "      <td>0.324908</td>\n",
              "      <td>3</td>\n",
              "    </tr>\n",
              "    <tr>\n",
              "      <th>4</th>\n",
              "      <td>0.380275</td>\n",
              "      <td>0.417620</td>\n",
              "      <td>0.354017</td>\n",
              "      <td>0.372064</td>\n",
              "      <td>0.365168</td>\n",
              "      <td>0.377829</td>\n",
              "      <td>4</td>\n",
              "    </tr>\n",
              "  </tbody>\n",
              "</table>\n",
              "</div>\n",
              "      <button class=\"colab-df-convert\" onclick=\"convertToInteractive('df-9a9730b2-162f-49e4-8737-97124fa6da11')\"\n",
              "              title=\"Convert this dataframe to an interactive table.\"\n",
              "              style=\"display:none;\">\n",
              "        \n",
              "  <svg xmlns=\"http://www.w3.org/2000/svg\" height=\"24px\"viewBox=\"0 0 24 24\"\n",
              "       width=\"24px\">\n",
              "    <path d=\"M0 0h24v24H0V0z\" fill=\"none\"/>\n",
              "    <path d=\"M18.56 5.44l.94 2.06.94-2.06 2.06-.94-2.06-.94-.94-2.06-.94 2.06-2.06.94zm-11 1L8.5 8.5l.94-2.06 2.06-.94-2.06-.94L8.5 2.5l-.94 2.06-2.06.94zm10 10l.94 2.06.94-2.06 2.06-.94-2.06-.94-.94-2.06-.94 2.06-2.06.94z\"/><path d=\"M17.41 7.96l-1.37-1.37c-.4-.4-.92-.59-1.43-.59-.52 0-1.04.2-1.43.59L10.3 9.45l-7.72 7.72c-.78.78-.78 2.05 0 2.83L4 21.41c.39.39.9.59 1.41.59.51 0 1.02-.2 1.41-.59l7.78-7.78 2.81-2.81c.8-.78.8-2.07 0-2.86zM5.41 20L4 18.59l7.72-7.72 1.47 1.35L5.41 20z\"/>\n",
              "  </svg>\n",
              "      </button>\n",
              "      \n",
              "  <style>\n",
              "    .colab-df-container {\n",
              "      display:flex;\n",
              "      flex-wrap:wrap;\n",
              "      gap: 12px;\n",
              "    }\n",
              "\n",
              "    .colab-df-convert {\n",
              "      background-color: #E8F0FE;\n",
              "      border: none;\n",
              "      border-radius: 50%;\n",
              "      cursor: pointer;\n",
              "      display: none;\n",
              "      fill: #1967D2;\n",
              "      height: 32px;\n",
              "      padding: 0 0 0 0;\n",
              "      width: 32px;\n",
              "    }\n",
              "\n",
              "    .colab-df-convert:hover {\n",
              "      background-color: #E2EBFA;\n",
              "      box-shadow: 0px 1px 2px rgba(60, 64, 67, 0.3), 0px 1px 3px 1px rgba(60, 64, 67, 0.15);\n",
              "      fill: #174EA6;\n",
              "    }\n",
              "\n",
              "    [theme=dark] .colab-df-convert {\n",
              "      background-color: #3B4455;\n",
              "      fill: #D2E3FC;\n",
              "    }\n",
              "\n",
              "    [theme=dark] .colab-df-convert:hover {\n",
              "      background-color: #434B5C;\n",
              "      box-shadow: 0px 1px 3px 1px rgba(0, 0, 0, 0.15);\n",
              "      filter: drop-shadow(0px 1px 2px rgba(0, 0, 0, 0.3));\n",
              "      fill: #FFFFFF;\n",
              "    }\n",
              "  </style>\n",
              "\n",
              "      <script>\n",
              "        const buttonEl =\n",
              "          document.querySelector('#df-9a9730b2-162f-49e4-8737-97124fa6da11 button.colab-df-convert');\n",
              "        buttonEl.style.display =\n",
              "          google.colab.kernel.accessAllowed ? 'block' : 'none';\n",
              "\n",
              "        async function convertToInteractive(key) {\n",
              "          const element = document.querySelector('#df-9a9730b2-162f-49e4-8737-97124fa6da11');\n",
              "          const dataTable =\n",
              "            await google.colab.kernel.invokeFunction('convertToInteractive',\n",
              "                                                     [key], {});\n",
              "          if (!dataTable) return;\n",
              "\n",
              "          const docLinkHtml = 'Like what you see? Visit the ' +\n",
              "            '<a target=\"_blank\" href=https://colab.research.google.com/notebooks/data_table.ipynb>data table notebook</a>'\n",
              "            + ' to learn more about interactive tables.';\n",
              "          element.innerHTML = '';\n",
              "          dataTable['output_type'] = 'display_data';\n",
              "          await google.colab.output.renderOutput(dataTable, element);\n",
              "          const docLink = document.createElement('div');\n",
              "          docLink.innerHTML = docLinkHtml;\n",
              "          element.appendChild(docLink);\n",
              "        }\n",
              "      </script>\n",
              "    </div>\n",
              "  </div>\n",
              "  "
            ],
            "text/plain": [
              "     pred_0    pred_1    pred_2    pred_3    pred_4  song_popularity  id\n",
              "0  0.448497  0.393905  0.388215  0.455551  0.404240         0.418082   0\n",
              "1  0.469296  0.482032  0.543064  0.465713  0.458842         0.483789   1\n",
              "2  0.308134  0.290185  0.273043  0.317877  0.380242         0.313896   2\n",
              "3  0.312403  0.357560  0.285391  0.286224  0.382961         0.324908   3\n",
              "4  0.380275  0.417620  0.354017  0.372064  0.365168         0.377829   4"
            ]
          },
          "metadata": {},
          "execution_count": 857
        }
      ]
    },
    {
      "cell_type": "code",
      "source": [
        "sns.histplot(data=full, x=target_col)"
      ],
      "metadata": {
        "colab": {
          "base_uri": "https://localhost:8080/",
          "height": 297
        },
        "id": "Gpgjwy8LTcTg",
        "outputId": "945d355b-71f3-4fb5-8b7b-c2901e236053"
      },
      "execution_count": 858,
      "outputs": [
        {
          "output_type": "execute_result",
          "data": {
            "text/plain": [
              "<matplotlib.axes._subplots.AxesSubplot at 0x7f1f1bc37990>"
            ]
          },
          "metadata": {},
          "execution_count": 858
        },
        {
          "output_type": "display_data",
          "data": {
            "image/png": "[encoded data removed]",
            "text/plain": [
              "<Figure size 432x288 with 1 Axes>"
            ]
          },
          "metadata": {
            "needs_background": "light"
          }
        }
      ]
    },
    {
      "cell_type": "code",
      "source": [
        "plt.figure(figsize=(10,6))\n",
        "for i in range(len(cv_results['estimator'])):\n",
        "  plt.subplot(2, 3, i+1)\n",
        "  sns.histplot(data=test_preds, x=f'pred_{i}')\n",
        "  std, mn = test_preds[f\"pred_{i}\"].std(), test_preds[f\"pred_{i}\"].mean()\n",
        "  plt.title(f'std:{std:.4f}, mean:{mn:.4f}')\n",
        "  plt.tight_layout()"
      ],
      "metadata": {
        "colab": {
          "base_uri": "https://localhost:8080/",
          "height": 441
        },
        "id": "5D9ZffnrP_b2",
        "outputId": "7dc20c02-517a-49ec-e5b9-985ab0141cfe"
      },
      "execution_count": 859,
      "outputs": [
        {
          "output_type": "display_data",
          "data": {
            "image/png": "[encoded data removed]",
            "text/plain": [
              "<Figure size 720x432 with 5 Axes>"
            ]
          },
          "metadata": {
            "needs_background": "light"
          }
        }
      ]
    },
    {
      "cell_type": "code",
      "source": [
        "result = test_preds[[\"id\", target_col]]\n",
        "result.columns = ['id', target_col]"
      ],
      "metadata": {
        "id": "I55FLi_ATG0K"
      },
      "execution_count": 885,
      "outputs": []
    },
    {
      "cell_type": "code",
      "source": [
        "result.head()"
      ],
      "metadata": {
        "colab": {
          "base_uri": "https://localhost:8080/",
          "height": 206
        },
        "id": "Z49WRgf0Mwef",
        "outputId": "f338b66e-9a48-4cf5-ad46-81da51725b9c"
      },
      "execution_count": 886,
      "outputs": [
        {
          "output_type": "execute_result",
          "data": {
            "text/html": [
              "\n",
              "  <div id=\"df-7e5c5545-b7e1-4da3-91c7-cd146b03112e\">\n",
              "    <div class=\"colab-df-container\">\n",
              "      <div>\n",
              "<style scoped>\n",
              "    .dataframe tbody tr th:only-of-type {\n",
              "        vertical-align: middle;\n",
              "    }\n",
              "\n",
              "    .dataframe tbody tr th {\n",
              "        vertical-align: top;\n",
              "    }\n",
              "\n",
              "    .dataframe thead th {\n",
              "        text-align: right;\n",
              "    }\n",
              "</style>\n",
              "<table border=\"1\" class=\"dataframe\">\n",
              "  <thead>\n",
              "    <tr style=\"text-align: right;\">\n",
              "      <th></th>\n",
              "      <th>id</th>\n",
              "      <th>song_popularity</th>\n",
              "    </tr>\n",
              "  </thead>\n",
              "  <tbody>\n",
              "    <tr>\n",
              "      <th>0</th>\n",
              "      <td>0</td>\n",
              "      <td>0.418082</td>\n",
              "    </tr>\n",
              "    <tr>\n",
              "      <th>1</th>\n",
              "      <td>1</td>\n",
              "      <td>0.483789</td>\n",
              "    </tr>\n",
              "    <tr>\n",
              "      <th>2</th>\n",
              "      <td>2</td>\n",
              "      <td>0.313896</td>\n",
              "    </tr>\n",
              "    <tr>\n",
              "      <th>3</th>\n",
              "      <td>3</td>\n",
              "      <td>0.324908</td>\n",
              "    </tr>\n",
              "    <tr>\n",
              "      <th>4</th>\n",
              "      <td>4</td>\n",
              "      <td>0.377829</td>\n",
              "    </tr>\n",
              "  </tbody>\n",
              "</table>\n",
              "</div>\n",
              "      <button class=\"colab-df-convert\" onclick=\"convertToInteractive('df-7e5c5545-b7e1-4da3-91c7-cd146b03112e')\"\n",
              "              title=\"Convert this dataframe to an interactive table.\"\n",
              "              style=\"display:none;\">\n",
              "        \n",
              "  <svg xmlns=\"http://www.w3.org/2000/svg\" height=\"24px\"viewBox=\"0 0 24 24\"\n",
              "       width=\"24px\">\n",
              "    <path d=\"M0 0h24v24H0V0z\" fill=\"none\"/>\n",
              "    <path d=\"M18.56 5.44l.94 2.06.94-2.06 2.06-.94-2.06-.94-.94-2.06-.94 2.06-2.06.94zm-11 1L8.5 8.5l.94-2.06 2.06-.94-2.06-.94L8.5 2.5l-.94 2.06-2.06.94zm10 10l.94 2.06.94-2.06 2.06-.94-2.06-.94-.94-2.06-.94 2.06-2.06.94z\"/><path d=\"M17.41 7.96l-1.37-1.37c-.4-.4-.92-.59-1.43-.59-.52 0-1.04.2-1.43.59L10.3 9.45l-7.72 7.72c-.78.78-.78 2.05 0 2.83L4 21.41c.39.39.9.59 1.41.59.51 0 1.02-.2 1.41-.59l7.78-7.78 2.81-2.81c.8-.78.8-2.07 0-2.86zM5.41 20L4 18.59l7.72-7.72 1.47 1.35L5.41 20z\"/>\n",
              "  </svg>\n",
              "      </button>\n",
              "      \n",
              "  <style>\n",
              "    .colab-df-container {\n",
              "      display:flex;\n",
              "      flex-wrap:wrap;\n",
              "      gap: 12px;\n",
              "    }\n",
              "\n",
              "    .colab-df-convert {\n",
              "      background-color: #E8F0FE;\n",
              "      border: none;\n",
              "      border-radius: 50%;\n",
              "      cursor: pointer;\n",
              "      display: none;\n",
              "      fill: #1967D2;\n",
              "      height: 32px;\n",
              "      padding: 0 0 0 0;\n",
              "      width: 32px;\n",
              "    }\n",
              "\n",
              "    .colab-df-convert:hover {\n",
              "      background-color: #E2EBFA;\n",
              "      box-shadow: 0px 1px 2px rgba(60, 64, 67, 0.3), 0px 1px 3px 1px rgba(60, 64, 67, 0.15);\n",
              "      fill: #174EA6;\n",
              "    }\n",
              "\n",
              "    [theme=dark] .colab-df-convert {\n",
              "      background-color: #3B4455;\n",
              "      fill: #D2E3FC;\n",
              "    }\n",
              "\n",
              "    [theme=dark] .colab-df-convert:hover {\n",
              "      background-color: #434B5C;\n",
              "      box-shadow: 0px 1px 3px 1px rgba(0, 0, 0, 0.15);\n",
              "      filter: drop-shadow(0px 1px 2px rgba(0, 0, 0, 0.3));\n",
              "      fill: #FFFFFF;\n",
              "    }\n",
              "  </style>\n",
              "\n",
              "      <script>\n",
              "        const buttonEl =\n",
              "          document.querySelector('#df-7e5c5545-b7e1-4da3-91c7-cd146b03112e button.colab-df-convert');\n",
              "        buttonEl.style.display =\n",
              "          google.colab.kernel.accessAllowed ? 'block' : 'none';\n",
              "\n",
              "        async function convertToInteractive(key) {\n",
              "          const element = document.querySelector('#df-7e5c5545-b7e1-4da3-91c7-cd146b03112e');\n",
              "          const dataTable =\n",
              "            await google.colab.kernel.invokeFunction('convertToInteractive',\n",
              "                                                     [key], {});\n",
              "          if (!dataTable) return;\n",
              "\n",
              "          const docLinkHtml = 'Like what you see? Visit the ' +\n",
              "            '<a target=\"_blank\" href=https://colab.research.google.com/notebooks/data_table.ipynb>data table notebook</a>'\n",
              "            + ' to learn more about interactive tables.';\n",
              "          element.innerHTML = '';\n",
              "          dataTable['output_type'] = 'display_data';\n",
              "          await google.colab.output.renderOutput(dataTable, element);\n",
              "          const docLink = document.createElement('div');\n",
              "          docLink.innerHTML = docLinkHtml;\n",
              "          element.appendChild(docLink);\n",
              "        }\n",
              "      </script>\n",
              "    </div>\n",
              "  </div>\n",
              "  "
            ],
            "text/plain": [
              "   id  song_popularity\n",
              "0   0         0.418082\n",
              "1   1         0.483789\n",
              "2   2         0.313896\n",
              "3   3         0.324908\n",
              "4   4         0.377829"
            ]
          },
          "metadata": {},
          "execution_count": 886
        }
      ]
    },
    {
      "cell_type": "code",
      "source": [
        "result.to_csv('submission.csv', index=False)"
      ],
      "metadata": {
        "id": "SQp5d_3Sdej3"
      },
      "execution_count": 887,
      "outputs": []
    },
    {
      "cell_type": "code",
      "source": [
        "! kaggle competitions submit -c song-popularity-prediction -f submission.csv -m \"HGB Trees RandomSearchCV, l2 regularisation\""
      ],
      "metadata": {
        "colab": {
          "base_uri": "https://localhost:8080/"
        },
        "id": "e68PMwKScmH7",
        "outputId": "20124f47-72a5-4112-c3ca-70426a2a0ffc"
      },
      "execution_count": 888,
      "outputs": [
        {
          "output_type": "stream",
          "name": "stdout",
          "text": [
            "100% 237k/237k [00:00<00:00, 945kB/s]\n",
            "400 - Bad Request\n"
          ]
        }
      ]
    },
    {
      "cell_type": "code",
      "source": [
        ""
      ],
      "metadata": {
        "id": "4Vknewowd2RQ"
      },
      "execution_count": null,
      "outputs": []
    },
    {
      "cell_type": "code",
      "source": [
        ""
      ],
      "metadata": {
        "id": "PwGn-46EN-wb"
      },
      "execution_count": null,
      "outputs": []
    }
  ]
}